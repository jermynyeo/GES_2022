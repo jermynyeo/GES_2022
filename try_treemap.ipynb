{
 "cells": [
  {
   "cell_type": "code",
   "execution_count": 1,
   "metadata": {},
   "outputs": [],
   "source": [
    "import pandas as pd\n",
    "import plotly.express as px"
   ]
  },
  {
   "cell_type": "code",
   "execution_count": 2,
   "metadata": {},
   "outputs": [
    {
     "data": {
      "text/html": [
       "<div>\n",
       "<style scoped>\n",
       "    .dataframe tbody tr th:only-of-type {\n",
       "        vertical-align: middle;\n",
       "    }\n",
       "\n",
       "    .dataframe tbody tr th {\n",
       "        vertical-align: top;\n",
       "    }\n",
       "\n",
       "    .dataframe thead th {\n",
       "        text-align: right;\n",
       "    }\n",
       "</style>\n",
       "<table border=\"1\" class=\"dataframe\">\n",
       "  <thead>\n",
       "    <tr style=\"text-align: right;\">\n",
       "      <th></th>\n",
       "      <th>Unnamed: 0</th>\n",
       "      <th>school</th>\n",
       "      <th>degree</th>\n",
       "      <th>university</th>\n",
       "      <th>gross_monthly_median</th>\n",
       "      <th>gross_mthly_25_percentile</th>\n",
       "      <th>basic_monthly_median</th>\n",
       "      <th>employment_rate_ft_perm</th>\n",
       "      <th>gross_mthly_75_percentile</th>\n",
       "      <th>gross_monthly_mean</th>\n",
       "      <th>basic_monthly_mean</th>\n",
       "      <th>year</th>\n",
       "      <th>employment_rate_overall</th>\n",
       "    </tr>\n",
       "  </thead>\n",
       "  <tbody>\n",
       "    <tr>\n",
       "      <th>0</th>\n",
       "      <td>0</td>\n",
       "      <td>College of Business (Nanyang Business School)</td>\n",
       "      <td>Accountancy</td>\n",
       "      <td>Nanyang Technological University</td>\n",
       "      <td>3000</td>\n",
       "      <td>3000</td>\n",
       "      <td>3000</td>\n",
       "      <td>89%</td>\n",
       "      <td>3100</td>\n",
       "      <td>3228</td>\n",
       "      <td>3213</td>\n",
       "      <td>2020</td>\n",
       "      <td>96.00%</td>\n",
       "    </tr>\n",
       "    <tr>\n",
       "      <th>1</th>\n",
       "      <td>1</td>\n",
       "      <td>College of Business (Nanyang Business School)</td>\n",
       "      <td>Accountancy and Business</td>\n",
       "      <td>Nanyang Technological University</td>\n",
       "      <td>4405</td>\n",
       "      <td>3500</td>\n",
       "      <td>4327</td>\n",
       "      <td>91%</td>\n",
       "      <td>5000</td>\n",
       "      <td>4704</td>\n",
       "      <td>4615</td>\n",
       "      <td>2020</td>\n",
       "      <td>97.60%</td>\n",
       "    </tr>\n",
       "    <tr>\n",
       "      <th>2</th>\n",
       "      <td>2</td>\n",
       "      <td>College of Business (Nanyang Business School)</td>\n",
       "      <td>Business</td>\n",
       "      <td>Nanyang Technological University</td>\n",
       "      <td>3800</td>\n",
       "      <td>3300</td>\n",
       "      <td>3750</td>\n",
       "      <td>67%</td>\n",
       "      <td>4429</td>\n",
       "      <td>4113</td>\n",
       "      <td>3973</td>\n",
       "      <td>2020</td>\n",
       "      <td>95.20%</td>\n",
       "    </tr>\n",
       "    <tr>\n",
       "      <th>3</th>\n",
       "      <td>3</td>\n",
       "      <td>College of Business (Nanyang Business School)</td>\n",
       "      <td>Double Degree in Business and Computer</td>\n",
       "      <td>Nanyang Technological University</td>\n",
       "      <td>5400</td>\n",
       "      <td>5000</td>\n",
       "      <td>5200</td>\n",
       "      <td>97%</td>\n",
       "      <td>5750</td>\n",
       "      <td>5537</td>\n",
       "      <td>5216</td>\n",
       "      <td>2020</td>\n",
       "      <td>97.40%</td>\n",
       "    </tr>\n",
       "    <tr>\n",
       "      <th>4</th>\n",
       "      <td>4</td>\n",
       "      <td>College of Engineering</td>\n",
       "      <td>Aerospace Engineering</td>\n",
       "      <td>Nanyang Technological University</td>\n",
       "      <td>4000</td>\n",
       "      <td>3800</td>\n",
       "      <td>3980</td>\n",
       "      <td>76%</td>\n",
       "      <td>4945</td>\n",
       "      <td>4284</td>\n",
       "      <td>4110</td>\n",
       "      <td>2020</td>\n",
       "      <td>91.20%</td>\n",
       "    </tr>\n",
       "  </tbody>\n",
       "</table>\n",
       "</div>"
      ],
      "text/plain": [
       "   Unnamed: 0                                         school  \\\n",
       "0           0  College of Business (Nanyang Business School)   \n",
       "1           1  College of Business (Nanyang Business School)   \n",
       "2           2  College of Business (Nanyang Business School)   \n",
       "3           3  College of Business (Nanyang Business School)   \n",
       "4           4                         College of Engineering   \n",
       "\n",
       "                                   degree                        university  \\\n",
       "0                             Accountancy  Nanyang Technological University   \n",
       "1                Accountancy and Business  Nanyang Technological University   \n",
       "2                                Business  Nanyang Technological University   \n",
       "3  Double Degree in Business and Computer  Nanyang Technological University   \n",
       "4                   Aerospace Engineering  Nanyang Technological University   \n",
       "\n",
       "  gross_monthly_median gross_mthly_25_percentile basic_monthly_median  \\\n",
       "0                 3000                      3000                 3000   \n",
       "1                 4405                      3500                 4327   \n",
       "2                 3800                      3300                 3750   \n",
       "3                 5400                      5000                 5200   \n",
       "4                 4000                      3800                 3980   \n",
       "\n",
       "  employment_rate_ft_perm gross_mthly_75_percentile gross_monthly_mean  \\\n",
       "0                     89%                      3100               3228   \n",
       "1                     91%                      5000               4704   \n",
       "2                     67%                      4429               4113   \n",
       "3                     97%                      5750               5537   \n",
       "4                     76%                      4945               4284   \n",
       "\n",
       "  basic_monthly_mean  year employment_rate_overall  \n",
       "0               3213  2020                  96.00%  \n",
       "1               4615  2020                  97.60%  \n",
       "2               3973  2020                  95.20%  \n",
       "3               5216  2020                  97.40%  \n",
       "4               4110  2020                  91.20%  "
      ]
     },
     "execution_count": 2,
     "metadata": {},
     "output_type": "execute_result"
    }
   ],
   "source": [
    "df = pd.read_csv('data\\GES.csv')\n",
    "df.head()"
   ]
  },
  {
   "cell_type": "code",
   "execution_count": 3,
   "metadata": {},
   "outputs": [
    {
     "data": {
      "text/html": [
       "<div>\n",
       "<style scoped>\n",
       "    .dataframe tbody tr th:only-of-type {\n",
       "        vertical-align: middle;\n",
       "    }\n",
       "\n",
       "    .dataframe tbody tr th {\n",
       "        vertical-align: top;\n",
       "    }\n",
       "\n",
       "    .dataframe thead th {\n",
       "        text-align: right;\n",
       "    }\n",
       "</style>\n",
       "<table border=\"1\" class=\"dataframe\">\n",
       "  <thead>\n",
       "    <tr style=\"text-align: right;\">\n",
       "      <th></th>\n",
       "      <th>school</th>\n",
       "      <th>degree</th>\n",
       "      <th>university</th>\n",
       "      <th>gross_monthly_median</th>\n",
       "      <th>gross_mthly_25_percentile</th>\n",
       "      <th>basic_monthly_median</th>\n",
       "      <th>employment_rate_ft_perm</th>\n",
       "      <th>gross_mthly_75_percentile</th>\n",
       "      <th>gross_monthly_mean</th>\n",
       "      <th>basic_monthly_mean</th>\n",
       "      <th>year</th>\n",
       "      <th>employment_rate_overall</th>\n",
       "    </tr>\n",
       "  </thead>\n",
       "  <tbody>\n",
       "    <tr>\n",
       "      <th>0</th>\n",
       "      <td>College of Business (Nanyang Business School)</td>\n",
       "      <td>Accountancy</td>\n",
       "      <td>Nanyang Technological University</td>\n",
       "      <td>3000</td>\n",
       "      <td>3000</td>\n",
       "      <td>3000</td>\n",
       "      <td>89%</td>\n",
       "      <td>3100</td>\n",
       "      <td>3228</td>\n",
       "      <td>3213</td>\n",
       "      <td>2020</td>\n",
       "      <td>96.00%</td>\n",
       "    </tr>\n",
       "    <tr>\n",
       "      <th>1</th>\n",
       "      <td>College of Business (Nanyang Business School)</td>\n",
       "      <td>Accountancy and Business</td>\n",
       "      <td>Nanyang Technological University</td>\n",
       "      <td>4405</td>\n",
       "      <td>3500</td>\n",
       "      <td>4327</td>\n",
       "      <td>91%</td>\n",
       "      <td>5000</td>\n",
       "      <td>4704</td>\n",
       "      <td>4615</td>\n",
       "      <td>2020</td>\n",
       "      <td>97.60%</td>\n",
       "    </tr>\n",
       "    <tr>\n",
       "      <th>2</th>\n",
       "      <td>College of Business (Nanyang Business School)</td>\n",
       "      <td>Business</td>\n",
       "      <td>Nanyang Technological University</td>\n",
       "      <td>3800</td>\n",
       "      <td>3300</td>\n",
       "      <td>3750</td>\n",
       "      <td>67%</td>\n",
       "      <td>4429</td>\n",
       "      <td>4113</td>\n",
       "      <td>3973</td>\n",
       "      <td>2020</td>\n",
       "      <td>95.20%</td>\n",
       "    </tr>\n",
       "    <tr>\n",
       "      <th>3</th>\n",
       "      <td>College of Business (Nanyang Business School)</td>\n",
       "      <td>Double Degree in Business and Computer</td>\n",
       "      <td>Nanyang Technological University</td>\n",
       "      <td>5400</td>\n",
       "      <td>5000</td>\n",
       "      <td>5200</td>\n",
       "      <td>97%</td>\n",
       "      <td>5750</td>\n",
       "      <td>5537</td>\n",
       "      <td>5216</td>\n",
       "      <td>2020</td>\n",
       "      <td>97.40%</td>\n",
       "    </tr>\n",
       "    <tr>\n",
       "      <th>4</th>\n",
       "      <td>College of Engineering</td>\n",
       "      <td>Aerospace Engineering</td>\n",
       "      <td>Nanyang Technological University</td>\n",
       "      <td>4000</td>\n",
       "      <td>3800</td>\n",
       "      <td>3980</td>\n",
       "      <td>76%</td>\n",
       "      <td>4945</td>\n",
       "      <td>4284</td>\n",
       "      <td>4110</td>\n",
       "      <td>2020</td>\n",
       "      <td>91.20%</td>\n",
       "    </tr>\n",
       "  </tbody>\n",
       "</table>\n",
       "</div>"
      ],
      "text/plain": [
       "                                          school  \\\n",
       "0  College of Business (Nanyang Business School)   \n",
       "1  College of Business (Nanyang Business School)   \n",
       "2  College of Business (Nanyang Business School)   \n",
       "3  College of Business (Nanyang Business School)   \n",
       "4                         College of Engineering   \n",
       "\n",
       "                                   degree                        university  \\\n",
       "0                             Accountancy  Nanyang Technological University   \n",
       "1                Accountancy and Business  Nanyang Technological University   \n",
       "2                                Business  Nanyang Technological University   \n",
       "3  Double Degree in Business and Computer  Nanyang Technological University   \n",
       "4                   Aerospace Engineering  Nanyang Technological University   \n",
       "\n",
       "  gross_monthly_median gross_mthly_25_percentile basic_monthly_median  \\\n",
       "0                 3000                      3000                 3000   \n",
       "1                 4405                      3500                 4327   \n",
       "2                 3800                      3300                 3750   \n",
       "3                 5400                      5000                 5200   \n",
       "4                 4000                      3800                 3980   \n",
       "\n",
       "  employment_rate_ft_perm gross_mthly_75_percentile gross_monthly_mean  \\\n",
       "0                     89%                      3100               3228   \n",
       "1                     91%                      5000               4704   \n",
       "2                     67%                      4429               4113   \n",
       "3                     97%                      5750               5537   \n",
       "4                     76%                      4945               4284   \n",
       "\n",
       "  basic_monthly_mean  year employment_rate_overall  \n",
       "0               3213  2020                  96.00%  \n",
       "1               4615  2020                  97.60%  \n",
       "2               3973  2020                  95.20%  \n",
       "3               5216  2020                  97.40%  \n",
       "4               4110  2020                  91.20%  "
      ]
     },
     "execution_count": 3,
     "metadata": {},
     "output_type": "execute_result"
    }
   ],
   "source": [
    "df = df.drop('Unnamed: 0', 1)\n",
    "df.head()"
   ]
  },
  {
   "cell_type": "code",
   "execution_count": 6,
   "metadata": {},
   "outputs": [],
   "source": [
    "df = df.drop(df[df['basic_monthly_mean'] == 'na'].index)"
   ]
  },
  {
   "cell_type": "code",
   "execution_count": 8,
   "metadata": {},
   "outputs": [
    {
     "data": {
      "application/vnd.plotly.v1+json": {
       "config": {
        "plotlyServerURL": "https://plot.ly"
       },
       "data": [
        {
         "branchvalues": "total",
         "customdata": [
          [
           3792.8946790164036
          ],
          [
           3450.3286785028204
          ],
          [
           3193.5426411058556
          ],
          [
           3507.74169196685
          ],
          [
           3224.8159814188502
          ],
          [
           3359.7099058949925
          ],
          [
           4148.644690852116
          ],
          [
           3530.810278571108
          ],
          [
           3224.6996625343877
          ],
          [
           4094.964962920201
          ],
          [
           3531.2022299051664
          ],
          [
           4958.765566583286
          ],
          [
           3299.6548048831664
          ],
          [
           4880.789193250906
          ],
          [
           3373.70816659256
          ],
          [
           3975.528231740376
          ],
          [
           3774.0323702514715
          ],
          [
           3720.036866761185
          ],
          [
           3621.420049710025
          ],
          [
           3505.501152520246
          ],
          [
           3211.2784803126383
          ],
          [
           3044.8377878967863
          ],
          [
           4044
          ],
          [
           3060
          ],
          [
           3490.662994853047
          ],
          [
           3455.946820056436
          ],
          [
           3931
          ],
          [
           2962
          ],
          [
           3316.343143913667
          ],
          [
           3412.1109025863584
          ],
          [
           3396.0607490415805
          ],
          [
           3742.6097411988753
          ],
          [
           4020.323557166359
          ],
          [
           3170.5732660079916
          ],
          [
           4107.34874936294
          ],
          [
           3357.7130573041727
          ],
          [
           4080.7935646459073
          ],
          [
           4126.281678945169
          ],
          [
           4991.060495841245
          ],
          [
           3455.4292408440456
          ],
          [
           2904.199446940892
          ],
          [
           3639.955903808009
          ],
          [
           3322
          ],
          [
           3355.2802985074627
          ],
          [
           3286.946602598809
          ],
          [
           3100.9707504054254
          ],
          [
           2452.77730834753
          ],
          [
           2691.258256766824
          ],
          [
           3173.459695847451
          ],
          [
           3338.374613003096
          ],
          [
           3448.419163668249
          ],
          [
           3795.730573710966
          ],
          [
           3357.869364334153
          ],
          [
           2480.4939516129034
          ],
          [
           2760.4524190033417
          ],
          [
           3541.3132842696036
          ],
          [
           2298
          ],
          [
           3417.1629339853303
          ],
          [
           5024.123871360454
          ],
          [
           4984.722686127289
          ],
          [
           3768.094318565237
          ],
          [
           2953.3830939486697
          ],
          [
           3959.988214700891
          ],
          [
           3413.1898969533418
          ],
          [
           3689.327793519007
          ],
          [
           3289.1000197200447
          ],
          [
           4125.277015068231
          ],
          [
           3141.465625763872
          ],
          [
           3959.988214700891
          ]
         ],
         "domain": {
          "x": [
           0,
           1
          ],
          "y": [
           0,
           1
          ]
         },
         "hovertemplate": "labels=%{label}<br>basic_monthly_mean_sum=%{value}<br>parent=%{parent}<br>id=%{id}<br>basic_monthly_mean=%{color}<extra></extra>",
         "ids": [
          "Nanyang Technological University/College of Business (Nanyang Business School)",
          "Nanyang Technological University/College of Engineering",
          "Nanyang Technological University/College of Humanities Arts Social Sciences",
          "Nanyang Technological University/College of Science",
          "Nanyang Technological University/College of Sciences",
          "Singapore Institute of Technology/DigiPen Institute of Technology",
          "National University of Singapore/Faculty Of Dentistry",
          "National University of Singapore/Faculty Of Engineering",
          "National University of Singapore/Faculty of Arts Social Sciences",
          "National University of Singapore/Faculty of Dentistry",
          "National University of Singapore/Faculty of Engineering",
          "National University of Singapore/Faculty of Law",
          "National University of Singapore/Faculty of Science",
          "Nanyang Technological University/Lee Kong Chian School of Medicine",
          "National University of Singapore/MultiDisciplinary Programme",
          "National University of Singapore/MultiDisciplinary Programmes",
          "National University of Singapore/Multidisciplinary Programmes",
          "National University of Singapore/NUS Business School",
          "Nanyang Technological University/National Institure of Education (NIE)",
          "Nanyang Technological University/National Institute of Education (NIE)",
          "Singapore Institute of Technology/Newcastle University",
          "Singapore University of Social Sciences/S R Nathan School of Human Development",
          "Singapore Institute of Technology/SIT DigiPen Institute of Technology",
          "Singapore Institute of Technology/SIT Massey University",
          "Singapore Institute of Technology/SIT Newcastle University",
          "Singapore Institute of Technology/SIT and SITTrinity College Dublin and Trinity College Dublin",
          "Singapore Institute of Technology/SITDigiPen Institute of Technology",
          "Singapore Institute of Technology/SITMassey University",
          "Singapore Institute of Technology/SITNewcastle University",
          "Singapore Institute of Technology/SITTrinity College Dublin and Trinity College Dublin",
          "Singapore Institute of Technology/SITUniversity of Glasgow",
          "Singapore Management University/School of Accountancy",
          "Singapore Management University/School of Business",
          "Singapore University of Social Sciences/School of Business",
          "National University of Singapore/School of Computing",
          "National University of Singapore/School of Design and Environment",
          "Singapore Management University/School of Economics",
          "Singapore Management University/School of Information Systems",
          "Singapore Management University/School of Law",
          "Singapore Management University/School of Social Sciences",
          "Singapore Institute of Technology/Singapore Institute of Technology",
          "Singapore Institute of Technology/Singapore Institute of Technology (SIT)",
          "Singapore Institute of Technology/Singapore Institute of Technology Trinity College Dublin",
          "Singapore Institute of Technology/Singapore Institute of Technology Trinity College Dublin and Trinity College Dublin",
          "Nanyang Technological University/Sports Science and Management",
          "Singapore Institute of Technology/Technische Universitt Mnchen",
          "Singapore Institute of Technology/The Culinary Institute of America",
          "Singapore Institute of Technology/The Glasgow School of Art",
          "Singapore Institute of Technology/Trinity College Dublin",
          "Singapore Institute of Technology/Trinity College Dublin and Singapore Institute of TechnologyTrinity College Dublin",
          "Singapore Institute of Technology/University of Glasgow",
          "Singapore Institute of Technology/University of Liverpool",
          "Singapore Institute of Technology/University of Manchester",
          "Singapore Institute of Technology/University of Nevada Las Vegas",
          "Singapore Institute of Technology/Wheelock College",
          "National University of Singapore/YLL School of Medicine",
          "National University of Singapore/YST Conservatory Of Music",
          "National University of Singapore/YST Conservatory of Music",
          "National University of Singapore/YaleNUS Collece)",
          "National University of Singapore/YaleNUS College",
          "National University of Singapore/Yong Loo Lin School (Medicine)",
          "National University of Singapore/Yong Siew Toh Conservatory of Music",
          "Singapore University of Technology and Design/na",
          "Nanyang Technological University",
          "National University of Singapore",
          "Singapore Institute of Technology",
          "Singapore Management University",
          "Singapore University of Social Sciences",
          "Singapore University of Technology and Design"
         ],
         "labels": [
          "College of Business (Nanyang Business School)",
          "College of Engineering",
          "College of Humanities Arts Social Sciences",
          "College of Science",
          "College of Sciences",
          "DigiPen Institute of Technology",
          "Faculty Of Dentistry",
          "Faculty Of Engineering",
          "Faculty of Arts Social Sciences",
          "Faculty of Dentistry",
          "Faculty of Engineering",
          "Faculty of Law",
          "Faculty of Science",
          "Lee Kong Chian School of Medicine",
          "MultiDisciplinary Programme",
          "MultiDisciplinary Programmes",
          "Multidisciplinary Programmes",
          "NUS Business School",
          "National Institure of Education (NIE)",
          "National Institute of Education (NIE)",
          "Newcastle University",
          "S R Nathan School of Human Development",
          "SIT DigiPen Institute of Technology",
          "SIT Massey University",
          "SIT Newcastle University",
          "SIT and SITTrinity College Dublin and Trinity College Dublin",
          "SITDigiPen Institute of Technology",
          "SITMassey University",
          "SITNewcastle University",
          "SITTrinity College Dublin and Trinity College Dublin",
          "SITUniversity of Glasgow",
          "School of Accountancy",
          "School of Business",
          "School of Business",
          "School of Computing",
          "School of Design and Environment",
          "School of Economics",
          "School of Information Systems",
          "School of Law",
          "School of Social Sciences",
          "Singapore Institute of Technology",
          "Singapore Institute of Technology (SIT)",
          "Singapore Institute of Technology Trinity College Dublin",
          "Singapore Institute of Technology Trinity College Dublin and Trinity College Dublin",
          "Sports Science and Management",
          "Technische Universitt Mnchen",
          "The Culinary Institute of America",
          "The Glasgow School of Art",
          "Trinity College Dublin",
          "Trinity College Dublin and Singapore Institute of TechnologyTrinity College Dublin",
          "University of Glasgow",
          "University of Liverpool",
          "University of Manchester",
          "University of Nevada Las Vegas",
          "Wheelock College",
          "YLL School of Medicine",
          "YST Conservatory Of Music",
          "YST Conservatory of Music",
          "YaleNUS Collece)",
          "YaleNUS College",
          "Yong Loo Lin School (Medicine)",
          "Yong Siew Toh Conservatory of Music",
          "na",
          "Nanyang Technological University",
          "National University of Singapore",
          "Singapore Institute of Technology",
          "Singapore Management University",
          "Singapore University of Social Sciences",
          "Singapore University of Technology and Design"
         ],
         "marker": {
          "coloraxis": "coloraxis",
          "colors": [
           3792.8946790164036,
           3450.3286785028204,
           3193.5426411058556,
           3507.74169196685,
           3224.8159814188502,
           3359.7099058949925,
           4148.644690852116,
           3530.810278571108,
           3224.6996625343877,
           4094.964962920201,
           3531.2022299051664,
           4958.765566583286,
           3299.6548048831664,
           4880.789193250906,
           3373.70816659256,
           3975.528231740376,
           3774.0323702514715,
           3720.036866761185,
           3621.420049710025,
           3505.501152520246,
           3211.2784803126383,
           3044.8377878967863,
           4044,
           3060,
           3490.662994853047,
           3455.946820056436,
           3931,
           2962,
           3316.343143913667,
           3412.1109025863584,
           3396.0607490415805,
           3742.6097411988753,
           4020.323557166359,
           3170.5732660079916,
           4107.34874936294,
           3357.7130573041727,
           4080.7935646459073,
           4126.281678945169,
           4991.060495841245,
           3455.4292408440456,
           2904.199446940892,
           3639.955903808009,
           3322,
           3355.2802985074627,
           3286.946602598809,
           3100.9707504054254,
           2452.77730834753,
           2691.258256766824,
           3173.459695847451,
           3338.374613003096,
           3448.419163668249,
           3795.730573710966,
           3357.869364334153,
           2480.4939516129034,
           2760.4524190033417,
           3541.3132842696036,
           2298,
           3417.1629339853303,
           5024.123871360454,
           4984.722686127289,
           3768.094318565237,
           2953.3830939486697,
           3959.988214700891,
           3413.1898969533418,
           3689.327793519007,
           3289.1000197200447,
           4125.277015068231,
           3141.465625763872,
           3959.988214700891
          ]
         },
         "name": "",
         "parents": [
          "Nanyang Technological University",
          "Nanyang Technological University",
          "Nanyang Technological University",
          "Nanyang Technological University",
          "Nanyang Technological University",
          "Singapore Institute of Technology",
          "National University of Singapore",
          "National University of Singapore",
          "National University of Singapore",
          "National University of Singapore",
          "National University of Singapore",
          "National University of Singapore",
          "National University of Singapore",
          "Nanyang Technological University",
          "National University of Singapore",
          "National University of Singapore",
          "National University of Singapore",
          "National University of Singapore",
          "Nanyang Technological University",
          "Nanyang Technological University",
          "Singapore Institute of Technology",
          "Singapore University of Social Sciences",
          "Singapore Institute of Technology",
          "Singapore Institute of Technology",
          "Singapore Institute of Technology",
          "Singapore Institute of Technology",
          "Singapore Institute of Technology",
          "Singapore Institute of Technology",
          "Singapore Institute of Technology",
          "Singapore Institute of Technology",
          "Singapore Institute of Technology",
          "Singapore Management University",
          "Singapore Management University",
          "Singapore University of Social Sciences",
          "National University of Singapore",
          "National University of Singapore",
          "Singapore Management University",
          "Singapore Management University",
          "Singapore Management University",
          "Singapore Management University",
          "Singapore Institute of Technology",
          "Singapore Institute of Technology",
          "Singapore Institute of Technology",
          "Singapore Institute of Technology",
          "Nanyang Technological University",
          "Singapore Institute of Technology",
          "Singapore Institute of Technology",
          "Singapore Institute of Technology",
          "Singapore Institute of Technology",
          "Singapore Institute of Technology",
          "Singapore Institute of Technology",
          "Singapore Institute of Technology",
          "Singapore Institute of Technology",
          "Singapore Institute of Technology",
          "Singapore Institute of Technology",
          "National University of Singapore",
          "National University of Singapore",
          "National University of Singapore",
          "National University of Singapore",
          "National University of Singapore",
          "National University of Singapore",
          "National University of Singapore",
          "Singapore University of Technology and Design",
          "",
          "",
          "",
          "",
          "",
          ""
         ],
         "type": "treemap",
         "values": [
          222083,
          688174,
          387103,
          24374,
          294492,
          150789,
          16594,
          133754,
          144311,
          45038,
          360105,
          74358,
          185863,
          14639,
          13494,
          38733,
          14952,
          217947,
          7242,
          98046,
          216992,
          15153,
          4044,
          3060,
          20789,
          13821,
          7862,
          5924,
          26502,
          34102,
          13564,
          111321,
          119747,
          50303,
          200138,
          184908,
          121423,
          122029,
          149564,
          103075,
          11572,
          122006,
          6644,
          13400,
          29552,
          67830,
          29350,
          64432,
          25382,
          20026,
          198438,
          30294,
          26838,
          9920,
          27532,
          75548,
          4596,
          10225,
          9857,
          57004,
          77058,
          16988,
          149678,
          1765705,
          1881471,
          1151113,
          727159,
          65456,
          149678
         ]
        }
       ],
       "layout": {
        "coloraxis": {
         "colorbar": {
          "title": {
           "text": "basic_monthly_mean"
          }
         },
         "colorscale": [
          [
           0,
           "#0d0887"
          ],
          [
           0.1111111111111111,
           "#46039f"
          ],
          [
           0.2222222222222222,
           "#7201a8"
          ],
          [
           0.3333333333333333,
           "#9c179e"
          ],
          [
           0.4444444444444444,
           "#bd3786"
          ],
          [
           0.5555555555555556,
           "#d8576b"
          ],
          [
           0.6666666666666666,
           "#ed7953"
          ],
          [
           0.7777777777777778,
           "#fb9f3a"
          ],
          [
           0.8888888888888888,
           "#fdca26"
          ],
          [
           1,
           "#f0f921"
          ]
         ]
        },
        "legend": {
         "tracegroupgap": 0
        },
        "margin": {
         "t": 60
        },
        "template": {
         "data": {
          "bar": [
           {
            "error_x": {
             "color": "#2a3f5f"
            },
            "error_y": {
             "color": "#2a3f5f"
            },
            "marker": {
             "line": {
              "color": "#E5ECF6",
              "width": 0.5
             },
             "pattern": {
              "fillmode": "overlay",
              "size": 10,
              "solidity": 0.2
             }
            },
            "type": "bar"
           }
          ],
          "barpolar": [
           {
            "marker": {
             "line": {
              "color": "#E5ECF6",
              "width": 0.5
             },
             "pattern": {
              "fillmode": "overlay",
              "size": 10,
              "solidity": 0.2
             }
            },
            "type": "barpolar"
           }
          ],
          "carpet": [
           {
            "aaxis": {
             "endlinecolor": "#2a3f5f",
             "gridcolor": "white",
             "linecolor": "white",
             "minorgridcolor": "white",
             "startlinecolor": "#2a3f5f"
            },
            "baxis": {
             "endlinecolor": "#2a3f5f",
             "gridcolor": "white",
             "linecolor": "white",
             "minorgridcolor": "white",
             "startlinecolor": "#2a3f5f"
            },
            "type": "carpet"
           }
          ],
          "choropleth": [
           {
            "colorbar": {
             "outlinewidth": 0,
             "ticks": ""
            },
            "type": "choropleth"
           }
          ],
          "contour": [
           {
            "colorbar": {
             "outlinewidth": 0,
             "ticks": ""
            },
            "colorscale": [
             [
              0,
              "#0d0887"
             ],
             [
              0.1111111111111111,
              "#46039f"
             ],
             [
              0.2222222222222222,
              "#7201a8"
             ],
             [
              0.3333333333333333,
              "#9c179e"
             ],
             [
              0.4444444444444444,
              "#bd3786"
             ],
             [
              0.5555555555555556,
              "#d8576b"
             ],
             [
              0.6666666666666666,
              "#ed7953"
             ],
             [
              0.7777777777777778,
              "#fb9f3a"
             ],
             [
              0.8888888888888888,
              "#fdca26"
             ],
             [
              1,
              "#f0f921"
             ]
            ],
            "type": "contour"
           }
          ],
          "contourcarpet": [
           {
            "colorbar": {
             "outlinewidth": 0,
             "ticks": ""
            },
            "type": "contourcarpet"
           }
          ],
          "heatmap": [
           {
            "colorbar": {
             "outlinewidth": 0,
             "ticks": ""
            },
            "colorscale": [
             [
              0,
              "#0d0887"
             ],
             [
              0.1111111111111111,
              "#46039f"
             ],
             [
              0.2222222222222222,
              "#7201a8"
             ],
             [
              0.3333333333333333,
              "#9c179e"
             ],
             [
              0.4444444444444444,
              "#bd3786"
             ],
             [
              0.5555555555555556,
              "#d8576b"
             ],
             [
              0.6666666666666666,
              "#ed7953"
             ],
             [
              0.7777777777777778,
              "#fb9f3a"
             ],
             [
              0.8888888888888888,
              "#fdca26"
             ],
             [
              1,
              "#f0f921"
             ]
            ],
            "type": "heatmap"
           }
          ],
          "heatmapgl": [
           {
            "colorbar": {
             "outlinewidth": 0,
             "ticks": ""
            },
            "colorscale": [
             [
              0,
              "#0d0887"
             ],
             [
              0.1111111111111111,
              "#46039f"
             ],
             [
              0.2222222222222222,
              "#7201a8"
             ],
             [
              0.3333333333333333,
              "#9c179e"
             ],
             [
              0.4444444444444444,
              "#bd3786"
             ],
             [
              0.5555555555555556,
              "#d8576b"
             ],
             [
              0.6666666666666666,
              "#ed7953"
             ],
             [
              0.7777777777777778,
              "#fb9f3a"
             ],
             [
              0.8888888888888888,
              "#fdca26"
             ],
             [
              1,
              "#f0f921"
             ]
            ],
            "type": "heatmapgl"
           }
          ],
          "histogram": [
           {
            "marker": {
             "pattern": {
              "fillmode": "overlay",
              "size": 10,
              "solidity": 0.2
             }
            },
            "type": "histogram"
           }
          ],
          "histogram2d": [
           {
            "colorbar": {
             "outlinewidth": 0,
             "ticks": ""
            },
            "colorscale": [
             [
              0,
              "#0d0887"
             ],
             [
              0.1111111111111111,
              "#46039f"
             ],
             [
              0.2222222222222222,
              "#7201a8"
             ],
             [
              0.3333333333333333,
              "#9c179e"
             ],
             [
              0.4444444444444444,
              "#bd3786"
             ],
             [
              0.5555555555555556,
              "#d8576b"
             ],
             [
              0.6666666666666666,
              "#ed7953"
             ],
             [
              0.7777777777777778,
              "#fb9f3a"
             ],
             [
              0.8888888888888888,
              "#fdca26"
             ],
             [
              1,
              "#f0f921"
             ]
            ],
            "type": "histogram2d"
           }
          ],
          "histogram2dcontour": [
           {
            "colorbar": {
             "outlinewidth": 0,
             "ticks": ""
            },
            "colorscale": [
             [
              0,
              "#0d0887"
             ],
             [
              0.1111111111111111,
              "#46039f"
             ],
             [
              0.2222222222222222,
              "#7201a8"
             ],
             [
              0.3333333333333333,
              "#9c179e"
             ],
             [
              0.4444444444444444,
              "#bd3786"
             ],
             [
              0.5555555555555556,
              "#d8576b"
             ],
             [
              0.6666666666666666,
              "#ed7953"
             ],
             [
              0.7777777777777778,
              "#fb9f3a"
             ],
             [
              0.8888888888888888,
              "#fdca26"
             ],
             [
              1,
              "#f0f921"
             ]
            ],
            "type": "histogram2dcontour"
           }
          ],
          "mesh3d": [
           {
            "colorbar": {
             "outlinewidth": 0,
             "ticks": ""
            },
            "type": "mesh3d"
           }
          ],
          "parcoords": [
           {
            "line": {
             "colorbar": {
              "outlinewidth": 0,
              "ticks": ""
             }
            },
            "type": "parcoords"
           }
          ],
          "pie": [
           {
            "automargin": true,
            "type": "pie"
           }
          ],
          "scatter": [
           {
            "marker": {
             "colorbar": {
              "outlinewidth": 0,
              "ticks": ""
             }
            },
            "type": "scatter"
           }
          ],
          "scatter3d": [
           {
            "line": {
             "colorbar": {
              "outlinewidth": 0,
              "ticks": ""
             }
            },
            "marker": {
             "colorbar": {
              "outlinewidth": 0,
              "ticks": ""
             }
            },
            "type": "scatter3d"
           }
          ],
          "scattercarpet": [
           {
            "marker": {
             "colorbar": {
              "outlinewidth": 0,
              "ticks": ""
             }
            },
            "type": "scattercarpet"
           }
          ],
          "scattergeo": [
           {
            "marker": {
             "colorbar": {
              "outlinewidth": 0,
              "ticks": ""
             }
            },
            "type": "scattergeo"
           }
          ],
          "scattergl": [
           {
            "marker": {
             "colorbar": {
              "outlinewidth": 0,
              "ticks": ""
             }
            },
            "type": "scattergl"
           }
          ],
          "scattermapbox": [
           {
            "marker": {
             "colorbar": {
              "outlinewidth": 0,
              "ticks": ""
             }
            },
            "type": "scattermapbox"
           }
          ],
          "scatterpolar": [
           {
            "marker": {
             "colorbar": {
              "outlinewidth": 0,
              "ticks": ""
             }
            },
            "type": "scatterpolar"
           }
          ],
          "scatterpolargl": [
           {
            "marker": {
             "colorbar": {
              "outlinewidth": 0,
              "ticks": ""
             }
            },
            "type": "scatterpolargl"
           }
          ],
          "scatterternary": [
           {
            "marker": {
             "colorbar": {
              "outlinewidth": 0,
              "ticks": ""
             }
            },
            "type": "scatterternary"
           }
          ],
          "surface": [
           {
            "colorbar": {
             "outlinewidth": 0,
             "ticks": ""
            },
            "colorscale": [
             [
              0,
              "#0d0887"
             ],
             [
              0.1111111111111111,
              "#46039f"
             ],
             [
              0.2222222222222222,
              "#7201a8"
             ],
             [
              0.3333333333333333,
              "#9c179e"
             ],
             [
              0.4444444444444444,
              "#bd3786"
             ],
             [
              0.5555555555555556,
              "#d8576b"
             ],
             [
              0.6666666666666666,
              "#ed7953"
             ],
             [
              0.7777777777777778,
              "#fb9f3a"
             ],
             [
              0.8888888888888888,
              "#fdca26"
             ],
             [
              1,
              "#f0f921"
             ]
            ],
            "type": "surface"
           }
          ],
          "table": [
           {
            "cells": {
             "fill": {
              "color": "#EBF0F8"
             },
             "line": {
              "color": "white"
             }
            },
            "header": {
             "fill": {
              "color": "#C8D4E3"
             },
             "line": {
              "color": "white"
             }
            },
            "type": "table"
           }
          ]
         },
         "layout": {
          "annotationdefaults": {
           "arrowcolor": "#2a3f5f",
           "arrowhead": 0,
           "arrowwidth": 1
          },
          "autotypenumbers": "strict",
          "coloraxis": {
           "colorbar": {
            "outlinewidth": 0,
            "ticks": ""
           }
          },
          "colorscale": {
           "diverging": [
            [
             0,
             "#8e0152"
            ],
            [
             0.1,
             "#c51b7d"
            ],
            [
             0.2,
             "#de77ae"
            ],
            [
             0.3,
             "#f1b6da"
            ],
            [
             0.4,
             "#fde0ef"
            ],
            [
             0.5,
             "#f7f7f7"
            ],
            [
             0.6,
             "#e6f5d0"
            ],
            [
             0.7,
             "#b8e186"
            ],
            [
             0.8,
             "#7fbc41"
            ],
            [
             0.9,
             "#4d9221"
            ],
            [
             1,
             "#276419"
            ]
           ],
           "sequential": [
            [
             0,
             "#0d0887"
            ],
            [
             0.1111111111111111,
             "#46039f"
            ],
            [
             0.2222222222222222,
             "#7201a8"
            ],
            [
             0.3333333333333333,
             "#9c179e"
            ],
            [
             0.4444444444444444,
             "#bd3786"
            ],
            [
             0.5555555555555556,
             "#d8576b"
            ],
            [
             0.6666666666666666,
             "#ed7953"
            ],
            [
             0.7777777777777778,
             "#fb9f3a"
            ],
            [
             0.8888888888888888,
             "#fdca26"
            ],
            [
             1,
             "#f0f921"
            ]
           ],
           "sequentialminus": [
            [
             0,
             "#0d0887"
            ],
            [
             0.1111111111111111,
             "#46039f"
            ],
            [
             0.2222222222222222,
             "#7201a8"
            ],
            [
             0.3333333333333333,
             "#9c179e"
            ],
            [
             0.4444444444444444,
             "#bd3786"
            ],
            [
             0.5555555555555556,
             "#d8576b"
            ],
            [
             0.6666666666666666,
             "#ed7953"
            ],
            [
             0.7777777777777778,
             "#fb9f3a"
            ],
            [
             0.8888888888888888,
             "#fdca26"
            ],
            [
             1,
             "#f0f921"
            ]
           ]
          },
          "colorway": [
           "#636efa",
           "#EF553B",
           "#00cc96",
           "#ab63fa",
           "#FFA15A",
           "#19d3f3",
           "#FF6692",
           "#B6E880",
           "#FF97FF",
           "#FECB52"
          ],
          "font": {
           "color": "#2a3f5f"
          },
          "geo": {
           "bgcolor": "white",
           "lakecolor": "white",
           "landcolor": "#E5ECF6",
           "showlakes": true,
           "showland": true,
           "subunitcolor": "white"
          },
          "hoverlabel": {
           "align": "left"
          },
          "hovermode": "closest",
          "mapbox": {
           "style": "light"
          },
          "paper_bgcolor": "white",
          "plot_bgcolor": "#E5ECF6",
          "polar": {
           "angularaxis": {
            "gridcolor": "white",
            "linecolor": "white",
            "ticks": ""
           },
           "bgcolor": "#E5ECF6",
           "radialaxis": {
            "gridcolor": "white",
            "linecolor": "white",
            "ticks": ""
           }
          },
          "scene": {
           "xaxis": {
            "backgroundcolor": "#E5ECF6",
            "gridcolor": "white",
            "gridwidth": 2,
            "linecolor": "white",
            "showbackground": true,
            "ticks": "",
            "zerolinecolor": "white"
           },
           "yaxis": {
            "backgroundcolor": "#E5ECF6",
            "gridcolor": "white",
            "gridwidth": 2,
            "linecolor": "white",
            "showbackground": true,
            "ticks": "",
            "zerolinecolor": "white"
           },
           "zaxis": {
            "backgroundcolor": "#E5ECF6",
            "gridcolor": "white",
            "gridwidth": 2,
            "linecolor": "white",
            "showbackground": true,
            "ticks": "",
            "zerolinecolor": "white"
           }
          },
          "shapedefaults": {
           "line": {
            "color": "#2a3f5f"
           }
          },
          "ternary": {
           "aaxis": {
            "gridcolor": "white",
            "linecolor": "white",
            "ticks": ""
           },
           "baxis": {
            "gridcolor": "white",
            "linecolor": "white",
            "ticks": ""
           },
           "bgcolor": "#E5ECF6",
           "caxis": {
            "gridcolor": "white",
            "linecolor": "white",
            "ticks": ""
           }
          },
          "title": {
           "x": 0.05
          },
          "xaxis": {
           "automargin": true,
           "gridcolor": "white",
           "linecolor": "white",
           "ticks": "",
           "title": {
            "standoff": 15
           },
           "zerolinecolor": "white",
           "zerolinewidth": 2
          },
          "yaxis": {
           "automargin": true,
           "gridcolor": "white",
           "linecolor": "white",
           "ticks": "",
           "title": {
            "standoff": 15
           },
           "zerolinecolor": "white",
           "zerolinewidth": 2
          }
         }
        }
       }
      },
      "text/html": [
       "<div>                            <div id=\"ab72b3c7-e997-48a1-9141-e14f8573b219\" class=\"plotly-graph-div\" style=\"height:525px; width:100%;\"></div>            <script type=\"text/javascript\">                require([\"plotly\"], function(Plotly) {                    window.PLOTLYENV=window.PLOTLYENV || {};                                    if (document.getElementById(\"ab72b3c7-e997-48a1-9141-e14f8573b219\")) {                    Plotly.newPlot(                        \"ab72b3c7-e997-48a1-9141-e14f8573b219\",                        [{\"branchvalues\":\"total\",\"customdata\":[[3792.8946790164036],[3450.3286785028204],[3193.5426411058556],[3507.74169196685],[3224.8159814188502],[3359.7099058949925],[4148.644690852116],[3530.810278571108],[3224.6996625343877],[4094.964962920201],[3531.2022299051664],[4958.765566583286],[3299.6548048831664],[4880.789193250906],[3373.70816659256],[3975.528231740376],[3774.0323702514715],[3720.036866761185],[3621.420049710025],[3505.501152520246],[3211.2784803126383],[3044.8377878967863],[4044.0],[3060.0],[3490.662994853047],[3455.946820056436],[3931.0],[2962.0],[3316.343143913667],[3412.1109025863584],[3396.0607490415805],[3742.6097411988753],[4020.323557166359],[3170.5732660079916],[4107.34874936294],[3357.7130573041727],[4080.7935646459073],[4126.281678945169],[4991.060495841245],[3455.4292408440456],[2904.199446940892],[3639.955903808009],[3322.0],[3355.2802985074627],[3286.946602598809],[3100.9707504054254],[2452.77730834753],[2691.258256766824],[3173.459695847451],[3338.374613003096],[3448.419163668249],[3795.730573710966],[3357.869364334153],[2480.4939516129034],[2760.4524190033417],[3541.3132842696036],[2298.0],[3417.1629339853303],[5024.123871360454],[4984.722686127289],[3768.094318565237],[2953.3830939486697],[3959.988214700891],[3413.1898969533418],[3689.327793519007],[3289.1000197200447],[4125.277015068231],[3141.465625763872],[3959.988214700891]],\"domain\":{\"x\":[0.0,1.0],\"y\":[0.0,1.0]},\"hovertemplate\":\"labels=%{label}<br>basic_monthly_mean_sum=%{value}<br>parent=%{parent}<br>id=%{id}<br>basic_monthly_mean=%{color}<extra></extra>\",\"ids\":[\"Nanyang Technological University/College of Business (Nanyang Business School)\",\"Nanyang Technological University/College of Engineering\",\"Nanyang Technological University/College of Humanities Arts Social Sciences\",\"Nanyang Technological University/College of Science\",\"Nanyang Technological University/College of Sciences\",\"Singapore Institute of Technology/DigiPen Institute of Technology\",\"National University of Singapore/Faculty Of Dentistry\",\"National University of Singapore/Faculty Of Engineering\",\"National University of Singapore/Faculty of Arts Social Sciences\",\"National University of Singapore/Faculty of Dentistry\",\"National University of Singapore/Faculty of Engineering\",\"National University of Singapore/Faculty of Law\",\"National University of Singapore/Faculty of Science\",\"Nanyang Technological University/Lee Kong Chian School of Medicine\",\"National University of Singapore/MultiDisciplinary Programme\",\"National University of Singapore/MultiDisciplinary Programmes\",\"National University of Singapore/Multidisciplinary Programmes\",\"National University of Singapore/NUS Business School\",\"Nanyang Technological University/National Institure of Education (NIE)\",\"Nanyang Technological University/National Institute of Education (NIE)\",\"Singapore Institute of Technology/Newcastle University\",\"Singapore University of Social Sciences/S R Nathan School of Human Development\",\"Singapore Institute of Technology/SIT DigiPen Institute of Technology\",\"Singapore Institute of Technology/SIT Massey University\",\"Singapore Institute of Technology/SIT Newcastle University\",\"Singapore Institute of Technology/SIT and SITTrinity College Dublin and Trinity College Dublin\",\"Singapore Institute of Technology/SITDigiPen Institute of Technology\",\"Singapore Institute of Technology/SITMassey University\",\"Singapore Institute of Technology/SITNewcastle University\",\"Singapore Institute of Technology/SITTrinity College Dublin and Trinity College Dublin\",\"Singapore Institute of Technology/SITUniversity of Glasgow\",\"Singapore Management University/School of Accountancy\",\"Singapore Management University/School of Business\",\"Singapore University of Social Sciences/School of Business\",\"National University of Singapore/School of Computing\",\"National University of Singapore/School of Design and Environment\",\"Singapore Management University/School of Economics\",\"Singapore Management University/School of Information Systems\",\"Singapore Management University/School of Law\",\"Singapore Management University/School of Social Sciences\",\"Singapore Institute of Technology/Singapore Institute of Technology\",\"Singapore Institute of Technology/Singapore Institute of Technology (SIT)\",\"Singapore Institute of Technology/Singapore Institute of Technology Trinity College Dublin\",\"Singapore Institute of Technology/Singapore Institute of Technology Trinity College Dublin and Trinity College Dublin\",\"Nanyang Technological University/Sports Science and Management\",\"Singapore Institute of Technology/Technische Universitt Mnchen\",\"Singapore Institute of Technology/The Culinary Institute of America\",\"Singapore Institute of Technology/The Glasgow School of Art\",\"Singapore Institute of Technology/Trinity College Dublin\",\"Singapore Institute of Technology/Trinity College Dublin and Singapore Institute of TechnologyTrinity College Dublin\",\"Singapore Institute of Technology/University of Glasgow\",\"Singapore Institute of Technology/University of Liverpool\",\"Singapore Institute of Technology/University of Manchester\",\"Singapore Institute of Technology/University of Nevada Las Vegas\",\"Singapore Institute of Technology/Wheelock College\",\"National University of Singapore/YLL School of Medicine\",\"National University of Singapore/YST Conservatory Of Music\",\"National University of Singapore/YST Conservatory of Music\",\"National University of Singapore/YaleNUS Collece)\",\"National University of Singapore/YaleNUS College\",\"National University of Singapore/Yong Loo Lin School (Medicine)\",\"National University of Singapore/Yong Siew Toh Conservatory of Music\",\"Singapore University of Technology and Design/na\",\"Nanyang Technological University\",\"National University of Singapore\",\"Singapore Institute of Technology\",\"Singapore Management University\",\"Singapore University of Social Sciences\",\"Singapore University of Technology and Design\"],\"labels\":[\"College of Business (Nanyang Business School)\",\"College of Engineering\",\"College of Humanities Arts Social Sciences\",\"College of Science\",\"College of Sciences\",\"DigiPen Institute of Technology\",\"Faculty Of Dentistry\",\"Faculty Of Engineering\",\"Faculty of Arts Social Sciences\",\"Faculty of Dentistry\",\"Faculty of Engineering\",\"Faculty of Law\",\"Faculty of Science\",\"Lee Kong Chian School of Medicine\",\"MultiDisciplinary Programme\",\"MultiDisciplinary Programmes\",\"Multidisciplinary Programmes\",\"NUS Business School\",\"National Institure of Education (NIE)\",\"National Institute of Education (NIE)\",\"Newcastle University\",\"S R Nathan School of Human Development\",\"SIT DigiPen Institute of Technology\",\"SIT Massey University\",\"SIT Newcastle University\",\"SIT and SITTrinity College Dublin and Trinity College Dublin\",\"SITDigiPen Institute of Technology\",\"SITMassey University\",\"SITNewcastle University\",\"SITTrinity College Dublin and Trinity College Dublin\",\"SITUniversity of Glasgow\",\"School of Accountancy\",\"School of Business\",\"School of Business\",\"School of Computing\",\"School of Design and Environment\",\"School of Economics\",\"School of Information Systems\",\"School of Law\",\"School of Social Sciences\",\"Singapore Institute of Technology\",\"Singapore Institute of Technology (SIT)\",\"Singapore Institute of Technology Trinity College Dublin\",\"Singapore Institute of Technology Trinity College Dublin and Trinity College Dublin\",\"Sports Science and Management\",\"Technische Universitt Mnchen\",\"The Culinary Institute of America\",\"The Glasgow School of Art\",\"Trinity College Dublin\",\"Trinity College Dublin and Singapore Institute of TechnologyTrinity College Dublin\",\"University of Glasgow\",\"University of Liverpool\",\"University of Manchester\",\"University of Nevada Las Vegas\",\"Wheelock College\",\"YLL School of Medicine\",\"YST Conservatory Of Music\",\"YST Conservatory of Music\",\"YaleNUS Collece)\",\"YaleNUS College\",\"Yong Loo Lin School (Medicine)\",\"Yong Siew Toh Conservatory of Music\",\"na\",\"Nanyang Technological University\",\"National University of Singapore\",\"Singapore Institute of Technology\",\"Singapore Management University\",\"Singapore University of Social Sciences\",\"Singapore University of Technology and Design\"],\"marker\":{\"coloraxis\":\"coloraxis\",\"colors\":[3792.8946790164036,3450.3286785028204,3193.5426411058556,3507.74169196685,3224.8159814188502,3359.7099058949925,4148.644690852116,3530.810278571108,3224.6996625343877,4094.964962920201,3531.2022299051664,4958.765566583286,3299.6548048831664,4880.789193250906,3373.70816659256,3975.528231740376,3774.0323702514715,3720.036866761185,3621.420049710025,3505.501152520246,3211.2784803126383,3044.8377878967863,4044.0,3060.0,3490.662994853047,3455.946820056436,3931.0,2962.0,3316.343143913667,3412.1109025863584,3396.0607490415805,3742.6097411988753,4020.323557166359,3170.5732660079916,4107.34874936294,3357.7130573041727,4080.7935646459073,4126.281678945169,4991.060495841245,3455.4292408440456,2904.199446940892,3639.955903808009,3322.0,3355.2802985074627,3286.946602598809,3100.9707504054254,2452.77730834753,2691.258256766824,3173.459695847451,3338.374613003096,3448.419163668249,3795.730573710966,3357.869364334153,2480.4939516129034,2760.4524190033417,3541.3132842696036,2298.0,3417.1629339853303,5024.123871360454,4984.722686127289,3768.094318565237,2953.3830939486697,3959.988214700891,3413.1898969533418,3689.327793519007,3289.1000197200447,4125.277015068231,3141.465625763872,3959.988214700891]},\"name\":\"\",\"parents\":[\"Nanyang Technological University\",\"Nanyang Technological University\",\"Nanyang Technological University\",\"Nanyang Technological University\",\"Nanyang Technological University\",\"Singapore Institute of Technology\",\"National University of Singapore\",\"National University of Singapore\",\"National University of Singapore\",\"National University of Singapore\",\"National University of Singapore\",\"National University of Singapore\",\"National University of Singapore\",\"Nanyang Technological University\",\"National University of Singapore\",\"National University of Singapore\",\"National University of Singapore\",\"National University of Singapore\",\"Nanyang Technological University\",\"Nanyang Technological University\",\"Singapore Institute of Technology\",\"Singapore University of Social Sciences\",\"Singapore Institute of Technology\",\"Singapore Institute of Technology\",\"Singapore Institute of Technology\",\"Singapore Institute of Technology\",\"Singapore Institute of Technology\",\"Singapore Institute of Technology\",\"Singapore Institute of Technology\",\"Singapore Institute of Technology\",\"Singapore Institute of Technology\",\"Singapore Management University\",\"Singapore Management University\",\"Singapore University of Social Sciences\",\"National University of Singapore\",\"National University of Singapore\",\"Singapore Management University\",\"Singapore Management University\",\"Singapore Management University\",\"Singapore Management University\",\"Singapore Institute of Technology\",\"Singapore Institute of Technology\",\"Singapore Institute of Technology\",\"Singapore Institute of Technology\",\"Nanyang Technological University\",\"Singapore Institute of Technology\",\"Singapore Institute of Technology\",\"Singapore Institute of Technology\",\"Singapore Institute of Technology\",\"Singapore Institute of Technology\",\"Singapore Institute of Technology\",\"Singapore Institute of Technology\",\"Singapore Institute of Technology\",\"Singapore Institute of Technology\",\"Singapore Institute of Technology\",\"National University of Singapore\",\"National University of Singapore\",\"National University of Singapore\",\"National University of Singapore\",\"National University of Singapore\",\"National University of Singapore\",\"National University of Singapore\",\"Singapore University of Technology and Design\",\"\",\"\",\"\",\"\",\"\",\"\"],\"type\":\"treemap\",\"values\":[222083,688174,387103,24374,294492,150789,16594,133754,144311,45038,360105,74358,185863,14639,13494,38733,14952,217947,7242,98046,216992,15153,4044,3060,20789,13821,7862,5924,26502,34102,13564,111321,119747,50303,200138,184908,121423,122029,149564,103075,11572,122006,6644,13400,29552,67830,29350,64432,25382,20026,198438,30294,26838,9920,27532,75548,4596,10225,9857,57004,77058,16988,149678,1765705,1881471,1151113,727159,65456,149678]}],                        {\"coloraxis\":{\"colorbar\":{\"title\":{\"text\":\"basic_monthly_mean\"}},\"colorscale\":[[0.0,\"#0d0887\"],[0.1111111111111111,\"#46039f\"],[0.2222222222222222,\"#7201a8\"],[0.3333333333333333,\"#9c179e\"],[0.4444444444444444,\"#bd3786\"],[0.5555555555555556,\"#d8576b\"],[0.6666666666666666,\"#ed7953\"],[0.7777777777777778,\"#fb9f3a\"],[0.8888888888888888,\"#fdca26\"],[1.0,\"#f0f921\"]]},\"legend\":{\"tracegroupgap\":0},\"margin\":{\"t\":60},\"template\":{\"data\":{\"bar\":[{\"error_x\":{\"color\":\"#2a3f5f\"},\"error_y\":{\"color\":\"#2a3f5f\"},\"marker\":{\"line\":{\"color\":\"#E5ECF6\",\"width\":0.5},\"pattern\":{\"fillmode\":\"overlay\",\"size\":10,\"solidity\":0.2}},\"type\":\"bar\"}],\"barpolar\":[{\"marker\":{\"line\":{\"color\":\"#E5ECF6\",\"width\":0.5},\"pattern\":{\"fillmode\":\"overlay\",\"size\":10,\"solidity\":0.2}},\"type\":\"barpolar\"}],\"carpet\":[{\"aaxis\":{\"endlinecolor\":\"#2a3f5f\",\"gridcolor\":\"white\",\"linecolor\":\"white\",\"minorgridcolor\":\"white\",\"startlinecolor\":\"#2a3f5f\"},\"baxis\":{\"endlinecolor\":\"#2a3f5f\",\"gridcolor\":\"white\",\"linecolor\":\"white\",\"minorgridcolor\":\"white\",\"startlinecolor\":\"#2a3f5f\"},\"type\":\"carpet\"}],\"choropleth\":[{\"colorbar\":{\"outlinewidth\":0,\"ticks\":\"\"},\"type\":\"choropleth\"}],\"contour\":[{\"colorbar\":{\"outlinewidth\":0,\"ticks\":\"\"},\"colorscale\":[[0.0,\"#0d0887\"],[0.1111111111111111,\"#46039f\"],[0.2222222222222222,\"#7201a8\"],[0.3333333333333333,\"#9c179e\"],[0.4444444444444444,\"#bd3786\"],[0.5555555555555556,\"#d8576b\"],[0.6666666666666666,\"#ed7953\"],[0.7777777777777778,\"#fb9f3a\"],[0.8888888888888888,\"#fdca26\"],[1.0,\"#f0f921\"]],\"type\":\"contour\"}],\"contourcarpet\":[{\"colorbar\":{\"outlinewidth\":0,\"ticks\":\"\"},\"type\":\"contourcarpet\"}],\"heatmap\":[{\"colorbar\":{\"outlinewidth\":0,\"ticks\":\"\"},\"colorscale\":[[0.0,\"#0d0887\"],[0.1111111111111111,\"#46039f\"],[0.2222222222222222,\"#7201a8\"],[0.3333333333333333,\"#9c179e\"],[0.4444444444444444,\"#bd3786\"],[0.5555555555555556,\"#d8576b\"],[0.6666666666666666,\"#ed7953\"],[0.7777777777777778,\"#fb9f3a\"],[0.8888888888888888,\"#fdca26\"],[1.0,\"#f0f921\"]],\"type\":\"heatmap\"}],\"heatmapgl\":[{\"colorbar\":{\"outlinewidth\":0,\"ticks\":\"\"},\"colorscale\":[[0.0,\"#0d0887\"],[0.1111111111111111,\"#46039f\"],[0.2222222222222222,\"#7201a8\"],[0.3333333333333333,\"#9c179e\"],[0.4444444444444444,\"#bd3786\"],[0.5555555555555556,\"#d8576b\"],[0.6666666666666666,\"#ed7953\"],[0.7777777777777778,\"#fb9f3a\"],[0.8888888888888888,\"#fdca26\"],[1.0,\"#f0f921\"]],\"type\":\"heatmapgl\"}],\"histogram\":[{\"marker\":{\"pattern\":{\"fillmode\":\"overlay\",\"size\":10,\"solidity\":0.2}},\"type\":\"histogram\"}],\"histogram2d\":[{\"colorbar\":{\"outlinewidth\":0,\"ticks\":\"\"},\"colorscale\":[[0.0,\"#0d0887\"],[0.1111111111111111,\"#46039f\"],[0.2222222222222222,\"#7201a8\"],[0.3333333333333333,\"#9c179e\"],[0.4444444444444444,\"#bd3786\"],[0.5555555555555556,\"#d8576b\"],[0.6666666666666666,\"#ed7953\"],[0.7777777777777778,\"#fb9f3a\"],[0.8888888888888888,\"#fdca26\"],[1.0,\"#f0f921\"]],\"type\":\"histogram2d\"}],\"histogram2dcontour\":[{\"colorbar\":{\"outlinewidth\":0,\"ticks\":\"\"},\"colorscale\":[[0.0,\"#0d0887\"],[0.1111111111111111,\"#46039f\"],[0.2222222222222222,\"#7201a8\"],[0.3333333333333333,\"#9c179e\"],[0.4444444444444444,\"#bd3786\"],[0.5555555555555556,\"#d8576b\"],[0.6666666666666666,\"#ed7953\"],[0.7777777777777778,\"#fb9f3a\"],[0.8888888888888888,\"#fdca26\"],[1.0,\"#f0f921\"]],\"type\":\"histogram2dcontour\"}],\"mesh3d\":[{\"colorbar\":{\"outlinewidth\":0,\"ticks\":\"\"},\"type\":\"mesh3d\"}],\"parcoords\":[{\"line\":{\"colorbar\":{\"outlinewidth\":0,\"ticks\":\"\"}},\"type\":\"parcoords\"}],\"pie\":[{\"automargin\":true,\"type\":\"pie\"}],\"scatter\":[{\"marker\":{\"colorbar\":{\"outlinewidth\":0,\"ticks\":\"\"}},\"type\":\"scatter\"}],\"scatter3d\":[{\"line\":{\"colorbar\":{\"outlinewidth\":0,\"ticks\":\"\"}},\"marker\":{\"colorbar\":{\"outlinewidth\":0,\"ticks\":\"\"}},\"type\":\"scatter3d\"}],\"scattercarpet\":[{\"marker\":{\"colorbar\":{\"outlinewidth\":0,\"ticks\":\"\"}},\"type\":\"scattercarpet\"}],\"scattergeo\":[{\"marker\":{\"colorbar\":{\"outlinewidth\":0,\"ticks\":\"\"}},\"type\":\"scattergeo\"}],\"scattergl\":[{\"marker\":{\"colorbar\":{\"outlinewidth\":0,\"ticks\":\"\"}},\"type\":\"scattergl\"}],\"scattermapbox\":[{\"marker\":{\"colorbar\":{\"outlinewidth\":0,\"ticks\":\"\"}},\"type\":\"scattermapbox\"}],\"scatterpolar\":[{\"marker\":{\"colorbar\":{\"outlinewidth\":0,\"ticks\":\"\"}},\"type\":\"scatterpolar\"}],\"scatterpolargl\":[{\"marker\":{\"colorbar\":{\"outlinewidth\":0,\"ticks\":\"\"}},\"type\":\"scatterpolargl\"}],\"scatterternary\":[{\"marker\":{\"colorbar\":{\"outlinewidth\":0,\"ticks\":\"\"}},\"type\":\"scatterternary\"}],\"surface\":[{\"colorbar\":{\"outlinewidth\":0,\"ticks\":\"\"},\"colorscale\":[[0.0,\"#0d0887\"],[0.1111111111111111,\"#46039f\"],[0.2222222222222222,\"#7201a8\"],[0.3333333333333333,\"#9c179e\"],[0.4444444444444444,\"#bd3786\"],[0.5555555555555556,\"#d8576b\"],[0.6666666666666666,\"#ed7953\"],[0.7777777777777778,\"#fb9f3a\"],[0.8888888888888888,\"#fdca26\"],[1.0,\"#f0f921\"]],\"type\":\"surface\"}],\"table\":[{\"cells\":{\"fill\":{\"color\":\"#EBF0F8\"},\"line\":{\"color\":\"white\"}},\"header\":{\"fill\":{\"color\":\"#C8D4E3\"},\"line\":{\"color\":\"white\"}},\"type\":\"table\"}]},\"layout\":{\"annotationdefaults\":{\"arrowcolor\":\"#2a3f5f\",\"arrowhead\":0,\"arrowwidth\":1},\"autotypenumbers\":\"strict\",\"coloraxis\":{\"colorbar\":{\"outlinewidth\":0,\"ticks\":\"\"}},\"colorscale\":{\"diverging\":[[0,\"#8e0152\"],[0.1,\"#c51b7d\"],[0.2,\"#de77ae\"],[0.3,\"#f1b6da\"],[0.4,\"#fde0ef\"],[0.5,\"#f7f7f7\"],[0.6,\"#e6f5d0\"],[0.7,\"#b8e186\"],[0.8,\"#7fbc41\"],[0.9,\"#4d9221\"],[1,\"#276419\"]],\"sequential\":[[0.0,\"#0d0887\"],[0.1111111111111111,\"#46039f\"],[0.2222222222222222,\"#7201a8\"],[0.3333333333333333,\"#9c179e\"],[0.4444444444444444,\"#bd3786\"],[0.5555555555555556,\"#d8576b\"],[0.6666666666666666,\"#ed7953\"],[0.7777777777777778,\"#fb9f3a\"],[0.8888888888888888,\"#fdca26\"],[1.0,\"#f0f921\"]],\"sequentialminus\":[[0.0,\"#0d0887\"],[0.1111111111111111,\"#46039f\"],[0.2222222222222222,\"#7201a8\"],[0.3333333333333333,\"#9c179e\"],[0.4444444444444444,\"#bd3786\"],[0.5555555555555556,\"#d8576b\"],[0.6666666666666666,\"#ed7953\"],[0.7777777777777778,\"#fb9f3a\"],[0.8888888888888888,\"#fdca26\"],[1.0,\"#f0f921\"]]},\"colorway\":[\"#636efa\",\"#EF553B\",\"#00cc96\",\"#ab63fa\",\"#FFA15A\",\"#19d3f3\",\"#FF6692\",\"#B6E880\",\"#FF97FF\",\"#FECB52\"],\"font\":{\"color\":\"#2a3f5f\"},\"geo\":{\"bgcolor\":\"white\",\"lakecolor\":\"white\",\"landcolor\":\"#E5ECF6\",\"showlakes\":true,\"showland\":true,\"subunitcolor\":\"white\"},\"hoverlabel\":{\"align\":\"left\"},\"hovermode\":\"closest\",\"mapbox\":{\"style\":\"light\"},\"paper_bgcolor\":\"white\",\"plot_bgcolor\":\"#E5ECF6\",\"polar\":{\"angularaxis\":{\"gridcolor\":\"white\",\"linecolor\":\"white\",\"ticks\":\"\"},\"bgcolor\":\"#E5ECF6\",\"radialaxis\":{\"gridcolor\":\"white\",\"linecolor\":\"white\",\"ticks\":\"\"}},\"scene\":{\"xaxis\":{\"backgroundcolor\":\"#E5ECF6\",\"gridcolor\":\"white\",\"gridwidth\":2,\"linecolor\":\"white\",\"showbackground\":true,\"ticks\":\"\",\"zerolinecolor\":\"white\"},\"yaxis\":{\"backgroundcolor\":\"#E5ECF6\",\"gridcolor\":\"white\",\"gridwidth\":2,\"linecolor\":\"white\",\"showbackground\":true,\"ticks\":\"\",\"zerolinecolor\":\"white\"},\"zaxis\":{\"backgroundcolor\":\"#E5ECF6\",\"gridcolor\":\"white\",\"gridwidth\":2,\"linecolor\":\"white\",\"showbackground\":true,\"ticks\":\"\",\"zerolinecolor\":\"white\"}},\"shapedefaults\":{\"line\":{\"color\":\"#2a3f5f\"}},\"ternary\":{\"aaxis\":{\"gridcolor\":\"white\",\"linecolor\":\"white\",\"ticks\":\"\"},\"baxis\":{\"gridcolor\":\"white\",\"linecolor\":\"white\",\"ticks\":\"\"},\"bgcolor\":\"#E5ECF6\",\"caxis\":{\"gridcolor\":\"white\",\"linecolor\":\"white\",\"ticks\":\"\"}},\"title\":{\"x\":0.05},\"xaxis\":{\"automargin\":true,\"gridcolor\":\"white\",\"linecolor\":\"white\",\"ticks\":\"\",\"title\":{\"standoff\":15},\"zerolinecolor\":\"white\",\"zerolinewidth\":2},\"yaxis\":{\"automargin\":true,\"gridcolor\":\"white\",\"linecolor\":\"white\",\"ticks\":\"\",\"title\":{\"standoff\":15},\"zerolinecolor\":\"white\",\"zerolinewidth\":2}}}},                        {\"responsive\": true}                    ).then(function(){\n",
       "                            \n",
       "var gd = document.getElementById('ab72b3c7-e997-48a1-9141-e14f8573b219');\n",
       "var x = new MutationObserver(function (mutations, observer) {{\n",
       "        var display = window.getComputedStyle(gd).display;\n",
       "        if (!display || display === 'none') {{\n",
       "            console.log([gd, 'removed!']);\n",
       "            Plotly.purge(gd);\n",
       "            observer.disconnect();\n",
       "        }}\n",
       "}});\n",
       "\n",
       "// Listen for the removal of the full notebook cells\n",
       "var notebookContainer = gd.closest('#notebook-container');\n",
       "if (notebookContainer) {{\n",
       "    x.observe(notebookContainer, {childList: true});\n",
       "}}\n",
       "\n",
       "// Listen for the clearing of the current output cell\n",
       "var outputEl = gd.closest('.output');\n",
       "if (outputEl) {{\n",
       "    x.observe(outputEl, {childList: true});\n",
       "}}\n",
       "\n",
       "                        })                };                });            </script>        </div>"
      ]
     },
     "metadata": {},
     "output_type": "display_data"
    }
   ],
   "source": [
    "fig = px.treemap(df, \n",
    "                 path=['university', 'school'], \n",
    "                 values='basic_monthly_mean',\n",
    "                 color='basic_monthly_mean'\n",
    "                )\n",
    "fig.show()"
   ]
  },
  {
   "cell_type": "code",
   "execution_count": 10,
   "metadata": {},
   "outputs": [],
   "source": [
    "df['employment_rate_overall_pct'] = (pd.to_numeric(df['employment_rate_overall'].str[:-1])\n",
    "                            .div(100)\n",
    "                            .mask(df['employment_rate_overall'] == '%', 0))"
   ]
  },
  {
   "cell_type": "code",
   "execution_count": 11,
   "metadata": {},
   "outputs": [
    {
     "data": {
      "application/vnd.plotly.v1+json": {
       "config": {
        "plotlyServerURL": "https://plot.ly"
       },
       "data": [
        {
         "branchvalues": "total",
         "customdata": [
          [
           0.9351855641261343
          ],
          [
           0.8770660620394684
          ],
          [
           0.8420645398189947
          ],
          [
           0.91954734877935
          ],
          [
           0.8329557216791258
          ],
          [
           0.8740795997986408
          ],
          [
           0.10000000000000002
          ],
          [
           0.872905874921036
          ],
          [
           0.8644765898361565
          ],
          [
           0.5499999999999999
          ],
          [
           0.8882260645067453
          ],
          [
           0.9628150713395205
          ],
          [
           0.8723382231971484
          ],
          [
           0.8499999999999999
          ],
          [
           0.7746753246753245
          ],
          [
           0.9011336886520096
          ],
          [
           0.8604651162790697
          ],
          [
           0.9251739257222603
          ],
          [
           1
          ],
          [
           0.1
          ],
          [
           0.8788651877133106
          ],
          [
           0.9269030093093744
          ],
          [
           0.9570000000000001
          ],
          [
           0.9520000000000001
          ],
          [
           0.9370293328563765
          ],
          [
           0.9955610246107484
          ],
          [
           0.9500000000000001
          ],
          [
           0.09
          ],
          [
           0.7941884816753927
          ],
          [
           0.9076051779935276
          ],
          [
           0.869047619047619
          ],
          [
           0.9476046548323472
          ],
          [
           0.9294965972697617
          ],
          [
           0.8976163168525509
          ],
          [
           0.9152819182466179
          ],
          [
           0.9028935605719939
          ],
          [
           0.9062023780034681
          ],
          [
           0.9267985765734863
          ],
          [
           0.9316712235133291
          ],
          [
           0.8881939550606478
          ],
          [
           0.94
          ],
          [
           0.9249176976072302
          ],
          [
           0.10000000000000002
          ],
          [
           0.10000000000000002
          ],
          [
           0.7868936877076411
          ],
          [
           0.8314840989399295
          ],
          [
           0.8662946428571429
          ],
          [
           0.8839204545454544
          ],
          [
           0.10000000000000002
          ],
          [
           0.7355555555555555
          ],
          [
           0.8633397870280736
          ],
          [
           0.8751002865329512
          ],
          [
           0.9631428571428572
          ],
          [
           0.8850282485875706
          ],
          [
           0.8516216216216216
          ],
          [
           0.7747956403269757
          ],
          [
           0.7299999999999999
          ],
          [
           0.782017152658662
          ],
          [
           0.9156204259967231
          ],
          [
           0.8984549356223177
          ],
          [
           0.9525272766672085
          ],
          [
           0.8007428571428571
          ],
          [
           0.8765527112690276
          ],
          [
           0.8629792021689606
          ],
          [
           0.8906444985331731
          ],
          [
           0.8778787667611861
          ],
          [
           0.9214938164191162
          ],
          [
           0.9060678495564163
          ],
          [
           0.8765527112690276
          ]
         ],
         "domain": {
          "x": [
           0,
           1
          ],
          "y": [
           0,
           1
          ]
         },
         "hovertemplate": "labels=%{label}<br>employment_rate_overall_pct_sum=%{value}<br>parent=%{parent}<br>id=%{id}<br>employment_rate_overall_pct=%{color}<extra></extra>",
         "ids": [
          "Nanyang Technological University/College of Business (Nanyang Business School)",
          "Nanyang Technological University/College of Engineering",
          "Nanyang Technological University/College of Humanities Arts Social Sciences",
          "Nanyang Technological University/College of Science",
          "Nanyang Technological University/College of Sciences",
          "Singapore Institute of Technology/DigiPen Institute of Technology",
          "National University of Singapore/Faculty Of Dentistry",
          "National University of Singapore/Faculty Of Engineering",
          "National University of Singapore/Faculty of Arts Social Sciences",
          "National University of Singapore/Faculty of Dentistry",
          "National University of Singapore/Faculty of Engineering",
          "National University of Singapore/Faculty of Law",
          "National University of Singapore/Faculty of Science",
          "Nanyang Technological University/Lee Kong Chian School of Medicine",
          "National University of Singapore/MultiDisciplinary Programme",
          "National University of Singapore/MultiDisciplinary Programmes",
          "National University of Singapore/Multidisciplinary Programmes",
          "National University of Singapore/NUS Business School",
          "Nanyang Technological University/National Institure of Education (NIE)",
          "Nanyang Technological University/National Institute of Education (NIE)",
          "Singapore Institute of Technology/Newcastle University",
          "Singapore University of Social Sciences/S R Nathan School of Human Development",
          "Singapore Institute of Technology/SIT DigiPen Institute of Technology",
          "Singapore Institute of Technology/SIT Massey University",
          "Singapore Institute of Technology/SIT Newcastle University",
          "Singapore Institute of Technology/SIT and SITTrinity College Dublin and Trinity College Dublin",
          "Singapore Institute of Technology/SITDigiPen Institute of Technology",
          "Singapore Institute of Technology/SITMassey University",
          "Singapore Institute of Technology/SITNewcastle University",
          "Singapore Institute of Technology/SITTrinity College Dublin and Trinity College Dublin",
          "Singapore Institute of Technology/SITUniversity of Glasgow",
          "Singapore Management University/School of Accountancy",
          "Singapore Management University/School of Business",
          "Singapore University of Social Sciences/School of Business",
          "National University of Singapore/School of Computing",
          "National University of Singapore/School of Design and Environment",
          "Singapore Management University/School of Economics",
          "Singapore Management University/School of Information Systems",
          "Singapore Management University/School of Law",
          "Singapore Management University/School of Social Sciences",
          "Singapore Institute of Technology/Singapore Institute of Technology",
          "Singapore Institute of Technology/Singapore Institute of Technology (SIT)",
          "Singapore Institute of Technology/Singapore Institute of Technology Trinity College Dublin",
          "Singapore Institute of Technology/Singapore Institute of Technology Trinity College Dublin and Trinity College Dublin",
          "Nanyang Technological University/Sports Science and Management",
          "Singapore Institute of Technology/Technische Universitt Mnchen",
          "Singapore Institute of Technology/The Culinary Institute of America",
          "Singapore Institute of Technology/The Glasgow School of Art",
          "Singapore Institute of Technology/Trinity College Dublin",
          "Singapore Institute of Technology/Trinity College Dublin and Singapore Institute of TechnologyTrinity College Dublin",
          "Singapore Institute of Technology/University of Glasgow",
          "Singapore Institute of Technology/University of Liverpool",
          "Singapore Institute of Technology/University of Manchester",
          "Singapore Institute of Technology/University of Nevada Las Vegas",
          "Singapore Institute of Technology/Wheelock College",
          "National University of Singapore/YLL School of Medicine",
          "National University of Singapore/YST Conservatory Of Music",
          "National University of Singapore/YST Conservatory of Music",
          "National University of Singapore/YaleNUS Collece)",
          "National University of Singapore/YaleNUS College",
          "National University of Singapore/Yong Loo Lin School (Medicine)",
          "National University of Singapore/Yong Siew Toh Conservatory of Music",
          "Singapore University of Technology and Design/na",
          "Nanyang Technological University",
          "National University of Singapore",
          "Singapore Institute of Technology",
          "Singapore Management University",
          "Singapore University of Social Sciences",
          "Singapore University of Technology and Design"
         ],
         "labels": [
          "College of Business (Nanyang Business School)",
          "College of Engineering",
          "College of Humanities Arts Social Sciences",
          "College of Science",
          "College of Sciences",
          "DigiPen Institute of Technology",
          "Faculty Of Dentistry",
          "Faculty Of Engineering",
          "Faculty of Arts Social Sciences",
          "Faculty of Dentistry",
          "Faculty of Engineering",
          "Faculty of Law",
          "Faculty of Science",
          "Lee Kong Chian School of Medicine",
          "MultiDisciplinary Programme",
          "MultiDisciplinary Programmes",
          "Multidisciplinary Programmes",
          "NUS Business School",
          "National Institure of Education (NIE)",
          "National Institute of Education (NIE)",
          "Newcastle University",
          "S R Nathan School of Human Development",
          "SIT DigiPen Institute of Technology",
          "SIT Massey University",
          "SIT Newcastle University",
          "SIT and SITTrinity College Dublin and Trinity College Dublin",
          "SITDigiPen Institute of Technology",
          "SITMassey University",
          "SITNewcastle University",
          "SITTrinity College Dublin and Trinity College Dublin",
          "SITUniversity of Glasgow",
          "School of Accountancy",
          "School of Business",
          "School of Business",
          "School of Computing",
          "School of Design and Environment",
          "School of Economics",
          "School of Information Systems",
          "School of Law",
          "School of Social Sciences",
          "Singapore Institute of Technology",
          "Singapore Institute of Technology (SIT)",
          "Singapore Institute of Technology Trinity College Dublin",
          "Singapore Institute of Technology Trinity College Dublin and Trinity College Dublin",
          "Sports Science and Management",
          "Technische Universitt Mnchen",
          "The Culinary Institute of America",
          "The Glasgow School of Art",
          "Trinity College Dublin",
          "Trinity College Dublin and Singapore Institute of TechnologyTrinity College Dublin",
          "University of Glasgow",
          "University of Liverpool",
          "University of Manchester",
          "University of Nevada Las Vegas",
          "Wheelock College",
          "YLL School of Medicine",
          "YST Conservatory Of Music",
          "YST Conservatory of Music",
          "YaleNUS Collece)",
          "YaleNUS College",
          "Yong Loo Lin School (Medicine)",
          "Yong Siew Toh Conservatory of Music",
          "na",
          "Nanyang Technological University",
          "National University of Singapore",
          "Singapore Institute of Technology",
          "Singapore Management University",
          "Singapore University of Social Sciences",
          "Singapore University of Technology and Design"
         ],
         "marker": {
          "coloraxis": "coloraxis",
          "colors": [
           0.9351855641261343,
           0.8770660620394684,
           0.8420645398189947,
           0.91954734877935,
           0.8329557216791258,
           0.8740795997986408,
           0.10000000000000002,
           0.872905874921036,
           0.8644765898361565,
           0.5499999999999999,
           0.8882260645067453,
           0.9628150713395205,
           0.8723382231971484,
           0.8499999999999999,
           0.7746753246753245,
           0.9011336886520096,
           0.8604651162790697,
           0.9251739257222603,
           1,
           0.1,
           0.8788651877133106,
           0.9269030093093744,
           0.9570000000000001,
           0.9520000000000001,
           0.9370293328563765,
           0.9955610246107484,
           0.9500000000000001,
           0.09,
           0.7941884816753927,
           0.9076051779935276,
           0.869047619047619,
           0.9476046548323472,
           0.9294965972697617,
           0.8976163168525509,
           0.9152819182466179,
           0.9028935605719939,
           0.9062023780034681,
           0.9267985765734863,
           0.9316712235133291,
           0.8881939550606478,
           0.94,
           0.9249176976072302,
           0.10000000000000002,
           0.10000000000000002,
           0.7868936877076411,
           0.8314840989399295,
           0.8662946428571429,
           0.8839204545454544,
           0.10000000000000002,
           0.7355555555555555,
           0.8633397870280736,
           0.8751002865329512,
           0.9631428571428572,
           0.8850282485875706,
           0.8516216216216216,
           0.7747956403269757,
           0.7299999999999999,
           0.782017152658662,
           0.9156204259967231,
           0.8984549356223177,
           0.9525272766672085,
           0.8007428571428571,
           0.8765527112690276,
           0.8629792021689606,
           0.8906444985331731,
           0.8778787667611861,
           0.9214938164191162,
           0.9060678495564163,
           0.8765527112690276
          ]
         },
         "name": "",
         "parents": [
          "Nanyang Technological University",
          "Nanyang Technological University",
          "Nanyang Technological University",
          "Nanyang Technological University",
          "Nanyang Technological University",
          "Singapore Institute of Technology",
          "National University of Singapore",
          "National University of Singapore",
          "National University of Singapore",
          "National University of Singapore",
          "National University of Singapore",
          "National University of Singapore",
          "National University of Singapore",
          "Nanyang Technological University",
          "National University of Singapore",
          "National University of Singapore",
          "National University of Singapore",
          "National University of Singapore",
          "Nanyang Technological University",
          "Nanyang Technological University",
          "Singapore Institute of Technology",
          "Singapore University of Social Sciences",
          "Singapore Institute of Technology",
          "Singapore Institute of Technology",
          "Singapore Institute of Technology",
          "Singapore Institute of Technology",
          "Singapore Institute of Technology",
          "Singapore Institute of Technology",
          "Singapore Institute of Technology",
          "Singapore Institute of Technology",
          "Singapore Institute of Technology",
          "Singapore Management University",
          "Singapore Management University",
          "Singapore University of Social Sciences",
          "National University of Singapore",
          "National University of Singapore",
          "Singapore Management University",
          "Singapore Management University",
          "Singapore Management University",
          "Singapore Management University",
          "Singapore Institute of Technology",
          "Singapore Institute of Technology",
          "Singapore Institute of Technology",
          "Singapore Institute of Technology",
          "Nanyang Technological University",
          "Singapore Institute of Technology",
          "Singapore Institute of Technology",
          "Singapore Institute of Technology",
          "Singapore Institute of Technology",
          "Singapore Institute of Technology",
          "Singapore Institute of Technology",
          "Singapore Institute of Technology",
          "Singapore Institute of Technology",
          "Singapore Institute of Technology",
          "Singapore Institute of Technology",
          "National University of Singapore",
          "National University of Singapore",
          "National University of Singapore",
          "National University of Singapore",
          "National University of Singapore",
          "National University of Singapore",
          "National University of Singapore",
          "Singapore University of Technology and Design",
          "",
          "",
          "",
          "",
          "",
          ""
         ],
         "type": "treemap",
         "values": [
          50.04200000000001,
          161.09099999999992,
          92.59399999999997,
          6.431000000000001,
          69.56,
          31.784000000000002,
          0.4,
          31.66,
          36.010000000000005,
          2.000000000000001,
          82.503,
          14.437999999999999,
          43.764,
          1.2000000000000002,
          3.08,
          9.006,
          3.44,
          48.00900000000001,
          2,
          2.800000000000001,
          46.879999999999995,
          4.619,
          0.9570000000000001,
          0.9520000000000001,
          5.590999999999999,
          3.982,
          1.9,
          0.18,
          3.8200000000000003,
          6.18,
          2.1,
          25.350000000000005,
          24.832999999999995,
          11.387000000000002,
          41.246,
          44.47599999999999,
          24.222000000000005,
          23.324,
          21.944999999999997,
          25.14500000000001,
          3.76,
          26.99800000000001,
          0.2,
          0.4,
          4.515000000000001,
          16.98,
          8.96,
          21.120000000000008,
          0.7999999999999999,
          2.16,
          41.320000000000014,
          6.9799999999999995,
          7.700000000000001,
          3.54,
          4.4399999999999995,
          7.339999999999998,
          1.46,
          2.332,
          1.831,
          9.319999999999999,
          18.459,
          3.5,
          24.767,
          390.2329999999997,
          404.27400000000046,
          249.6839999999998,
          144.81899999999993,
          16.006,
          24.767
         ]
        }
       ],
       "layout": {
        "coloraxis": {
         "colorbar": {
          "title": {
           "text": "employment_rate_overall_pct"
          }
         },
         "colorscale": [
          [
           0,
           "#0d0887"
          ],
          [
           0.1111111111111111,
           "#46039f"
          ],
          [
           0.2222222222222222,
           "#7201a8"
          ],
          [
           0.3333333333333333,
           "#9c179e"
          ],
          [
           0.4444444444444444,
           "#bd3786"
          ],
          [
           0.5555555555555556,
           "#d8576b"
          ],
          [
           0.6666666666666666,
           "#ed7953"
          ],
          [
           0.7777777777777778,
           "#fb9f3a"
          ],
          [
           0.8888888888888888,
           "#fdca26"
          ],
          [
           1,
           "#f0f921"
          ]
         ]
        },
        "legend": {
         "tracegroupgap": 0
        },
        "margin": {
         "t": 60
        },
        "template": {
         "data": {
          "bar": [
           {
            "error_x": {
             "color": "#2a3f5f"
            },
            "error_y": {
             "color": "#2a3f5f"
            },
            "marker": {
             "line": {
              "color": "#E5ECF6",
              "width": 0.5
             },
             "pattern": {
              "fillmode": "overlay",
              "size": 10,
              "solidity": 0.2
             }
            },
            "type": "bar"
           }
          ],
          "barpolar": [
           {
            "marker": {
             "line": {
              "color": "#E5ECF6",
              "width": 0.5
             },
             "pattern": {
              "fillmode": "overlay",
              "size": 10,
              "solidity": 0.2
             }
            },
            "type": "barpolar"
           }
          ],
          "carpet": [
           {
            "aaxis": {
             "endlinecolor": "#2a3f5f",
             "gridcolor": "white",
             "linecolor": "white",
             "minorgridcolor": "white",
             "startlinecolor": "#2a3f5f"
            },
            "baxis": {
             "endlinecolor": "#2a3f5f",
             "gridcolor": "white",
             "linecolor": "white",
             "minorgridcolor": "white",
             "startlinecolor": "#2a3f5f"
            },
            "type": "carpet"
           }
          ],
          "choropleth": [
           {
            "colorbar": {
             "outlinewidth": 0,
             "ticks": ""
            },
            "type": "choropleth"
           }
          ],
          "contour": [
           {
            "colorbar": {
             "outlinewidth": 0,
             "ticks": ""
            },
            "colorscale": [
             [
              0,
              "#0d0887"
             ],
             [
              0.1111111111111111,
              "#46039f"
             ],
             [
              0.2222222222222222,
              "#7201a8"
             ],
             [
              0.3333333333333333,
              "#9c179e"
             ],
             [
              0.4444444444444444,
              "#bd3786"
             ],
             [
              0.5555555555555556,
              "#d8576b"
             ],
             [
              0.6666666666666666,
              "#ed7953"
             ],
             [
              0.7777777777777778,
              "#fb9f3a"
             ],
             [
              0.8888888888888888,
              "#fdca26"
             ],
             [
              1,
              "#f0f921"
             ]
            ],
            "type": "contour"
           }
          ],
          "contourcarpet": [
           {
            "colorbar": {
             "outlinewidth": 0,
             "ticks": ""
            },
            "type": "contourcarpet"
           }
          ],
          "heatmap": [
           {
            "colorbar": {
             "outlinewidth": 0,
             "ticks": ""
            },
            "colorscale": [
             [
              0,
              "#0d0887"
             ],
             [
              0.1111111111111111,
              "#46039f"
             ],
             [
              0.2222222222222222,
              "#7201a8"
             ],
             [
              0.3333333333333333,
              "#9c179e"
             ],
             [
              0.4444444444444444,
              "#bd3786"
             ],
             [
              0.5555555555555556,
              "#d8576b"
             ],
             [
              0.6666666666666666,
              "#ed7953"
             ],
             [
              0.7777777777777778,
              "#fb9f3a"
             ],
             [
              0.8888888888888888,
              "#fdca26"
             ],
             [
              1,
              "#f0f921"
             ]
            ],
            "type": "heatmap"
           }
          ],
          "heatmapgl": [
           {
            "colorbar": {
             "outlinewidth": 0,
             "ticks": ""
            },
            "colorscale": [
             [
              0,
              "#0d0887"
             ],
             [
              0.1111111111111111,
              "#46039f"
             ],
             [
              0.2222222222222222,
              "#7201a8"
             ],
             [
              0.3333333333333333,
              "#9c179e"
             ],
             [
              0.4444444444444444,
              "#bd3786"
             ],
             [
              0.5555555555555556,
              "#d8576b"
             ],
             [
              0.6666666666666666,
              "#ed7953"
             ],
             [
              0.7777777777777778,
              "#fb9f3a"
             ],
             [
              0.8888888888888888,
              "#fdca26"
             ],
             [
              1,
              "#f0f921"
             ]
            ],
            "type": "heatmapgl"
           }
          ],
          "histogram": [
           {
            "marker": {
             "pattern": {
              "fillmode": "overlay",
              "size": 10,
              "solidity": 0.2
             }
            },
            "type": "histogram"
           }
          ],
          "histogram2d": [
           {
            "colorbar": {
             "outlinewidth": 0,
             "ticks": ""
            },
            "colorscale": [
             [
              0,
              "#0d0887"
             ],
             [
              0.1111111111111111,
              "#46039f"
             ],
             [
              0.2222222222222222,
              "#7201a8"
             ],
             [
              0.3333333333333333,
              "#9c179e"
             ],
             [
              0.4444444444444444,
              "#bd3786"
             ],
             [
              0.5555555555555556,
              "#d8576b"
             ],
             [
              0.6666666666666666,
              "#ed7953"
             ],
             [
              0.7777777777777778,
              "#fb9f3a"
             ],
             [
              0.8888888888888888,
              "#fdca26"
             ],
             [
              1,
              "#f0f921"
             ]
            ],
            "type": "histogram2d"
           }
          ],
          "histogram2dcontour": [
           {
            "colorbar": {
             "outlinewidth": 0,
             "ticks": ""
            },
            "colorscale": [
             [
              0,
              "#0d0887"
             ],
             [
              0.1111111111111111,
              "#46039f"
             ],
             [
              0.2222222222222222,
              "#7201a8"
             ],
             [
              0.3333333333333333,
              "#9c179e"
             ],
             [
              0.4444444444444444,
              "#bd3786"
             ],
             [
              0.5555555555555556,
              "#d8576b"
             ],
             [
              0.6666666666666666,
              "#ed7953"
             ],
             [
              0.7777777777777778,
              "#fb9f3a"
             ],
             [
              0.8888888888888888,
              "#fdca26"
             ],
             [
              1,
              "#f0f921"
             ]
            ],
            "type": "histogram2dcontour"
           }
          ],
          "mesh3d": [
           {
            "colorbar": {
             "outlinewidth": 0,
             "ticks": ""
            },
            "type": "mesh3d"
           }
          ],
          "parcoords": [
           {
            "line": {
             "colorbar": {
              "outlinewidth": 0,
              "ticks": ""
             }
            },
            "type": "parcoords"
           }
          ],
          "pie": [
           {
            "automargin": true,
            "type": "pie"
           }
          ],
          "scatter": [
           {
            "marker": {
             "colorbar": {
              "outlinewidth": 0,
              "ticks": ""
             }
            },
            "type": "scatter"
           }
          ],
          "scatter3d": [
           {
            "line": {
             "colorbar": {
              "outlinewidth": 0,
              "ticks": ""
             }
            },
            "marker": {
             "colorbar": {
              "outlinewidth": 0,
              "ticks": ""
             }
            },
            "type": "scatter3d"
           }
          ],
          "scattercarpet": [
           {
            "marker": {
             "colorbar": {
              "outlinewidth": 0,
              "ticks": ""
             }
            },
            "type": "scattercarpet"
           }
          ],
          "scattergeo": [
           {
            "marker": {
             "colorbar": {
              "outlinewidth": 0,
              "ticks": ""
             }
            },
            "type": "scattergeo"
           }
          ],
          "scattergl": [
           {
            "marker": {
             "colorbar": {
              "outlinewidth": 0,
              "ticks": ""
             }
            },
            "type": "scattergl"
           }
          ],
          "scattermapbox": [
           {
            "marker": {
             "colorbar": {
              "outlinewidth": 0,
              "ticks": ""
             }
            },
            "type": "scattermapbox"
           }
          ],
          "scatterpolar": [
           {
            "marker": {
             "colorbar": {
              "outlinewidth": 0,
              "ticks": ""
             }
            },
            "type": "scatterpolar"
           }
          ],
          "scatterpolargl": [
           {
            "marker": {
             "colorbar": {
              "outlinewidth": 0,
              "ticks": ""
             }
            },
            "type": "scatterpolargl"
           }
          ],
          "scatterternary": [
           {
            "marker": {
             "colorbar": {
              "outlinewidth": 0,
              "ticks": ""
             }
            },
            "type": "scatterternary"
           }
          ],
          "surface": [
           {
            "colorbar": {
             "outlinewidth": 0,
             "ticks": ""
            },
            "colorscale": [
             [
              0,
              "#0d0887"
             ],
             [
              0.1111111111111111,
              "#46039f"
             ],
             [
              0.2222222222222222,
              "#7201a8"
             ],
             [
              0.3333333333333333,
              "#9c179e"
             ],
             [
              0.4444444444444444,
              "#bd3786"
             ],
             [
              0.5555555555555556,
              "#d8576b"
             ],
             [
              0.6666666666666666,
              "#ed7953"
             ],
             [
              0.7777777777777778,
              "#fb9f3a"
             ],
             [
              0.8888888888888888,
              "#fdca26"
             ],
             [
              1,
              "#f0f921"
             ]
            ],
            "type": "surface"
           }
          ],
          "table": [
           {
            "cells": {
             "fill": {
              "color": "#EBF0F8"
             },
             "line": {
              "color": "white"
             }
            },
            "header": {
             "fill": {
              "color": "#C8D4E3"
             },
             "line": {
              "color": "white"
             }
            },
            "type": "table"
           }
          ]
         },
         "layout": {
          "annotationdefaults": {
           "arrowcolor": "#2a3f5f",
           "arrowhead": 0,
           "arrowwidth": 1
          },
          "autotypenumbers": "strict",
          "coloraxis": {
           "colorbar": {
            "outlinewidth": 0,
            "ticks": ""
           }
          },
          "colorscale": {
           "diverging": [
            [
             0,
             "#8e0152"
            ],
            [
             0.1,
             "#c51b7d"
            ],
            [
             0.2,
             "#de77ae"
            ],
            [
             0.3,
             "#f1b6da"
            ],
            [
             0.4,
             "#fde0ef"
            ],
            [
             0.5,
             "#f7f7f7"
            ],
            [
             0.6,
             "#e6f5d0"
            ],
            [
             0.7,
             "#b8e186"
            ],
            [
             0.8,
             "#7fbc41"
            ],
            [
             0.9,
             "#4d9221"
            ],
            [
             1,
             "#276419"
            ]
           ],
           "sequential": [
            [
             0,
             "#0d0887"
            ],
            [
             0.1111111111111111,
             "#46039f"
            ],
            [
             0.2222222222222222,
             "#7201a8"
            ],
            [
             0.3333333333333333,
             "#9c179e"
            ],
            [
             0.4444444444444444,
             "#bd3786"
            ],
            [
             0.5555555555555556,
             "#d8576b"
            ],
            [
             0.6666666666666666,
             "#ed7953"
            ],
            [
             0.7777777777777778,
             "#fb9f3a"
            ],
            [
             0.8888888888888888,
             "#fdca26"
            ],
            [
             1,
             "#f0f921"
            ]
           ],
           "sequentialminus": [
            [
             0,
             "#0d0887"
            ],
            [
             0.1111111111111111,
             "#46039f"
            ],
            [
             0.2222222222222222,
             "#7201a8"
            ],
            [
             0.3333333333333333,
             "#9c179e"
            ],
            [
             0.4444444444444444,
             "#bd3786"
            ],
            [
             0.5555555555555556,
             "#d8576b"
            ],
            [
             0.6666666666666666,
             "#ed7953"
            ],
            [
             0.7777777777777778,
             "#fb9f3a"
            ],
            [
             0.8888888888888888,
             "#fdca26"
            ],
            [
             1,
             "#f0f921"
            ]
           ]
          },
          "colorway": [
           "#636efa",
           "#EF553B",
           "#00cc96",
           "#ab63fa",
           "#FFA15A",
           "#19d3f3",
           "#FF6692",
           "#B6E880",
           "#FF97FF",
           "#FECB52"
          ],
          "font": {
           "color": "#2a3f5f"
          },
          "geo": {
           "bgcolor": "white",
           "lakecolor": "white",
           "landcolor": "#E5ECF6",
           "showlakes": true,
           "showland": true,
           "subunitcolor": "white"
          },
          "hoverlabel": {
           "align": "left"
          },
          "hovermode": "closest",
          "mapbox": {
           "style": "light"
          },
          "paper_bgcolor": "white",
          "plot_bgcolor": "#E5ECF6",
          "polar": {
           "angularaxis": {
            "gridcolor": "white",
            "linecolor": "white",
            "ticks": ""
           },
           "bgcolor": "#E5ECF6",
           "radialaxis": {
            "gridcolor": "white",
            "linecolor": "white",
            "ticks": ""
           }
          },
          "scene": {
           "xaxis": {
            "backgroundcolor": "#E5ECF6",
            "gridcolor": "white",
            "gridwidth": 2,
            "linecolor": "white",
            "showbackground": true,
            "ticks": "",
            "zerolinecolor": "white"
           },
           "yaxis": {
            "backgroundcolor": "#E5ECF6",
            "gridcolor": "white",
            "gridwidth": 2,
            "linecolor": "white",
            "showbackground": true,
            "ticks": "",
            "zerolinecolor": "white"
           },
           "zaxis": {
            "backgroundcolor": "#E5ECF6",
            "gridcolor": "white",
            "gridwidth": 2,
            "linecolor": "white",
            "showbackground": true,
            "ticks": "",
            "zerolinecolor": "white"
           }
          },
          "shapedefaults": {
           "line": {
            "color": "#2a3f5f"
           }
          },
          "ternary": {
           "aaxis": {
            "gridcolor": "white",
            "linecolor": "white",
            "ticks": ""
           },
           "baxis": {
            "gridcolor": "white",
            "linecolor": "white",
            "ticks": ""
           },
           "bgcolor": "#E5ECF6",
           "caxis": {
            "gridcolor": "white",
            "linecolor": "white",
            "ticks": ""
           }
          },
          "title": {
           "x": 0.05
          },
          "xaxis": {
           "automargin": true,
           "gridcolor": "white",
           "linecolor": "white",
           "ticks": "",
           "title": {
            "standoff": 15
           },
           "zerolinecolor": "white",
           "zerolinewidth": 2
          },
          "yaxis": {
           "automargin": true,
           "gridcolor": "white",
           "linecolor": "white",
           "ticks": "",
           "title": {
            "standoff": 15
           },
           "zerolinecolor": "white",
           "zerolinewidth": 2
          }
         }
        }
       }
      },
      "text/html": [
       "<div>                            <div id=\"facbb924-02b0-45f7-affa-ef52f26ce15f\" class=\"plotly-graph-div\" style=\"height:525px; width:100%;\"></div>            <script type=\"text/javascript\">                require([\"plotly\"], function(Plotly) {                    window.PLOTLYENV=window.PLOTLYENV || {};                                    if (document.getElementById(\"facbb924-02b0-45f7-affa-ef52f26ce15f\")) {                    Plotly.newPlot(                        \"facbb924-02b0-45f7-affa-ef52f26ce15f\",                        [{\"branchvalues\":\"total\",\"customdata\":[[0.9351855641261343],[0.8770660620394684],[0.8420645398189947],[0.91954734877935],[0.8329557216791258],[0.8740795997986408],[0.10000000000000002],[0.872905874921036],[0.8644765898361565],[0.5499999999999999],[0.8882260645067453],[0.9628150713395205],[0.8723382231971484],[0.8499999999999999],[0.7746753246753245],[0.9011336886520096],[0.8604651162790697],[0.9251739257222603],[1.0],[0.1],[0.8788651877133106],[0.9269030093093744],[0.9570000000000001],[0.9520000000000001],[0.9370293328563765],[0.9955610246107484],[0.9500000000000001],[0.09],[0.7941884816753927],[0.9076051779935276],[0.869047619047619],[0.9476046548323472],[0.9294965972697617],[0.8976163168525509],[0.9152819182466179],[0.9028935605719939],[0.9062023780034681],[0.9267985765734863],[0.9316712235133291],[0.8881939550606478],[0.94],[0.9249176976072302],[0.10000000000000002],[0.10000000000000002],[0.7868936877076411],[0.8314840989399295],[0.8662946428571429],[0.8839204545454544],[0.10000000000000002],[0.7355555555555555],[0.8633397870280736],[0.8751002865329512],[0.9631428571428572],[0.8850282485875706],[0.8516216216216216],[0.7747956403269757],[0.7299999999999999],[0.782017152658662],[0.9156204259967231],[0.8984549356223177],[0.9525272766672085],[0.8007428571428571],[0.8765527112690276],[0.8629792021689606],[0.8906444985331731],[0.8778787667611861],[0.9214938164191162],[0.9060678495564163],[0.8765527112690276]],\"domain\":{\"x\":[0.0,1.0],\"y\":[0.0,1.0]},\"hovertemplate\":\"labels=%{label}<br>employment_rate_overall_pct_sum=%{value}<br>parent=%{parent}<br>id=%{id}<br>employment_rate_overall_pct=%{color}<extra></extra>\",\"ids\":[\"Nanyang Technological University/College of Business (Nanyang Business School)\",\"Nanyang Technological University/College of Engineering\",\"Nanyang Technological University/College of Humanities Arts Social Sciences\",\"Nanyang Technological University/College of Science\",\"Nanyang Technological University/College of Sciences\",\"Singapore Institute of Technology/DigiPen Institute of Technology\",\"National University of Singapore/Faculty Of Dentistry\",\"National University of Singapore/Faculty Of Engineering\",\"National University of Singapore/Faculty of Arts Social Sciences\",\"National University of Singapore/Faculty of Dentistry\",\"National University of Singapore/Faculty of Engineering\",\"National University of Singapore/Faculty of Law\",\"National University of Singapore/Faculty of Science\",\"Nanyang Technological University/Lee Kong Chian School of Medicine\",\"National University of Singapore/MultiDisciplinary Programme\",\"National University of Singapore/MultiDisciplinary Programmes\",\"National University of Singapore/Multidisciplinary Programmes\",\"National University of Singapore/NUS Business School\",\"Nanyang Technological University/National Institure of Education (NIE)\",\"Nanyang Technological University/National Institute of Education (NIE)\",\"Singapore Institute of Technology/Newcastle University\",\"Singapore University of Social Sciences/S R Nathan School of Human Development\",\"Singapore Institute of Technology/SIT DigiPen Institute of Technology\",\"Singapore Institute of Technology/SIT Massey University\",\"Singapore Institute of Technology/SIT Newcastle University\",\"Singapore Institute of Technology/SIT and SITTrinity College Dublin and Trinity College Dublin\",\"Singapore Institute of Technology/SITDigiPen Institute of Technology\",\"Singapore Institute of Technology/SITMassey University\",\"Singapore Institute of Technology/SITNewcastle University\",\"Singapore Institute of Technology/SITTrinity College Dublin and Trinity College Dublin\",\"Singapore Institute of Technology/SITUniversity of Glasgow\",\"Singapore Management University/School of Accountancy\",\"Singapore Management University/School of Business\",\"Singapore University of Social Sciences/School of Business\",\"National University of Singapore/School of Computing\",\"National University of Singapore/School of Design and Environment\",\"Singapore Management University/School of Economics\",\"Singapore Management University/School of Information Systems\",\"Singapore Management University/School of Law\",\"Singapore Management University/School of Social Sciences\",\"Singapore Institute of Technology/Singapore Institute of Technology\",\"Singapore Institute of Technology/Singapore Institute of Technology (SIT)\",\"Singapore Institute of Technology/Singapore Institute of Technology Trinity College Dublin\",\"Singapore Institute of Technology/Singapore Institute of Technology Trinity College Dublin and Trinity College Dublin\",\"Nanyang Technological University/Sports Science and Management\",\"Singapore Institute of Technology/Technische Universitt Mnchen\",\"Singapore Institute of Technology/The Culinary Institute of America\",\"Singapore Institute of Technology/The Glasgow School of Art\",\"Singapore Institute of Technology/Trinity College Dublin\",\"Singapore Institute of Technology/Trinity College Dublin and Singapore Institute of TechnologyTrinity College Dublin\",\"Singapore Institute of Technology/University of Glasgow\",\"Singapore Institute of Technology/University of Liverpool\",\"Singapore Institute of Technology/University of Manchester\",\"Singapore Institute of Technology/University of Nevada Las Vegas\",\"Singapore Institute of Technology/Wheelock College\",\"National University of Singapore/YLL School of Medicine\",\"National University of Singapore/YST Conservatory Of Music\",\"National University of Singapore/YST Conservatory of Music\",\"National University of Singapore/YaleNUS Collece)\",\"National University of Singapore/YaleNUS College\",\"National University of Singapore/Yong Loo Lin School (Medicine)\",\"National University of Singapore/Yong Siew Toh Conservatory of Music\",\"Singapore University of Technology and Design/na\",\"Nanyang Technological University\",\"National University of Singapore\",\"Singapore Institute of Technology\",\"Singapore Management University\",\"Singapore University of Social Sciences\",\"Singapore University of Technology and Design\"],\"labels\":[\"College of Business (Nanyang Business School)\",\"College of Engineering\",\"College of Humanities Arts Social Sciences\",\"College of Science\",\"College of Sciences\",\"DigiPen Institute of Technology\",\"Faculty Of Dentistry\",\"Faculty Of Engineering\",\"Faculty of Arts Social Sciences\",\"Faculty of Dentistry\",\"Faculty of Engineering\",\"Faculty of Law\",\"Faculty of Science\",\"Lee Kong Chian School of Medicine\",\"MultiDisciplinary Programme\",\"MultiDisciplinary Programmes\",\"Multidisciplinary Programmes\",\"NUS Business School\",\"National Institure of Education (NIE)\",\"National Institute of Education (NIE)\",\"Newcastle University\",\"S R Nathan School of Human Development\",\"SIT DigiPen Institute of Technology\",\"SIT Massey University\",\"SIT Newcastle University\",\"SIT and SITTrinity College Dublin and Trinity College Dublin\",\"SITDigiPen Institute of Technology\",\"SITMassey University\",\"SITNewcastle University\",\"SITTrinity College Dublin and Trinity College Dublin\",\"SITUniversity of Glasgow\",\"School of Accountancy\",\"School of Business\",\"School of Business\",\"School of Computing\",\"School of Design and Environment\",\"School of Economics\",\"School of Information Systems\",\"School of Law\",\"School of Social Sciences\",\"Singapore Institute of Technology\",\"Singapore Institute of Technology (SIT)\",\"Singapore Institute of Technology Trinity College Dublin\",\"Singapore Institute of Technology Trinity College Dublin and Trinity College Dublin\",\"Sports Science and Management\",\"Technische Universitt Mnchen\",\"The Culinary Institute of America\",\"The Glasgow School of Art\",\"Trinity College Dublin\",\"Trinity College Dublin and Singapore Institute of TechnologyTrinity College Dublin\",\"University of Glasgow\",\"University of Liverpool\",\"University of Manchester\",\"University of Nevada Las Vegas\",\"Wheelock College\",\"YLL School of Medicine\",\"YST Conservatory Of Music\",\"YST Conservatory of Music\",\"YaleNUS Collece)\",\"YaleNUS College\",\"Yong Loo Lin School (Medicine)\",\"Yong Siew Toh Conservatory of Music\",\"na\",\"Nanyang Technological University\",\"National University of Singapore\",\"Singapore Institute of Technology\",\"Singapore Management University\",\"Singapore University of Social Sciences\",\"Singapore University of Technology and Design\"],\"marker\":{\"coloraxis\":\"coloraxis\",\"colors\":[0.9351855641261343,0.8770660620394684,0.8420645398189947,0.91954734877935,0.8329557216791258,0.8740795997986408,0.10000000000000002,0.872905874921036,0.8644765898361565,0.5499999999999999,0.8882260645067453,0.9628150713395205,0.8723382231971484,0.8499999999999999,0.7746753246753245,0.9011336886520096,0.8604651162790697,0.9251739257222603,1.0,0.1,0.8788651877133106,0.9269030093093744,0.9570000000000001,0.9520000000000001,0.9370293328563765,0.9955610246107484,0.9500000000000001,0.09,0.7941884816753927,0.9076051779935276,0.869047619047619,0.9476046548323472,0.9294965972697617,0.8976163168525509,0.9152819182466179,0.9028935605719939,0.9062023780034681,0.9267985765734863,0.9316712235133291,0.8881939550606478,0.94,0.9249176976072302,0.10000000000000002,0.10000000000000002,0.7868936877076411,0.8314840989399295,0.8662946428571429,0.8839204545454544,0.10000000000000002,0.7355555555555555,0.8633397870280736,0.8751002865329512,0.9631428571428572,0.8850282485875706,0.8516216216216216,0.7747956403269757,0.7299999999999999,0.782017152658662,0.9156204259967231,0.8984549356223177,0.9525272766672085,0.8007428571428571,0.8765527112690276,0.8629792021689606,0.8906444985331731,0.8778787667611861,0.9214938164191162,0.9060678495564163,0.8765527112690276]},\"name\":\"\",\"parents\":[\"Nanyang Technological University\",\"Nanyang Technological University\",\"Nanyang Technological University\",\"Nanyang Technological University\",\"Nanyang Technological University\",\"Singapore Institute of Technology\",\"National University of Singapore\",\"National University of Singapore\",\"National University of Singapore\",\"National University of Singapore\",\"National University of Singapore\",\"National University of Singapore\",\"National University of Singapore\",\"Nanyang Technological University\",\"National University of Singapore\",\"National University of Singapore\",\"National University of Singapore\",\"National University of Singapore\",\"Nanyang Technological University\",\"Nanyang Technological University\",\"Singapore Institute of Technology\",\"Singapore University of Social Sciences\",\"Singapore Institute of Technology\",\"Singapore Institute of Technology\",\"Singapore Institute of Technology\",\"Singapore Institute of Technology\",\"Singapore Institute of Technology\",\"Singapore Institute of Technology\",\"Singapore Institute of Technology\",\"Singapore Institute of Technology\",\"Singapore Institute of Technology\",\"Singapore Management University\",\"Singapore Management University\",\"Singapore University of Social Sciences\",\"National University of Singapore\",\"National University of Singapore\",\"Singapore Management University\",\"Singapore Management University\",\"Singapore Management University\",\"Singapore Management University\",\"Singapore Institute of Technology\",\"Singapore Institute of Technology\",\"Singapore Institute of Technology\",\"Singapore Institute of Technology\",\"Nanyang Technological University\",\"Singapore Institute of Technology\",\"Singapore Institute of Technology\",\"Singapore Institute of Technology\",\"Singapore Institute of Technology\",\"Singapore Institute of Technology\",\"Singapore Institute of Technology\",\"Singapore Institute of Technology\",\"Singapore Institute of Technology\",\"Singapore Institute of Technology\",\"Singapore Institute of Technology\",\"National University of Singapore\",\"National University of Singapore\",\"National University of Singapore\",\"National University of Singapore\",\"National University of Singapore\",\"National University of Singapore\",\"National University of Singapore\",\"Singapore University of Technology and Design\",\"\",\"\",\"\",\"\",\"\",\"\"],\"type\":\"treemap\",\"values\":[50.04200000000001,161.09099999999992,92.59399999999997,6.431000000000001,69.56,31.784000000000002,0.4,31.66,36.010000000000005,2.000000000000001,82.503,14.437999999999999,43.764,1.2000000000000002,3.08,9.006,3.44,48.00900000000001,2.0,2.800000000000001,46.879999999999995,4.619,0.9570000000000001,0.9520000000000001,5.590999999999999,3.982,1.9,0.18,3.8200000000000003,6.18,2.1,25.350000000000005,24.832999999999995,11.387000000000002,41.246,44.47599999999999,24.222000000000005,23.324,21.944999999999997,25.14500000000001,3.76,26.99800000000001,0.2,0.4,4.515000000000001,16.98,8.96,21.120000000000008,0.7999999999999999,2.16,41.320000000000014,6.9799999999999995,7.700000000000001,3.54,4.4399999999999995,7.339999999999998,1.46,2.332,1.831,9.319999999999999,18.459,3.5,24.767,390.2329999999997,404.27400000000046,249.6839999999998,144.81899999999993,16.006,24.767]}],                        {\"coloraxis\":{\"colorbar\":{\"title\":{\"text\":\"employment_rate_overall_pct\"}},\"colorscale\":[[0.0,\"#0d0887\"],[0.1111111111111111,\"#46039f\"],[0.2222222222222222,\"#7201a8\"],[0.3333333333333333,\"#9c179e\"],[0.4444444444444444,\"#bd3786\"],[0.5555555555555556,\"#d8576b\"],[0.6666666666666666,\"#ed7953\"],[0.7777777777777778,\"#fb9f3a\"],[0.8888888888888888,\"#fdca26\"],[1.0,\"#f0f921\"]]},\"legend\":{\"tracegroupgap\":0},\"margin\":{\"t\":60},\"template\":{\"data\":{\"bar\":[{\"error_x\":{\"color\":\"#2a3f5f\"},\"error_y\":{\"color\":\"#2a3f5f\"},\"marker\":{\"line\":{\"color\":\"#E5ECF6\",\"width\":0.5},\"pattern\":{\"fillmode\":\"overlay\",\"size\":10,\"solidity\":0.2}},\"type\":\"bar\"}],\"barpolar\":[{\"marker\":{\"line\":{\"color\":\"#E5ECF6\",\"width\":0.5},\"pattern\":{\"fillmode\":\"overlay\",\"size\":10,\"solidity\":0.2}},\"type\":\"barpolar\"}],\"carpet\":[{\"aaxis\":{\"endlinecolor\":\"#2a3f5f\",\"gridcolor\":\"white\",\"linecolor\":\"white\",\"minorgridcolor\":\"white\",\"startlinecolor\":\"#2a3f5f\"},\"baxis\":{\"endlinecolor\":\"#2a3f5f\",\"gridcolor\":\"white\",\"linecolor\":\"white\",\"minorgridcolor\":\"white\",\"startlinecolor\":\"#2a3f5f\"},\"type\":\"carpet\"}],\"choropleth\":[{\"colorbar\":{\"outlinewidth\":0,\"ticks\":\"\"},\"type\":\"choropleth\"}],\"contour\":[{\"colorbar\":{\"outlinewidth\":0,\"ticks\":\"\"},\"colorscale\":[[0.0,\"#0d0887\"],[0.1111111111111111,\"#46039f\"],[0.2222222222222222,\"#7201a8\"],[0.3333333333333333,\"#9c179e\"],[0.4444444444444444,\"#bd3786\"],[0.5555555555555556,\"#d8576b\"],[0.6666666666666666,\"#ed7953\"],[0.7777777777777778,\"#fb9f3a\"],[0.8888888888888888,\"#fdca26\"],[1.0,\"#f0f921\"]],\"type\":\"contour\"}],\"contourcarpet\":[{\"colorbar\":{\"outlinewidth\":0,\"ticks\":\"\"},\"type\":\"contourcarpet\"}],\"heatmap\":[{\"colorbar\":{\"outlinewidth\":0,\"ticks\":\"\"},\"colorscale\":[[0.0,\"#0d0887\"],[0.1111111111111111,\"#46039f\"],[0.2222222222222222,\"#7201a8\"],[0.3333333333333333,\"#9c179e\"],[0.4444444444444444,\"#bd3786\"],[0.5555555555555556,\"#d8576b\"],[0.6666666666666666,\"#ed7953\"],[0.7777777777777778,\"#fb9f3a\"],[0.8888888888888888,\"#fdca26\"],[1.0,\"#f0f921\"]],\"type\":\"heatmap\"}],\"heatmapgl\":[{\"colorbar\":{\"outlinewidth\":0,\"ticks\":\"\"},\"colorscale\":[[0.0,\"#0d0887\"],[0.1111111111111111,\"#46039f\"],[0.2222222222222222,\"#7201a8\"],[0.3333333333333333,\"#9c179e\"],[0.4444444444444444,\"#bd3786\"],[0.5555555555555556,\"#d8576b\"],[0.6666666666666666,\"#ed7953\"],[0.7777777777777778,\"#fb9f3a\"],[0.8888888888888888,\"#fdca26\"],[1.0,\"#f0f921\"]],\"type\":\"heatmapgl\"}],\"histogram\":[{\"marker\":{\"pattern\":{\"fillmode\":\"overlay\",\"size\":10,\"solidity\":0.2}},\"type\":\"histogram\"}],\"histogram2d\":[{\"colorbar\":{\"outlinewidth\":0,\"ticks\":\"\"},\"colorscale\":[[0.0,\"#0d0887\"],[0.1111111111111111,\"#46039f\"],[0.2222222222222222,\"#7201a8\"],[0.3333333333333333,\"#9c179e\"],[0.4444444444444444,\"#bd3786\"],[0.5555555555555556,\"#d8576b\"],[0.6666666666666666,\"#ed7953\"],[0.7777777777777778,\"#fb9f3a\"],[0.8888888888888888,\"#fdca26\"],[1.0,\"#f0f921\"]],\"type\":\"histogram2d\"}],\"histogram2dcontour\":[{\"colorbar\":{\"outlinewidth\":0,\"ticks\":\"\"},\"colorscale\":[[0.0,\"#0d0887\"],[0.1111111111111111,\"#46039f\"],[0.2222222222222222,\"#7201a8\"],[0.3333333333333333,\"#9c179e\"],[0.4444444444444444,\"#bd3786\"],[0.5555555555555556,\"#d8576b\"],[0.6666666666666666,\"#ed7953\"],[0.7777777777777778,\"#fb9f3a\"],[0.8888888888888888,\"#fdca26\"],[1.0,\"#f0f921\"]],\"type\":\"histogram2dcontour\"}],\"mesh3d\":[{\"colorbar\":{\"outlinewidth\":0,\"ticks\":\"\"},\"type\":\"mesh3d\"}],\"parcoords\":[{\"line\":{\"colorbar\":{\"outlinewidth\":0,\"ticks\":\"\"}},\"type\":\"parcoords\"}],\"pie\":[{\"automargin\":true,\"type\":\"pie\"}],\"scatter\":[{\"marker\":{\"colorbar\":{\"outlinewidth\":0,\"ticks\":\"\"}},\"type\":\"scatter\"}],\"scatter3d\":[{\"line\":{\"colorbar\":{\"outlinewidth\":0,\"ticks\":\"\"}},\"marker\":{\"colorbar\":{\"outlinewidth\":0,\"ticks\":\"\"}},\"type\":\"scatter3d\"}],\"scattercarpet\":[{\"marker\":{\"colorbar\":{\"outlinewidth\":0,\"ticks\":\"\"}},\"type\":\"scattercarpet\"}],\"scattergeo\":[{\"marker\":{\"colorbar\":{\"outlinewidth\":0,\"ticks\":\"\"}},\"type\":\"scattergeo\"}],\"scattergl\":[{\"marker\":{\"colorbar\":{\"outlinewidth\":0,\"ticks\":\"\"}},\"type\":\"scattergl\"}],\"scattermapbox\":[{\"marker\":{\"colorbar\":{\"outlinewidth\":0,\"ticks\":\"\"}},\"type\":\"scattermapbox\"}],\"scatterpolar\":[{\"marker\":{\"colorbar\":{\"outlinewidth\":0,\"ticks\":\"\"}},\"type\":\"scatterpolar\"}],\"scatterpolargl\":[{\"marker\":{\"colorbar\":{\"outlinewidth\":0,\"ticks\":\"\"}},\"type\":\"scatterpolargl\"}],\"scatterternary\":[{\"marker\":{\"colorbar\":{\"outlinewidth\":0,\"ticks\":\"\"}},\"type\":\"scatterternary\"}],\"surface\":[{\"colorbar\":{\"outlinewidth\":0,\"ticks\":\"\"},\"colorscale\":[[0.0,\"#0d0887\"],[0.1111111111111111,\"#46039f\"],[0.2222222222222222,\"#7201a8\"],[0.3333333333333333,\"#9c179e\"],[0.4444444444444444,\"#bd3786\"],[0.5555555555555556,\"#d8576b\"],[0.6666666666666666,\"#ed7953\"],[0.7777777777777778,\"#fb9f3a\"],[0.8888888888888888,\"#fdca26\"],[1.0,\"#f0f921\"]],\"type\":\"surface\"}],\"table\":[{\"cells\":{\"fill\":{\"color\":\"#EBF0F8\"},\"line\":{\"color\":\"white\"}},\"header\":{\"fill\":{\"color\":\"#C8D4E3\"},\"line\":{\"color\":\"white\"}},\"type\":\"table\"}]},\"layout\":{\"annotationdefaults\":{\"arrowcolor\":\"#2a3f5f\",\"arrowhead\":0,\"arrowwidth\":1},\"autotypenumbers\":\"strict\",\"coloraxis\":{\"colorbar\":{\"outlinewidth\":0,\"ticks\":\"\"}},\"colorscale\":{\"diverging\":[[0,\"#8e0152\"],[0.1,\"#c51b7d\"],[0.2,\"#de77ae\"],[0.3,\"#f1b6da\"],[0.4,\"#fde0ef\"],[0.5,\"#f7f7f7\"],[0.6,\"#e6f5d0\"],[0.7,\"#b8e186\"],[0.8,\"#7fbc41\"],[0.9,\"#4d9221\"],[1,\"#276419\"]],\"sequential\":[[0.0,\"#0d0887\"],[0.1111111111111111,\"#46039f\"],[0.2222222222222222,\"#7201a8\"],[0.3333333333333333,\"#9c179e\"],[0.4444444444444444,\"#bd3786\"],[0.5555555555555556,\"#d8576b\"],[0.6666666666666666,\"#ed7953\"],[0.7777777777777778,\"#fb9f3a\"],[0.8888888888888888,\"#fdca26\"],[1.0,\"#f0f921\"]],\"sequentialminus\":[[0.0,\"#0d0887\"],[0.1111111111111111,\"#46039f\"],[0.2222222222222222,\"#7201a8\"],[0.3333333333333333,\"#9c179e\"],[0.4444444444444444,\"#bd3786\"],[0.5555555555555556,\"#d8576b\"],[0.6666666666666666,\"#ed7953\"],[0.7777777777777778,\"#fb9f3a\"],[0.8888888888888888,\"#fdca26\"],[1.0,\"#f0f921\"]]},\"colorway\":[\"#636efa\",\"#EF553B\",\"#00cc96\",\"#ab63fa\",\"#FFA15A\",\"#19d3f3\",\"#FF6692\",\"#B6E880\",\"#FF97FF\",\"#FECB52\"],\"font\":{\"color\":\"#2a3f5f\"},\"geo\":{\"bgcolor\":\"white\",\"lakecolor\":\"white\",\"landcolor\":\"#E5ECF6\",\"showlakes\":true,\"showland\":true,\"subunitcolor\":\"white\"},\"hoverlabel\":{\"align\":\"left\"},\"hovermode\":\"closest\",\"mapbox\":{\"style\":\"light\"},\"paper_bgcolor\":\"white\",\"plot_bgcolor\":\"#E5ECF6\",\"polar\":{\"angularaxis\":{\"gridcolor\":\"white\",\"linecolor\":\"white\",\"ticks\":\"\"},\"bgcolor\":\"#E5ECF6\",\"radialaxis\":{\"gridcolor\":\"white\",\"linecolor\":\"white\",\"ticks\":\"\"}},\"scene\":{\"xaxis\":{\"backgroundcolor\":\"#E5ECF6\",\"gridcolor\":\"white\",\"gridwidth\":2,\"linecolor\":\"white\",\"showbackground\":true,\"ticks\":\"\",\"zerolinecolor\":\"white\"},\"yaxis\":{\"backgroundcolor\":\"#E5ECF6\",\"gridcolor\":\"white\",\"gridwidth\":2,\"linecolor\":\"white\",\"showbackground\":true,\"ticks\":\"\",\"zerolinecolor\":\"white\"},\"zaxis\":{\"backgroundcolor\":\"#E5ECF6\",\"gridcolor\":\"white\",\"gridwidth\":2,\"linecolor\":\"white\",\"showbackground\":true,\"ticks\":\"\",\"zerolinecolor\":\"white\"}},\"shapedefaults\":{\"line\":{\"color\":\"#2a3f5f\"}},\"ternary\":{\"aaxis\":{\"gridcolor\":\"white\",\"linecolor\":\"white\",\"ticks\":\"\"},\"baxis\":{\"gridcolor\":\"white\",\"linecolor\":\"white\",\"ticks\":\"\"},\"bgcolor\":\"#E5ECF6\",\"caxis\":{\"gridcolor\":\"white\",\"linecolor\":\"white\",\"ticks\":\"\"}},\"title\":{\"x\":0.05},\"xaxis\":{\"automargin\":true,\"gridcolor\":\"white\",\"linecolor\":\"white\",\"ticks\":\"\",\"title\":{\"standoff\":15},\"zerolinecolor\":\"white\",\"zerolinewidth\":2},\"yaxis\":{\"automargin\":true,\"gridcolor\":\"white\",\"linecolor\":\"white\",\"ticks\":\"\",\"title\":{\"standoff\":15},\"zerolinecolor\":\"white\",\"zerolinewidth\":2}}}},                        {\"responsive\": true}                    ).then(function(){\n",
       "                            \n",
       "var gd = document.getElementById('facbb924-02b0-45f7-affa-ef52f26ce15f');\n",
       "var x = new MutationObserver(function (mutations, observer) {{\n",
       "        var display = window.getComputedStyle(gd).display;\n",
       "        if (!display || display === 'none') {{\n",
       "            console.log([gd, 'removed!']);\n",
       "            Plotly.purge(gd);\n",
       "            observer.disconnect();\n",
       "        }}\n",
       "}});\n",
       "\n",
       "// Listen for the removal of the full notebook cells\n",
       "var notebookContainer = gd.closest('#notebook-container');\n",
       "if (notebookContainer) {{\n",
       "    x.observe(notebookContainer, {childList: true});\n",
       "}}\n",
       "\n",
       "// Listen for the clearing of the current output cell\n",
       "var outputEl = gd.closest('.output');\n",
       "if (outputEl) {{\n",
       "    x.observe(outputEl, {childList: true});\n",
       "}}\n",
       "\n",
       "                        })                };                });            </script>        </div>"
      ]
     },
     "metadata": {},
     "output_type": "display_data"
    }
   ],
   "source": [
    "fig1 = px.treemap(df, \n",
    "                 path=['university', 'school'], \n",
    "                 values='employment_rate_overall_pct',\n",
    "                 color='employment_rate_overall_pct'\n",
    "                )\n",
    "fig1.show()"
   ]
  },
  {
   "cell_type": "code",
   "execution_count": 12,
   "metadata": {},
   "outputs": [
    {
     "data": {
      "application/vnd.plotly.v1+json": {
       "config": {
        "plotlyServerURL": "https://plot.ly"
       },
       "data": [
        {
         "branchvalues": "total",
         "customdata": [
          [
           3164.4553422182066
          ],
          [
           3475.0278472248933
          ],
          [
           3010.5386663707977
          ],
          [
           3977.1515432462957
          ],
          [
           4073.6618981490287
          ],
          [
           3736.4531546391754
          ],
          [
           2906.319976585781
          ],
          [
           3618
          ],
          [
           3477.800303521901
          ],
          [
           3408.782929487717
          ],
          [
           3291.6046348314608
          ],
          [
           3344.113608622556
          ],
          [
           3380
          ],
          [
           2909.0202270381837
          ],
          [
           3121
          ],
          [
           3142.3908417079715
          ],
          [
           2991.742485238862
          ],
          [
           3018.75071703315
          ],
          [
           4086.320418615008
          ],
          [
           3272.4457796911024
          ],
          [
           3489
          ],
          [
           3119
          ],
          [
           3286
          ],
          [
           3042
          ],
          [
           3206
          ],
          [
           3042
          ],
          [
           3107
          ],
          [
           3353
          ],
          [
           3263
          ],
          [
           3083.536723286718
          ],
          [
           3072.22140140433
          ],
          [
           4089.4182187368715
          ],
          [
           2747.6415896937287
          ],
          [
           3795.730573710966
          ],
          [
           2632.3848984771575
          ],
          [
           3530
          ],
          [
           3749.8849781627337
          ],
          [
           3288.677215846598
          ],
          [
           3584.3366775854
          ],
          [
           4147.086350479455
          ],
          [
           2588.690434782609
          ],
          [
           3134
          ],
          [
           3232.048002477547
          ],
          [
           4510.659262831138
          ],
          [
           3238.8309830159546
          ],
          [
           4620
          ],
          [
           3947.4656539307452
          ],
          [
           4109.417867341641
          ],
          [
           2879
          ],
          [
           2823
          ],
          [
           3290.953322710657
          ],
          [
           3539.4741710329695
          ],
          [
           3402.9804718964265
          ],
          [
           4101.757978287251
          ],
          [
           3626.3433928769555
          ],
          [
           3729.122768892687
          ],
          [
           3708.7518450766415
          ],
          [
           3839.9826691007374
          ],
          [
           3363.2873583745063
          ],
          [
           3645
          ],
          [
           3326
          ],
          [
           3373
          ],
          [
           3667
          ],
          [
           4078
          ],
          [
           3532
          ],
          [
           3538
          ],
          [
           3685
          ],
          [
           3288
          ],
          [
           3422
          ],
          [
           3829.6029143897995
          ],
          [
           4297.83651417047
          ],
          [
           3325.943157894737
          ],
          [
           3386.5984719174185
          ],
          [
           3475.7468588607107
          ],
          [
           3326
          ],
          [
           3931
          ],
          [
           3272.9037466044797
          ],
          [
           3374.1585480907693
          ],
          [
           3133.4428343362397
          ],
          [
           3346.5885344429034
          ],
          [
           4118.115946956817
          ],
          [
           4033.1982017783516
          ],
          [
           3436.5138039568346
          ],
          [
           3401.7209439528024
          ],
          [
           3187.606507089201
          ],
          [
           3430.3972856863893
          ],
          [
           3294.5741707404645
          ],
          [
           3413.201968197785
          ],
          [
           3268.2422727736407
          ],
          [
           3585
          ],
          [
           3433
          ],
          [
           3757.5328432155984
          ],
          [
           4044
          ],
          [
           3884.364269141531
          ],
          [
           3349.169851887243
          ],
          [
           3251
          ],
          [
           2862
          ],
          [
           2927.8118974358977
          ],
          [
           2795.181083265966
          ],
          [
           2995.379341050757
          ],
          [
           2891.6115702479337
          ],
          [
           2943.6685539576492
          ],
          [
           5007.011415525114
          ],
          [
           4915.769113383183
          ],
          [
           4367
          ],
          [
           4460
          ],
          [
           4491.515948303304
          ],
          [
           4406
          ],
          [
           3007.7704737652866
          ],
          [
           2378.7404210526315
          ],
          [
           2977.7551602542508
          ],
          [
           3888.094809403776
          ],
          [
           4551.465566737121
          ],
          [
           4563
          ],
          [
           4417
          ],
          [
           3331.417481956696
          ],
          [
           3610
          ],
          [
           3279
          ],
          [
           3372
          ],
          [
           3177
          ],
          [
           3035
          ],
          [
           3517
          ],
          [
           3504
          ],
          [
           3367
          ],
          [
           2480.4939516129034
          ],
          [
           3097.4957571308273
          ],
          [
           3234.666205358065
          ],
          [
           3562.7022864019254
          ],
          [
           3457.0995082441423
          ],
          [
           3500
          ],
          [
           3100.2487298716956
          ],
          [
           3186.2565854478944
          ],
          [
           2977.2481612486667
          ],
          [
           3445.9220696263174
          ],
          [
           3839.6459924053734
          ],
          [
           2760.4524190033417
          ],
          [
           3237.807749627422
          ],
          [
           3542.892879362027
          ],
          [
           2994.2002406095444
          ],
          [
           3125
          ],
          [
           5662.630989372536
          ],
          [
           3781.2555348092824
          ],
          [
           2744.452436533411
          ],
          [
           3396.0607490415805
          ],
          [
           3357.869364334153
          ],
          [
           3362.2721527791578
          ],
          [
           3443
          ],
          [
           3212.4358530486634
          ],
          [
           3147.6330223560813
          ],
          [
           2904.7364795039616
          ],
          [
           2840
          ],
          [
           2681.71875
          ],
          [
           2952.5447925486874
          ],
          [
           3636.384906403941
          ],
          [
           3213.443336449569
          ],
          [
           3783.295178909722
          ],
          [
           4231.931685265387
          ],
          [
           4085.919217757241
          ],
          [
           3248.495378927911
          ],
          [
           3463.6099491601776
          ],
          [
           3103.0995333598094
          ],
          [
           3068.271306139888
          ],
          [
           3321.3934479553905
          ],
          [
           3029.102306869685
          ],
          [
           3680.2271343064162
          ],
          [
           3783.7747992588015
          ],
          [
           3830
          ],
          [
           5036
          ],
          [
           2722
          ],
          [
           5216
          ],
          [
           4459
          ],
          [
           3371.643256112078
          ],
          [
           3839.5826925424144
          ],
          [
           4296.701991509552
          ],
          [
           3394.707424867413
          ],
          [
           3519.822542195099
          ],
          [
           3118.5244098380917
          ],
          [
           3347
          ],
          [
           3483.2235846345434
          ],
          [
           3315.0395643269408
          ],
          [
           3401.2205435516544
          ],
          [
           3387.240579281809
          ],
          [
           3603.375993269141
          ],
          [
           4307.499767333644
          ],
          [
           4834.315678229516
          ],
          [
           3627.493967902601
          ],
          [
           4052.968015892724
          ],
          [
           3608
          ],
          [
           4861.235055223983
          ],
          [
           5114.462303890244
          ],
          [
           3343.703382220892
          ],
          [
           3021.2650121238053
          ],
          [
           3305.881869926285
          ],
          [
           3307.7636686362894
          ],
          [
           3151.2505029115932
          ],
          [
           3640.593101822753
          ],
          [
           3479.5738225946257
          ],
          [
           3388.8532193732194
          ],
          [
           4880.789193250906
          ],
          [
           3218.4178760510745
          ],
          [
           3398.510514684104
          ],
          [
           3210.6800576299675
          ],
          [
           3756
          ],
          [
           3678.1114548266764
          ],
          [
           3600
          ],
          [
           3499.371110417317
          ],
          [
           3286.4831780643585
          ],
          [
           3609.487192328381
          ],
          [
           3218.1071865040376
          ],
          [
           3172
          ],
          [
           3190.1176033813113
          ],
          [
           3413.1898969533418
          ],
          [
           3689.327793519007
          ],
          [
           3289.1000197200447
          ],
          [
           4125.277015068231
          ],
          [
           3141.465625763872
          ],
          [
           3959.988214700891
          ]
         ],
         "domain": {
          "x": [
           0,
           1
          ],
          "y": [
           0,
           1
          ]
         },
         "hovertemplate": "labels=%{label}<br>basic_monthly_mean_sum=%{value}<br>parent=%{parent}<br>id=%{id}<br>basic_monthly_mean=%{color}<extra></extra>",
         "ids": [
          "Nanyang Technological University/Accountancy",
          "Singapore Management University/Accountancy",
          "Nanyang Technological University/Accountancy (3yr direct Honours Programme)",
          "Singapore Management University/Accountancy Cum Laude and above",
          "Nanyang Technological University/Accountancy and Business",
          "Nanyang Technological University/Aerospace Engineering",
          "Nanyang Technological University/Art Design and Media",
          "Nanyang Technological University/Arts (With Education)",
          "Nanyang Technological University/Arts (with Education)",
          "Singapore Institute of Technology/Bachelor in Science (Diagnostic Radiography)",
          "Singapore Institute of Technology/Bachelor in Science (Occupational Therapy)",
          "Singapore Institute of Technology/Bachelor in Science (Physiotherapy)",
          "Singapore Institute of Technology/Bachelor in Science (Radiation Therapy)",
          "Singapore University of Social Sciences/Bachelor of Accountancy",
          "Nanyang Technological University/Bachelor of Accountancy (Hons)",
          "Singapore Institute of Technology/Bachelor of Accountancy with Honours",
          "National University of Singapore/Bachelor of Applied Science (Hons)",
          "National University of Singapore/Bachelor of Arts",
          "National University of Singapore/Bachelor of Arts (Architecture)",
          "National University of Singapore/Bachelor of Arts (Hons)",
          "Nanyang Technological University/Bachelor of Arts (Hons) (Education)",
          "Nanyang Technological University/Bachelor of Arts (Hons) in Chinese",
          "Nanyang Technological University/Bachelor of Arts (Hons) in Economics",
          "Nanyang Technological University/Bachelor of Arts (Hons) in English",
          "Nanyang Technological University/Bachelor of Arts (Hons) in History",
          "Nanyang Technological University/Bachelor of Arts (Hons) in Linguistics And Multilingual Studies",
          "Nanyang Technological University/Bachelor of Arts (Hons) in Psychology",
          "Nanyang Technological University/Bachelor of Arts (Hons) in Public Policy And Global Affairs",
          "Nanyang Technological University/Bachelor of Arts (Hons) in Sociology",
          "National University of Singapore/Bachelor of Arts (Industrial Design)",
          "Singapore Institute of Technology/Bachelor of Arts in Game Design",
          "National University of Singapore/Bachelor of Arts with Honours",
          "Singapore Institute of Technology/Bachelor of Arts with Honours in Communication Design",
          "Singapore Institute of Technology/Bachelor of Arts with Honours in Criminology and Security",
          "Singapore Institute of Technology/Bachelor of Arts with Honours in Interior Design",
          "Nanyang Technological University/Bachelor of Business (Hons)",
          "National University of Singapore/Bachelor of Business Administration",
          "National University of Singapore/Bachelor of Business Administration (Accountancy)",
          "National University of Singapore/Bachelor of Business Administration (Accountancy) (Hons)",
          "National University of Singapore/Bachelor of Business Administration (Hons)",
          "Singapore Institute of Technology/Bachelor of Business Administration in Food Business Management",
          "Nanyang Technological University/Bachelor of Communication Studies (Hons)",
          "National University of Singapore/Bachelor of Computing (Communications and Media)",
          "National University of Singapore/Bachelor of Computing (Computer Science)",
          "National University of Singapore/Bachelor of Computing (Electronic Commerce)",
          "National University of Singapore/Bachelor of Computing (Information Security)",
          "National University of Singapore/Bachelor of Computing (Information Systems)",
          "National University of Singapore/Bachelor of Dental Surgery",
          "Singapore University of Social Sciences/Bachelor of Early Childhood Education",
          "National University of Singapore/Bachelor of Engineering (Bioengineering)",
          "National University of Singapore/Bachelor of Engineering (Biomedical Engineering)",
          "National University of Singapore/Bachelor of Engineering (Chemical Engineering)",
          "National University of Singapore/Bachelor of Engineering (Civil Engineering)",
          "National University of Singapore/Bachelor of Engineering (Computer Engineering)",
          "National University of Singapore/Bachelor of Engineering (Electrical Engineering)",
          "Singapore University of Technology and Design/Bachelor of Engineering (Engineering Product Development)",
          "National University of Singapore/Bachelor of Engineering (Engineering Science)",
          "Singapore University of Technology and Design/Bachelor of Engineering (Engineering Systems and Design)",
          "National University of Singapore/Bachelor of Engineering (Environmental Engineering)",
          "Nanyang Technological University/Bachelor of Engineering (Hons) (Aerospace Engineering)",
          "Nanyang Technological University/Bachelor of Engineering (Hons) (Bioengineering)",
          "Nanyang Technological University/Bachelor of Engineering (Hons) (Civil Engineering)",
          "Nanyang Technological University/Bachelor of Engineering (Hons) (Computer Engineering)",
          "Nanyang Technological University/Bachelor of Engineering (Hons) (Computer Science)",
          "Nanyang Technological University/Bachelor of Engineering (Hons) (Electrical and Electronic Engineering)",
          "Nanyang Technological University/Bachelor of Engineering (Hons) (Environmental Engineering)",
          "Nanyang Technological University/Bachelor of Engineering (Hons) (Information Engineering and Media)",
          "Nanyang Technological University/Bachelor of Engineering (Hons) (Materials Engineering)",
          "Nanyang Technological University/Bachelor of Engineering (Hons) (Mechanical Engineering)",
          "National University of Singapore/Bachelor of Engineering (Industrial and Systems Engineering)",
          "Singapore University of Technology and Design/Bachelor of Engineering (Information Systems Technology and Design)",
          "National University of Singapore/Bachelor of Engineering (Materials Science And Engineering)",
          "National University of Singapore/Bachelor of Engineering (Materials Science and Engineering)",
          "National University of Singapore/Bachelor of Engineering (Mechanical Engineering)",
          "Nanyang Technological University/Bachelor of Engineering and (Hons) (Chemical And Biomolecular Engineering)",
          "Singapore Institute of Technology/Bachelor of Engineering in Systems Engineering (ElectroMechanical Systems)",
          "Singapore Institute of Technology/Bachelor of Engineering with Honours in Aeronautical Engineering",
          "Singapore Institute of Technology/Bachelor of Engineering with Honours in Aerospace Systems",
          "Singapore Institute of Technology/Bachelor of Engineering with Honours in Chemical Engineering",
          "Singapore Institute of Technology/Bachelor of Engineering with Honours in Electrical Power Engineering",
          "Singapore Institute of Technology/Bachelor of Engineering with Honours in Information and Communications Technology (Information Security)",
          "Singapore Institute of Technology/Bachelor of Engineering with Honours in Information and Communications Technology (Software Engineering)",
          "Singapore Institute of Technology/Bachelor of Engineering with Honours in Marine Engineering",
          "Singapore Institute of Technology/Bachelor of Engineering with Honours in Mechanical Design Engineering",
          "Singapore Institute of Technology/Bachelor of Engineering with Honours in Mechanical Design and Manufacturing Engineering",
          "Singapore Institute of Technology/Bachelor of Engineering with Honours in Mechatronics",
          "Singapore Institute of Technology/Bachelor of Engineering with Honours in Naval Architecture",
          "Singapore Institute of Technology/Bachelor of Engineering with Honours in Offshore Engineering",
          "Singapore Institute of Technology/Bachelor of Engineering with Honours in Pharmaceutical Engineering",
          "Singapore Institute of Technology/Bachelor of Engineering with Honours in Sustainable Infrastructure",
          "Singapore Institute of Technology/Bachelor of Engineering with Honours in Sustainable Infrastructure Engineering (Building Services)",
          "Singapore Institute of Technology/Bachelor of Engineering with Honours in Sustainable Infrastructure Engineering (Land)",
          "Singapore Institute of Technology/Bachelor of Engineering with Honours in Systems Engineering (ElectroMechanical Systems)",
          "Singapore Institute of Technology/Bachelor of Engineering with Honours in Telematics (Intelligent Transportation Systems Engineering)",
          "National University of Singapore/Bachelor of Environmental Studies",
          "National University of Singapore/Bachelor of Environmental Studies7",
          "Nanyang Technological University/Bachelor of Fine Arts (Hons)",
          "Singapore Institute of Technology/Bachelor of Fine Arts in Digital Art and Animation",
          "Singapore Institute of Technology/Bachelor of Fine Arts in Digital Arts Animation",
          "Singapore Institute of Technology/Bachelor of Food Technology with Honours",
          "Singapore Institute of Technology/Bachelor of Hospitality Business with Honours",
          "Singapore University of Social Sciences/Bachelor of Human Resource Management",
          "National University of Singapore/Bachelor of Laws",
          "National University of Singapore/Bachelor of Laws (LLB) (Hons)",
          "National University of Singapore/Bachelor of Medicine And Bachelor Of Surgery",
          "National University of Singapore/Bachelor of Medicine and Bachelor Of Surgery",
          "National University of Singapore/Bachelor of Medicine and Bachelor of Surgery",
          "National University of Singapore/Bachelor of Medicine and Bachelor of Surgery (MBBS)",
          "National University of Singapore/Bachelor of Music",
          "Singapore Institute of Technology/Bachelor of Professional Studies in Culinary Arts Management",
          "National University of Singapore/Bachelor of Science",
          "Singapore University of Technology and Design/Bachelor of Science (Architecture and Sustainable Design)",
          "National University of Singapore/Bachelor of Science (Business Analytics)",
          "National University of Singapore/Bachelor of Science (Computational Biology)",
          "National University of Singapore/Bachelor of Science (Data Science and Analytics)",
          "National University of Singapore/Bachelor of Science (Hons)",
          "Nanyang Technological University/Bachelor of Science (Hons) (Education)",
          "Nanyang Technological University/Bachelor of Science (Hons) (Maritime Studies)",
          "Nanyang Technological University/Bachelor of Science (Hons) (Sport Science and Management)",
          "Nanyang Technological University/Bachelor of Science (Hons) in Biological Sciences",
          "Nanyang Technological University/Bachelor of Science (Hons) in Chemistry and Biological Chemistry",
          "Nanyang Technological University/Bachelor of Science (Hons) in Mathematical Sciences",
          "Nanyang Technological University/Bachelor of Science (Hons) in Mathematics and Economics",
          "Nanyang Technological University/Bachelor of Science (Hons) in PhysicsApplied Physics",
          "Singapore Institute of Technology/Bachelor of Science (Major in Hospitality Management)",
          "National University of Singapore/Bachelor of Science (Nursing)",
          "National University of Singapore/Bachelor of Science (Nursing) (Hons)",
          "National University of Singapore/Bachelor of Science (Pharmacy)",
          "National University of Singapore/Bachelor of Science (Pharmacy) (Hons)",
          "National University of Singapore/Bachelor of Science (Pharmacy)(Hons)",
          "National University of Singapore/Bachelor of Science (Project and Facilities Management)",
          "National University of Singapore/Bachelor of Science (Real Estate)",
          "Singapore Institute of Technology/Bachelor of Science in Chemical Engineering",
          "Singapore Institute of Technology/Bachelor of Science in Computer Science and Game Design",
          "Singapore Institute of Technology/Bachelor of Science in Computer Science in RealTime Interactive Simulation",
          "Singapore Institute of Technology/Bachelor of Science in Early Childhood Education",
          "Singapore Institute of Technology/Bachelor of Science in Electrical Engineering and Information Technology",
          "Singapore University of Social Sciences/Bachelor of Science in Finance",
          "Singapore University of Social Sciences/Bachelor of Science in Marketing",
          "Singapore University of Social Sciences/Bachelor of Science in Supply Chain Management",
          "National University of Singapore/Bachelor of Science with Honours",
          "Singapore Institute of Technology/Bachelor of Science with Honours in Computing Science",
          "Singapore Institute of Technology/Bachelor of Science with Honours in Food and Human Nutrition",
          "Singapore Institute of Technology/Bachelor of Science with Honours in Nursing",
          "Singapore Institute of Technology/Bachelor of Science with Honours in Nursing Practice",
          "National University of Singapore/Bachelor of Social Sciences",
          "Singapore University of Social Sciences/Bachelor of Social Work",
          "Nanyang Technological University/Bioengineering",
          "Nanyang Technological University/Biological Sciences",
          "Nanyang Technological University/Biomedical Science (Traditional Chinese Medicine)",
          "Nanyang Technological University/Biomedical Sciences (Traditional Chinese Medicine)",
          "Nanyang Technological University/Biomedical Sciences and Chinese Medicine",
          "Nanyang Technological University/Biomedical Sciences and Chinese Medicine ",
          "Nanyang Technological University/Business",
          "Nanyang Technological University/Business (3yr direct Honours Programme)",
          "Singapore Management University/Business Management",
          "Singapore Management University/Business Management Cum Laude and above",
          "Nanyang Technological University/Business and Computing",
          "Nanyang Technological University/Chemical And Biomolecular Engineering",
          "Nanyang Technological University/Chemical and Biomolecular Engineering",
          "Nanyang Technological University/Chemistry and Biological Chemistry",
          "Nanyang Technological University/Chinese",
          "Nanyang Technological University/Civil Engineering",
          "Nanyang Technological University/Communication Studies",
          "Nanyang Technological University/Computer Engineering",
          "Nanyang Technological University/Computer Science",
          "Nanyang Technological University/Double Degree in Bachelor of Accountancy (Hons) and Bachelor of Business (Hons)",
          "Nanyang Technological University/Double Degree in Bachelor of Business (Hons) and Bachelor of Engineering (Hons) (Computer Science)",
          "Nanyang Technological University/Double Degree in Bachelor of Science (Hons) in Biomedical Sciences and Bachelor of Medicine (Chinese Medicine)",
          "Nanyang Technological University/Double Degree in Business and Computer",
          "Nanyang Technological University/Double Degree in Engineering and Economics",
          "Nanyang Technological University/Economics",
          "Singapore Management University/Economics",
          "Singapore Management University/Economics Cum Laude and above",
          "Nanyang Technological University/Electrical And Electronic Engineering",
          "Nanyang Technological University/Electrical and Electronic Engineering",
          "Nanyang Technological University/English",
          "Nanyang Technological University/Environmental Earth Systems Science",
          "Nanyang Technological University/Environmental Earth Systems Sciences",
          "Nanyang Technological University/Environmental Engineering",
          "Nanyang Technological University/History",
          "Nanyang Technological University/Information Engineering And Media",
          "Nanyang Technological University/Information Engineering and Media",
          "Singapore Management University/Information Systems",
          "Singapore Management University/Information Systems Cum Laude and above",
          "Singapore Management University/Information Systems Management",
          "Singapore Management University/Information Systems Management Cum Laude and above",
          "Nanyang Technological University/InterDisciplinary Double Major",
          "Singapore Management University/Law",
          "Singapore Management University/Law Cum Laude and above",
          "Nanyang Technological University/Linguistics And Multilingual Studies",
          "Nanyang Technological University/Linguistics and Multilingual Studies",
          "Nanyang Technological University/Maritime Studies",
          "Nanyang Technological University/Materials Engineering",
          "Nanyang Technological University/Mathematical Science",
          "Nanyang Technological University/Mathematical Sciences",
          "Nanyang Technological University/Mathematics and Economics",
          "Nanyang Technological University/Mechanical Engineering",
          "Nanyang Technological University/Medicine",
          "Nanyang Technological University/Philosophy",
          "Nanyang Technological University/Physics and Applied Physics",
          "Nanyang Technological University/Psychology",
          "Nanyang Technological University/Public Policy And Global Affairs",
          "Nanyang Technological University/Public Policy and Global Affairs",
          "Nanyang Technological University/Science (With Education)",
          "Nanyang Technological University/Science (with Education)",
          "Singapore Management University/Social Sciences",
          "Singapore Management University/Social Sciences Cum Laude and above",
          "Nanyang Technological University/Sociology",
          "Nanyang Technological University/Sport Science and Management",
          "Nanyang Technological University/Sports Science and Management",
          "Nanyang Technological University",
          "National University of Singapore",
          "Singapore Institute of Technology",
          "Singapore Management University",
          "Singapore University of Social Sciences",
          "Singapore University of Technology and Design"
         ],
         "labels": [
          "Accountancy",
          "Accountancy",
          "Accountancy (3yr direct Honours Programme)",
          "Accountancy Cum Laude and above",
          "Accountancy and Business",
          "Aerospace Engineering",
          "Art Design and Media",
          "Arts (With Education)",
          "Arts (with Education)",
          "Bachelor in Science (Diagnostic Radiography)",
          "Bachelor in Science (Occupational Therapy)",
          "Bachelor in Science (Physiotherapy)",
          "Bachelor in Science (Radiation Therapy)",
          "Bachelor of Accountancy",
          "Bachelor of Accountancy (Hons)",
          "Bachelor of Accountancy with Honours",
          "Bachelor of Applied Science (Hons)",
          "Bachelor of Arts",
          "Bachelor of Arts (Architecture)",
          "Bachelor of Arts (Hons)",
          "Bachelor of Arts (Hons) (Education)",
          "Bachelor of Arts (Hons) in Chinese",
          "Bachelor of Arts (Hons) in Economics",
          "Bachelor of Arts (Hons) in English",
          "Bachelor of Arts (Hons) in History",
          "Bachelor of Arts (Hons) in Linguistics And Multilingual Studies",
          "Bachelor of Arts (Hons) in Psychology",
          "Bachelor of Arts (Hons) in Public Policy And Global Affairs",
          "Bachelor of Arts (Hons) in Sociology",
          "Bachelor of Arts (Industrial Design)",
          "Bachelor of Arts in Game Design",
          "Bachelor of Arts with Honours",
          "Bachelor of Arts with Honours in Communication Design",
          "Bachelor of Arts with Honours in Criminology and Security",
          "Bachelor of Arts with Honours in Interior Design",
          "Bachelor of Business (Hons)",
          "Bachelor of Business Administration",
          "Bachelor of Business Administration (Accountancy)",
          "Bachelor of Business Administration (Accountancy) (Hons)",
          "Bachelor of Business Administration (Hons)",
          "Bachelor of Business Administration in Food Business Management",
          "Bachelor of Communication Studies (Hons)",
          "Bachelor of Computing (Communications and Media)",
          "Bachelor of Computing (Computer Science)",
          "Bachelor of Computing (Electronic Commerce)",
          "Bachelor of Computing (Information Security)",
          "Bachelor of Computing (Information Systems)",
          "Bachelor of Dental Surgery",
          "Bachelor of Early Childhood Education",
          "Bachelor of Engineering (Bioengineering)",
          "Bachelor of Engineering (Biomedical Engineering)",
          "Bachelor of Engineering (Chemical Engineering)",
          "Bachelor of Engineering (Civil Engineering)",
          "Bachelor of Engineering (Computer Engineering)",
          "Bachelor of Engineering (Electrical Engineering)",
          "Bachelor of Engineering (Engineering Product Development)",
          "Bachelor of Engineering (Engineering Science)",
          "Bachelor of Engineering (Engineering Systems and Design)",
          "Bachelor of Engineering (Environmental Engineering)",
          "Bachelor of Engineering (Hons) (Aerospace Engineering)",
          "Bachelor of Engineering (Hons) (Bioengineering)",
          "Bachelor of Engineering (Hons) (Civil Engineering)",
          "Bachelor of Engineering (Hons) (Computer Engineering)",
          "Bachelor of Engineering (Hons) (Computer Science)",
          "Bachelor of Engineering (Hons) (Electrical and Electronic Engineering)",
          "Bachelor of Engineering (Hons) (Environmental Engineering)",
          "Bachelor of Engineering (Hons) (Information Engineering and Media)",
          "Bachelor of Engineering (Hons) (Materials Engineering)",
          "Bachelor of Engineering (Hons) (Mechanical Engineering)",
          "Bachelor of Engineering (Industrial and Systems Engineering)",
          "Bachelor of Engineering (Information Systems Technology and Design)",
          "Bachelor of Engineering (Materials Science And Engineering)",
          "Bachelor of Engineering (Materials Science and Engineering)",
          "Bachelor of Engineering (Mechanical Engineering)",
          "Bachelor of Engineering and (Hons) (Chemical And Biomolecular Engineering)",
          "Bachelor of Engineering in Systems Engineering (ElectroMechanical Systems)",
          "Bachelor of Engineering with Honours in Aeronautical Engineering",
          "Bachelor of Engineering with Honours in Aerospace Systems",
          "Bachelor of Engineering with Honours in Chemical Engineering",
          "Bachelor of Engineering with Honours in Electrical Power Engineering",
          "Bachelor of Engineering with Honours in Information and Communications Technology (Information Security)",
          "Bachelor of Engineering with Honours in Information and Communications Technology (Software Engineering)",
          "Bachelor of Engineering with Honours in Marine Engineering",
          "Bachelor of Engineering with Honours in Mechanical Design Engineering",
          "Bachelor of Engineering with Honours in Mechanical Design and Manufacturing Engineering",
          "Bachelor of Engineering with Honours in Mechatronics",
          "Bachelor of Engineering with Honours in Naval Architecture",
          "Bachelor of Engineering with Honours in Offshore Engineering",
          "Bachelor of Engineering with Honours in Pharmaceutical Engineering",
          "Bachelor of Engineering with Honours in Sustainable Infrastructure",
          "Bachelor of Engineering with Honours in Sustainable Infrastructure Engineering (Building Services)",
          "Bachelor of Engineering with Honours in Sustainable Infrastructure Engineering (Land)",
          "Bachelor of Engineering with Honours in Systems Engineering (ElectroMechanical Systems)",
          "Bachelor of Engineering with Honours in Telematics (Intelligent Transportation Systems Engineering)",
          "Bachelor of Environmental Studies",
          "Bachelor of Environmental Studies7",
          "Bachelor of Fine Arts (Hons)",
          "Bachelor of Fine Arts in Digital Art and Animation",
          "Bachelor of Fine Arts in Digital Arts Animation",
          "Bachelor of Food Technology with Honours",
          "Bachelor of Hospitality Business with Honours",
          "Bachelor of Human Resource Management",
          "Bachelor of Laws",
          "Bachelor of Laws (LLB) (Hons)",
          "Bachelor of Medicine And Bachelor Of Surgery",
          "Bachelor of Medicine and Bachelor Of Surgery",
          "Bachelor of Medicine and Bachelor of Surgery",
          "Bachelor of Medicine and Bachelor of Surgery (MBBS)",
          "Bachelor of Music",
          "Bachelor of Professional Studies in Culinary Arts Management",
          "Bachelor of Science",
          "Bachelor of Science (Architecture and Sustainable Design)",
          "Bachelor of Science (Business Analytics)",
          "Bachelor of Science (Computational Biology)",
          "Bachelor of Science (Data Science and Analytics)",
          "Bachelor of Science (Hons)",
          "Bachelor of Science (Hons) (Education)",
          "Bachelor of Science (Hons) (Maritime Studies)",
          "Bachelor of Science (Hons) (Sport Science and Management)",
          "Bachelor of Science (Hons) in Biological Sciences",
          "Bachelor of Science (Hons) in Chemistry and Biological Chemistry",
          "Bachelor of Science (Hons) in Mathematical Sciences",
          "Bachelor of Science (Hons) in Mathematics and Economics",
          "Bachelor of Science (Hons) in PhysicsApplied Physics",
          "Bachelor of Science (Major in Hospitality Management)",
          "Bachelor of Science (Nursing)",
          "Bachelor of Science (Nursing) (Hons)",
          "Bachelor of Science (Pharmacy)",
          "Bachelor of Science (Pharmacy) (Hons)",
          "Bachelor of Science (Pharmacy)(Hons)",
          "Bachelor of Science (Project and Facilities Management)",
          "Bachelor of Science (Real Estate)",
          "Bachelor of Science in Chemical Engineering",
          "Bachelor of Science in Computer Science and Game Design",
          "Bachelor of Science in Computer Science in RealTime Interactive Simulation",
          "Bachelor of Science in Early Childhood Education",
          "Bachelor of Science in Electrical Engineering and Information Technology",
          "Bachelor of Science in Finance",
          "Bachelor of Science in Marketing",
          "Bachelor of Science in Supply Chain Management",
          "Bachelor of Science with Honours",
          "Bachelor of Science with Honours in Computing Science",
          "Bachelor of Science with Honours in Food and Human Nutrition",
          "Bachelor of Science with Honours in Nursing",
          "Bachelor of Science with Honours in Nursing Practice",
          "Bachelor of Social Sciences",
          "Bachelor of Social Work",
          "Bioengineering",
          "Biological Sciences",
          "Biomedical Science (Traditional Chinese Medicine)",
          "Biomedical Sciences (Traditional Chinese Medicine)",
          "Biomedical Sciences and Chinese Medicine",
          "Biomedical Sciences and Chinese Medicine ",
          "Business",
          "Business (3yr direct Honours Programme)",
          "Business Management",
          "Business Management Cum Laude and above",
          "Business and Computing",
          "Chemical And Biomolecular Engineering",
          "Chemical and Biomolecular Engineering",
          "Chemistry and Biological Chemistry",
          "Chinese",
          "Civil Engineering",
          "Communication Studies",
          "Computer Engineering",
          "Computer Science",
          "Double Degree in Bachelor of Accountancy (Hons) and Bachelor of Business (Hons)",
          "Double Degree in Bachelor of Business (Hons) and Bachelor of Engineering (Hons) (Computer Science)",
          "Double Degree in Bachelor of Science (Hons) in Biomedical Sciences and Bachelor of Medicine (Chinese Medicine)",
          "Double Degree in Business and Computer",
          "Double Degree in Engineering and Economics",
          "Economics",
          "Economics",
          "Economics Cum Laude and above",
          "Electrical And Electronic Engineering",
          "Electrical and Electronic Engineering",
          "English",
          "Environmental Earth Systems Science",
          "Environmental Earth Systems Sciences",
          "Environmental Engineering",
          "History",
          "Information Engineering And Media",
          "Information Engineering and Media",
          "Information Systems",
          "Information Systems Cum Laude and above",
          "Information Systems Management",
          "Information Systems Management Cum Laude and above",
          "InterDisciplinary Double Major",
          "Law",
          "Law Cum Laude and above",
          "Linguistics And Multilingual Studies",
          "Linguistics and Multilingual Studies",
          "Maritime Studies",
          "Materials Engineering",
          "Mathematical Science",
          "Mathematical Sciences",
          "Mathematics and Economics",
          "Mechanical Engineering",
          "Medicine",
          "Philosophy",
          "Physics and Applied Physics",
          "Psychology",
          "Public Policy And Global Affairs",
          "Public Policy and Global Affairs",
          "Science (With Education)",
          "Science (with Education)",
          "Social Sciences",
          "Social Sciences Cum Laude and above",
          "Sociology",
          "Sport Science and Management",
          "Sports Science and Management",
          "Nanyang Technological University",
          "National University of Singapore",
          "Singapore Institute of Technology",
          "Singapore Management University",
          "Singapore University of Social Sciences",
          "Singapore University of Technology and Design"
         ],
         "marker": {
          "coloraxis": "coloraxis",
          "colors": [
           3164.4553422182066,
           3475.0278472248933,
           3010.5386663707977,
           3977.1515432462957,
           4073.6618981490287,
           3736.4531546391754,
           2906.319976585781,
           3618,
           3477.800303521901,
           3408.782929487717,
           3291.6046348314608,
           3344.113608622556,
           3380,
           2909.0202270381837,
           3121,
           3142.3908417079715,
           2991.742485238862,
           3018.75071703315,
           4086.320418615008,
           3272.4457796911024,
           3489,
           3119,
           3286,
           3042,
           3206,
           3042,
           3107,
           3353,
           3263,
           3083.536723286718,
           3072.22140140433,
           4089.4182187368715,
           2747.6415896937287,
           3795.730573710966,
           2632.3848984771575,
           3530,
           3749.8849781627337,
           3288.677215846598,
           3584.3366775854,
           4147.086350479455,
           2588.690434782609,
           3134,
           3232.048002477547,
           4510.659262831138,
           3238.8309830159546,
           4620,
           3947.4656539307452,
           4109.417867341641,
           2879,
           2823,
           3290.953322710657,
           3539.4741710329695,
           3402.9804718964265,
           4101.757978287251,
           3626.3433928769555,
           3729.122768892687,
           3708.7518450766415,
           3839.9826691007374,
           3363.2873583745063,
           3645,
           3326,
           3373,
           3667,
           4078,
           3532,
           3538,
           3685,
           3288,
           3422,
           3829.6029143897995,
           4297.83651417047,
           3325.943157894737,
           3386.5984719174185,
           3475.7468588607107,
           3326,
           3931,
           3272.9037466044797,
           3374.1585480907693,
           3133.4428343362397,
           3346.5885344429034,
           4118.115946956817,
           4033.1982017783516,
           3436.5138039568346,
           3401.7209439528024,
           3187.606507089201,
           3430.3972856863893,
           3294.5741707404645,
           3413.201968197785,
           3268.2422727736407,
           3585,
           3433,
           3757.5328432155984,
           4044,
           3884.364269141531,
           3349.169851887243,
           3251,
           2862,
           2927.8118974358977,
           2795.181083265966,
           2995.379341050757,
           2891.6115702479337,
           2943.6685539576492,
           5007.011415525114,
           4915.769113383183,
           4367,
           4460,
           4491.515948303304,
           4406,
           3007.7704737652866,
           2378.7404210526315,
           2977.7551602542508,
           3888.094809403776,
           4551.465566737121,
           4563,
           4417,
           3331.417481956696,
           3610,
           3279,
           3372,
           3177,
           3035,
           3517,
           3504,
           3367,
           2480.4939516129034,
           3097.4957571308273,
           3234.666205358065,
           3562.7022864019254,
           3457.0995082441423,
           3500,
           3100.2487298716956,
           3186.2565854478944,
           2977.2481612486667,
           3445.9220696263174,
           3839.6459924053734,
           2760.4524190033417,
           3237.807749627422,
           3542.892879362027,
           2994.2002406095444,
           3125,
           5662.630989372536,
           3781.2555348092824,
           2744.452436533411,
           3396.0607490415805,
           3357.869364334153,
           3362.2721527791578,
           3443,
           3212.4358530486634,
           3147.6330223560813,
           2904.7364795039616,
           2840,
           2681.71875,
           2952.5447925486874,
           3636.384906403941,
           3213.443336449569,
           3783.295178909722,
           4231.931685265387,
           4085.919217757241,
           3248.495378927911,
           3463.6099491601776,
           3103.0995333598094,
           3068.271306139888,
           3321.3934479553905,
           3029.102306869685,
           3680.2271343064162,
           3783.7747992588015,
           3830,
           5036,
           2722,
           5216,
           4459,
           3371.643256112078,
           3839.5826925424144,
           4296.701991509552,
           3394.707424867413,
           3519.822542195099,
           3118.5244098380917,
           3347,
           3483.2235846345434,
           3315.0395643269408,
           3401.2205435516544,
           3387.240579281809,
           3603.375993269141,
           4307.499767333644,
           4834.315678229516,
           3627.493967902601,
           4052.968015892724,
           3608,
           4861.235055223983,
           5114.462303890244,
           3343.703382220892,
           3021.2650121238053,
           3305.881869926285,
           3307.7636686362894,
           3151.2505029115932,
           3640.593101822753,
           3479.5738225946257,
           3388.8532193732194,
           4880.789193250906,
           3218.4178760510745,
           3398.510514684104,
           3210.6800576299675,
           3756,
           3678.1114548266764,
           3600,
           3499.371110417317,
           3286.4831780643585,
           3609.487192328381,
           3218.1071865040376,
           3172,
           3190.1176033813113,
           3413.1898969533418,
           3689.327793519007,
           3289.1000197200447,
           4125.277015068231,
           3141.465625763872,
           3959.988214700891
          ]
         },
         "name": "",
         "parents": [
          "Nanyang Technological University",
          "Singapore Management University",
          "Nanyang Technological University",
          "Singapore Management University",
          "Nanyang Technological University",
          "Nanyang Technological University",
          "Nanyang Technological University",
          "Nanyang Technological University",
          "Nanyang Technological University",
          "Singapore Institute of Technology",
          "Singapore Institute of Technology",
          "Singapore Institute of Technology",
          "Singapore Institute of Technology",
          "Singapore University of Social Sciences",
          "Nanyang Technological University",
          "Singapore Institute of Technology",
          "National University of Singapore",
          "National University of Singapore",
          "National University of Singapore",
          "National University of Singapore",
          "Nanyang Technological University",
          "Nanyang Technological University",
          "Nanyang Technological University",
          "Nanyang Technological University",
          "Nanyang Technological University",
          "Nanyang Technological University",
          "Nanyang Technological University",
          "Nanyang Technological University",
          "Nanyang Technological University",
          "National University of Singapore",
          "Singapore Institute of Technology",
          "National University of Singapore",
          "Singapore Institute of Technology",
          "Singapore Institute of Technology",
          "Singapore Institute of Technology",
          "Nanyang Technological University",
          "National University of Singapore",
          "National University of Singapore",
          "National University of Singapore",
          "National University of Singapore",
          "Singapore Institute of Technology",
          "Nanyang Technological University",
          "National University of Singapore",
          "National University of Singapore",
          "National University of Singapore",
          "National University of Singapore",
          "National University of Singapore",
          "National University of Singapore",
          "Singapore University of Social Sciences",
          "National University of Singapore",
          "National University of Singapore",
          "National University of Singapore",
          "National University of Singapore",
          "National University of Singapore",
          "National University of Singapore",
          "Singapore University of Technology and Design",
          "National University of Singapore",
          "Singapore University of Technology and Design",
          "National University of Singapore",
          "Nanyang Technological University",
          "Nanyang Technological University",
          "Nanyang Technological University",
          "Nanyang Technological University",
          "Nanyang Technological University",
          "Nanyang Technological University",
          "Nanyang Technological University",
          "Nanyang Technological University",
          "Nanyang Technological University",
          "Nanyang Technological University",
          "National University of Singapore",
          "Singapore University of Technology and Design",
          "National University of Singapore",
          "National University of Singapore",
          "National University of Singapore",
          "Nanyang Technological University",
          "Singapore Institute of Technology",
          "Singapore Institute of Technology",
          "Singapore Institute of Technology",
          "Singapore Institute of Technology",
          "Singapore Institute of Technology",
          "Singapore Institute of Technology",
          "Singapore Institute of Technology",
          "Singapore Institute of Technology",
          "Singapore Institute of Technology",
          "Singapore Institute of Technology",
          "Singapore Institute of Technology",
          "Singapore Institute of Technology",
          "Singapore Institute of Technology",
          "Singapore Institute of Technology",
          "Singapore Institute of Technology",
          "Singapore Institute of Technology",
          "Singapore Institute of Technology",
          "Singapore Institute of Technology",
          "Singapore Institute of Technology",
          "National University of Singapore",
          "National University of Singapore",
          "Nanyang Technological University",
          "Singapore Institute of Technology",
          "Singapore Institute of Technology",
          "Singapore Institute of Technology",
          "Singapore Institute of Technology",
          "Singapore University of Social Sciences",
          "National University of Singapore",
          "National University of Singapore",
          "National University of Singapore",
          "National University of Singapore",
          "National University of Singapore",
          "National University of Singapore",
          "National University of Singapore",
          "Singapore Institute of Technology",
          "National University of Singapore",
          "Singapore University of Technology and Design",
          "National University of Singapore",
          "National University of Singapore",
          "National University of Singapore",
          "National University of Singapore",
          "Nanyang Technological University",
          "Nanyang Technological University",
          "Nanyang Technological University",
          "Nanyang Technological University",
          "Nanyang Technological University",
          "Nanyang Technological University",
          "Nanyang Technological University",
          "Nanyang Technological University",
          "Singapore Institute of Technology",
          "National University of Singapore",
          "National University of Singapore",
          "National University of Singapore",
          "National University of Singapore",
          "National University of Singapore",
          "National University of Singapore",
          "National University of Singapore",
          "Singapore Institute of Technology",
          "Singapore Institute of Technology",
          "Singapore Institute of Technology",
          "Singapore Institute of Technology",
          "Singapore Institute of Technology",
          "Singapore University of Social Sciences",
          "Singapore University of Social Sciences",
          "Singapore University of Social Sciences",
          "National University of Singapore",
          "Singapore Institute of Technology",
          "Singapore Institute of Technology",
          "Singapore Institute of Technology",
          "Singapore Institute of Technology",
          "National University of Singapore",
          "Singapore University of Social Sciences",
          "Nanyang Technological University",
          "Nanyang Technological University",
          "Nanyang Technological University",
          "Nanyang Technological University",
          "Nanyang Technological University",
          "Nanyang Technological University",
          "Nanyang Technological University",
          "Nanyang Technological University",
          "Singapore Management University",
          "Singapore Management University",
          "Nanyang Technological University",
          "Nanyang Technological University",
          "Nanyang Technological University",
          "Nanyang Technological University",
          "Nanyang Technological University",
          "Nanyang Technological University",
          "Nanyang Technological University",
          "Nanyang Technological University",
          "Nanyang Technological University",
          "Nanyang Technological University",
          "Nanyang Technological University",
          "Nanyang Technological University",
          "Nanyang Technological University",
          "Nanyang Technological University",
          "Nanyang Technological University",
          "Singapore Management University",
          "Singapore Management University",
          "Nanyang Technological University",
          "Nanyang Technological University",
          "Nanyang Technological University",
          "Nanyang Technological University",
          "Nanyang Technological University",
          "Nanyang Technological University",
          "Nanyang Technological University",
          "Nanyang Technological University",
          "Nanyang Technological University",
          "Singapore Management University",
          "Singapore Management University",
          "Singapore Management University",
          "Singapore Management University",
          "Nanyang Technological University",
          "Singapore Management University",
          "Singapore Management University",
          "Nanyang Technological University",
          "Nanyang Technological University",
          "Nanyang Technological University",
          "Nanyang Technological University",
          "Nanyang Technological University",
          "Nanyang Technological University",
          "Nanyang Technological University",
          "Nanyang Technological University",
          "Nanyang Technological University",
          "Nanyang Technological University",
          "Nanyang Technological University",
          "Nanyang Technological University",
          "Nanyang Technological University",
          "Nanyang Technological University",
          "Nanyang Technological University",
          "Nanyang Technological University",
          "Singapore Management University",
          "Singapore Management University",
          "Nanyang Technological University",
          "Nanyang Technological University",
          "Nanyang Technological University",
          "",
          "",
          "",
          "",
          "",
          ""
         ],
         "type": "treemap",
         "values": [
          22135,
          51998,
          18026,
          59323,
          52567,
          48500,
          37584,
          7236,
          38218,
          23854,
          42720,
          43421,
          3380,
          14535,
          6242,
          21991,
          29808,
          44977,
          44910,
          49013,
          6978,
          6238,
          6572,
          6084,
          6412,
          6084,
          6214,
          6706,
          6526,
          45979,
          27344,
          28564,
          32912,
          30294,
          31520,
          7060,
          54494,
          48187,
          53425,
          61841,
          10350,
          6268,
          19374,
          66362,
          19430,
          4620,
          58653,
          61632,
          2879,
          5646,
          42676,
          52867,
          50901,
          60978,
          54078,
          40955,
          47559,
          42179,
          50397,
          7290,
          6652,
          6746,
          7334,
          8156,
          7064,
          7076,
          7370,
          6576,
          6844,
          57096,
          47105,
          13300,
          36909,
          51892,
          6652,
          7862,
          39022,
          40278,
          40715,
          36771,
          20587,
          20131,
          44480,
          40680,
          41401,
          40968,
          36207,
          37293,
          9803,
          3585,
          6866,
          18771,
          4044,
          11637,
          33488,
          3251,
          5724,
          14625,
          22266,
          8984,
          20207,
          8831,
          35040,
          39318,
          8734,
          8920,
          31414,
          8812,
          31809,
          19000,
          44523,
          19439,
          31699,
          4563,
          4417,
          49880,
          7220,
          6558,
          6744,
          6354,
          6070,
          7034,
          7008,
          6734,
          9920,
          46313,
          48413,
          24930,
          20742,
          7000,
          46452,
          47567,
          35622,
          37572,
          48982,
          27532,
          32208,
          17681,
          14962,
          3125,
          38297,
          37490,
          27416,
          13564,
          26838,
          50321,
          3443,
          41592,
          40839,
          11612,
          5680,
          8000,
          11810,
          25375,
          19254,
          56481,
          63266,
          48476,
          12984,
          31078,
          40288,
          39789,
          43040,
          39274,
          47615,
          48570,
          7660,
          10072,
          5444,
          5216,
          4459,
          43684,
          57351,
          64072,
          13576,
          31461,
          40455,
          6694,
          10439,
          42968,
          23696,
          13534,
          32091,
          21490,
          24129,
          36140,
          40270,
          3608,
          72885,
          76679,
          20046,
          21033,
          42868,
          42817,
          18890,
          25456,
          38071,
          43875,
          14639,
          16055,
          43891,
          41645,
          7512,
          10991,
          7200,
          38436,
          49162,
          53913,
          41731,
          6344,
          35016,
          1765705,
          1881471,
          1151113,
          727159,
          65456,
          149678
         ]
        }
       ],
       "layout": {
        "coloraxis": {
         "colorbar": {
          "title": {
           "text": "basic_monthly_mean"
          }
         },
         "colorscale": [
          [
           0,
           "#0d0887"
          ],
          [
           0.1111111111111111,
           "#46039f"
          ],
          [
           0.2222222222222222,
           "#7201a8"
          ],
          [
           0.3333333333333333,
           "#9c179e"
          ],
          [
           0.4444444444444444,
           "#bd3786"
          ],
          [
           0.5555555555555556,
           "#d8576b"
          ],
          [
           0.6666666666666666,
           "#ed7953"
          ],
          [
           0.7777777777777778,
           "#fb9f3a"
          ],
          [
           0.8888888888888888,
           "#fdca26"
          ],
          [
           1,
           "#f0f921"
          ]
         ]
        },
        "legend": {
         "tracegroupgap": 0
        },
        "margin": {
         "t": 60
        },
        "template": {
         "data": {
          "bar": [
           {
            "error_x": {
             "color": "#2a3f5f"
            },
            "error_y": {
             "color": "#2a3f5f"
            },
            "marker": {
             "line": {
              "color": "#E5ECF6",
              "width": 0.5
             },
             "pattern": {
              "fillmode": "overlay",
              "size": 10,
              "solidity": 0.2
             }
            },
            "type": "bar"
           }
          ],
          "barpolar": [
           {
            "marker": {
             "line": {
              "color": "#E5ECF6",
              "width": 0.5
             },
             "pattern": {
              "fillmode": "overlay",
              "size": 10,
              "solidity": 0.2
             }
            },
            "type": "barpolar"
           }
          ],
          "carpet": [
           {
            "aaxis": {
             "endlinecolor": "#2a3f5f",
             "gridcolor": "white",
             "linecolor": "white",
             "minorgridcolor": "white",
             "startlinecolor": "#2a3f5f"
            },
            "baxis": {
             "endlinecolor": "#2a3f5f",
             "gridcolor": "white",
             "linecolor": "white",
             "minorgridcolor": "white",
             "startlinecolor": "#2a3f5f"
            },
            "type": "carpet"
           }
          ],
          "choropleth": [
           {
            "colorbar": {
             "outlinewidth": 0,
             "ticks": ""
            },
            "type": "choropleth"
           }
          ],
          "contour": [
           {
            "colorbar": {
             "outlinewidth": 0,
             "ticks": ""
            },
            "colorscale": [
             [
              0,
              "#0d0887"
             ],
             [
              0.1111111111111111,
              "#46039f"
             ],
             [
              0.2222222222222222,
              "#7201a8"
             ],
             [
              0.3333333333333333,
              "#9c179e"
             ],
             [
              0.4444444444444444,
              "#bd3786"
             ],
             [
              0.5555555555555556,
              "#d8576b"
             ],
             [
              0.6666666666666666,
              "#ed7953"
             ],
             [
              0.7777777777777778,
              "#fb9f3a"
             ],
             [
              0.8888888888888888,
              "#fdca26"
             ],
             [
              1,
              "#f0f921"
             ]
            ],
            "type": "contour"
           }
          ],
          "contourcarpet": [
           {
            "colorbar": {
             "outlinewidth": 0,
             "ticks": ""
            },
            "type": "contourcarpet"
           }
          ],
          "heatmap": [
           {
            "colorbar": {
             "outlinewidth": 0,
             "ticks": ""
            },
            "colorscale": [
             [
              0,
              "#0d0887"
             ],
             [
              0.1111111111111111,
              "#46039f"
             ],
             [
              0.2222222222222222,
              "#7201a8"
             ],
             [
              0.3333333333333333,
              "#9c179e"
             ],
             [
              0.4444444444444444,
              "#bd3786"
             ],
             [
              0.5555555555555556,
              "#d8576b"
             ],
             [
              0.6666666666666666,
              "#ed7953"
             ],
             [
              0.7777777777777778,
              "#fb9f3a"
             ],
             [
              0.8888888888888888,
              "#fdca26"
             ],
             [
              1,
              "#f0f921"
             ]
            ],
            "type": "heatmap"
           }
          ],
          "heatmapgl": [
           {
            "colorbar": {
             "outlinewidth": 0,
             "ticks": ""
            },
            "colorscale": [
             [
              0,
              "#0d0887"
             ],
             [
              0.1111111111111111,
              "#46039f"
             ],
             [
              0.2222222222222222,
              "#7201a8"
             ],
             [
              0.3333333333333333,
              "#9c179e"
             ],
             [
              0.4444444444444444,
              "#bd3786"
             ],
             [
              0.5555555555555556,
              "#d8576b"
             ],
             [
              0.6666666666666666,
              "#ed7953"
             ],
             [
              0.7777777777777778,
              "#fb9f3a"
             ],
             [
              0.8888888888888888,
              "#fdca26"
             ],
             [
              1,
              "#f0f921"
             ]
            ],
            "type": "heatmapgl"
           }
          ],
          "histogram": [
           {
            "marker": {
             "pattern": {
              "fillmode": "overlay",
              "size": 10,
              "solidity": 0.2
             }
            },
            "type": "histogram"
           }
          ],
          "histogram2d": [
           {
            "colorbar": {
             "outlinewidth": 0,
             "ticks": ""
            },
            "colorscale": [
             [
              0,
              "#0d0887"
             ],
             [
              0.1111111111111111,
              "#46039f"
             ],
             [
              0.2222222222222222,
              "#7201a8"
             ],
             [
              0.3333333333333333,
              "#9c179e"
             ],
             [
              0.4444444444444444,
              "#bd3786"
             ],
             [
              0.5555555555555556,
              "#d8576b"
             ],
             [
              0.6666666666666666,
              "#ed7953"
             ],
             [
              0.7777777777777778,
              "#fb9f3a"
             ],
             [
              0.8888888888888888,
              "#fdca26"
             ],
             [
              1,
              "#f0f921"
             ]
            ],
            "type": "histogram2d"
           }
          ],
          "histogram2dcontour": [
           {
            "colorbar": {
             "outlinewidth": 0,
             "ticks": ""
            },
            "colorscale": [
             [
              0,
              "#0d0887"
             ],
             [
              0.1111111111111111,
              "#46039f"
             ],
             [
              0.2222222222222222,
              "#7201a8"
             ],
             [
              0.3333333333333333,
              "#9c179e"
             ],
             [
              0.4444444444444444,
              "#bd3786"
             ],
             [
              0.5555555555555556,
              "#d8576b"
             ],
             [
              0.6666666666666666,
              "#ed7953"
             ],
             [
              0.7777777777777778,
              "#fb9f3a"
             ],
             [
              0.8888888888888888,
              "#fdca26"
             ],
             [
              1,
              "#f0f921"
             ]
            ],
            "type": "histogram2dcontour"
           }
          ],
          "mesh3d": [
           {
            "colorbar": {
             "outlinewidth": 0,
             "ticks": ""
            },
            "type": "mesh3d"
           }
          ],
          "parcoords": [
           {
            "line": {
             "colorbar": {
              "outlinewidth": 0,
              "ticks": ""
             }
            },
            "type": "parcoords"
           }
          ],
          "pie": [
           {
            "automargin": true,
            "type": "pie"
           }
          ],
          "scatter": [
           {
            "marker": {
             "colorbar": {
              "outlinewidth": 0,
              "ticks": ""
             }
            },
            "type": "scatter"
           }
          ],
          "scatter3d": [
           {
            "line": {
             "colorbar": {
              "outlinewidth": 0,
              "ticks": ""
             }
            },
            "marker": {
             "colorbar": {
              "outlinewidth": 0,
              "ticks": ""
             }
            },
            "type": "scatter3d"
           }
          ],
          "scattercarpet": [
           {
            "marker": {
             "colorbar": {
              "outlinewidth": 0,
              "ticks": ""
             }
            },
            "type": "scattercarpet"
           }
          ],
          "scattergeo": [
           {
            "marker": {
             "colorbar": {
              "outlinewidth": 0,
              "ticks": ""
             }
            },
            "type": "scattergeo"
           }
          ],
          "scattergl": [
           {
            "marker": {
             "colorbar": {
              "outlinewidth": 0,
              "ticks": ""
             }
            },
            "type": "scattergl"
           }
          ],
          "scattermapbox": [
           {
            "marker": {
             "colorbar": {
              "outlinewidth": 0,
              "ticks": ""
             }
            },
            "type": "scattermapbox"
           }
          ],
          "scatterpolar": [
           {
            "marker": {
             "colorbar": {
              "outlinewidth": 0,
              "ticks": ""
             }
            },
            "type": "scatterpolar"
           }
          ],
          "scatterpolargl": [
           {
            "marker": {
             "colorbar": {
              "outlinewidth": 0,
              "ticks": ""
             }
            },
            "type": "scatterpolargl"
           }
          ],
          "scatterternary": [
           {
            "marker": {
             "colorbar": {
              "outlinewidth": 0,
              "ticks": ""
             }
            },
            "type": "scatterternary"
           }
          ],
          "surface": [
           {
            "colorbar": {
             "outlinewidth": 0,
             "ticks": ""
            },
            "colorscale": [
             [
              0,
              "#0d0887"
             ],
             [
              0.1111111111111111,
              "#46039f"
             ],
             [
              0.2222222222222222,
              "#7201a8"
             ],
             [
              0.3333333333333333,
              "#9c179e"
             ],
             [
              0.4444444444444444,
              "#bd3786"
             ],
             [
              0.5555555555555556,
              "#d8576b"
             ],
             [
              0.6666666666666666,
              "#ed7953"
             ],
             [
              0.7777777777777778,
              "#fb9f3a"
             ],
             [
              0.8888888888888888,
              "#fdca26"
             ],
             [
              1,
              "#f0f921"
             ]
            ],
            "type": "surface"
           }
          ],
          "table": [
           {
            "cells": {
             "fill": {
              "color": "#EBF0F8"
             },
             "line": {
              "color": "white"
             }
            },
            "header": {
             "fill": {
              "color": "#C8D4E3"
             },
             "line": {
              "color": "white"
             }
            },
            "type": "table"
           }
          ]
         },
         "layout": {
          "annotationdefaults": {
           "arrowcolor": "#2a3f5f",
           "arrowhead": 0,
           "arrowwidth": 1
          },
          "autotypenumbers": "strict",
          "coloraxis": {
           "colorbar": {
            "outlinewidth": 0,
            "ticks": ""
           }
          },
          "colorscale": {
           "diverging": [
            [
             0,
             "#8e0152"
            ],
            [
             0.1,
             "#c51b7d"
            ],
            [
             0.2,
             "#de77ae"
            ],
            [
             0.3,
             "#f1b6da"
            ],
            [
             0.4,
             "#fde0ef"
            ],
            [
             0.5,
             "#f7f7f7"
            ],
            [
             0.6,
             "#e6f5d0"
            ],
            [
             0.7,
             "#b8e186"
            ],
            [
             0.8,
             "#7fbc41"
            ],
            [
             0.9,
             "#4d9221"
            ],
            [
             1,
             "#276419"
            ]
           ],
           "sequential": [
            [
             0,
             "#0d0887"
            ],
            [
             0.1111111111111111,
             "#46039f"
            ],
            [
             0.2222222222222222,
             "#7201a8"
            ],
            [
             0.3333333333333333,
             "#9c179e"
            ],
            [
             0.4444444444444444,
             "#bd3786"
            ],
            [
             0.5555555555555556,
             "#d8576b"
            ],
            [
             0.6666666666666666,
             "#ed7953"
            ],
            [
             0.7777777777777778,
             "#fb9f3a"
            ],
            [
             0.8888888888888888,
             "#fdca26"
            ],
            [
             1,
             "#f0f921"
            ]
           ],
           "sequentialminus": [
            [
             0,
             "#0d0887"
            ],
            [
             0.1111111111111111,
             "#46039f"
            ],
            [
             0.2222222222222222,
             "#7201a8"
            ],
            [
             0.3333333333333333,
             "#9c179e"
            ],
            [
             0.4444444444444444,
             "#bd3786"
            ],
            [
             0.5555555555555556,
             "#d8576b"
            ],
            [
             0.6666666666666666,
             "#ed7953"
            ],
            [
             0.7777777777777778,
             "#fb9f3a"
            ],
            [
             0.8888888888888888,
             "#fdca26"
            ],
            [
             1,
             "#f0f921"
            ]
           ]
          },
          "colorway": [
           "#636efa",
           "#EF553B",
           "#00cc96",
           "#ab63fa",
           "#FFA15A",
           "#19d3f3",
           "#FF6692",
           "#B6E880",
           "#FF97FF",
           "#FECB52"
          ],
          "font": {
           "color": "#2a3f5f"
          },
          "geo": {
           "bgcolor": "white",
           "lakecolor": "white",
           "landcolor": "#E5ECF6",
           "showlakes": true,
           "showland": true,
           "subunitcolor": "white"
          },
          "hoverlabel": {
           "align": "left"
          },
          "hovermode": "closest",
          "mapbox": {
           "style": "light"
          },
          "paper_bgcolor": "white",
          "plot_bgcolor": "#E5ECF6",
          "polar": {
           "angularaxis": {
            "gridcolor": "white",
            "linecolor": "white",
            "ticks": ""
           },
           "bgcolor": "#E5ECF6",
           "radialaxis": {
            "gridcolor": "white",
            "linecolor": "white",
            "ticks": ""
           }
          },
          "scene": {
           "xaxis": {
            "backgroundcolor": "#E5ECF6",
            "gridcolor": "white",
            "gridwidth": 2,
            "linecolor": "white",
            "showbackground": true,
            "ticks": "",
            "zerolinecolor": "white"
           },
           "yaxis": {
            "backgroundcolor": "#E5ECF6",
            "gridcolor": "white",
            "gridwidth": 2,
            "linecolor": "white",
            "showbackground": true,
            "ticks": "",
            "zerolinecolor": "white"
           },
           "zaxis": {
            "backgroundcolor": "#E5ECF6",
            "gridcolor": "white",
            "gridwidth": 2,
            "linecolor": "white",
            "showbackground": true,
            "ticks": "",
            "zerolinecolor": "white"
           }
          },
          "shapedefaults": {
           "line": {
            "color": "#2a3f5f"
           }
          },
          "ternary": {
           "aaxis": {
            "gridcolor": "white",
            "linecolor": "white",
            "ticks": ""
           },
           "baxis": {
            "gridcolor": "white",
            "linecolor": "white",
            "ticks": ""
           },
           "bgcolor": "#E5ECF6",
           "caxis": {
            "gridcolor": "white",
            "linecolor": "white",
            "ticks": ""
           }
          },
          "title": {
           "x": 0.05
          },
          "xaxis": {
           "automargin": true,
           "gridcolor": "white",
           "linecolor": "white",
           "ticks": "",
           "title": {
            "standoff": 15
           },
           "zerolinecolor": "white",
           "zerolinewidth": 2
          },
          "yaxis": {
           "automargin": true,
           "gridcolor": "white",
           "linecolor": "white",
           "ticks": "",
           "title": {
            "standoff": 15
           },
           "zerolinecolor": "white",
           "zerolinewidth": 2
          }
         }
        }
       }
      },
      "text/html": [
       "<div>                            <div id=\"0056e423-9743-45de-951c-cce4f497bcf4\" class=\"plotly-graph-div\" style=\"height:525px; width:100%;\"></div>            <script type=\"text/javascript\">                require([\"plotly\"], function(Plotly) {                    window.PLOTLYENV=window.PLOTLYENV || {};                                    if (document.getElementById(\"0056e423-9743-45de-951c-cce4f497bcf4\")) {                    Plotly.newPlot(                        \"0056e423-9743-45de-951c-cce4f497bcf4\",                        [{\"branchvalues\":\"total\",\"customdata\":[[3164.4553422182066],[3475.0278472248933],[3010.5386663707977],[3977.1515432462957],[4073.6618981490287],[3736.4531546391754],[2906.319976585781],[3618.0],[3477.800303521901],[3408.782929487717],[3291.6046348314608],[3344.113608622556],[3380.0],[2909.0202270381837],[3121.0],[3142.3908417079715],[2991.742485238862],[3018.75071703315],[4086.320418615008],[3272.4457796911024],[3489.0],[3119.0],[3286.0],[3042.0],[3206.0],[3042.0],[3107.0],[3353.0],[3263.0],[3083.536723286718],[3072.22140140433],[4089.4182187368715],[2747.6415896937287],[3795.730573710966],[2632.3848984771575],[3530.0],[3749.8849781627337],[3288.677215846598],[3584.3366775854],[4147.086350479455],[2588.690434782609],[3134.0],[3232.048002477547],[4510.659262831138],[3238.8309830159546],[4620.0],[3947.4656539307452],[4109.417867341641],[2879.0],[2823.0],[3290.953322710657],[3539.4741710329695],[3402.9804718964265],[4101.757978287251],[3626.3433928769555],[3729.122768892687],[3708.7518450766415],[3839.9826691007374],[3363.2873583745063],[3645.0],[3326.0],[3373.0],[3667.0],[4078.0],[3532.0],[3538.0],[3685.0],[3288.0],[3422.0],[3829.6029143897995],[4297.83651417047],[3325.943157894737],[3386.5984719174185],[3475.7468588607107],[3326.0],[3931.0],[3272.9037466044797],[3374.1585480907693],[3133.4428343362397],[3346.5885344429034],[4118.115946956817],[4033.1982017783516],[3436.5138039568346],[3401.7209439528024],[3187.606507089201],[3430.3972856863893],[3294.5741707404645],[3413.201968197785],[3268.2422727736407],[3585.0],[3433.0],[3757.5328432155984],[4044.0],[3884.364269141531],[3349.169851887243],[3251.0],[2862.0],[2927.8118974358977],[2795.181083265966],[2995.379341050757],[2891.6115702479337],[2943.6685539576492],[5007.011415525114],[4915.769113383183],[4367.0],[4460.0],[4491.515948303304],[4406.0],[3007.7704737652866],[2378.7404210526315],[2977.7551602542508],[3888.094809403776],[4551.465566737121],[4563.0],[4417.0],[3331.417481956696],[3610.0],[3279.0],[3372.0],[3177.0],[3035.0],[3517.0],[3504.0],[3367.0],[2480.4939516129034],[3097.4957571308273],[3234.666205358065],[3562.7022864019254],[3457.0995082441423],[3500.0],[3100.2487298716956],[3186.2565854478944],[2977.2481612486667],[3445.9220696263174],[3839.6459924053734],[2760.4524190033417],[3237.807749627422],[3542.892879362027],[2994.2002406095444],[3125.0],[5662.630989372536],[3781.2555348092824],[2744.452436533411],[3396.0607490415805],[3357.869364334153],[3362.2721527791578],[3443.0],[3212.4358530486634],[3147.6330223560813],[2904.7364795039616],[2840.0],[2681.71875],[2952.5447925486874],[3636.384906403941],[3213.443336449569],[3783.295178909722],[4231.931685265387],[4085.919217757241],[3248.495378927911],[3463.6099491601776],[3103.0995333598094],[3068.271306139888],[3321.3934479553905],[3029.102306869685],[3680.2271343064162],[3783.7747992588015],[3830.0],[5036.0],[2722.0],[5216.0],[4459.0],[3371.643256112078],[3839.5826925424144],[4296.701991509552],[3394.707424867413],[3519.822542195099],[3118.5244098380917],[3347.0],[3483.2235846345434],[3315.0395643269408],[3401.2205435516544],[3387.240579281809],[3603.375993269141],[4307.499767333644],[4834.315678229516],[3627.493967902601],[4052.968015892724],[3608.0],[4861.235055223983],[5114.462303890244],[3343.703382220892],[3021.2650121238053],[3305.881869926285],[3307.7636686362894],[3151.2505029115932],[3640.593101822753],[3479.5738225946257],[3388.8532193732194],[4880.789193250906],[3218.4178760510745],[3398.510514684104],[3210.6800576299675],[3756.0],[3678.1114548266764],[3600.0],[3499.371110417317],[3286.4831780643585],[3609.487192328381],[3218.1071865040376],[3172.0],[3190.1176033813113],[3413.1898969533418],[3689.327793519007],[3289.1000197200447],[4125.277015068231],[3141.465625763872],[3959.988214700891]],\"domain\":{\"x\":[0.0,1.0],\"y\":[0.0,1.0]},\"hovertemplate\":\"labels=%{label}<br>basic_monthly_mean_sum=%{value}<br>parent=%{parent}<br>id=%{id}<br>basic_monthly_mean=%{color}<extra></extra>\",\"ids\":[\"Nanyang Technological University/Accountancy\",\"Singapore Management University/Accountancy\",\"Nanyang Technological University/Accountancy (3yr direct Honours Programme)\",\"Singapore Management University/Accountancy Cum Laude and above\",\"Nanyang Technological University/Accountancy and Business\",\"Nanyang Technological University/Aerospace Engineering\",\"Nanyang Technological University/Art Design and Media\",\"Nanyang Technological University/Arts (With Education)\",\"Nanyang Technological University/Arts (with Education)\",\"Singapore Institute of Technology/Bachelor in Science (Diagnostic Radiography)\",\"Singapore Institute of Technology/Bachelor in Science (Occupational Therapy)\",\"Singapore Institute of Technology/Bachelor in Science (Physiotherapy)\",\"Singapore Institute of Technology/Bachelor in Science (Radiation Therapy)\",\"Singapore University of Social Sciences/Bachelor of Accountancy\",\"Nanyang Technological University/Bachelor of Accountancy (Hons)\",\"Singapore Institute of Technology/Bachelor of Accountancy with Honours\",\"National University of Singapore/Bachelor of Applied Science (Hons)\",\"National University of Singapore/Bachelor of Arts\",\"National University of Singapore/Bachelor of Arts (Architecture)\",\"National University of Singapore/Bachelor of Arts (Hons)\",\"Nanyang Technological University/Bachelor of Arts (Hons) (Education)\",\"Nanyang Technological University/Bachelor of Arts (Hons) in Chinese\",\"Nanyang Technological University/Bachelor of Arts (Hons) in Economics\",\"Nanyang Technological University/Bachelor of Arts (Hons) in English\",\"Nanyang Technological University/Bachelor of Arts (Hons) in History\",\"Nanyang Technological University/Bachelor of Arts (Hons) in Linguistics And Multilingual Studies\",\"Nanyang Technological University/Bachelor of Arts (Hons) in Psychology\",\"Nanyang Technological University/Bachelor of Arts (Hons) in Public Policy And Global Affairs\",\"Nanyang Technological University/Bachelor of Arts (Hons) in Sociology\",\"National University of Singapore/Bachelor of Arts (Industrial Design)\",\"Singapore Institute of Technology/Bachelor of Arts in Game Design\",\"National University of Singapore/Bachelor of Arts with Honours\",\"Singapore Institute of Technology/Bachelor of Arts with Honours in Communication Design\",\"Singapore Institute of Technology/Bachelor of Arts with Honours in Criminology and Security\",\"Singapore Institute of Technology/Bachelor of Arts with Honours in Interior Design\",\"Nanyang Technological University/Bachelor of Business (Hons)\",\"National University of Singapore/Bachelor of Business Administration\",\"National University of Singapore/Bachelor of Business Administration (Accountancy)\",\"National University of Singapore/Bachelor of Business Administration (Accountancy) (Hons)\",\"National University of Singapore/Bachelor of Business Administration (Hons)\",\"Singapore Institute of Technology/Bachelor of Business Administration in Food Business Management\",\"Nanyang Technological University/Bachelor of Communication Studies (Hons)\",\"National University of Singapore/Bachelor of Computing (Communications and Media)\",\"National University of Singapore/Bachelor of Computing (Computer Science)\",\"National University of Singapore/Bachelor of Computing (Electronic Commerce)\",\"National University of Singapore/Bachelor of Computing (Information Security)\",\"National University of Singapore/Bachelor of Computing (Information Systems)\",\"National University of Singapore/Bachelor of Dental Surgery\",\"Singapore University of Social Sciences/Bachelor of Early Childhood Education\",\"National University of Singapore/Bachelor of Engineering (Bioengineering)\",\"National University of Singapore/Bachelor of Engineering (Biomedical Engineering)\",\"National University of Singapore/Bachelor of Engineering (Chemical Engineering)\",\"National University of Singapore/Bachelor of Engineering (Civil Engineering)\",\"National University of Singapore/Bachelor of Engineering (Computer Engineering)\",\"National University of Singapore/Bachelor of Engineering (Electrical Engineering)\",\"Singapore University of Technology and Design/Bachelor of Engineering (Engineering Product Development)\",\"National University of Singapore/Bachelor of Engineering (Engineering Science)\",\"Singapore University of Technology and Design/Bachelor of Engineering (Engineering Systems and Design)\",\"National University of Singapore/Bachelor of Engineering (Environmental Engineering)\",\"Nanyang Technological University/Bachelor of Engineering (Hons) (Aerospace Engineering)\",\"Nanyang Technological University/Bachelor of Engineering (Hons) (Bioengineering)\",\"Nanyang Technological University/Bachelor of Engineering (Hons) (Civil Engineering)\",\"Nanyang Technological University/Bachelor of Engineering (Hons) (Computer Engineering)\",\"Nanyang Technological University/Bachelor of Engineering (Hons) (Computer Science)\",\"Nanyang Technological University/Bachelor of Engineering (Hons) (Electrical and Electronic Engineering)\",\"Nanyang Technological University/Bachelor of Engineering (Hons) (Environmental Engineering)\",\"Nanyang Technological University/Bachelor of Engineering (Hons) (Information Engineering and Media)\",\"Nanyang Technological University/Bachelor of Engineering (Hons) (Materials Engineering)\",\"Nanyang Technological University/Bachelor of Engineering (Hons) (Mechanical Engineering)\",\"National University of Singapore/Bachelor of Engineering (Industrial and Systems Engineering)\",\"Singapore University of Technology and Design/Bachelor of Engineering (Information Systems Technology and Design)\",\"National University of Singapore/Bachelor of Engineering (Materials Science And Engineering)\",\"National University of Singapore/Bachelor of Engineering (Materials Science and Engineering)\",\"National University of Singapore/Bachelor of Engineering (Mechanical Engineering)\",\"Nanyang Technological University/Bachelor of Engineering and (Hons) (Chemical And Biomolecular Engineering)\",\"Singapore Institute of Technology/Bachelor of Engineering in Systems Engineering (ElectroMechanical Systems)\",\"Singapore Institute of Technology/Bachelor of Engineering with Honours in Aeronautical Engineering\",\"Singapore Institute of Technology/Bachelor of Engineering with Honours in Aerospace Systems\",\"Singapore Institute of Technology/Bachelor of Engineering with Honours in Chemical Engineering\",\"Singapore Institute of Technology/Bachelor of Engineering with Honours in Electrical Power Engineering\",\"Singapore Institute of Technology/Bachelor of Engineering with Honours in Information and Communications Technology (Information Security)\",\"Singapore Institute of Technology/Bachelor of Engineering with Honours in Information and Communications Technology (Software Engineering)\",\"Singapore Institute of Technology/Bachelor of Engineering with Honours in Marine Engineering\",\"Singapore Institute of Technology/Bachelor of Engineering with Honours in Mechanical Design Engineering\",\"Singapore Institute of Technology/Bachelor of Engineering with Honours in Mechanical Design and Manufacturing Engineering\",\"Singapore Institute of Technology/Bachelor of Engineering with Honours in Mechatronics\",\"Singapore Institute of Technology/Bachelor of Engineering with Honours in Naval Architecture\",\"Singapore Institute of Technology/Bachelor of Engineering with Honours in Offshore Engineering\",\"Singapore Institute of Technology/Bachelor of Engineering with Honours in Pharmaceutical Engineering\",\"Singapore Institute of Technology/Bachelor of Engineering with Honours in Sustainable Infrastructure\",\"Singapore Institute of Technology/Bachelor of Engineering with Honours in Sustainable Infrastructure Engineering (Building Services)\",\"Singapore Institute of Technology/Bachelor of Engineering with Honours in Sustainable Infrastructure Engineering (Land)\",\"Singapore Institute of Technology/Bachelor of Engineering with Honours in Systems Engineering (ElectroMechanical Systems)\",\"Singapore Institute of Technology/Bachelor of Engineering with Honours in Telematics (Intelligent Transportation Systems Engineering)\",\"National University of Singapore/Bachelor of Environmental Studies\",\"National University of Singapore/Bachelor of Environmental Studies7\",\"Nanyang Technological University/Bachelor of Fine Arts (Hons)\",\"Singapore Institute of Technology/Bachelor of Fine Arts in Digital Art and Animation\",\"Singapore Institute of Technology/Bachelor of Fine Arts in Digital Arts Animation\",\"Singapore Institute of Technology/Bachelor of Food Technology with Honours\",\"Singapore Institute of Technology/Bachelor of Hospitality Business with Honours\",\"Singapore University of Social Sciences/Bachelor of Human Resource Management\",\"National University of Singapore/Bachelor of Laws\",\"National University of Singapore/Bachelor of Laws (LLB) (Hons)\",\"National University of Singapore/Bachelor of Medicine And Bachelor Of Surgery\",\"National University of Singapore/Bachelor of Medicine and Bachelor Of Surgery\",\"National University of Singapore/Bachelor of Medicine and Bachelor of Surgery\",\"National University of Singapore/Bachelor of Medicine and Bachelor of Surgery (MBBS)\",\"National University of Singapore/Bachelor of Music\",\"Singapore Institute of Technology/Bachelor of Professional Studies in Culinary Arts Management\",\"National University of Singapore/Bachelor of Science\",\"Singapore University of Technology and Design/Bachelor of Science (Architecture and Sustainable Design)\",\"National University of Singapore/Bachelor of Science (Business Analytics)\",\"National University of Singapore/Bachelor of Science (Computational Biology)\",\"National University of Singapore/Bachelor of Science (Data Science and Analytics)\",\"National University of Singapore/Bachelor of Science (Hons)\",\"Nanyang Technological University/Bachelor of Science (Hons) (Education)\",\"Nanyang Technological University/Bachelor of Science (Hons) (Maritime Studies)\",\"Nanyang Technological University/Bachelor of Science (Hons) (Sport Science and Management)\",\"Nanyang Technological University/Bachelor of Science (Hons) in Biological Sciences\",\"Nanyang Technological University/Bachelor of Science (Hons) in Chemistry and Biological Chemistry\",\"Nanyang Technological University/Bachelor of Science (Hons) in Mathematical Sciences\",\"Nanyang Technological University/Bachelor of Science (Hons) in Mathematics and Economics\",\"Nanyang Technological University/Bachelor of Science (Hons) in PhysicsApplied Physics\",\"Singapore Institute of Technology/Bachelor of Science (Major in Hospitality Management)\",\"National University of Singapore/Bachelor of Science (Nursing)\",\"National University of Singapore/Bachelor of Science (Nursing) (Hons)\",\"National University of Singapore/Bachelor of Science (Pharmacy)\",\"National University of Singapore/Bachelor of Science (Pharmacy) (Hons)\",\"National University of Singapore/Bachelor of Science (Pharmacy)(Hons)\",\"National University of Singapore/Bachelor of Science (Project and Facilities Management)\",\"National University of Singapore/Bachelor of Science (Real Estate)\",\"Singapore Institute of Technology/Bachelor of Science in Chemical Engineering\",\"Singapore Institute of Technology/Bachelor of Science in Computer Science and Game Design\",\"Singapore Institute of Technology/Bachelor of Science in Computer Science in RealTime Interactive Simulation\",\"Singapore Institute of Technology/Bachelor of Science in Early Childhood Education\",\"Singapore Institute of Technology/Bachelor of Science in Electrical Engineering and Information Technology\",\"Singapore University of Social Sciences/Bachelor of Science in Finance\",\"Singapore University of Social Sciences/Bachelor of Science in Marketing\",\"Singapore University of Social Sciences/Bachelor of Science in Supply Chain Management\",\"National University of Singapore/Bachelor of Science with Honours\",\"Singapore Institute of Technology/Bachelor of Science with Honours in Computing Science\",\"Singapore Institute of Technology/Bachelor of Science with Honours in Food and Human Nutrition\",\"Singapore Institute of Technology/Bachelor of Science with Honours in Nursing\",\"Singapore Institute of Technology/Bachelor of Science with Honours in Nursing Practice\",\"National University of Singapore/Bachelor of Social Sciences\",\"Singapore University of Social Sciences/Bachelor of Social Work\",\"Nanyang Technological University/Bioengineering\",\"Nanyang Technological University/Biological Sciences\",\"Nanyang Technological University/Biomedical Science (Traditional Chinese Medicine)\",\"Nanyang Technological University/Biomedical Sciences (Traditional Chinese Medicine)\",\"Nanyang Technological University/Biomedical Sciences and Chinese Medicine\",\"Nanyang Technological University/Biomedical Sciences and Chinese Medicine \",\"Nanyang Technological University/Business\",\"Nanyang Technological University/Business (3yr direct Honours Programme)\",\"Singapore Management University/Business Management\",\"Singapore Management University/Business Management Cum Laude and above\",\"Nanyang Technological University/Business and Computing\",\"Nanyang Technological University/Chemical And Biomolecular Engineering\",\"Nanyang Technological University/Chemical and Biomolecular Engineering\",\"Nanyang Technological University/Chemistry and Biological Chemistry\",\"Nanyang Technological University/Chinese\",\"Nanyang Technological University/Civil Engineering\",\"Nanyang Technological University/Communication Studies\",\"Nanyang Technological University/Computer Engineering\",\"Nanyang Technological University/Computer Science\",\"Nanyang Technological University/Double Degree in Bachelor of Accountancy (Hons) and Bachelor of Business (Hons)\",\"Nanyang Technological University/Double Degree in Bachelor of Business (Hons) and Bachelor of Engineering (Hons) (Computer Science)\",\"Nanyang Technological University/Double Degree in Bachelor of Science (Hons) in Biomedical Sciences and Bachelor of Medicine (Chinese Medicine)\",\"Nanyang Technological University/Double Degree in Business and Computer\",\"Nanyang Technological University/Double Degree in Engineering and Economics\",\"Nanyang Technological University/Economics\",\"Singapore Management University/Economics\",\"Singapore Management University/Economics Cum Laude and above\",\"Nanyang Technological University/Electrical And Electronic Engineering\",\"Nanyang Technological University/Electrical and Electronic Engineering\",\"Nanyang Technological University/English\",\"Nanyang Technological University/Environmental Earth Systems Science\",\"Nanyang Technological University/Environmental Earth Systems Sciences\",\"Nanyang Technological University/Environmental Engineering\",\"Nanyang Technological University/History\",\"Nanyang Technological University/Information Engineering And Media\",\"Nanyang Technological University/Information Engineering and Media\",\"Singapore Management University/Information Systems\",\"Singapore Management University/Information Systems Cum Laude and above\",\"Singapore Management University/Information Systems Management\",\"Singapore Management University/Information Systems Management Cum Laude and above\",\"Nanyang Technological University/InterDisciplinary Double Major\",\"Singapore Management University/Law\",\"Singapore Management University/Law Cum Laude and above\",\"Nanyang Technological University/Linguistics And Multilingual Studies\",\"Nanyang Technological University/Linguistics and Multilingual Studies\",\"Nanyang Technological University/Maritime Studies\",\"Nanyang Technological University/Materials Engineering\",\"Nanyang Technological University/Mathematical Science\",\"Nanyang Technological University/Mathematical Sciences\",\"Nanyang Technological University/Mathematics and Economics\",\"Nanyang Technological University/Mechanical Engineering\",\"Nanyang Technological University/Medicine\",\"Nanyang Technological University/Philosophy\",\"Nanyang Technological University/Physics and Applied Physics\",\"Nanyang Technological University/Psychology\",\"Nanyang Technological University/Public Policy And Global Affairs\",\"Nanyang Technological University/Public Policy and Global Affairs\",\"Nanyang Technological University/Science (With Education)\",\"Nanyang Technological University/Science (with Education)\",\"Singapore Management University/Social Sciences\",\"Singapore Management University/Social Sciences Cum Laude and above\",\"Nanyang Technological University/Sociology\",\"Nanyang Technological University/Sport Science and Management\",\"Nanyang Technological University/Sports Science and Management\",\"Nanyang Technological University\",\"National University of Singapore\",\"Singapore Institute of Technology\",\"Singapore Management University\",\"Singapore University of Social Sciences\",\"Singapore University of Technology and Design\"],\"labels\":[\"Accountancy\",\"Accountancy\",\"Accountancy (3yr direct Honours Programme)\",\"Accountancy Cum Laude and above\",\"Accountancy and Business\",\"Aerospace Engineering\",\"Art Design and Media\",\"Arts (With Education)\",\"Arts (with Education)\",\"Bachelor in Science (Diagnostic Radiography)\",\"Bachelor in Science (Occupational Therapy)\",\"Bachelor in Science (Physiotherapy)\",\"Bachelor in Science (Radiation Therapy)\",\"Bachelor of Accountancy\",\"Bachelor of Accountancy (Hons)\",\"Bachelor of Accountancy with Honours\",\"Bachelor of Applied Science (Hons)\",\"Bachelor of Arts\",\"Bachelor of Arts (Architecture)\",\"Bachelor of Arts (Hons)\",\"Bachelor of Arts (Hons) (Education)\",\"Bachelor of Arts (Hons) in Chinese\",\"Bachelor of Arts (Hons) in Economics\",\"Bachelor of Arts (Hons) in English\",\"Bachelor of Arts (Hons) in History\",\"Bachelor of Arts (Hons) in Linguistics And Multilingual Studies\",\"Bachelor of Arts (Hons) in Psychology\",\"Bachelor of Arts (Hons) in Public Policy And Global Affairs\",\"Bachelor of Arts (Hons) in Sociology\",\"Bachelor of Arts (Industrial Design)\",\"Bachelor of Arts in Game Design\",\"Bachelor of Arts with Honours\",\"Bachelor of Arts with Honours in Communication Design\",\"Bachelor of Arts with Honours in Criminology and Security\",\"Bachelor of Arts with Honours in Interior Design\",\"Bachelor of Business (Hons)\",\"Bachelor of Business Administration\",\"Bachelor of Business Administration (Accountancy)\",\"Bachelor of Business Administration (Accountancy) (Hons)\",\"Bachelor of Business Administration (Hons)\",\"Bachelor of Business Administration in Food Business Management\",\"Bachelor of Communication Studies (Hons)\",\"Bachelor of Computing (Communications and Media)\",\"Bachelor of Computing (Computer Science)\",\"Bachelor of Computing (Electronic Commerce)\",\"Bachelor of Computing (Information Security)\",\"Bachelor of Computing (Information Systems)\",\"Bachelor of Dental Surgery\",\"Bachelor of Early Childhood Education\",\"Bachelor of Engineering (Bioengineering)\",\"Bachelor of Engineering (Biomedical Engineering)\",\"Bachelor of Engineering (Chemical Engineering)\",\"Bachelor of Engineering (Civil Engineering)\",\"Bachelor of Engineering (Computer Engineering)\",\"Bachelor of Engineering (Electrical Engineering)\",\"Bachelor of Engineering (Engineering Product Development)\",\"Bachelor of Engineering (Engineering Science)\",\"Bachelor of Engineering (Engineering Systems and Design)\",\"Bachelor of Engineering (Environmental Engineering)\",\"Bachelor of Engineering (Hons) (Aerospace Engineering)\",\"Bachelor of Engineering (Hons) (Bioengineering)\",\"Bachelor of Engineering (Hons) (Civil Engineering)\",\"Bachelor of Engineering (Hons) (Computer Engineering)\",\"Bachelor of Engineering (Hons) (Computer Science)\",\"Bachelor of Engineering (Hons) (Electrical and Electronic Engineering)\",\"Bachelor of Engineering (Hons) (Environmental Engineering)\",\"Bachelor of Engineering (Hons) (Information Engineering and Media)\",\"Bachelor of Engineering (Hons) (Materials Engineering)\",\"Bachelor of Engineering (Hons) (Mechanical Engineering)\",\"Bachelor of Engineering (Industrial and Systems Engineering)\",\"Bachelor of Engineering (Information Systems Technology and Design)\",\"Bachelor of Engineering (Materials Science And Engineering)\",\"Bachelor of Engineering (Materials Science and Engineering)\",\"Bachelor of Engineering (Mechanical Engineering)\",\"Bachelor of Engineering and (Hons) (Chemical And Biomolecular Engineering)\",\"Bachelor of Engineering in Systems Engineering (ElectroMechanical Systems)\",\"Bachelor of Engineering with Honours in Aeronautical Engineering\",\"Bachelor of Engineering with Honours in Aerospace Systems\",\"Bachelor of Engineering with Honours in Chemical Engineering\",\"Bachelor of Engineering with Honours in Electrical Power Engineering\",\"Bachelor of Engineering with Honours in Information and Communications Technology (Information Security)\",\"Bachelor of Engineering with Honours in Information and Communications Technology (Software Engineering)\",\"Bachelor of Engineering with Honours in Marine Engineering\",\"Bachelor of Engineering with Honours in Mechanical Design Engineering\",\"Bachelor of Engineering with Honours in Mechanical Design and Manufacturing Engineering\",\"Bachelor of Engineering with Honours in Mechatronics\",\"Bachelor of Engineering with Honours in Naval Architecture\",\"Bachelor of Engineering with Honours in Offshore Engineering\",\"Bachelor of Engineering with Honours in Pharmaceutical Engineering\",\"Bachelor of Engineering with Honours in Sustainable Infrastructure\",\"Bachelor of Engineering with Honours in Sustainable Infrastructure Engineering (Building Services)\",\"Bachelor of Engineering with Honours in Sustainable Infrastructure Engineering (Land)\",\"Bachelor of Engineering with Honours in Systems Engineering (ElectroMechanical Systems)\",\"Bachelor of Engineering with Honours in Telematics (Intelligent Transportation Systems Engineering)\",\"Bachelor of Environmental Studies\",\"Bachelor of Environmental Studies7\",\"Bachelor of Fine Arts (Hons)\",\"Bachelor of Fine Arts in Digital Art and Animation\",\"Bachelor of Fine Arts in Digital Arts Animation\",\"Bachelor of Food Technology with Honours\",\"Bachelor of Hospitality Business with Honours\",\"Bachelor of Human Resource Management\",\"Bachelor of Laws\",\"Bachelor of Laws (LLB) (Hons)\",\"Bachelor of Medicine And Bachelor Of Surgery\",\"Bachelor of Medicine and Bachelor Of Surgery\",\"Bachelor of Medicine and Bachelor of Surgery\",\"Bachelor of Medicine and Bachelor of Surgery (MBBS)\",\"Bachelor of Music\",\"Bachelor of Professional Studies in Culinary Arts Management\",\"Bachelor of Science\",\"Bachelor of Science (Architecture and Sustainable Design)\",\"Bachelor of Science (Business Analytics)\",\"Bachelor of Science (Computational Biology)\",\"Bachelor of Science (Data Science and Analytics)\",\"Bachelor of Science (Hons)\",\"Bachelor of Science (Hons) (Education)\",\"Bachelor of Science (Hons) (Maritime Studies)\",\"Bachelor of Science (Hons) (Sport Science and Management)\",\"Bachelor of Science (Hons) in Biological Sciences\",\"Bachelor of Science (Hons) in Chemistry and Biological Chemistry\",\"Bachelor of Science (Hons) in Mathematical Sciences\",\"Bachelor of Science (Hons) in Mathematics and Economics\",\"Bachelor of Science (Hons) in PhysicsApplied Physics\",\"Bachelor of Science (Major in Hospitality Management)\",\"Bachelor of Science (Nursing)\",\"Bachelor of Science (Nursing) (Hons)\",\"Bachelor of Science (Pharmacy)\",\"Bachelor of Science (Pharmacy) (Hons)\",\"Bachelor of Science (Pharmacy)(Hons)\",\"Bachelor of Science (Project and Facilities Management)\",\"Bachelor of Science (Real Estate)\",\"Bachelor of Science in Chemical Engineering\",\"Bachelor of Science in Computer Science and Game Design\",\"Bachelor of Science in Computer Science in RealTime Interactive Simulation\",\"Bachelor of Science in Early Childhood Education\",\"Bachelor of Science in Electrical Engineering and Information Technology\",\"Bachelor of Science in Finance\",\"Bachelor of Science in Marketing\",\"Bachelor of Science in Supply Chain Management\",\"Bachelor of Science with Honours\",\"Bachelor of Science with Honours in Computing Science\",\"Bachelor of Science with Honours in Food and Human Nutrition\",\"Bachelor of Science with Honours in Nursing\",\"Bachelor of Science with Honours in Nursing Practice\",\"Bachelor of Social Sciences\",\"Bachelor of Social Work\",\"Bioengineering\",\"Biological Sciences\",\"Biomedical Science (Traditional Chinese Medicine)\",\"Biomedical Sciences (Traditional Chinese Medicine)\",\"Biomedical Sciences and Chinese Medicine\",\"Biomedical Sciences and Chinese Medicine \",\"Business\",\"Business (3yr direct Honours Programme)\",\"Business Management\",\"Business Management Cum Laude and above\",\"Business and Computing\",\"Chemical And Biomolecular Engineering\",\"Chemical and Biomolecular Engineering\",\"Chemistry and Biological Chemistry\",\"Chinese\",\"Civil Engineering\",\"Communication Studies\",\"Computer Engineering\",\"Computer Science\",\"Double Degree in Bachelor of Accountancy (Hons) and Bachelor of Business (Hons)\",\"Double Degree in Bachelor of Business (Hons) and Bachelor of Engineering (Hons) (Computer Science)\",\"Double Degree in Bachelor of Science (Hons) in Biomedical Sciences and Bachelor of Medicine (Chinese Medicine)\",\"Double Degree in Business and Computer\",\"Double Degree in Engineering and Economics\",\"Economics\",\"Economics\",\"Economics Cum Laude and above\",\"Electrical And Electronic Engineering\",\"Electrical and Electronic Engineering\",\"English\",\"Environmental Earth Systems Science\",\"Environmental Earth Systems Sciences\",\"Environmental Engineering\",\"History\",\"Information Engineering And Media\",\"Information Engineering and Media\",\"Information Systems\",\"Information Systems Cum Laude and above\",\"Information Systems Management\",\"Information Systems Management Cum Laude and above\",\"InterDisciplinary Double Major\",\"Law\",\"Law Cum Laude and above\",\"Linguistics And Multilingual Studies\",\"Linguistics and Multilingual Studies\",\"Maritime Studies\",\"Materials Engineering\",\"Mathematical Science\",\"Mathematical Sciences\",\"Mathematics and Economics\",\"Mechanical Engineering\",\"Medicine\",\"Philosophy\",\"Physics and Applied Physics\",\"Psychology\",\"Public Policy And Global Affairs\",\"Public Policy and Global Affairs\",\"Science (With Education)\",\"Science (with Education)\",\"Social Sciences\",\"Social Sciences Cum Laude and above\",\"Sociology\",\"Sport Science and Management\",\"Sports Science and Management\",\"Nanyang Technological University\",\"National University of Singapore\",\"Singapore Institute of Technology\",\"Singapore Management University\",\"Singapore University of Social Sciences\",\"Singapore University of Technology and Design\"],\"marker\":{\"coloraxis\":\"coloraxis\",\"colors\":[3164.4553422182066,3475.0278472248933,3010.5386663707977,3977.1515432462957,4073.6618981490287,3736.4531546391754,2906.319976585781,3618.0,3477.800303521901,3408.782929487717,3291.6046348314608,3344.113608622556,3380.0,2909.0202270381837,3121.0,3142.3908417079715,2991.742485238862,3018.75071703315,4086.320418615008,3272.4457796911024,3489.0,3119.0,3286.0,3042.0,3206.0,3042.0,3107.0,3353.0,3263.0,3083.536723286718,3072.22140140433,4089.4182187368715,2747.6415896937287,3795.730573710966,2632.3848984771575,3530.0,3749.8849781627337,3288.677215846598,3584.3366775854,4147.086350479455,2588.690434782609,3134.0,3232.048002477547,4510.659262831138,3238.8309830159546,4620.0,3947.4656539307452,4109.417867341641,2879.0,2823.0,3290.953322710657,3539.4741710329695,3402.9804718964265,4101.757978287251,3626.3433928769555,3729.122768892687,3708.7518450766415,3839.9826691007374,3363.2873583745063,3645.0,3326.0,3373.0,3667.0,4078.0,3532.0,3538.0,3685.0,3288.0,3422.0,3829.6029143897995,4297.83651417047,3325.943157894737,3386.5984719174185,3475.7468588607107,3326.0,3931.0,3272.9037466044797,3374.1585480907693,3133.4428343362397,3346.5885344429034,4118.115946956817,4033.1982017783516,3436.5138039568346,3401.7209439528024,3187.606507089201,3430.3972856863893,3294.5741707404645,3413.201968197785,3268.2422727736407,3585.0,3433.0,3757.5328432155984,4044.0,3884.364269141531,3349.169851887243,3251.0,2862.0,2927.8118974358977,2795.181083265966,2995.379341050757,2891.6115702479337,2943.6685539576492,5007.011415525114,4915.769113383183,4367.0,4460.0,4491.515948303304,4406.0,3007.7704737652866,2378.7404210526315,2977.7551602542508,3888.094809403776,4551.465566737121,4563.0,4417.0,3331.417481956696,3610.0,3279.0,3372.0,3177.0,3035.0,3517.0,3504.0,3367.0,2480.4939516129034,3097.4957571308273,3234.666205358065,3562.7022864019254,3457.0995082441423,3500.0,3100.2487298716956,3186.2565854478944,2977.2481612486667,3445.9220696263174,3839.6459924053734,2760.4524190033417,3237.807749627422,3542.892879362027,2994.2002406095444,3125.0,5662.630989372536,3781.2555348092824,2744.452436533411,3396.0607490415805,3357.869364334153,3362.2721527791578,3443.0,3212.4358530486634,3147.6330223560813,2904.7364795039616,2840.0,2681.71875,2952.5447925486874,3636.384906403941,3213.443336449569,3783.295178909722,4231.931685265387,4085.919217757241,3248.495378927911,3463.6099491601776,3103.0995333598094,3068.271306139888,3321.3934479553905,3029.102306869685,3680.2271343064162,3783.7747992588015,3830.0,5036.0,2722.0,5216.0,4459.0,3371.643256112078,3839.5826925424144,4296.701991509552,3394.707424867413,3519.822542195099,3118.5244098380917,3347.0,3483.2235846345434,3315.0395643269408,3401.2205435516544,3387.240579281809,3603.375993269141,4307.499767333644,4834.315678229516,3627.493967902601,4052.968015892724,3608.0,4861.235055223983,5114.462303890244,3343.703382220892,3021.2650121238053,3305.881869926285,3307.7636686362894,3151.2505029115932,3640.593101822753,3479.5738225946257,3388.8532193732194,4880.789193250906,3218.4178760510745,3398.510514684104,3210.6800576299675,3756.0,3678.1114548266764,3600.0,3499.371110417317,3286.4831780643585,3609.487192328381,3218.1071865040376,3172.0,3190.1176033813113,3413.1898969533418,3689.327793519007,3289.1000197200447,4125.277015068231,3141.465625763872,3959.988214700891]},\"name\":\"\",\"parents\":[\"Nanyang Technological University\",\"Singapore Management University\",\"Nanyang Technological University\",\"Singapore Management University\",\"Nanyang Technological University\",\"Nanyang Technological University\",\"Nanyang Technological University\",\"Nanyang Technological University\",\"Nanyang Technological University\",\"Singapore Institute of Technology\",\"Singapore Institute of Technology\",\"Singapore Institute of Technology\",\"Singapore Institute of Technology\",\"Singapore University of Social Sciences\",\"Nanyang Technological University\",\"Singapore Institute of Technology\",\"National University of Singapore\",\"National University of Singapore\",\"National University of Singapore\",\"National University of Singapore\",\"Nanyang Technological University\",\"Nanyang Technological University\",\"Nanyang Technological University\",\"Nanyang Technological University\",\"Nanyang Technological University\",\"Nanyang Technological University\",\"Nanyang Technological University\",\"Nanyang Technological University\",\"Nanyang Technological University\",\"National University of Singapore\",\"Singapore Institute of Technology\",\"National University of Singapore\",\"Singapore Institute of Technology\",\"Singapore Institute of Technology\",\"Singapore Institute of Technology\",\"Nanyang Technological University\",\"National University of Singapore\",\"National University of Singapore\",\"National University of Singapore\",\"National University of Singapore\",\"Singapore Institute of Technology\",\"Nanyang Technological University\",\"National University of Singapore\",\"National University of Singapore\",\"National University of Singapore\",\"National University of Singapore\",\"National University of Singapore\",\"National University of Singapore\",\"Singapore University of Social Sciences\",\"National University of Singapore\",\"National University of Singapore\",\"National University of Singapore\",\"National University of Singapore\",\"National University of Singapore\",\"National University of Singapore\",\"Singapore University of Technology and Design\",\"National University of Singapore\",\"Singapore University of Technology and Design\",\"National University of Singapore\",\"Nanyang Technological University\",\"Nanyang Technological University\",\"Nanyang Technological University\",\"Nanyang Technological University\",\"Nanyang Technological University\",\"Nanyang Technological University\",\"Nanyang Technological University\",\"Nanyang Technological University\",\"Nanyang Technological University\",\"Nanyang Technological University\",\"National University of Singapore\",\"Singapore University of Technology and Design\",\"National University of Singapore\",\"National University of Singapore\",\"National University of Singapore\",\"Nanyang Technological University\",\"Singapore Institute of Technology\",\"Singapore Institute of Technology\",\"Singapore Institute of Technology\",\"Singapore Institute of Technology\",\"Singapore Institute of Technology\",\"Singapore Institute of Technology\",\"Singapore Institute of Technology\",\"Singapore Institute of Technology\",\"Singapore Institute of Technology\",\"Singapore Institute of Technology\",\"Singapore Institute of Technology\",\"Singapore Institute of Technology\",\"Singapore Institute of Technology\",\"Singapore Institute of Technology\",\"Singapore Institute of Technology\",\"Singapore Institute of Technology\",\"Singapore Institute of Technology\",\"Singapore Institute of Technology\",\"Singapore Institute of Technology\",\"National University of Singapore\",\"National University of Singapore\",\"Nanyang Technological University\",\"Singapore Institute of Technology\",\"Singapore Institute of Technology\",\"Singapore Institute of Technology\",\"Singapore Institute of Technology\",\"Singapore University of Social Sciences\",\"National University of Singapore\",\"National University of Singapore\",\"National University of Singapore\",\"National University of Singapore\",\"National University of Singapore\",\"National University of Singapore\",\"National University of Singapore\",\"Singapore Institute of Technology\",\"National University of Singapore\",\"Singapore University of Technology and Design\",\"National University of Singapore\",\"National University of Singapore\",\"National University of Singapore\",\"National University of Singapore\",\"Nanyang Technological University\",\"Nanyang Technological University\",\"Nanyang Technological University\",\"Nanyang Technological University\",\"Nanyang Technological University\",\"Nanyang Technological University\",\"Nanyang Technological University\",\"Nanyang Technological University\",\"Singapore Institute of Technology\",\"National University of Singapore\",\"National University of Singapore\",\"National University of Singapore\",\"National University of Singapore\",\"National University of Singapore\",\"National University of Singapore\",\"National University of Singapore\",\"Singapore Institute of Technology\",\"Singapore Institute of Technology\",\"Singapore Institute of Technology\",\"Singapore Institute of Technology\",\"Singapore Institute of Technology\",\"Singapore University of Social Sciences\",\"Singapore University of Social Sciences\",\"Singapore University of Social Sciences\",\"National University of Singapore\",\"Singapore Institute of Technology\",\"Singapore Institute of Technology\",\"Singapore Institute of Technology\",\"Singapore Institute of Technology\",\"National University of Singapore\",\"Singapore University of Social Sciences\",\"Nanyang Technological University\",\"Nanyang Technological University\",\"Nanyang Technological University\",\"Nanyang Technological University\",\"Nanyang Technological University\",\"Nanyang Technological University\",\"Nanyang Technological University\",\"Nanyang Technological University\",\"Singapore Management University\",\"Singapore Management University\",\"Nanyang Technological University\",\"Nanyang Technological University\",\"Nanyang Technological University\",\"Nanyang Technological University\",\"Nanyang Technological University\",\"Nanyang Technological University\",\"Nanyang Technological University\",\"Nanyang Technological University\",\"Nanyang Technological University\",\"Nanyang Technological University\",\"Nanyang Technological University\",\"Nanyang Technological University\",\"Nanyang Technological University\",\"Nanyang Technological University\",\"Nanyang Technological University\",\"Singapore Management University\",\"Singapore Management University\",\"Nanyang Technological University\",\"Nanyang Technological University\",\"Nanyang Technological University\",\"Nanyang Technological University\",\"Nanyang Technological University\",\"Nanyang Technological University\",\"Nanyang Technological University\",\"Nanyang Technological University\",\"Nanyang Technological University\",\"Singapore Management University\",\"Singapore Management University\",\"Singapore Management University\",\"Singapore Management University\",\"Nanyang Technological University\",\"Singapore Management University\",\"Singapore Management University\",\"Nanyang Technological University\",\"Nanyang Technological University\",\"Nanyang Technological University\",\"Nanyang Technological University\",\"Nanyang Technological University\",\"Nanyang Technological University\",\"Nanyang Technological University\",\"Nanyang Technological University\",\"Nanyang Technological University\",\"Nanyang Technological University\",\"Nanyang Technological University\",\"Nanyang Technological University\",\"Nanyang Technological University\",\"Nanyang Technological University\",\"Nanyang Technological University\",\"Nanyang Technological University\",\"Singapore Management University\",\"Singapore Management University\",\"Nanyang Technological University\",\"Nanyang Technological University\",\"Nanyang Technological University\",\"\",\"\",\"\",\"\",\"\",\"\"],\"type\":\"treemap\",\"values\":[22135,51998,18026,59323,52567,48500,37584,7236,38218,23854,42720,43421,3380,14535,6242,21991,29808,44977,44910,49013,6978,6238,6572,6084,6412,6084,6214,6706,6526,45979,27344,28564,32912,30294,31520,7060,54494,48187,53425,61841,10350,6268,19374,66362,19430,4620,58653,61632,2879,5646,42676,52867,50901,60978,54078,40955,47559,42179,50397,7290,6652,6746,7334,8156,7064,7076,7370,6576,6844,57096,47105,13300,36909,51892,6652,7862,39022,40278,40715,36771,20587,20131,44480,40680,41401,40968,36207,37293,9803,3585,6866,18771,4044,11637,33488,3251,5724,14625,22266,8984,20207,8831,35040,39318,8734,8920,31414,8812,31809,19000,44523,19439,31699,4563,4417,49880,7220,6558,6744,6354,6070,7034,7008,6734,9920,46313,48413,24930,20742,7000,46452,47567,35622,37572,48982,27532,32208,17681,14962,3125,38297,37490,27416,13564,26838,50321,3443,41592,40839,11612,5680,8000,11810,25375,19254,56481,63266,48476,12984,31078,40288,39789,43040,39274,47615,48570,7660,10072,5444,5216,4459,43684,57351,64072,13576,31461,40455,6694,10439,42968,23696,13534,32091,21490,24129,36140,40270,3608,72885,76679,20046,21033,42868,42817,18890,25456,38071,43875,14639,16055,43891,41645,7512,10991,7200,38436,49162,53913,41731,6344,35016,1765705,1881471,1151113,727159,65456,149678]}],                        {\"coloraxis\":{\"colorbar\":{\"title\":{\"text\":\"basic_monthly_mean\"}},\"colorscale\":[[0.0,\"#0d0887\"],[0.1111111111111111,\"#46039f\"],[0.2222222222222222,\"#7201a8\"],[0.3333333333333333,\"#9c179e\"],[0.4444444444444444,\"#bd3786\"],[0.5555555555555556,\"#d8576b\"],[0.6666666666666666,\"#ed7953\"],[0.7777777777777778,\"#fb9f3a\"],[0.8888888888888888,\"#fdca26\"],[1.0,\"#f0f921\"]]},\"legend\":{\"tracegroupgap\":0},\"margin\":{\"t\":60},\"template\":{\"data\":{\"bar\":[{\"error_x\":{\"color\":\"#2a3f5f\"},\"error_y\":{\"color\":\"#2a3f5f\"},\"marker\":{\"line\":{\"color\":\"#E5ECF6\",\"width\":0.5},\"pattern\":{\"fillmode\":\"overlay\",\"size\":10,\"solidity\":0.2}},\"type\":\"bar\"}],\"barpolar\":[{\"marker\":{\"line\":{\"color\":\"#E5ECF6\",\"width\":0.5},\"pattern\":{\"fillmode\":\"overlay\",\"size\":10,\"solidity\":0.2}},\"type\":\"barpolar\"}],\"carpet\":[{\"aaxis\":{\"endlinecolor\":\"#2a3f5f\",\"gridcolor\":\"white\",\"linecolor\":\"white\",\"minorgridcolor\":\"white\",\"startlinecolor\":\"#2a3f5f\"},\"baxis\":{\"endlinecolor\":\"#2a3f5f\",\"gridcolor\":\"white\",\"linecolor\":\"white\",\"minorgridcolor\":\"white\",\"startlinecolor\":\"#2a3f5f\"},\"type\":\"carpet\"}],\"choropleth\":[{\"colorbar\":{\"outlinewidth\":0,\"ticks\":\"\"},\"type\":\"choropleth\"}],\"contour\":[{\"colorbar\":{\"outlinewidth\":0,\"ticks\":\"\"},\"colorscale\":[[0.0,\"#0d0887\"],[0.1111111111111111,\"#46039f\"],[0.2222222222222222,\"#7201a8\"],[0.3333333333333333,\"#9c179e\"],[0.4444444444444444,\"#bd3786\"],[0.5555555555555556,\"#d8576b\"],[0.6666666666666666,\"#ed7953\"],[0.7777777777777778,\"#fb9f3a\"],[0.8888888888888888,\"#fdca26\"],[1.0,\"#f0f921\"]],\"type\":\"contour\"}],\"contourcarpet\":[{\"colorbar\":{\"outlinewidth\":0,\"ticks\":\"\"},\"type\":\"contourcarpet\"}],\"heatmap\":[{\"colorbar\":{\"outlinewidth\":0,\"ticks\":\"\"},\"colorscale\":[[0.0,\"#0d0887\"],[0.1111111111111111,\"#46039f\"],[0.2222222222222222,\"#7201a8\"],[0.3333333333333333,\"#9c179e\"],[0.4444444444444444,\"#bd3786\"],[0.5555555555555556,\"#d8576b\"],[0.6666666666666666,\"#ed7953\"],[0.7777777777777778,\"#fb9f3a\"],[0.8888888888888888,\"#fdca26\"],[1.0,\"#f0f921\"]],\"type\":\"heatmap\"}],\"heatmapgl\":[{\"colorbar\":{\"outlinewidth\":0,\"ticks\":\"\"},\"colorscale\":[[0.0,\"#0d0887\"],[0.1111111111111111,\"#46039f\"],[0.2222222222222222,\"#7201a8\"],[0.3333333333333333,\"#9c179e\"],[0.4444444444444444,\"#bd3786\"],[0.5555555555555556,\"#d8576b\"],[0.6666666666666666,\"#ed7953\"],[0.7777777777777778,\"#fb9f3a\"],[0.8888888888888888,\"#fdca26\"],[1.0,\"#f0f921\"]],\"type\":\"heatmapgl\"}],\"histogram\":[{\"marker\":{\"pattern\":{\"fillmode\":\"overlay\",\"size\":10,\"solidity\":0.2}},\"type\":\"histogram\"}],\"histogram2d\":[{\"colorbar\":{\"outlinewidth\":0,\"ticks\":\"\"},\"colorscale\":[[0.0,\"#0d0887\"],[0.1111111111111111,\"#46039f\"],[0.2222222222222222,\"#7201a8\"],[0.3333333333333333,\"#9c179e\"],[0.4444444444444444,\"#bd3786\"],[0.5555555555555556,\"#d8576b\"],[0.6666666666666666,\"#ed7953\"],[0.7777777777777778,\"#fb9f3a\"],[0.8888888888888888,\"#fdca26\"],[1.0,\"#f0f921\"]],\"type\":\"histogram2d\"}],\"histogram2dcontour\":[{\"colorbar\":{\"outlinewidth\":0,\"ticks\":\"\"},\"colorscale\":[[0.0,\"#0d0887\"],[0.1111111111111111,\"#46039f\"],[0.2222222222222222,\"#7201a8\"],[0.3333333333333333,\"#9c179e\"],[0.4444444444444444,\"#bd3786\"],[0.5555555555555556,\"#d8576b\"],[0.6666666666666666,\"#ed7953\"],[0.7777777777777778,\"#fb9f3a\"],[0.8888888888888888,\"#fdca26\"],[1.0,\"#f0f921\"]],\"type\":\"histogram2dcontour\"}],\"mesh3d\":[{\"colorbar\":{\"outlinewidth\":0,\"ticks\":\"\"},\"type\":\"mesh3d\"}],\"parcoords\":[{\"line\":{\"colorbar\":{\"outlinewidth\":0,\"ticks\":\"\"}},\"type\":\"parcoords\"}],\"pie\":[{\"automargin\":true,\"type\":\"pie\"}],\"scatter\":[{\"marker\":{\"colorbar\":{\"outlinewidth\":0,\"ticks\":\"\"}},\"type\":\"scatter\"}],\"scatter3d\":[{\"line\":{\"colorbar\":{\"outlinewidth\":0,\"ticks\":\"\"}},\"marker\":{\"colorbar\":{\"outlinewidth\":0,\"ticks\":\"\"}},\"type\":\"scatter3d\"}],\"scattercarpet\":[{\"marker\":{\"colorbar\":{\"outlinewidth\":0,\"ticks\":\"\"}},\"type\":\"scattercarpet\"}],\"scattergeo\":[{\"marker\":{\"colorbar\":{\"outlinewidth\":0,\"ticks\":\"\"}},\"type\":\"scattergeo\"}],\"scattergl\":[{\"marker\":{\"colorbar\":{\"outlinewidth\":0,\"ticks\":\"\"}},\"type\":\"scattergl\"}],\"scattermapbox\":[{\"marker\":{\"colorbar\":{\"outlinewidth\":0,\"ticks\":\"\"}},\"type\":\"scattermapbox\"}],\"scatterpolar\":[{\"marker\":{\"colorbar\":{\"outlinewidth\":0,\"ticks\":\"\"}},\"type\":\"scatterpolar\"}],\"scatterpolargl\":[{\"marker\":{\"colorbar\":{\"outlinewidth\":0,\"ticks\":\"\"}},\"type\":\"scatterpolargl\"}],\"scatterternary\":[{\"marker\":{\"colorbar\":{\"outlinewidth\":0,\"ticks\":\"\"}},\"type\":\"scatterternary\"}],\"surface\":[{\"colorbar\":{\"outlinewidth\":0,\"ticks\":\"\"},\"colorscale\":[[0.0,\"#0d0887\"],[0.1111111111111111,\"#46039f\"],[0.2222222222222222,\"#7201a8\"],[0.3333333333333333,\"#9c179e\"],[0.4444444444444444,\"#bd3786\"],[0.5555555555555556,\"#d8576b\"],[0.6666666666666666,\"#ed7953\"],[0.7777777777777778,\"#fb9f3a\"],[0.8888888888888888,\"#fdca26\"],[1.0,\"#f0f921\"]],\"type\":\"surface\"}],\"table\":[{\"cells\":{\"fill\":{\"color\":\"#EBF0F8\"},\"line\":{\"color\":\"white\"}},\"header\":{\"fill\":{\"color\":\"#C8D4E3\"},\"line\":{\"color\":\"white\"}},\"type\":\"table\"}]},\"layout\":{\"annotationdefaults\":{\"arrowcolor\":\"#2a3f5f\",\"arrowhead\":0,\"arrowwidth\":1},\"autotypenumbers\":\"strict\",\"coloraxis\":{\"colorbar\":{\"outlinewidth\":0,\"ticks\":\"\"}},\"colorscale\":{\"diverging\":[[0,\"#8e0152\"],[0.1,\"#c51b7d\"],[0.2,\"#de77ae\"],[0.3,\"#f1b6da\"],[0.4,\"#fde0ef\"],[0.5,\"#f7f7f7\"],[0.6,\"#e6f5d0\"],[0.7,\"#b8e186\"],[0.8,\"#7fbc41\"],[0.9,\"#4d9221\"],[1,\"#276419\"]],\"sequential\":[[0.0,\"#0d0887\"],[0.1111111111111111,\"#46039f\"],[0.2222222222222222,\"#7201a8\"],[0.3333333333333333,\"#9c179e\"],[0.4444444444444444,\"#bd3786\"],[0.5555555555555556,\"#d8576b\"],[0.6666666666666666,\"#ed7953\"],[0.7777777777777778,\"#fb9f3a\"],[0.8888888888888888,\"#fdca26\"],[1.0,\"#f0f921\"]],\"sequentialminus\":[[0.0,\"#0d0887\"],[0.1111111111111111,\"#46039f\"],[0.2222222222222222,\"#7201a8\"],[0.3333333333333333,\"#9c179e\"],[0.4444444444444444,\"#bd3786\"],[0.5555555555555556,\"#d8576b\"],[0.6666666666666666,\"#ed7953\"],[0.7777777777777778,\"#fb9f3a\"],[0.8888888888888888,\"#fdca26\"],[1.0,\"#f0f921\"]]},\"colorway\":[\"#636efa\",\"#EF553B\",\"#00cc96\",\"#ab63fa\",\"#FFA15A\",\"#19d3f3\",\"#FF6692\",\"#B6E880\",\"#FF97FF\",\"#FECB52\"],\"font\":{\"color\":\"#2a3f5f\"},\"geo\":{\"bgcolor\":\"white\",\"lakecolor\":\"white\",\"landcolor\":\"#E5ECF6\",\"showlakes\":true,\"showland\":true,\"subunitcolor\":\"white\"},\"hoverlabel\":{\"align\":\"left\"},\"hovermode\":\"closest\",\"mapbox\":{\"style\":\"light\"},\"paper_bgcolor\":\"white\",\"plot_bgcolor\":\"#E5ECF6\",\"polar\":{\"angularaxis\":{\"gridcolor\":\"white\",\"linecolor\":\"white\",\"ticks\":\"\"},\"bgcolor\":\"#E5ECF6\",\"radialaxis\":{\"gridcolor\":\"white\",\"linecolor\":\"white\",\"ticks\":\"\"}},\"scene\":{\"xaxis\":{\"backgroundcolor\":\"#E5ECF6\",\"gridcolor\":\"white\",\"gridwidth\":2,\"linecolor\":\"white\",\"showbackground\":true,\"ticks\":\"\",\"zerolinecolor\":\"white\"},\"yaxis\":{\"backgroundcolor\":\"#E5ECF6\",\"gridcolor\":\"white\",\"gridwidth\":2,\"linecolor\":\"white\",\"showbackground\":true,\"ticks\":\"\",\"zerolinecolor\":\"white\"},\"zaxis\":{\"backgroundcolor\":\"#E5ECF6\",\"gridcolor\":\"white\",\"gridwidth\":2,\"linecolor\":\"white\",\"showbackground\":true,\"ticks\":\"\",\"zerolinecolor\":\"white\"}},\"shapedefaults\":{\"line\":{\"color\":\"#2a3f5f\"}},\"ternary\":{\"aaxis\":{\"gridcolor\":\"white\",\"linecolor\":\"white\",\"ticks\":\"\"},\"baxis\":{\"gridcolor\":\"white\",\"linecolor\":\"white\",\"ticks\":\"\"},\"bgcolor\":\"#E5ECF6\",\"caxis\":{\"gridcolor\":\"white\",\"linecolor\":\"white\",\"ticks\":\"\"}},\"title\":{\"x\":0.05},\"xaxis\":{\"automargin\":true,\"gridcolor\":\"white\",\"linecolor\":\"white\",\"ticks\":\"\",\"title\":{\"standoff\":15},\"zerolinecolor\":\"white\",\"zerolinewidth\":2},\"yaxis\":{\"automargin\":true,\"gridcolor\":\"white\",\"linecolor\":\"white\",\"ticks\":\"\",\"title\":{\"standoff\":15},\"zerolinecolor\":\"white\",\"zerolinewidth\":2}}}},                        {\"responsive\": true}                    ).then(function(){\n",
       "                            \n",
       "var gd = document.getElementById('0056e423-9743-45de-951c-cce4f497bcf4');\n",
       "var x = new MutationObserver(function (mutations, observer) {{\n",
       "        var display = window.getComputedStyle(gd).display;\n",
       "        if (!display || display === 'none') {{\n",
       "            console.log([gd, 'removed!']);\n",
       "            Plotly.purge(gd);\n",
       "            observer.disconnect();\n",
       "        }}\n",
       "}});\n",
       "\n",
       "// Listen for the removal of the full notebook cells\n",
       "var notebookContainer = gd.closest('#notebook-container');\n",
       "if (notebookContainer) {{\n",
       "    x.observe(notebookContainer, {childList: true});\n",
       "}}\n",
       "\n",
       "// Listen for the clearing of the current output cell\n",
       "var outputEl = gd.closest('.output');\n",
       "if (outputEl) {{\n",
       "    x.observe(outputEl, {childList: true});\n",
       "}}\n",
       "\n",
       "                        })                };                });            </script>        </div>"
      ]
     },
     "metadata": {},
     "output_type": "display_data"
    }
   ],
   "source": [
    "fig2 = px.treemap(df, \n",
    "                 path=['university', 'degree'], \n",
    "                 values='basic_monthly_mean',\n",
    "                 color='basic_monthly_mean'\n",
    "                )\n",
    "fig2.show()"
   ]
  },
  {
   "cell_type": "code",
   "execution_count": 14,
   "metadata": {},
   "outputs": [
    {
     "data": {
      "application/vnd.plotly.v1+json": {
       "config": {
        "plotlyServerURL": "https://plot.ly"
       },
       "data": [
        {
         "branchvalues": "total",
         "customdata": [
          [
           0.9601785714285715
          ],
          [
           0.9438414372967395
          ],
          [
           0.9666896551724138
          ],
          [
           0.9513277093306127
          ],
          [
           0.9766679269061118
          ],
          [
           0.8784075714861055
          ],
          [
           0.8106710126032163
          ],
          [
           0.10000000000000002
          ],
          [
           0.5499999999999999
          ],
          [
           0.8999588477366255
          ],
          [
           0.7508163265306119
          ],
          [
           0.7572612886859461
          ],
          [
           1
          ],
          [
           0.9462369868810834
          ],
          [
           0.97
          ],
          [
           0.9479764847753996
          ],
          [
           0.8841144414168937
          ],
          [
           0.848995284501729
          ],
          [
           0.9280045871559632
          ],
          [
           0.8708949272241838
          ],
          [
           0.10000000000000002
          ],
          [
           0.8399999999999999
          ],
          [
           0.8399999999999999
          ],
          [
           0.7699999999999999
          ],
          [
           0.08
          ],
          [
           0.08
          ],
          [
           0.78
          ],
          [
           0.74
          ],
          [
           0.7699999999999999
          ],
          [
           0.8396608624398242
          ],
          [
           0.8800307692307693
          ],
          [
           0.8819863013698629
          ],
          [
           0.850748031496063
          ],
          [
           0.8751002865329512
          ],
          [
           0.9146715328467154
          ],
          [
           0.09
          ],
          [
           0.9003373124430075
          ],
          [
           0.9361380711383562
          ],
          [
           0.9176054888507718
          ],
          [
           0.9423624592898563
          ],
          [
           0.7936170212765956
          ],
          [
           0.92
          ],
          [
           0.8752671755725189
          ],
          [
           0.9229455032033088
          ],
          [
           0.877148288973384
          ],
          [
           0.909
          ],
          [
           0.938240140507744
          ],
          [
           0.47499999999999987
          ],
          [
           1
          ],
          [
           0.07
          ],
          [
           0.8660335175610627
          ],
          [
           0.8793424423569598
          ],
          [
           0.9383825289190268
          ],
          [
           0.9057942844516458
          ],
          [
           0.8871524852569501
          ],
          [
           0.8886212889210715
          ],
          [
           0.8321290651348098
          ],
          [
           0.8363294549908146
          ],
          [
           0.894011976047904
          ],
          [
           0.08
          ],
          [
           0.78
          ],
          [
           0.98
          ],
          [
           0.9500000000000001
          ],
          [
           0.92
          ],
          [
           0.89
          ],
          [
           0.7100000000000001
          ],
          [
           0.8599999999999999
          ],
          [
           0.8399999999999999
          ],
          [
           0.82
          ],
          [
           0.9292243017564062
          ],
          [
           0.8845905971674698
          ],
          [
           0.8263636363636363
          ],
          [
           0.8271629191828344
          ],
          [
           0.8690555842367921
          ],
          [
           0.82
          ],
          [
           0.9500000000000001
          ],
          [
           0.7679104477611941
          ],
          [
           0.8139810426540282
          ],
          [
           0.8502903694290639
          ],
          [
           0.9054438914563336
          ],
          [
           0.9241401273885351
          ],
          [
           0.89825081645983
          ],
          [
           0.9321092278719394
          ],
          [
           0.8583557951482477
          ],
          [
           0.8968516039695363
          ],
          [
           0.9127906976744189
          ],
          [
           0.7210028851702249
          ],
          [
           0.8533684917201254
          ],
          [
           0.9274493170381022
          ],
          [
           0.9810000000000001
          ],
          [
           0.92
          ],
          [
           0.9587645585472762
          ],
          [
           0.9570000000000001
          ],
          [
           0.7821443755535872
          ],
          [
           0.8327053140096619
          ],
          [
           0.929
          ],
          [
           0.88
          ],
          [
           0.8867016549535255
          ],
          [
           0.8530088495575222
          ],
          [
           0.8149328621908127
          ],
          [
           0.9145805594624159
          ],
          [
           0.8823265306122449
          ],
          [
           0.9514154400720937
          ],
          [
           0.9725706940874036
          ],
          [
           0.10000000000000002
          ],
          [
           0.99
          ],
          [
           0.8876331360946744
          ],
          [
           0.10000000000000002
          ],
          [
           0.7805902358749313
          ],
          [
           0.885593220338983
          ],
          [
           0.7967481203007518
          ],
          [
           0.9112903225806449
          ],
          [
           0.9220883534136546
          ],
          [
           0.8000000000000002
          ],
          [
           1
          ],
          [
           0.8575489066998677
          ],
          [
           0.10000000000000002
          ],
          [
           0.92
          ],
          [
           0.81
          ],
          [
           0.8000000000000002
          ],
          [
           0.7
          ],
          [
           0.89
          ],
          [
           0.89
          ],
          [
           0.81
          ],
          [
           0.8850282485875706
          ],
          [
           0.9401997776719074
          ],
          [
           0.8634553391537944
          ],
          [
           0.9443253485175731
          ],
          [
           0.9310837438423647
          ],
          [
           0.99
          ],
          [
           0.9072077470617445
          ],
          [
           0.9277838401265186
          ],
          [
           0.8327655310621244
          ],
          [
           0.8651215877231812
          ],
          [
           0.8890071077091305
          ],
          [
           0.8516216216216216
          ],
          [
           0.829657142857143
          ],
          [
           0.8772602739726028
          ],
          [
           0.8434956308982873
          ],
          [
           0.88
          ],
          [
           0.9155597876990323
          ],
          [
           0.9305591397849463
          ],
          [
           0.8909214092140922
          ],
          [
           0.869047619047619
          ],
          [
           0.9631428571428572
          ],
          [
           0.8749657387580296
          ],
          [
           0.973
          ],
          [
           0.8212662026149941
          ],
          [
           0.7902742706605524
          ],
          [
           0.10000000000000002
          ],
          [
           0.9
          ],
          [
           0.9423448885744606
          ],
          [
           0.9256756756756755
          ],
          [
           0.9193258706467663
          ],
          [
           0.9035055350553506
          ],
          [
           0.9108526851699787
          ],
          [
           0.9474377716317661
          ],
          [
           0.8760981912144703
          ],
          [
           0.8310843373493976
          ],
          [
           0.882610340479193
          ],
          [
           0.8092543099342796
          ],
          [
           0.8641508290247818
          ],
          [
           0.9414929312740049
          ],
          [
           0.8672612220083087
          ],
          [
           0.904874190248892
          ],
          [
           0.9373735018880314
          ],
          [
           0.97
          ],
          [
           0.10000000000000002
          ],
          [
           0.09
          ],
          [
           0.9740000000000001
          ],
          [
           1
          ],
          [
           0.890872689583693
          ],
          [
           0.9039634821099226
          ],
          [
           0.9090474360176246
          ],
          [
           0.8850282485875706
          ],
          [
           0.8955071915215745
          ],
          [
           0.7785786293528384
          ],
          [
           0.76
          ],
          [
           0.9001205936920224
          ],
          [
           0.8565248402391261
          ],
          [
           0.7984839319470698
          ],
          [
           0.9063535911602211
          ],
          [
           0.8929426433915213
          ],
          [
           0.9382990833510979
          ],
          [
           0.6905476009139375
          ],
          [
           0.9381449893390192
          ],
          [
           0.9456675062972292
          ],
          [
           0.958
          ],
          [
           0.9300251486053954
          ],
          [
           0.9333060853769299
          ],
          [
           0.8346400000000003
          ],
          [
           0.8677399933840556
          ],
          [
           0.9266968085106383
          ],
          [
           0.8222629887520088
          ],
          [
           0.8281111111111111
          ],
          [
           0.8924689301729659
          ],
          [
           0.918604796353186
          ],
          [
           0.8496890858322205
          ],
          [
           0.8499999999999999
          ],
          [
           0.8269884183858123
          ],
          [
           0.8004915440368988
          ],
          [
           0.8143771712158806
          ],
          [
           0.9
          ],
          [
           0.8457920792079208
          ],
          [
           0.10000000000000002
          ],
          [
           0.5499999999999999
          ],
          [
           0.8819118122289311
          ],
          [
           0.8937125354848349
          ],
          [
           0.8232570998683467
          ],
          [
           0.08
          ],
          [
           0.8233693516699412
          ],
          [
           0.8629792021689606
          ],
          [
           0.8906444985331731
          ],
          [
           0.8778787667611861
          ],
          [
           0.9214938164191162
          ],
          [
           0.9060678495564163
          ],
          [
           0.8765527112690276
          ]
         ],
         "domain": {
          "x": [
           0,
           1
          ],
          "y": [
           0,
           1
          ]
         },
         "hovertemplate": "labels=%{label}<br>employment_rate_overall_pct_sum=%{value}<br>parent=%{parent}<br>id=%{id}<br>employment_rate_overall_pct=%{color}<extra></extra>",
         "ids": [
          "Nanyang Technological University/Accountancy",
          "Singapore Management University/Accountancy",
          "Nanyang Technological University/Accountancy (3yr direct Honours Programme)",
          "Singapore Management University/Accountancy Cum Laude and above",
          "Nanyang Technological University/Accountancy and Business",
          "Nanyang Technological University/Aerospace Engineering",
          "Nanyang Technological University/Art Design and Media",
          "Nanyang Technological University/Arts (With Education)",
          "Nanyang Technological University/Arts (with Education)",
          "Singapore Institute of Technology/Bachelor in Science (Diagnostic Radiography)",
          "Singapore Institute of Technology/Bachelor in Science (Occupational Therapy)",
          "Singapore Institute of Technology/Bachelor in Science (Physiotherapy)",
          "Singapore Institute of Technology/Bachelor in Science (Radiation Therapy)",
          "Singapore University of Social Sciences/Bachelor of Accountancy",
          "Nanyang Technological University/Bachelor of Accountancy (Hons)",
          "Singapore Institute of Technology/Bachelor of Accountancy with Honours",
          "National University of Singapore/Bachelor of Applied Science (Hons)",
          "National University of Singapore/Bachelor of Arts",
          "National University of Singapore/Bachelor of Arts (Architecture)",
          "National University of Singapore/Bachelor of Arts (Hons)",
          "Nanyang Technological University/Bachelor of Arts (Hons) (Education)",
          "Nanyang Technological University/Bachelor of Arts (Hons) in Chinese",
          "Nanyang Technological University/Bachelor of Arts (Hons) in Economics",
          "Nanyang Technological University/Bachelor of Arts (Hons) in English",
          "Nanyang Technological University/Bachelor of Arts (Hons) in History",
          "Nanyang Technological University/Bachelor of Arts (Hons) in Linguistics And Multilingual Studies",
          "Nanyang Technological University/Bachelor of Arts (Hons) in Psychology",
          "Nanyang Technological University/Bachelor of Arts (Hons) in Public Policy And Global Affairs",
          "Nanyang Technological University/Bachelor of Arts (Hons) in Sociology",
          "National University of Singapore/Bachelor of Arts (Industrial Design)",
          "Singapore Institute of Technology/Bachelor of Arts in Game Design",
          "National University of Singapore/Bachelor of Arts with Honours",
          "Singapore Institute of Technology/Bachelor of Arts with Honours in Communication Design",
          "Singapore Institute of Technology/Bachelor of Arts with Honours in Criminology and Security",
          "Singapore Institute of Technology/Bachelor of Arts with Honours in Interior Design",
          "Nanyang Technological University/Bachelor of Business (Hons)",
          "National University of Singapore/Bachelor of Business Administration",
          "National University of Singapore/Bachelor of Business Administration (Accountancy)",
          "National University of Singapore/Bachelor of Business Administration (Accountancy) (Hons)",
          "National University of Singapore/Bachelor of Business Administration (Hons)",
          "Singapore Institute of Technology/Bachelor of Business Administration in Food Business Management",
          "Nanyang Technological University/Bachelor of Communication Studies (Hons)",
          "National University of Singapore/Bachelor of Computing (Communications and Media)",
          "National University of Singapore/Bachelor of Computing (Computer Science)",
          "National University of Singapore/Bachelor of Computing (Electronic Commerce)",
          "National University of Singapore/Bachelor of Computing (Information Security)",
          "National University of Singapore/Bachelor of Computing (Information Systems)",
          "National University of Singapore/Bachelor of Dental Surgery",
          "Singapore University of Social Sciences/Bachelor of Early Childhood Education",
          "National University of Singapore/Bachelor of Engineering (Bioengineering)",
          "National University of Singapore/Bachelor of Engineering (Biomedical Engineering)",
          "National University of Singapore/Bachelor of Engineering (Chemical Engineering)",
          "National University of Singapore/Bachelor of Engineering (Civil Engineering)",
          "National University of Singapore/Bachelor of Engineering (Computer Engineering)",
          "National University of Singapore/Bachelor of Engineering (Electrical Engineering)",
          "Singapore University of Technology and Design/Bachelor of Engineering (Engineering Product Development)",
          "National University of Singapore/Bachelor of Engineering (Engineering Science)",
          "Singapore University of Technology and Design/Bachelor of Engineering (Engineering Systems and Design)",
          "National University of Singapore/Bachelor of Engineering (Environmental Engineering)",
          "Nanyang Technological University/Bachelor of Engineering (Hons) (Aerospace Engineering)",
          "Nanyang Technological University/Bachelor of Engineering (Hons) (Bioengineering)",
          "Nanyang Technological University/Bachelor of Engineering (Hons) (Civil Engineering)",
          "Nanyang Technological University/Bachelor of Engineering (Hons) (Computer Engineering)",
          "Nanyang Technological University/Bachelor of Engineering (Hons) (Computer Science)",
          "Nanyang Technological University/Bachelor of Engineering (Hons) (Electrical and Electronic Engineering)",
          "Nanyang Technological University/Bachelor of Engineering (Hons) (Environmental Engineering)",
          "Nanyang Technological University/Bachelor of Engineering (Hons) (Information Engineering and Media)",
          "Nanyang Technological University/Bachelor of Engineering (Hons) (Materials Engineering)",
          "Nanyang Technological University/Bachelor of Engineering (Hons) (Mechanical Engineering)",
          "National University of Singapore/Bachelor of Engineering (Industrial and Systems Engineering)",
          "Singapore University of Technology and Design/Bachelor of Engineering (Information Systems Technology and Design)",
          "National University of Singapore/Bachelor of Engineering (Materials Science And Engineering)",
          "National University of Singapore/Bachelor of Engineering (Materials Science and Engineering)",
          "National University of Singapore/Bachelor of Engineering (Mechanical Engineering)",
          "Nanyang Technological University/Bachelor of Engineering and (Hons) (Chemical And Biomolecular Engineering)",
          "Singapore Institute of Technology/Bachelor of Engineering in Systems Engineering (ElectroMechanical Systems)",
          "Singapore Institute of Technology/Bachelor of Engineering with Honours in Aeronautical Engineering",
          "Singapore Institute of Technology/Bachelor of Engineering with Honours in Aerospace Systems",
          "Singapore Institute of Technology/Bachelor of Engineering with Honours in Chemical Engineering",
          "Singapore Institute of Technology/Bachelor of Engineering with Honours in Electrical Power Engineering",
          "Singapore Institute of Technology/Bachelor of Engineering with Honours in Information and Communications Technology (Information Security)",
          "Singapore Institute of Technology/Bachelor of Engineering with Honours in Information and Communications Technology (Software Engineering)",
          "Singapore Institute of Technology/Bachelor of Engineering with Honours in Marine Engineering",
          "Singapore Institute of Technology/Bachelor of Engineering with Honours in Mechanical Design Engineering",
          "Singapore Institute of Technology/Bachelor of Engineering with Honours in Mechanical Design and Manufacturing Engineering",
          "Singapore Institute of Technology/Bachelor of Engineering with Honours in Mechatronics",
          "Singapore Institute of Technology/Bachelor of Engineering with Honours in Naval Architecture",
          "Singapore Institute of Technology/Bachelor of Engineering with Honours in Offshore Engineering",
          "Singapore Institute of Technology/Bachelor of Engineering with Honours in Pharmaceutical Engineering",
          "Singapore Institute of Technology/Bachelor of Engineering with Honours in Sustainable Infrastructure",
          "Singapore Institute of Technology/Bachelor of Engineering with Honours in Sustainable Infrastructure Engineering (Building Services)",
          "Singapore Institute of Technology/Bachelor of Engineering with Honours in Sustainable Infrastructure Engineering (Land)",
          "Singapore Institute of Technology/Bachelor of Engineering with Honours in Systems Engineering (ElectroMechanical Systems)",
          "Singapore Institute of Technology/Bachelor of Engineering with Honours in Telematics (Intelligent Transportation Systems Engineering)",
          "National University of Singapore/Bachelor of Environmental Studies",
          "National University of Singapore/Bachelor of Environmental Studies7",
          "Nanyang Technological University/Bachelor of Fine Arts (Hons)",
          "Singapore Institute of Technology/Bachelor of Fine Arts in Digital Art and Animation",
          "Singapore Institute of Technology/Bachelor of Fine Arts in Digital Arts Animation",
          "Singapore Institute of Technology/Bachelor of Food Technology with Honours",
          "Singapore Institute of Technology/Bachelor of Hospitality Business with Honours",
          "Singapore University of Social Sciences/Bachelor of Human Resource Management",
          "National University of Singapore/Bachelor of Laws",
          "National University of Singapore/Bachelor of Laws (LLB) (Hons)",
          "National University of Singapore/Bachelor of Medicine And Bachelor Of Surgery",
          "National University of Singapore/Bachelor of Medicine and Bachelor Of Surgery",
          "National University of Singapore/Bachelor of Medicine and Bachelor of Surgery",
          "National University of Singapore/Bachelor of Medicine and Bachelor of Surgery (MBBS)",
          "National University of Singapore/Bachelor of Music",
          "Singapore Institute of Technology/Bachelor of Professional Studies in Culinary Arts Management",
          "National University of Singapore/Bachelor of Science",
          "Singapore University of Technology and Design/Bachelor of Science (Architecture and Sustainable Design)",
          "National University of Singapore/Bachelor of Science (Business Analytics)",
          "National University of Singapore/Bachelor of Science (Computational Biology)",
          "National University of Singapore/Bachelor of Science (Data Science and Analytics)",
          "National University of Singapore/Bachelor of Science (Hons)",
          "Nanyang Technological University/Bachelor of Science (Hons) (Education)",
          "Nanyang Technological University/Bachelor of Science (Hons) (Maritime Studies)",
          "Nanyang Technological University/Bachelor of Science (Hons) (Sport Science and Management)",
          "Nanyang Technological University/Bachelor of Science (Hons) in Biological Sciences",
          "Nanyang Technological University/Bachelor of Science (Hons) in Chemistry and Biological Chemistry",
          "Nanyang Technological University/Bachelor of Science (Hons) in Mathematical Sciences",
          "Nanyang Technological University/Bachelor of Science (Hons) in Mathematics and Economics",
          "Nanyang Technological University/Bachelor of Science (Hons) in PhysicsApplied Physics",
          "Singapore Institute of Technology/Bachelor of Science (Major in Hospitality Management)",
          "National University of Singapore/Bachelor of Science (Nursing)",
          "National University of Singapore/Bachelor of Science (Nursing) (Hons)",
          "National University of Singapore/Bachelor of Science (Pharmacy)",
          "National University of Singapore/Bachelor of Science (Pharmacy) (Hons)",
          "National University of Singapore/Bachelor of Science (Pharmacy)(Hons)",
          "National University of Singapore/Bachelor of Science (Project and Facilities Management)",
          "National University of Singapore/Bachelor of Science (Real Estate)",
          "Singapore Institute of Technology/Bachelor of Science in Chemical Engineering",
          "Singapore Institute of Technology/Bachelor of Science in Computer Science and Game Design",
          "Singapore Institute of Technology/Bachelor of Science in Computer Science in RealTime Interactive Simulation",
          "Singapore Institute of Technology/Bachelor of Science in Early Childhood Education",
          "Singapore Institute of Technology/Bachelor of Science in Electrical Engineering and Information Technology",
          "Singapore University of Social Sciences/Bachelor of Science in Finance",
          "Singapore University of Social Sciences/Bachelor of Science in Marketing",
          "Singapore University of Social Sciences/Bachelor of Science in Supply Chain Management",
          "National University of Singapore/Bachelor of Science with Honours",
          "Singapore Institute of Technology/Bachelor of Science with Honours in Computing Science",
          "Singapore Institute of Technology/Bachelor of Science with Honours in Food and Human Nutrition",
          "Singapore Institute of Technology/Bachelor of Science with Honours in Nursing",
          "Singapore Institute of Technology/Bachelor of Science with Honours in Nursing Practice",
          "National University of Singapore/Bachelor of Social Sciences",
          "Singapore University of Social Sciences/Bachelor of Social Work",
          "Nanyang Technological University/Bioengineering",
          "Nanyang Technological University/Biological Sciences",
          "Nanyang Technological University/Biomedical Science (Traditional Chinese Medicine)",
          "Nanyang Technological University/Biomedical Sciences (Traditional Chinese Medicine)",
          "Nanyang Technological University/Biomedical Sciences and Chinese Medicine",
          "Nanyang Technological University/Biomedical Sciences and Chinese Medicine ",
          "Nanyang Technological University/Business",
          "Nanyang Technological University/Business (3yr direct Honours Programme)",
          "Singapore Management University/Business Management",
          "Singapore Management University/Business Management Cum Laude and above",
          "Nanyang Technological University/Business and Computing",
          "Nanyang Technological University/Chemical And Biomolecular Engineering",
          "Nanyang Technological University/Chemical and Biomolecular Engineering",
          "Nanyang Technological University/Chemistry and Biological Chemistry",
          "Nanyang Technological University/Chinese",
          "Nanyang Technological University/Civil Engineering",
          "Nanyang Technological University/Communication Studies",
          "Nanyang Technological University/Computer Engineering",
          "Nanyang Technological University/Computer Science",
          "Nanyang Technological University/Double Degree in Bachelor of Accountancy (Hons) and Bachelor of Business (Hons)",
          "Nanyang Technological University/Double Degree in Bachelor of Business (Hons) and Bachelor of Engineering (Hons) (Computer Science)",
          "Nanyang Technological University/Double Degree in Bachelor of Science (Hons) in Biomedical Sciences and Bachelor of Medicine (Chinese Medicine)",
          "Nanyang Technological University/Double Degree in Business and Computer",
          "Nanyang Technological University/Double Degree in Engineering and Economics",
          "Nanyang Technological University/Economics",
          "Singapore Management University/Economics",
          "Singapore Management University/Economics Cum Laude and above",
          "Nanyang Technological University/Electrical And Electronic Engineering",
          "Nanyang Technological University/Electrical and Electronic Engineering",
          "Nanyang Technological University/English",
          "Nanyang Technological University/Environmental Earth Systems Science",
          "Nanyang Technological University/Environmental Earth Systems Sciences",
          "Nanyang Technological University/Environmental Engineering",
          "Nanyang Technological University/History",
          "Nanyang Technological University/Information Engineering And Media",
          "Nanyang Technological University/Information Engineering and Media",
          "Singapore Management University/Information Systems",
          "Singapore Management University/Information Systems Cum Laude and above",
          "Singapore Management University/Information Systems Management",
          "Singapore Management University/Information Systems Management Cum Laude and above",
          "Nanyang Technological University/InterDisciplinary Double Major",
          "Singapore Management University/Law",
          "Singapore Management University/Law Cum Laude and above",
          "Nanyang Technological University/Linguistics And Multilingual Studies",
          "Nanyang Technological University/Linguistics and Multilingual Studies",
          "Nanyang Technological University/Maritime Studies",
          "Nanyang Technological University/Materials Engineering",
          "Nanyang Technological University/Mathematical Science",
          "Nanyang Technological University/Mathematical Sciences",
          "Nanyang Technological University/Mathematics and Economics",
          "Nanyang Technological University/Mechanical Engineering",
          "Nanyang Technological University/Medicine",
          "Nanyang Technological University/Philosophy",
          "Nanyang Technological University/Physics and Applied Physics",
          "Nanyang Technological University/Psychology",
          "Nanyang Technological University/Public Policy And Global Affairs",
          "Nanyang Technological University/Public Policy and Global Affairs",
          "Nanyang Technological University/Science (With Education)",
          "Nanyang Technological University/Science (with Education)",
          "Singapore Management University/Social Sciences",
          "Singapore Management University/Social Sciences Cum Laude and above",
          "Nanyang Technological University/Sociology",
          "Nanyang Technological University/Sport Science and Management",
          "Nanyang Technological University/Sports Science and Management",
          "Nanyang Technological University",
          "National University of Singapore",
          "Singapore Institute of Technology",
          "Singapore Management University",
          "Singapore University of Social Sciences",
          "Singapore University of Technology and Design"
         ],
         "labels": [
          "Accountancy",
          "Accountancy",
          "Accountancy (3yr direct Honours Programme)",
          "Accountancy Cum Laude and above",
          "Accountancy and Business",
          "Aerospace Engineering",
          "Art Design and Media",
          "Arts (With Education)",
          "Arts (with Education)",
          "Bachelor in Science (Diagnostic Radiography)",
          "Bachelor in Science (Occupational Therapy)",
          "Bachelor in Science (Physiotherapy)",
          "Bachelor in Science (Radiation Therapy)",
          "Bachelor of Accountancy",
          "Bachelor of Accountancy (Hons)",
          "Bachelor of Accountancy with Honours",
          "Bachelor of Applied Science (Hons)",
          "Bachelor of Arts",
          "Bachelor of Arts (Architecture)",
          "Bachelor of Arts (Hons)",
          "Bachelor of Arts (Hons) (Education)",
          "Bachelor of Arts (Hons) in Chinese",
          "Bachelor of Arts (Hons) in Economics",
          "Bachelor of Arts (Hons) in English",
          "Bachelor of Arts (Hons) in History",
          "Bachelor of Arts (Hons) in Linguistics And Multilingual Studies",
          "Bachelor of Arts (Hons) in Psychology",
          "Bachelor of Arts (Hons) in Public Policy And Global Affairs",
          "Bachelor of Arts (Hons) in Sociology",
          "Bachelor of Arts (Industrial Design)",
          "Bachelor of Arts in Game Design",
          "Bachelor of Arts with Honours",
          "Bachelor of Arts with Honours in Communication Design",
          "Bachelor of Arts with Honours in Criminology and Security",
          "Bachelor of Arts with Honours in Interior Design",
          "Bachelor of Business (Hons)",
          "Bachelor of Business Administration",
          "Bachelor of Business Administration (Accountancy)",
          "Bachelor of Business Administration (Accountancy) (Hons)",
          "Bachelor of Business Administration (Hons)",
          "Bachelor of Business Administration in Food Business Management",
          "Bachelor of Communication Studies (Hons)",
          "Bachelor of Computing (Communications and Media)",
          "Bachelor of Computing (Computer Science)",
          "Bachelor of Computing (Electronic Commerce)",
          "Bachelor of Computing (Information Security)",
          "Bachelor of Computing (Information Systems)",
          "Bachelor of Dental Surgery",
          "Bachelor of Early Childhood Education",
          "Bachelor of Engineering (Bioengineering)",
          "Bachelor of Engineering (Biomedical Engineering)",
          "Bachelor of Engineering (Chemical Engineering)",
          "Bachelor of Engineering (Civil Engineering)",
          "Bachelor of Engineering (Computer Engineering)",
          "Bachelor of Engineering (Electrical Engineering)",
          "Bachelor of Engineering (Engineering Product Development)",
          "Bachelor of Engineering (Engineering Science)",
          "Bachelor of Engineering (Engineering Systems and Design)",
          "Bachelor of Engineering (Environmental Engineering)",
          "Bachelor of Engineering (Hons) (Aerospace Engineering)",
          "Bachelor of Engineering (Hons) (Bioengineering)",
          "Bachelor of Engineering (Hons) (Civil Engineering)",
          "Bachelor of Engineering (Hons) (Computer Engineering)",
          "Bachelor of Engineering (Hons) (Computer Science)",
          "Bachelor of Engineering (Hons) (Electrical and Electronic Engineering)",
          "Bachelor of Engineering (Hons) (Environmental Engineering)",
          "Bachelor of Engineering (Hons) (Information Engineering and Media)",
          "Bachelor of Engineering (Hons) (Materials Engineering)",
          "Bachelor of Engineering (Hons) (Mechanical Engineering)",
          "Bachelor of Engineering (Industrial and Systems Engineering)",
          "Bachelor of Engineering (Information Systems Technology and Design)",
          "Bachelor of Engineering (Materials Science And Engineering)",
          "Bachelor of Engineering (Materials Science and Engineering)",
          "Bachelor of Engineering (Mechanical Engineering)",
          "Bachelor of Engineering and (Hons) (Chemical And Biomolecular Engineering)",
          "Bachelor of Engineering in Systems Engineering (ElectroMechanical Systems)",
          "Bachelor of Engineering with Honours in Aeronautical Engineering",
          "Bachelor of Engineering with Honours in Aerospace Systems",
          "Bachelor of Engineering with Honours in Chemical Engineering",
          "Bachelor of Engineering with Honours in Electrical Power Engineering",
          "Bachelor of Engineering with Honours in Information and Communications Technology (Information Security)",
          "Bachelor of Engineering with Honours in Information and Communications Technology (Software Engineering)",
          "Bachelor of Engineering with Honours in Marine Engineering",
          "Bachelor of Engineering with Honours in Mechanical Design Engineering",
          "Bachelor of Engineering with Honours in Mechanical Design and Manufacturing Engineering",
          "Bachelor of Engineering with Honours in Mechatronics",
          "Bachelor of Engineering with Honours in Naval Architecture",
          "Bachelor of Engineering with Honours in Offshore Engineering",
          "Bachelor of Engineering with Honours in Pharmaceutical Engineering",
          "Bachelor of Engineering with Honours in Sustainable Infrastructure",
          "Bachelor of Engineering with Honours in Sustainable Infrastructure Engineering (Building Services)",
          "Bachelor of Engineering with Honours in Sustainable Infrastructure Engineering (Land)",
          "Bachelor of Engineering with Honours in Systems Engineering (ElectroMechanical Systems)",
          "Bachelor of Engineering with Honours in Telematics (Intelligent Transportation Systems Engineering)",
          "Bachelor of Environmental Studies",
          "Bachelor of Environmental Studies7",
          "Bachelor of Fine Arts (Hons)",
          "Bachelor of Fine Arts in Digital Art and Animation",
          "Bachelor of Fine Arts in Digital Arts Animation",
          "Bachelor of Food Technology with Honours",
          "Bachelor of Hospitality Business with Honours",
          "Bachelor of Human Resource Management",
          "Bachelor of Laws",
          "Bachelor of Laws (LLB) (Hons)",
          "Bachelor of Medicine And Bachelor Of Surgery",
          "Bachelor of Medicine and Bachelor Of Surgery",
          "Bachelor of Medicine and Bachelor of Surgery",
          "Bachelor of Medicine and Bachelor of Surgery (MBBS)",
          "Bachelor of Music",
          "Bachelor of Professional Studies in Culinary Arts Management",
          "Bachelor of Science",
          "Bachelor of Science (Architecture and Sustainable Design)",
          "Bachelor of Science (Business Analytics)",
          "Bachelor of Science (Computational Biology)",
          "Bachelor of Science (Data Science and Analytics)",
          "Bachelor of Science (Hons)",
          "Bachelor of Science (Hons) (Education)",
          "Bachelor of Science (Hons) (Maritime Studies)",
          "Bachelor of Science (Hons) (Sport Science and Management)",
          "Bachelor of Science (Hons) in Biological Sciences",
          "Bachelor of Science (Hons) in Chemistry and Biological Chemistry",
          "Bachelor of Science (Hons) in Mathematical Sciences",
          "Bachelor of Science (Hons) in Mathematics and Economics",
          "Bachelor of Science (Hons) in PhysicsApplied Physics",
          "Bachelor of Science (Major in Hospitality Management)",
          "Bachelor of Science (Nursing)",
          "Bachelor of Science (Nursing) (Hons)",
          "Bachelor of Science (Pharmacy)",
          "Bachelor of Science (Pharmacy) (Hons)",
          "Bachelor of Science (Pharmacy)(Hons)",
          "Bachelor of Science (Project and Facilities Management)",
          "Bachelor of Science (Real Estate)",
          "Bachelor of Science in Chemical Engineering",
          "Bachelor of Science in Computer Science and Game Design",
          "Bachelor of Science in Computer Science in RealTime Interactive Simulation",
          "Bachelor of Science in Early Childhood Education",
          "Bachelor of Science in Electrical Engineering and Information Technology",
          "Bachelor of Science in Finance",
          "Bachelor of Science in Marketing",
          "Bachelor of Science in Supply Chain Management",
          "Bachelor of Science with Honours",
          "Bachelor of Science with Honours in Computing Science",
          "Bachelor of Science with Honours in Food and Human Nutrition",
          "Bachelor of Science with Honours in Nursing",
          "Bachelor of Science with Honours in Nursing Practice",
          "Bachelor of Social Sciences",
          "Bachelor of Social Work",
          "Bioengineering",
          "Biological Sciences",
          "Biomedical Science (Traditional Chinese Medicine)",
          "Biomedical Sciences (Traditional Chinese Medicine)",
          "Biomedical Sciences and Chinese Medicine",
          "Biomedical Sciences and Chinese Medicine ",
          "Business",
          "Business (3yr direct Honours Programme)",
          "Business Management",
          "Business Management Cum Laude and above",
          "Business and Computing",
          "Chemical And Biomolecular Engineering",
          "Chemical and Biomolecular Engineering",
          "Chemistry and Biological Chemistry",
          "Chinese",
          "Civil Engineering",
          "Communication Studies",
          "Computer Engineering",
          "Computer Science",
          "Double Degree in Bachelor of Accountancy (Hons) and Bachelor of Business (Hons)",
          "Double Degree in Bachelor of Business (Hons) and Bachelor of Engineering (Hons) (Computer Science)",
          "Double Degree in Bachelor of Science (Hons) in Biomedical Sciences and Bachelor of Medicine (Chinese Medicine)",
          "Double Degree in Business and Computer",
          "Double Degree in Engineering and Economics",
          "Economics",
          "Economics",
          "Economics Cum Laude and above",
          "Electrical And Electronic Engineering",
          "Electrical and Electronic Engineering",
          "English",
          "Environmental Earth Systems Science",
          "Environmental Earth Systems Sciences",
          "Environmental Engineering",
          "History",
          "Information Engineering And Media",
          "Information Engineering and Media",
          "Information Systems",
          "Information Systems Cum Laude and above",
          "Information Systems Management",
          "Information Systems Management Cum Laude and above",
          "InterDisciplinary Double Major",
          "Law",
          "Law Cum Laude and above",
          "Linguistics And Multilingual Studies",
          "Linguistics and Multilingual Studies",
          "Maritime Studies",
          "Materials Engineering",
          "Mathematical Science",
          "Mathematical Sciences",
          "Mathematics and Economics",
          "Mechanical Engineering",
          "Medicine",
          "Philosophy",
          "Physics and Applied Physics",
          "Psychology",
          "Public Policy And Global Affairs",
          "Public Policy and Global Affairs",
          "Science (With Education)",
          "Science (with Education)",
          "Social Sciences",
          "Social Sciences Cum Laude and above",
          "Sociology",
          "Sport Science and Management",
          "Sports Science and Management",
          "Nanyang Technological University",
          "National University of Singapore",
          "Singapore Institute of Technology",
          "Singapore Management University",
          "Singapore University of Social Sciences",
          "Singapore University of Technology and Design"
         ],
         "marker": {
          "coloraxis": "coloraxis",
          "colors": [
           0.9601785714285715,
           0.9438414372967395,
           0.9666896551724138,
           0.9513277093306127,
           0.9766679269061118,
           0.8784075714861055,
           0.8106710126032163,
           0.10000000000000002,
           0.5499999999999999,
           0.8999588477366255,
           0.7508163265306119,
           0.7572612886859461,
           1,
           0.9462369868810834,
           0.97,
           0.9479764847753996,
           0.8841144414168937,
           0.848995284501729,
           0.9280045871559632,
           0.8708949272241838,
           0.10000000000000002,
           0.8399999999999999,
           0.8399999999999999,
           0.7699999999999999,
           0.08,
           0.08,
           0.78,
           0.74,
           0.7699999999999999,
           0.8396608624398242,
           0.8800307692307693,
           0.8819863013698629,
           0.850748031496063,
           0.8751002865329512,
           0.9146715328467154,
           0.09,
           0.9003373124430075,
           0.9361380711383562,
           0.9176054888507718,
           0.9423624592898563,
           0.7936170212765956,
           0.92,
           0.8752671755725189,
           0.9229455032033088,
           0.877148288973384,
           0.909,
           0.938240140507744,
           0.47499999999999987,
           1,
           0.07,
           0.8660335175610627,
           0.8793424423569598,
           0.9383825289190268,
           0.9057942844516458,
           0.8871524852569501,
           0.8886212889210715,
           0.8321290651348098,
           0.8363294549908146,
           0.894011976047904,
           0.08,
           0.78,
           0.98,
           0.9500000000000001,
           0.92,
           0.89,
           0.7100000000000001,
           0.8599999999999999,
           0.8399999999999999,
           0.82,
           0.9292243017564062,
           0.8845905971674698,
           0.8263636363636363,
           0.8271629191828344,
           0.8690555842367921,
           0.82,
           0.9500000000000001,
           0.7679104477611941,
           0.8139810426540282,
           0.8502903694290639,
           0.9054438914563336,
           0.9241401273885351,
           0.89825081645983,
           0.9321092278719394,
           0.8583557951482477,
           0.8968516039695363,
           0.9127906976744189,
           0.7210028851702249,
           0.8533684917201254,
           0.9274493170381022,
           0.9810000000000001,
           0.92,
           0.9587645585472762,
           0.9570000000000001,
           0.7821443755535872,
           0.8327053140096619,
           0.929,
           0.88,
           0.8867016549535255,
           0.8530088495575222,
           0.8149328621908127,
           0.9145805594624159,
           0.8823265306122449,
           0.9514154400720937,
           0.9725706940874036,
           0.10000000000000002,
           0.99,
           0.8876331360946744,
           0.10000000000000002,
           0.7805902358749313,
           0.885593220338983,
           0.7967481203007518,
           0.9112903225806449,
           0.9220883534136546,
           0.8000000000000002,
           1,
           0.8575489066998677,
           0.10000000000000002,
           0.92,
           0.81,
           0.8000000000000002,
           0.7,
           0.89,
           0.89,
           0.81,
           0.8850282485875706,
           0.9401997776719074,
           0.8634553391537944,
           0.9443253485175731,
           0.9310837438423647,
           0.99,
           0.9072077470617445,
           0.9277838401265186,
           0.8327655310621244,
           0.8651215877231812,
           0.8890071077091305,
           0.8516216216216216,
           0.829657142857143,
           0.8772602739726028,
           0.8434956308982873,
           0.88,
           0.9155597876990323,
           0.9305591397849463,
           0.8909214092140922,
           0.869047619047619,
           0.9631428571428572,
           0.8749657387580296,
           0.973,
           0.8212662026149941,
           0.7902742706605524,
           0.10000000000000002,
           0.9,
           0.9423448885744606,
           0.9256756756756755,
           0.9193258706467663,
           0.9035055350553506,
           0.9108526851699787,
           0.9474377716317661,
           0.8760981912144703,
           0.8310843373493976,
           0.882610340479193,
           0.8092543099342796,
           0.8641508290247818,
           0.9414929312740049,
           0.8672612220083087,
           0.904874190248892,
           0.9373735018880314,
           0.97,
           0.10000000000000002,
           0.09,
           0.9740000000000001,
           1,
           0.890872689583693,
           0.9039634821099226,
           0.9090474360176246,
           0.8850282485875706,
           0.8955071915215745,
           0.7785786293528384,
           0.76,
           0.9001205936920224,
           0.8565248402391261,
           0.7984839319470698,
           0.9063535911602211,
           0.8929426433915213,
           0.9382990833510979,
           0.6905476009139375,
           0.9381449893390192,
           0.9456675062972292,
           0.958,
           0.9300251486053954,
           0.9333060853769299,
           0.8346400000000003,
           0.8677399933840556,
           0.9266968085106383,
           0.8222629887520088,
           0.8281111111111111,
           0.8924689301729659,
           0.918604796353186,
           0.8496890858322205,
           0.8499999999999999,
           0.8269884183858123,
           0.8004915440368988,
           0.8143771712158806,
           0.9,
           0.8457920792079208,
           0.10000000000000002,
           0.5499999999999999,
           0.8819118122289311,
           0.8937125354848349,
           0.8232570998683467,
           0.08,
           0.8233693516699412,
           0.8629792021689606,
           0.8906444985331731,
           0.8778787667611861,
           0.9214938164191162,
           0.9060678495564163,
           0.8765527112690276
          ]
         },
         "name": "",
         "parents": [
          "Nanyang Technological University",
          "Singapore Management University",
          "Nanyang Technological University",
          "Singapore Management University",
          "Nanyang Technological University",
          "Nanyang Technological University",
          "Nanyang Technological University",
          "Nanyang Technological University",
          "Nanyang Technological University",
          "Singapore Institute of Technology",
          "Singapore Institute of Technology",
          "Singapore Institute of Technology",
          "Singapore Institute of Technology",
          "Singapore University of Social Sciences",
          "Nanyang Technological University",
          "Singapore Institute of Technology",
          "National University of Singapore",
          "National University of Singapore",
          "National University of Singapore",
          "National University of Singapore",
          "Nanyang Technological University",
          "Nanyang Technological University",
          "Nanyang Technological University",
          "Nanyang Technological University",
          "Nanyang Technological University",
          "Nanyang Technological University",
          "Nanyang Technological University",
          "Nanyang Technological University",
          "Nanyang Technological University",
          "National University of Singapore",
          "Singapore Institute of Technology",
          "National University of Singapore",
          "Singapore Institute of Technology",
          "Singapore Institute of Technology",
          "Singapore Institute of Technology",
          "Nanyang Technological University",
          "National University of Singapore",
          "National University of Singapore",
          "National University of Singapore",
          "National University of Singapore",
          "Singapore Institute of Technology",
          "Nanyang Technological University",
          "National University of Singapore",
          "National University of Singapore",
          "National University of Singapore",
          "National University of Singapore",
          "National University of Singapore",
          "National University of Singapore",
          "Singapore University of Social Sciences",
          "National University of Singapore",
          "National University of Singapore",
          "National University of Singapore",
          "National University of Singapore",
          "National University of Singapore",
          "National University of Singapore",
          "Singapore University of Technology and Design",
          "National University of Singapore",
          "Singapore University of Technology and Design",
          "National University of Singapore",
          "Nanyang Technological University",
          "Nanyang Technological University",
          "Nanyang Technological University",
          "Nanyang Technological University",
          "Nanyang Technological University",
          "Nanyang Technological University",
          "Nanyang Technological University",
          "Nanyang Technological University",
          "Nanyang Technological University",
          "Nanyang Technological University",
          "National University of Singapore",
          "Singapore University of Technology and Design",
          "National University of Singapore",
          "National University of Singapore",
          "National University of Singapore",
          "Nanyang Technological University",
          "Singapore Institute of Technology",
          "Singapore Institute of Technology",
          "Singapore Institute of Technology",
          "Singapore Institute of Technology",
          "Singapore Institute of Technology",
          "Singapore Institute of Technology",
          "Singapore Institute of Technology",
          "Singapore Institute of Technology",
          "Singapore Institute of Technology",
          "Singapore Institute of Technology",
          "Singapore Institute of Technology",
          "Singapore Institute of Technology",
          "Singapore Institute of Technology",
          "Singapore Institute of Technology",
          "Singapore Institute of Technology",
          "Singapore Institute of Technology",
          "Singapore Institute of Technology",
          "Singapore Institute of Technology",
          "Singapore Institute of Technology",
          "National University of Singapore",
          "National University of Singapore",
          "Nanyang Technological University",
          "Singapore Institute of Technology",
          "Singapore Institute of Technology",
          "Singapore Institute of Technology",
          "Singapore Institute of Technology",
          "Singapore University of Social Sciences",
          "National University of Singapore",
          "National University of Singapore",
          "National University of Singapore",
          "National University of Singapore",
          "National University of Singapore",
          "National University of Singapore",
          "National University of Singapore",
          "Singapore Institute of Technology",
          "National University of Singapore",
          "Singapore University of Technology and Design",
          "National University of Singapore",
          "National University of Singapore",
          "National University of Singapore",
          "National University of Singapore",
          "Nanyang Technological University",
          "Nanyang Technological University",
          "Nanyang Technological University",
          "Nanyang Technological University",
          "Nanyang Technological University",
          "Nanyang Technological University",
          "Nanyang Technological University",
          "Nanyang Technological University",
          "Singapore Institute of Technology",
          "National University of Singapore",
          "National University of Singapore",
          "National University of Singapore",
          "National University of Singapore",
          "National University of Singapore",
          "National University of Singapore",
          "National University of Singapore",
          "Singapore Institute of Technology",
          "Singapore Institute of Technology",
          "Singapore Institute of Technology",
          "Singapore Institute of Technology",
          "Singapore Institute of Technology",
          "Singapore University of Social Sciences",
          "Singapore University of Social Sciences",
          "Singapore University of Social Sciences",
          "National University of Singapore",
          "Singapore Institute of Technology",
          "Singapore Institute of Technology",
          "Singapore Institute of Technology",
          "Singapore Institute of Technology",
          "National University of Singapore",
          "Singapore University of Social Sciences",
          "Nanyang Technological University",
          "Nanyang Technological University",
          "Nanyang Technological University",
          "Nanyang Technological University",
          "Nanyang Technological University",
          "Nanyang Technological University",
          "Nanyang Technological University",
          "Nanyang Technological University",
          "Singapore Management University",
          "Singapore Management University",
          "Nanyang Technological University",
          "Nanyang Technological University",
          "Nanyang Technological University",
          "Nanyang Technological University",
          "Nanyang Technological University",
          "Nanyang Technological University",
          "Nanyang Technological University",
          "Nanyang Technological University",
          "Nanyang Technological University",
          "Nanyang Technological University",
          "Nanyang Technological University",
          "Nanyang Technological University",
          "Nanyang Technological University",
          "Nanyang Technological University",
          "Nanyang Technological University",
          "Singapore Management University",
          "Singapore Management University",
          "Nanyang Technological University",
          "Nanyang Technological University",
          "Nanyang Technological University",
          "Nanyang Technological University",
          "Nanyang Technological University",
          "Nanyang Technological University",
          "Nanyang Technological University",
          "Nanyang Technological University",
          "Nanyang Technological University",
          "Singapore Management University",
          "Singapore Management University",
          "Singapore Management University",
          "Singapore Management University",
          "Nanyang Technological University",
          "Singapore Management University",
          "Singapore Management University",
          "Nanyang Technological University",
          "Nanyang Technological University",
          "Nanyang Technological University",
          "Nanyang Technological University",
          "Nanyang Technological University",
          "Nanyang Technological University",
          "Nanyang Technological University",
          "Nanyang Technological University",
          "Nanyang Technological University",
          "Nanyang Technological University",
          "Nanyang Technological University",
          "Nanyang Technological University",
          "Nanyang Technological University",
          "Nanyang Technological University",
          "Nanyang Technological University",
          "Nanyang Technological University",
          "Singapore Management University",
          "Singapore Management University",
          "Nanyang Technological University",
          "Nanyang Technological University",
          "Nanyang Technological University",
          "",
          "",
          "",
          "",
          "",
          ""
         ],
         "type": "treemap",
         "values": [
          6.719999999999999,
          12.607000000000003,
          5.8,
          12.743,
          12.696000000000002,
          9.931999999999999,
          9.203999999999999,
          0.2,
          2.000000000000001,
          4.86,
          3.920000000000001,
          3.9420000000000006,
          1,
          4.726,
          1.94,
          6.6339999999999995,
          7.34,
          12.724,
          8.719999999999999,
          11.610999999999999,
          0.2,
          1.68,
          1.68,
          1.54,
          0.16,
          0.16,
          1.56,
          1.48,
          1.54,
          9.763,
          6.5,
          4.745,
          10.16,
          6.9799999999999995,
          10.959999999999999,
          0.18,
          12.062999999999997,
          14.029,
          9.328,
          12.588999999999999,
          1.8800000000000001,
          1.84,
          5.24,
          12.331,
          5.260000000000001,
          0.909,
          12.525999999999998,
          2.4000000000000012,
          1,
          0.14,
          11.218,
          11.71,
          12.534999999999998,
          13.577000000000004,
          11.870000000000001,
          8.286,
          10.793,
          6.532,
          13.360000000000003,
          0.16,
          1.56,
          1.96,
          1.9,
          1.84,
          1.78,
          1.42,
          1.72,
          1.68,
          1.64,
          13.892000000000001,
          6.849,
          1.9800000000000002,
          7.7829999999999995,
          11.622000000000002,
          1.64,
          1.9,
          6.700000000000001,
          8.440000000000001,
          11.017,
          8.439,
          3.1399999999999997,
          3.0620000000000003,
          10.620000000000001,
          7.42,
          8.666,
          9.459999999999997,
          3.466,
          6.702999999999999,
          2.782,
          0.981,
          1.84,
          4.791,
          0.9570000000000001,
          1.1290000000000002,
          8.28,
          0.929,
          1.76,
          4.411,
          6.779999999999999,
          1.1320000000000001,
          6.398999999999999,
          2.646,
          6.6579999999999995,
          7.779999999999999,
          0.2,
          1.98,
          3.380000000000001,
          0.2,
          7.292000000000002,
          7.080000000000001,
          10.64,
          3.1,
          4.9799999999999995,
          0.8,
          1,
          12.850999999999999,
          0.2,
          1.84,
          1.62,
          1.6,
          1.4,
          1.78,
          1.78,
          1.62,
          3.54,
          12.593999999999998,
          7.445,
          5.092999999999999,
          4.06,
          1.98,
          12.082000000000003,
          13.910999999999998,
          9.98,
          6.777000000000001,
          7.316,
          4.4399999999999995,
          7.000000000000001,
          2.92,
          2.8609999999999998,
          0.88,
          6.405999999999999,
          9.299999999999999,
          7.38,
          2.1,
          7.700000000000001,
          11.675000000000002,
          0.973,
          10.631,
          10.249,
          0.4,
          1.8,
          2.827,
          3.7,
          6.4319999999999995,
          5.42,
          12.177999999999999,
          12.655,
          7.739999999999998,
          3.3200000000000003,
          7.93,
          10.499,
          11.218,
          12.237000000000002,
          9.869,
          11.731999999999998,
          12.181999999999999,
          1.94,
          0.2,
          0.18,
          0.9740000000000001,
          1,
          11.578000000000003,
          13.555,
          10.666999999999998,
          3.54,
          6.6049999999999995,
          6.289,
          1.52,
          2.695,
          9.702,
          4.232000000000001,
          3.6199999999999997,
          8.02,
          4.691,
          1.313,
          9.379999999999999,
          7.939999999999999,
          0.958,
          10.934999999999999,
          11.01,
          5,
          6.046,
          10.527999999999999,
          9.334999999999999,
          3.6,
          6.244000000000001,
          10.090999999999998,
          8.237,
          1.2000000000000002,
          2.763,
          9.106,
          10.478000000000003,
          1.8,
          2.5250000000000004,
          0.2,
          2.000000000000001,
          11.759,
          13.385999999999997,
          10.634,
          0.16,
          7.635000000000002,
          390.2329999999997,
          404.27400000000046,
          249.6839999999998,
          144.81899999999993,
          16.006,
          24.767
         ]
        }
       ],
       "layout": {
        "coloraxis": {
         "colorbar": {
          "title": {
           "text": "employment_rate_overall_pct"
          }
         },
         "colorscale": [
          [
           0,
           "#0d0887"
          ],
          [
           0.1111111111111111,
           "#46039f"
          ],
          [
           0.2222222222222222,
           "#7201a8"
          ],
          [
           0.3333333333333333,
           "#9c179e"
          ],
          [
           0.4444444444444444,
           "#bd3786"
          ],
          [
           0.5555555555555556,
           "#d8576b"
          ],
          [
           0.6666666666666666,
           "#ed7953"
          ],
          [
           0.7777777777777778,
           "#fb9f3a"
          ],
          [
           0.8888888888888888,
           "#fdca26"
          ],
          [
           1,
           "#f0f921"
          ]
         ]
        },
        "legend": {
         "tracegroupgap": 0
        },
        "margin": {
         "t": 60
        },
        "template": {
         "data": {
          "bar": [
           {
            "error_x": {
             "color": "#2a3f5f"
            },
            "error_y": {
             "color": "#2a3f5f"
            },
            "marker": {
             "line": {
              "color": "#E5ECF6",
              "width": 0.5
             },
             "pattern": {
              "fillmode": "overlay",
              "size": 10,
              "solidity": 0.2
             }
            },
            "type": "bar"
           }
          ],
          "barpolar": [
           {
            "marker": {
             "line": {
              "color": "#E5ECF6",
              "width": 0.5
             },
             "pattern": {
              "fillmode": "overlay",
              "size": 10,
              "solidity": 0.2
             }
            },
            "type": "barpolar"
           }
          ],
          "carpet": [
           {
            "aaxis": {
             "endlinecolor": "#2a3f5f",
             "gridcolor": "white",
             "linecolor": "white",
             "minorgridcolor": "white",
             "startlinecolor": "#2a3f5f"
            },
            "baxis": {
             "endlinecolor": "#2a3f5f",
             "gridcolor": "white",
             "linecolor": "white",
             "minorgridcolor": "white",
             "startlinecolor": "#2a3f5f"
            },
            "type": "carpet"
           }
          ],
          "choropleth": [
           {
            "colorbar": {
             "outlinewidth": 0,
             "ticks": ""
            },
            "type": "choropleth"
           }
          ],
          "contour": [
           {
            "colorbar": {
             "outlinewidth": 0,
             "ticks": ""
            },
            "colorscale": [
             [
              0,
              "#0d0887"
             ],
             [
              0.1111111111111111,
              "#46039f"
             ],
             [
              0.2222222222222222,
              "#7201a8"
             ],
             [
              0.3333333333333333,
              "#9c179e"
             ],
             [
              0.4444444444444444,
              "#bd3786"
             ],
             [
              0.5555555555555556,
              "#d8576b"
             ],
             [
              0.6666666666666666,
              "#ed7953"
             ],
             [
              0.7777777777777778,
              "#fb9f3a"
             ],
             [
              0.8888888888888888,
              "#fdca26"
             ],
             [
              1,
              "#f0f921"
             ]
            ],
            "type": "contour"
           }
          ],
          "contourcarpet": [
           {
            "colorbar": {
             "outlinewidth": 0,
             "ticks": ""
            },
            "type": "contourcarpet"
           }
          ],
          "heatmap": [
           {
            "colorbar": {
             "outlinewidth": 0,
             "ticks": ""
            },
            "colorscale": [
             [
              0,
              "#0d0887"
             ],
             [
              0.1111111111111111,
              "#46039f"
             ],
             [
              0.2222222222222222,
              "#7201a8"
             ],
             [
              0.3333333333333333,
              "#9c179e"
             ],
             [
              0.4444444444444444,
              "#bd3786"
             ],
             [
              0.5555555555555556,
              "#d8576b"
             ],
             [
              0.6666666666666666,
              "#ed7953"
             ],
             [
              0.7777777777777778,
              "#fb9f3a"
             ],
             [
              0.8888888888888888,
              "#fdca26"
             ],
             [
              1,
              "#f0f921"
             ]
            ],
            "type": "heatmap"
           }
          ],
          "heatmapgl": [
           {
            "colorbar": {
             "outlinewidth": 0,
             "ticks": ""
            },
            "colorscale": [
             [
              0,
              "#0d0887"
             ],
             [
              0.1111111111111111,
              "#46039f"
             ],
             [
              0.2222222222222222,
              "#7201a8"
             ],
             [
              0.3333333333333333,
              "#9c179e"
             ],
             [
              0.4444444444444444,
              "#bd3786"
             ],
             [
              0.5555555555555556,
              "#d8576b"
             ],
             [
              0.6666666666666666,
              "#ed7953"
             ],
             [
              0.7777777777777778,
              "#fb9f3a"
             ],
             [
              0.8888888888888888,
              "#fdca26"
             ],
             [
              1,
              "#f0f921"
             ]
            ],
            "type": "heatmapgl"
           }
          ],
          "histogram": [
           {
            "marker": {
             "pattern": {
              "fillmode": "overlay",
              "size": 10,
              "solidity": 0.2
             }
            },
            "type": "histogram"
           }
          ],
          "histogram2d": [
           {
            "colorbar": {
             "outlinewidth": 0,
             "ticks": ""
            },
            "colorscale": [
             [
              0,
              "#0d0887"
             ],
             [
              0.1111111111111111,
              "#46039f"
             ],
             [
              0.2222222222222222,
              "#7201a8"
             ],
             [
              0.3333333333333333,
              "#9c179e"
             ],
             [
              0.4444444444444444,
              "#bd3786"
             ],
             [
              0.5555555555555556,
              "#d8576b"
             ],
             [
              0.6666666666666666,
              "#ed7953"
             ],
             [
              0.7777777777777778,
              "#fb9f3a"
             ],
             [
              0.8888888888888888,
              "#fdca26"
             ],
             [
              1,
              "#f0f921"
             ]
            ],
            "type": "histogram2d"
           }
          ],
          "histogram2dcontour": [
           {
            "colorbar": {
             "outlinewidth": 0,
             "ticks": ""
            },
            "colorscale": [
             [
              0,
              "#0d0887"
             ],
             [
              0.1111111111111111,
              "#46039f"
             ],
             [
              0.2222222222222222,
              "#7201a8"
             ],
             [
              0.3333333333333333,
              "#9c179e"
             ],
             [
              0.4444444444444444,
              "#bd3786"
             ],
             [
              0.5555555555555556,
              "#d8576b"
             ],
             [
              0.6666666666666666,
              "#ed7953"
             ],
             [
              0.7777777777777778,
              "#fb9f3a"
             ],
             [
              0.8888888888888888,
              "#fdca26"
             ],
             [
              1,
              "#f0f921"
             ]
            ],
            "type": "histogram2dcontour"
           }
          ],
          "mesh3d": [
           {
            "colorbar": {
             "outlinewidth": 0,
             "ticks": ""
            },
            "type": "mesh3d"
           }
          ],
          "parcoords": [
           {
            "line": {
             "colorbar": {
              "outlinewidth": 0,
              "ticks": ""
             }
            },
            "type": "parcoords"
           }
          ],
          "pie": [
           {
            "automargin": true,
            "type": "pie"
           }
          ],
          "scatter": [
           {
            "marker": {
             "colorbar": {
              "outlinewidth": 0,
              "ticks": ""
             }
            },
            "type": "scatter"
           }
          ],
          "scatter3d": [
           {
            "line": {
             "colorbar": {
              "outlinewidth": 0,
              "ticks": ""
             }
            },
            "marker": {
             "colorbar": {
              "outlinewidth": 0,
              "ticks": ""
             }
            },
            "type": "scatter3d"
           }
          ],
          "scattercarpet": [
           {
            "marker": {
             "colorbar": {
              "outlinewidth": 0,
              "ticks": ""
             }
            },
            "type": "scattercarpet"
           }
          ],
          "scattergeo": [
           {
            "marker": {
             "colorbar": {
              "outlinewidth": 0,
              "ticks": ""
             }
            },
            "type": "scattergeo"
           }
          ],
          "scattergl": [
           {
            "marker": {
             "colorbar": {
              "outlinewidth": 0,
              "ticks": ""
             }
            },
            "type": "scattergl"
           }
          ],
          "scattermapbox": [
           {
            "marker": {
             "colorbar": {
              "outlinewidth": 0,
              "ticks": ""
             }
            },
            "type": "scattermapbox"
           }
          ],
          "scatterpolar": [
           {
            "marker": {
             "colorbar": {
              "outlinewidth": 0,
              "ticks": ""
             }
            },
            "type": "scatterpolar"
           }
          ],
          "scatterpolargl": [
           {
            "marker": {
             "colorbar": {
              "outlinewidth": 0,
              "ticks": ""
             }
            },
            "type": "scatterpolargl"
           }
          ],
          "scatterternary": [
           {
            "marker": {
             "colorbar": {
              "outlinewidth": 0,
              "ticks": ""
             }
            },
            "type": "scatterternary"
           }
          ],
          "surface": [
           {
            "colorbar": {
             "outlinewidth": 0,
             "ticks": ""
            },
            "colorscale": [
             [
              0,
              "#0d0887"
             ],
             [
              0.1111111111111111,
              "#46039f"
             ],
             [
              0.2222222222222222,
              "#7201a8"
             ],
             [
              0.3333333333333333,
              "#9c179e"
             ],
             [
              0.4444444444444444,
              "#bd3786"
             ],
             [
              0.5555555555555556,
              "#d8576b"
             ],
             [
              0.6666666666666666,
              "#ed7953"
             ],
             [
              0.7777777777777778,
              "#fb9f3a"
             ],
             [
              0.8888888888888888,
              "#fdca26"
             ],
             [
              1,
              "#f0f921"
             ]
            ],
            "type": "surface"
           }
          ],
          "table": [
           {
            "cells": {
             "fill": {
              "color": "#EBF0F8"
             },
             "line": {
              "color": "white"
             }
            },
            "header": {
             "fill": {
              "color": "#C8D4E3"
             },
             "line": {
              "color": "white"
             }
            },
            "type": "table"
           }
          ]
         },
         "layout": {
          "annotationdefaults": {
           "arrowcolor": "#2a3f5f",
           "arrowhead": 0,
           "arrowwidth": 1
          },
          "autotypenumbers": "strict",
          "coloraxis": {
           "colorbar": {
            "outlinewidth": 0,
            "ticks": ""
           }
          },
          "colorscale": {
           "diverging": [
            [
             0,
             "#8e0152"
            ],
            [
             0.1,
             "#c51b7d"
            ],
            [
             0.2,
             "#de77ae"
            ],
            [
             0.3,
             "#f1b6da"
            ],
            [
             0.4,
             "#fde0ef"
            ],
            [
             0.5,
             "#f7f7f7"
            ],
            [
             0.6,
             "#e6f5d0"
            ],
            [
             0.7,
             "#b8e186"
            ],
            [
             0.8,
             "#7fbc41"
            ],
            [
             0.9,
             "#4d9221"
            ],
            [
             1,
             "#276419"
            ]
           ],
           "sequential": [
            [
             0,
             "#0d0887"
            ],
            [
             0.1111111111111111,
             "#46039f"
            ],
            [
             0.2222222222222222,
             "#7201a8"
            ],
            [
             0.3333333333333333,
             "#9c179e"
            ],
            [
             0.4444444444444444,
             "#bd3786"
            ],
            [
             0.5555555555555556,
             "#d8576b"
            ],
            [
             0.6666666666666666,
             "#ed7953"
            ],
            [
             0.7777777777777778,
             "#fb9f3a"
            ],
            [
             0.8888888888888888,
             "#fdca26"
            ],
            [
             1,
             "#f0f921"
            ]
           ],
           "sequentialminus": [
            [
             0,
             "#0d0887"
            ],
            [
             0.1111111111111111,
             "#46039f"
            ],
            [
             0.2222222222222222,
             "#7201a8"
            ],
            [
             0.3333333333333333,
             "#9c179e"
            ],
            [
             0.4444444444444444,
             "#bd3786"
            ],
            [
             0.5555555555555556,
             "#d8576b"
            ],
            [
             0.6666666666666666,
             "#ed7953"
            ],
            [
             0.7777777777777778,
             "#fb9f3a"
            ],
            [
             0.8888888888888888,
             "#fdca26"
            ],
            [
             1,
             "#f0f921"
            ]
           ]
          },
          "colorway": [
           "#636efa",
           "#EF553B",
           "#00cc96",
           "#ab63fa",
           "#FFA15A",
           "#19d3f3",
           "#FF6692",
           "#B6E880",
           "#FF97FF",
           "#FECB52"
          ],
          "font": {
           "color": "#2a3f5f"
          },
          "geo": {
           "bgcolor": "white",
           "lakecolor": "white",
           "landcolor": "#E5ECF6",
           "showlakes": true,
           "showland": true,
           "subunitcolor": "white"
          },
          "hoverlabel": {
           "align": "left"
          },
          "hovermode": "closest",
          "mapbox": {
           "style": "light"
          },
          "paper_bgcolor": "white",
          "plot_bgcolor": "#E5ECF6",
          "polar": {
           "angularaxis": {
            "gridcolor": "white",
            "linecolor": "white",
            "ticks": ""
           },
           "bgcolor": "#E5ECF6",
           "radialaxis": {
            "gridcolor": "white",
            "linecolor": "white",
            "ticks": ""
           }
          },
          "scene": {
           "xaxis": {
            "backgroundcolor": "#E5ECF6",
            "gridcolor": "white",
            "gridwidth": 2,
            "linecolor": "white",
            "showbackground": true,
            "ticks": "",
            "zerolinecolor": "white"
           },
           "yaxis": {
            "backgroundcolor": "#E5ECF6",
            "gridcolor": "white",
            "gridwidth": 2,
            "linecolor": "white",
            "showbackground": true,
            "ticks": "",
            "zerolinecolor": "white"
           },
           "zaxis": {
            "backgroundcolor": "#E5ECF6",
            "gridcolor": "white",
            "gridwidth": 2,
            "linecolor": "white",
            "showbackground": true,
            "ticks": "",
            "zerolinecolor": "white"
           }
          },
          "shapedefaults": {
           "line": {
            "color": "#2a3f5f"
           }
          },
          "ternary": {
           "aaxis": {
            "gridcolor": "white",
            "linecolor": "white",
            "ticks": ""
           },
           "baxis": {
            "gridcolor": "white",
            "linecolor": "white",
            "ticks": ""
           },
           "bgcolor": "#E5ECF6",
           "caxis": {
            "gridcolor": "white",
            "linecolor": "white",
            "ticks": ""
           }
          },
          "title": {
           "x": 0.05
          },
          "xaxis": {
           "automargin": true,
           "gridcolor": "white",
           "linecolor": "white",
           "ticks": "",
           "title": {
            "standoff": 15
           },
           "zerolinecolor": "white",
           "zerolinewidth": 2
          },
          "yaxis": {
           "automargin": true,
           "gridcolor": "white",
           "linecolor": "white",
           "ticks": "",
           "title": {
            "standoff": 15
           },
           "zerolinecolor": "white",
           "zerolinewidth": 2
          }
         }
        }
       }
      },
      "text/html": [
       "<div>                            <div id=\"a58f5257-e4ef-413d-ad9d-3b7029f4b114\" class=\"plotly-graph-div\" style=\"height:525px; width:100%;\"></div>            <script type=\"text/javascript\">                require([\"plotly\"], function(Plotly) {                    window.PLOTLYENV=window.PLOTLYENV || {};                                    if (document.getElementById(\"a58f5257-e4ef-413d-ad9d-3b7029f4b114\")) {                    Plotly.newPlot(                        \"a58f5257-e4ef-413d-ad9d-3b7029f4b114\",                        [{\"branchvalues\":\"total\",\"customdata\":[[0.9601785714285715],[0.9438414372967395],[0.9666896551724138],[0.9513277093306127],[0.9766679269061118],[0.8784075714861055],[0.8106710126032163],[0.10000000000000002],[0.5499999999999999],[0.8999588477366255],[0.7508163265306119],[0.7572612886859461],[1.0],[0.9462369868810834],[0.97],[0.9479764847753996],[0.8841144414168937],[0.848995284501729],[0.9280045871559632],[0.8708949272241838],[0.10000000000000002],[0.8399999999999999],[0.8399999999999999],[0.7699999999999999],[0.08],[0.08],[0.78],[0.74],[0.7699999999999999],[0.8396608624398242],[0.8800307692307693],[0.8819863013698629],[0.850748031496063],[0.8751002865329512],[0.9146715328467154],[0.09],[0.9003373124430075],[0.9361380711383562],[0.9176054888507718],[0.9423624592898563],[0.7936170212765956],[0.92],[0.8752671755725189],[0.9229455032033088],[0.877148288973384],[0.909],[0.938240140507744],[0.47499999999999987],[1.0],[0.07],[0.8660335175610627],[0.8793424423569598],[0.9383825289190268],[0.9057942844516458],[0.8871524852569501],[0.8886212889210715],[0.8321290651348098],[0.8363294549908146],[0.894011976047904],[0.08],[0.78],[0.98],[0.9500000000000001],[0.92],[0.89],[0.7100000000000001],[0.8599999999999999],[0.8399999999999999],[0.82],[0.9292243017564062],[0.8845905971674698],[0.8263636363636363],[0.8271629191828344],[0.8690555842367921],[0.82],[0.9500000000000001],[0.7679104477611941],[0.8139810426540282],[0.8502903694290639],[0.9054438914563336],[0.9241401273885351],[0.89825081645983],[0.9321092278719394],[0.8583557951482477],[0.8968516039695363],[0.9127906976744189],[0.7210028851702249],[0.8533684917201254],[0.9274493170381022],[0.9810000000000001],[0.92],[0.9587645585472762],[0.9570000000000001],[0.7821443755535872],[0.8327053140096619],[0.929],[0.88],[0.8867016549535255],[0.8530088495575222],[0.8149328621908127],[0.9145805594624159],[0.8823265306122449],[0.9514154400720937],[0.9725706940874036],[0.10000000000000002],[0.99],[0.8876331360946744],[0.10000000000000002],[0.7805902358749313],[0.885593220338983],[0.7967481203007518],[0.9112903225806449],[0.9220883534136546],[0.8000000000000002],[1.0],[0.8575489066998677],[0.10000000000000002],[0.92],[0.81],[0.8000000000000002],[0.7],[0.89],[0.89],[0.81],[0.8850282485875706],[0.9401997776719074],[0.8634553391537944],[0.9443253485175731],[0.9310837438423647],[0.99],[0.9072077470617445],[0.9277838401265186],[0.8327655310621244],[0.8651215877231812],[0.8890071077091305],[0.8516216216216216],[0.829657142857143],[0.8772602739726028],[0.8434956308982873],[0.88],[0.9155597876990323],[0.9305591397849463],[0.8909214092140922],[0.869047619047619],[0.9631428571428572],[0.8749657387580296],[0.973],[0.8212662026149941],[0.7902742706605524],[0.10000000000000002],[0.9],[0.9423448885744606],[0.9256756756756755],[0.9193258706467663],[0.9035055350553506],[0.9108526851699787],[0.9474377716317661],[0.8760981912144703],[0.8310843373493976],[0.882610340479193],[0.8092543099342796],[0.8641508290247818],[0.9414929312740049],[0.8672612220083087],[0.904874190248892],[0.9373735018880314],[0.97],[0.10000000000000002],[0.09],[0.9740000000000001],[1.0],[0.890872689583693],[0.9039634821099226],[0.9090474360176246],[0.8850282485875706],[0.8955071915215745],[0.7785786293528384],[0.76],[0.9001205936920224],[0.8565248402391261],[0.7984839319470698],[0.9063535911602211],[0.8929426433915213],[0.9382990833510979],[0.6905476009139375],[0.9381449893390192],[0.9456675062972292],[0.958],[0.9300251486053954],[0.9333060853769299],[0.8346400000000003],[0.8677399933840556],[0.9266968085106383],[0.8222629887520088],[0.8281111111111111],[0.8924689301729659],[0.918604796353186],[0.8496890858322205],[0.8499999999999999],[0.8269884183858123],[0.8004915440368988],[0.8143771712158806],[0.9],[0.8457920792079208],[0.10000000000000002],[0.5499999999999999],[0.8819118122289311],[0.8937125354848349],[0.8232570998683467],[0.08],[0.8233693516699412],[0.8629792021689606],[0.8906444985331731],[0.8778787667611861],[0.9214938164191162],[0.9060678495564163],[0.8765527112690276]],\"domain\":{\"x\":[0.0,1.0],\"y\":[0.0,1.0]},\"hovertemplate\":\"labels=%{label}<br>employment_rate_overall_pct_sum=%{value}<br>parent=%{parent}<br>id=%{id}<br>employment_rate_overall_pct=%{color}<extra></extra>\",\"ids\":[\"Nanyang Technological University/Accountancy\",\"Singapore Management University/Accountancy\",\"Nanyang Technological University/Accountancy (3yr direct Honours Programme)\",\"Singapore Management University/Accountancy Cum Laude and above\",\"Nanyang Technological University/Accountancy and Business\",\"Nanyang Technological University/Aerospace Engineering\",\"Nanyang Technological University/Art Design and Media\",\"Nanyang Technological University/Arts (With Education)\",\"Nanyang Technological University/Arts (with Education)\",\"Singapore Institute of Technology/Bachelor in Science (Diagnostic Radiography)\",\"Singapore Institute of Technology/Bachelor in Science (Occupational Therapy)\",\"Singapore Institute of Technology/Bachelor in Science (Physiotherapy)\",\"Singapore Institute of Technology/Bachelor in Science (Radiation Therapy)\",\"Singapore University of Social Sciences/Bachelor of Accountancy\",\"Nanyang Technological University/Bachelor of Accountancy (Hons)\",\"Singapore Institute of Technology/Bachelor of Accountancy with Honours\",\"National University of Singapore/Bachelor of Applied Science (Hons)\",\"National University of Singapore/Bachelor of Arts\",\"National University of Singapore/Bachelor of Arts (Architecture)\",\"National University of Singapore/Bachelor of Arts (Hons)\",\"Nanyang Technological University/Bachelor of Arts (Hons) (Education)\",\"Nanyang Technological University/Bachelor of Arts (Hons) in Chinese\",\"Nanyang Technological University/Bachelor of Arts (Hons) in Economics\",\"Nanyang Technological University/Bachelor of Arts (Hons) in English\",\"Nanyang Technological University/Bachelor of Arts (Hons) in History\",\"Nanyang Technological University/Bachelor of Arts (Hons) in Linguistics And Multilingual Studies\",\"Nanyang Technological University/Bachelor of Arts (Hons) in Psychology\",\"Nanyang Technological University/Bachelor of Arts (Hons) in Public Policy And Global Affairs\",\"Nanyang Technological University/Bachelor of Arts (Hons) in Sociology\",\"National University of Singapore/Bachelor of Arts (Industrial Design)\",\"Singapore Institute of Technology/Bachelor of Arts in Game Design\",\"National University of Singapore/Bachelor of Arts with Honours\",\"Singapore Institute of Technology/Bachelor of Arts with Honours in Communication Design\",\"Singapore Institute of Technology/Bachelor of Arts with Honours in Criminology and Security\",\"Singapore Institute of Technology/Bachelor of Arts with Honours in Interior Design\",\"Nanyang Technological University/Bachelor of Business (Hons)\",\"National University of Singapore/Bachelor of Business Administration\",\"National University of Singapore/Bachelor of Business Administration (Accountancy)\",\"National University of Singapore/Bachelor of Business Administration (Accountancy) (Hons)\",\"National University of Singapore/Bachelor of Business Administration (Hons)\",\"Singapore Institute of Technology/Bachelor of Business Administration in Food Business Management\",\"Nanyang Technological University/Bachelor of Communication Studies (Hons)\",\"National University of Singapore/Bachelor of Computing (Communications and Media)\",\"National University of Singapore/Bachelor of Computing (Computer Science)\",\"National University of Singapore/Bachelor of Computing (Electronic Commerce)\",\"National University of Singapore/Bachelor of Computing (Information Security)\",\"National University of Singapore/Bachelor of Computing (Information Systems)\",\"National University of Singapore/Bachelor of Dental Surgery\",\"Singapore University of Social Sciences/Bachelor of Early Childhood Education\",\"National University of Singapore/Bachelor of Engineering (Bioengineering)\",\"National University of Singapore/Bachelor of Engineering (Biomedical Engineering)\",\"National University of Singapore/Bachelor of Engineering (Chemical Engineering)\",\"National University of Singapore/Bachelor of Engineering (Civil Engineering)\",\"National University of Singapore/Bachelor of Engineering (Computer Engineering)\",\"National University of Singapore/Bachelor of Engineering (Electrical Engineering)\",\"Singapore University of Technology and Design/Bachelor of Engineering (Engineering Product Development)\",\"National University of Singapore/Bachelor of Engineering (Engineering Science)\",\"Singapore University of Technology and Design/Bachelor of Engineering (Engineering Systems and Design)\",\"National University of Singapore/Bachelor of Engineering (Environmental Engineering)\",\"Nanyang Technological University/Bachelor of Engineering (Hons) (Aerospace Engineering)\",\"Nanyang Technological University/Bachelor of Engineering (Hons) (Bioengineering)\",\"Nanyang Technological University/Bachelor of Engineering (Hons) (Civil Engineering)\",\"Nanyang Technological University/Bachelor of Engineering (Hons) (Computer Engineering)\",\"Nanyang Technological University/Bachelor of Engineering (Hons) (Computer Science)\",\"Nanyang Technological University/Bachelor of Engineering (Hons) (Electrical and Electronic Engineering)\",\"Nanyang Technological University/Bachelor of Engineering (Hons) (Environmental Engineering)\",\"Nanyang Technological University/Bachelor of Engineering (Hons) (Information Engineering and Media)\",\"Nanyang Technological University/Bachelor of Engineering (Hons) (Materials Engineering)\",\"Nanyang Technological University/Bachelor of Engineering (Hons) (Mechanical Engineering)\",\"National University of Singapore/Bachelor of Engineering (Industrial and Systems Engineering)\",\"Singapore University of Technology and Design/Bachelor of Engineering (Information Systems Technology and Design)\",\"National University of Singapore/Bachelor of Engineering (Materials Science And Engineering)\",\"National University of Singapore/Bachelor of Engineering (Materials Science and Engineering)\",\"National University of Singapore/Bachelor of Engineering (Mechanical Engineering)\",\"Nanyang Technological University/Bachelor of Engineering and (Hons) (Chemical And Biomolecular Engineering)\",\"Singapore Institute of Technology/Bachelor of Engineering in Systems Engineering (ElectroMechanical Systems)\",\"Singapore Institute of Technology/Bachelor of Engineering with Honours in Aeronautical Engineering\",\"Singapore Institute of Technology/Bachelor of Engineering with Honours in Aerospace Systems\",\"Singapore Institute of Technology/Bachelor of Engineering with Honours in Chemical Engineering\",\"Singapore Institute of Technology/Bachelor of Engineering with Honours in Electrical Power Engineering\",\"Singapore Institute of Technology/Bachelor of Engineering with Honours in Information and Communications Technology (Information Security)\",\"Singapore Institute of Technology/Bachelor of Engineering with Honours in Information and Communications Technology (Software Engineering)\",\"Singapore Institute of Technology/Bachelor of Engineering with Honours in Marine Engineering\",\"Singapore Institute of Technology/Bachelor of Engineering with Honours in Mechanical Design Engineering\",\"Singapore Institute of Technology/Bachelor of Engineering with Honours in Mechanical Design and Manufacturing Engineering\",\"Singapore Institute of Technology/Bachelor of Engineering with Honours in Mechatronics\",\"Singapore Institute of Technology/Bachelor of Engineering with Honours in Naval Architecture\",\"Singapore Institute of Technology/Bachelor of Engineering with Honours in Offshore Engineering\",\"Singapore Institute of Technology/Bachelor of Engineering with Honours in Pharmaceutical Engineering\",\"Singapore Institute of Technology/Bachelor of Engineering with Honours in Sustainable Infrastructure\",\"Singapore Institute of Technology/Bachelor of Engineering with Honours in Sustainable Infrastructure Engineering (Building Services)\",\"Singapore Institute of Technology/Bachelor of Engineering with Honours in Sustainable Infrastructure Engineering (Land)\",\"Singapore Institute of Technology/Bachelor of Engineering with Honours in Systems Engineering (ElectroMechanical Systems)\",\"Singapore Institute of Technology/Bachelor of Engineering with Honours in Telematics (Intelligent Transportation Systems Engineering)\",\"National University of Singapore/Bachelor of Environmental Studies\",\"National University of Singapore/Bachelor of Environmental Studies7\",\"Nanyang Technological University/Bachelor of Fine Arts (Hons)\",\"Singapore Institute of Technology/Bachelor of Fine Arts in Digital Art and Animation\",\"Singapore Institute of Technology/Bachelor of Fine Arts in Digital Arts Animation\",\"Singapore Institute of Technology/Bachelor of Food Technology with Honours\",\"Singapore Institute of Technology/Bachelor of Hospitality Business with Honours\",\"Singapore University of Social Sciences/Bachelor of Human Resource Management\",\"National University of Singapore/Bachelor of Laws\",\"National University of Singapore/Bachelor of Laws (LLB) (Hons)\",\"National University of Singapore/Bachelor of Medicine And Bachelor Of Surgery\",\"National University of Singapore/Bachelor of Medicine and Bachelor Of Surgery\",\"National University of Singapore/Bachelor of Medicine and Bachelor of Surgery\",\"National University of Singapore/Bachelor of Medicine and Bachelor of Surgery (MBBS)\",\"National University of Singapore/Bachelor of Music\",\"Singapore Institute of Technology/Bachelor of Professional Studies in Culinary Arts Management\",\"National University of Singapore/Bachelor of Science\",\"Singapore University of Technology and Design/Bachelor of Science (Architecture and Sustainable Design)\",\"National University of Singapore/Bachelor of Science (Business Analytics)\",\"National University of Singapore/Bachelor of Science (Computational Biology)\",\"National University of Singapore/Bachelor of Science (Data Science and Analytics)\",\"National University of Singapore/Bachelor of Science (Hons)\",\"Nanyang Technological University/Bachelor of Science (Hons) (Education)\",\"Nanyang Technological University/Bachelor of Science (Hons) (Maritime Studies)\",\"Nanyang Technological University/Bachelor of Science (Hons) (Sport Science and Management)\",\"Nanyang Technological University/Bachelor of Science (Hons) in Biological Sciences\",\"Nanyang Technological University/Bachelor of Science (Hons) in Chemistry and Biological Chemistry\",\"Nanyang Technological University/Bachelor of Science (Hons) in Mathematical Sciences\",\"Nanyang Technological University/Bachelor of Science (Hons) in Mathematics and Economics\",\"Nanyang Technological University/Bachelor of Science (Hons) in PhysicsApplied Physics\",\"Singapore Institute of Technology/Bachelor of Science (Major in Hospitality Management)\",\"National University of Singapore/Bachelor of Science (Nursing)\",\"National University of Singapore/Bachelor of Science (Nursing) (Hons)\",\"National University of Singapore/Bachelor of Science (Pharmacy)\",\"National University of Singapore/Bachelor of Science (Pharmacy) (Hons)\",\"National University of Singapore/Bachelor of Science (Pharmacy)(Hons)\",\"National University of Singapore/Bachelor of Science (Project and Facilities Management)\",\"National University of Singapore/Bachelor of Science (Real Estate)\",\"Singapore Institute of Technology/Bachelor of Science in Chemical Engineering\",\"Singapore Institute of Technology/Bachelor of Science in Computer Science and Game Design\",\"Singapore Institute of Technology/Bachelor of Science in Computer Science in RealTime Interactive Simulation\",\"Singapore Institute of Technology/Bachelor of Science in Early Childhood Education\",\"Singapore Institute of Technology/Bachelor of Science in Electrical Engineering and Information Technology\",\"Singapore University of Social Sciences/Bachelor of Science in Finance\",\"Singapore University of Social Sciences/Bachelor of Science in Marketing\",\"Singapore University of Social Sciences/Bachelor of Science in Supply Chain Management\",\"National University of Singapore/Bachelor of Science with Honours\",\"Singapore Institute of Technology/Bachelor of Science with Honours in Computing Science\",\"Singapore Institute of Technology/Bachelor of Science with Honours in Food and Human Nutrition\",\"Singapore Institute of Technology/Bachelor of Science with Honours in Nursing\",\"Singapore Institute of Technology/Bachelor of Science with Honours in Nursing Practice\",\"National University of Singapore/Bachelor of Social Sciences\",\"Singapore University of Social Sciences/Bachelor of Social Work\",\"Nanyang Technological University/Bioengineering\",\"Nanyang Technological University/Biological Sciences\",\"Nanyang Technological University/Biomedical Science (Traditional Chinese Medicine)\",\"Nanyang Technological University/Biomedical Sciences (Traditional Chinese Medicine)\",\"Nanyang Technological University/Biomedical Sciences and Chinese Medicine\",\"Nanyang Technological University/Biomedical Sciences and Chinese Medicine \",\"Nanyang Technological University/Business\",\"Nanyang Technological University/Business (3yr direct Honours Programme)\",\"Singapore Management University/Business Management\",\"Singapore Management University/Business Management Cum Laude and above\",\"Nanyang Technological University/Business and Computing\",\"Nanyang Technological University/Chemical And Biomolecular Engineering\",\"Nanyang Technological University/Chemical and Biomolecular Engineering\",\"Nanyang Technological University/Chemistry and Biological Chemistry\",\"Nanyang Technological University/Chinese\",\"Nanyang Technological University/Civil Engineering\",\"Nanyang Technological University/Communication Studies\",\"Nanyang Technological University/Computer Engineering\",\"Nanyang Technological University/Computer Science\",\"Nanyang Technological University/Double Degree in Bachelor of Accountancy (Hons) and Bachelor of Business (Hons)\",\"Nanyang Technological University/Double Degree in Bachelor of Business (Hons) and Bachelor of Engineering (Hons) (Computer Science)\",\"Nanyang Technological University/Double Degree in Bachelor of Science (Hons) in Biomedical Sciences and Bachelor of Medicine (Chinese Medicine)\",\"Nanyang Technological University/Double Degree in Business and Computer\",\"Nanyang Technological University/Double Degree in Engineering and Economics\",\"Nanyang Technological University/Economics\",\"Singapore Management University/Economics\",\"Singapore Management University/Economics Cum Laude and above\",\"Nanyang Technological University/Electrical And Electronic Engineering\",\"Nanyang Technological University/Electrical and Electronic Engineering\",\"Nanyang Technological University/English\",\"Nanyang Technological University/Environmental Earth Systems Science\",\"Nanyang Technological University/Environmental Earth Systems Sciences\",\"Nanyang Technological University/Environmental Engineering\",\"Nanyang Technological University/History\",\"Nanyang Technological University/Information Engineering And Media\",\"Nanyang Technological University/Information Engineering and Media\",\"Singapore Management University/Information Systems\",\"Singapore Management University/Information Systems Cum Laude and above\",\"Singapore Management University/Information Systems Management\",\"Singapore Management University/Information Systems Management Cum Laude and above\",\"Nanyang Technological University/InterDisciplinary Double Major\",\"Singapore Management University/Law\",\"Singapore Management University/Law Cum Laude and above\",\"Nanyang Technological University/Linguistics And Multilingual Studies\",\"Nanyang Technological University/Linguistics and Multilingual Studies\",\"Nanyang Technological University/Maritime Studies\",\"Nanyang Technological University/Materials Engineering\",\"Nanyang Technological University/Mathematical Science\",\"Nanyang Technological University/Mathematical Sciences\",\"Nanyang Technological University/Mathematics and Economics\",\"Nanyang Technological University/Mechanical Engineering\",\"Nanyang Technological University/Medicine\",\"Nanyang Technological University/Philosophy\",\"Nanyang Technological University/Physics and Applied Physics\",\"Nanyang Technological University/Psychology\",\"Nanyang Technological University/Public Policy And Global Affairs\",\"Nanyang Technological University/Public Policy and Global Affairs\",\"Nanyang Technological University/Science (With Education)\",\"Nanyang Technological University/Science (with Education)\",\"Singapore Management University/Social Sciences\",\"Singapore Management University/Social Sciences Cum Laude and above\",\"Nanyang Technological University/Sociology\",\"Nanyang Technological University/Sport Science and Management\",\"Nanyang Technological University/Sports Science and Management\",\"Nanyang Technological University\",\"National University of Singapore\",\"Singapore Institute of Technology\",\"Singapore Management University\",\"Singapore University of Social Sciences\",\"Singapore University of Technology and Design\"],\"labels\":[\"Accountancy\",\"Accountancy\",\"Accountancy (3yr direct Honours Programme)\",\"Accountancy Cum Laude and above\",\"Accountancy and Business\",\"Aerospace Engineering\",\"Art Design and Media\",\"Arts (With Education)\",\"Arts (with Education)\",\"Bachelor in Science (Diagnostic Radiography)\",\"Bachelor in Science (Occupational Therapy)\",\"Bachelor in Science (Physiotherapy)\",\"Bachelor in Science (Radiation Therapy)\",\"Bachelor of Accountancy\",\"Bachelor of Accountancy (Hons)\",\"Bachelor of Accountancy with Honours\",\"Bachelor of Applied Science (Hons)\",\"Bachelor of Arts\",\"Bachelor of Arts (Architecture)\",\"Bachelor of Arts (Hons)\",\"Bachelor of Arts (Hons) (Education)\",\"Bachelor of Arts (Hons) in Chinese\",\"Bachelor of Arts (Hons) in Economics\",\"Bachelor of Arts (Hons) in English\",\"Bachelor of Arts (Hons) in History\",\"Bachelor of Arts (Hons) in Linguistics And Multilingual Studies\",\"Bachelor of Arts (Hons) in Psychology\",\"Bachelor of Arts (Hons) in Public Policy And Global Affairs\",\"Bachelor of Arts (Hons) in Sociology\",\"Bachelor of Arts (Industrial Design)\",\"Bachelor of Arts in Game Design\",\"Bachelor of Arts with Honours\",\"Bachelor of Arts with Honours in Communication Design\",\"Bachelor of Arts with Honours in Criminology and Security\",\"Bachelor of Arts with Honours in Interior Design\",\"Bachelor of Business (Hons)\",\"Bachelor of Business Administration\",\"Bachelor of Business Administration (Accountancy)\",\"Bachelor of Business Administration (Accountancy) (Hons)\",\"Bachelor of Business Administration (Hons)\",\"Bachelor of Business Administration in Food Business Management\",\"Bachelor of Communication Studies (Hons)\",\"Bachelor of Computing (Communications and Media)\",\"Bachelor of Computing (Computer Science)\",\"Bachelor of Computing (Electronic Commerce)\",\"Bachelor of Computing (Information Security)\",\"Bachelor of Computing (Information Systems)\",\"Bachelor of Dental Surgery\",\"Bachelor of Early Childhood Education\",\"Bachelor of Engineering (Bioengineering)\",\"Bachelor of Engineering (Biomedical Engineering)\",\"Bachelor of Engineering (Chemical Engineering)\",\"Bachelor of Engineering (Civil Engineering)\",\"Bachelor of Engineering (Computer Engineering)\",\"Bachelor of Engineering (Electrical Engineering)\",\"Bachelor of Engineering (Engineering Product Development)\",\"Bachelor of Engineering (Engineering Science)\",\"Bachelor of Engineering (Engineering Systems and Design)\",\"Bachelor of Engineering (Environmental Engineering)\",\"Bachelor of Engineering (Hons) (Aerospace Engineering)\",\"Bachelor of Engineering (Hons) (Bioengineering)\",\"Bachelor of Engineering (Hons) (Civil Engineering)\",\"Bachelor of Engineering (Hons) (Computer Engineering)\",\"Bachelor of Engineering (Hons) (Computer Science)\",\"Bachelor of Engineering (Hons) (Electrical and Electronic Engineering)\",\"Bachelor of Engineering (Hons) (Environmental Engineering)\",\"Bachelor of Engineering (Hons) (Information Engineering and Media)\",\"Bachelor of Engineering (Hons) (Materials Engineering)\",\"Bachelor of Engineering (Hons) (Mechanical Engineering)\",\"Bachelor of Engineering (Industrial and Systems Engineering)\",\"Bachelor of Engineering (Information Systems Technology and Design)\",\"Bachelor of Engineering (Materials Science And Engineering)\",\"Bachelor of Engineering (Materials Science and Engineering)\",\"Bachelor of Engineering (Mechanical Engineering)\",\"Bachelor of Engineering and (Hons) (Chemical And Biomolecular Engineering)\",\"Bachelor of Engineering in Systems Engineering (ElectroMechanical Systems)\",\"Bachelor of Engineering with Honours in Aeronautical Engineering\",\"Bachelor of Engineering with Honours in Aerospace Systems\",\"Bachelor of Engineering with Honours in Chemical Engineering\",\"Bachelor of Engineering with Honours in Electrical Power Engineering\",\"Bachelor of Engineering with Honours in Information and Communications Technology (Information Security)\",\"Bachelor of Engineering with Honours in Information and Communications Technology (Software Engineering)\",\"Bachelor of Engineering with Honours in Marine Engineering\",\"Bachelor of Engineering with Honours in Mechanical Design Engineering\",\"Bachelor of Engineering with Honours in Mechanical Design and Manufacturing Engineering\",\"Bachelor of Engineering with Honours in Mechatronics\",\"Bachelor of Engineering with Honours in Naval Architecture\",\"Bachelor of Engineering with Honours in Offshore Engineering\",\"Bachelor of Engineering with Honours in Pharmaceutical Engineering\",\"Bachelor of Engineering with Honours in Sustainable Infrastructure\",\"Bachelor of Engineering with Honours in Sustainable Infrastructure Engineering (Building Services)\",\"Bachelor of Engineering with Honours in Sustainable Infrastructure Engineering (Land)\",\"Bachelor of Engineering with Honours in Systems Engineering (ElectroMechanical Systems)\",\"Bachelor of Engineering with Honours in Telematics (Intelligent Transportation Systems Engineering)\",\"Bachelor of Environmental Studies\",\"Bachelor of Environmental Studies7\",\"Bachelor of Fine Arts (Hons)\",\"Bachelor of Fine Arts in Digital Art and Animation\",\"Bachelor of Fine Arts in Digital Arts Animation\",\"Bachelor of Food Technology with Honours\",\"Bachelor of Hospitality Business with Honours\",\"Bachelor of Human Resource Management\",\"Bachelor of Laws\",\"Bachelor of Laws (LLB) (Hons)\",\"Bachelor of Medicine And Bachelor Of Surgery\",\"Bachelor of Medicine and Bachelor Of Surgery\",\"Bachelor of Medicine and Bachelor of Surgery\",\"Bachelor of Medicine and Bachelor of Surgery (MBBS)\",\"Bachelor of Music\",\"Bachelor of Professional Studies in Culinary Arts Management\",\"Bachelor of Science\",\"Bachelor of Science (Architecture and Sustainable Design)\",\"Bachelor of Science (Business Analytics)\",\"Bachelor of Science (Computational Biology)\",\"Bachelor of Science (Data Science and Analytics)\",\"Bachelor of Science (Hons)\",\"Bachelor of Science (Hons) (Education)\",\"Bachelor of Science (Hons) (Maritime Studies)\",\"Bachelor of Science (Hons) (Sport Science and Management)\",\"Bachelor of Science (Hons) in Biological Sciences\",\"Bachelor of Science (Hons) in Chemistry and Biological Chemistry\",\"Bachelor of Science (Hons) in Mathematical Sciences\",\"Bachelor of Science (Hons) in Mathematics and Economics\",\"Bachelor of Science (Hons) in PhysicsApplied Physics\",\"Bachelor of Science (Major in Hospitality Management)\",\"Bachelor of Science (Nursing)\",\"Bachelor of Science (Nursing) (Hons)\",\"Bachelor of Science (Pharmacy)\",\"Bachelor of Science (Pharmacy) (Hons)\",\"Bachelor of Science (Pharmacy)(Hons)\",\"Bachelor of Science (Project and Facilities Management)\",\"Bachelor of Science (Real Estate)\",\"Bachelor of Science in Chemical Engineering\",\"Bachelor of Science in Computer Science and Game Design\",\"Bachelor of Science in Computer Science in RealTime Interactive Simulation\",\"Bachelor of Science in Early Childhood Education\",\"Bachelor of Science in Electrical Engineering and Information Technology\",\"Bachelor of Science in Finance\",\"Bachelor of Science in Marketing\",\"Bachelor of Science in Supply Chain Management\",\"Bachelor of Science with Honours\",\"Bachelor of Science with Honours in Computing Science\",\"Bachelor of Science with Honours in Food and Human Nutrition\",\"Bachelor of Science with Honours in Nursing\",\"Bachelor of Science with Honours in Nursing Practice\",\"Bachelor of Social Sciences\",\"Bachelor of Social Work\",\"Bioengineering\",\"Biological Sciences\",\"Biomedical Science (Traditional Chinese Medicine)\",\"Biomedical Sciences (Traditional Chinese Medicine)\",\"Biomedical Sciences and Chinese Medicine\",\"Biomedical Sciences and Chinese Medicine \",\"Business\",\"Business (3yr direct Honours Programme)\",\"Business Management\",\"Business Management Cum Laude and above\",\"Business and Computing\",\"Chemical And Biomolecular Engineering\",\"Chemical and Biomolecular Engineering\",\"Chemistry and Biological Chemistry\",\"Chinese\",\"Civil Engineering\",\"Communication Studies\",\"Computer Engineering\",\"Computer Science\",\"Double Degree in Bachelor of Accountancy (Hons) and Bachelor of Business (Hons)\",\"Double Degree in Bachelor of Business (Hons) and Bachelor of Engineering (Hons) (Computer Science)\",\"Double Degree in Bachelor of Science (Hons) in Biomedical Sciences and Bachelor of Medicine (Chinese Medicine)\",\"Double Degree in Business and Computer\",\"Double Degree in Engineering and Economics\",\"Economics\",\"Economics\",\"Economics Cum Laude and above\",\"Electrical And Electronic Engineering\",\"Electrical and Electronic Engineering\",\"English\",\"Environmental Earth Systems Science\",\"Environmental Earth Systems Sciences\",\"Environmental Engineering\",\"History\",\"Information Engineering And Media\",\"Information Engineering and Media\",\"Information Systems\",\"Information Systems Cum Laude and above\",\"Information Systems Management\",\"Information Systems Management Cum Laude and above\",\"InterDisciplinary Double Major\",\"Law\",\"Law Cum Laude and above\",\"Linguistics And Multilingual Studies\",\"Linguistics and Multilingual Studies\",\"Maritime Studies\",\"Materials Engineering\",\"Mathematical Science\",\"Mathematical Sciences\",\"Mathematics and Economics\",\"Mechanical Engineering\",\"Medicine\",\"Philosophy\",\"Physics and Applied Physics\",\"Psychology\",\"Public Policy And Global Affairs\",\"Public Policy and Global Affairs\",\"Science (With Education)\",\"Science (with Education)\",\"Social Sciences\",\"Social Sciences Cum Laude and above\",\"Sociology\",\"Sport Science and Management\",\"Sports Science and Management\",\"Nanyang Technological University\",\"National University of Singapore\",\"Singapore Institute of Technology\",\"Singapore Management University\",\"Singapore University of Social Sciences\",\"Singapore University of Technology and Design\"],\"marker\":{\"coloraxis\":\"coloraxis\",\"colors\":[0.9601785714285715,0.9438414372967395,0.9666896551724138,0.9513277093306127,0.9766679269061118,0.8784075714861055,0.8106710126032163,0.10000000000000002,0.5499999999999999,0.8999588477366255,0.7508163265306119,0.7572612886859461,1.0,0.9462369868810834,0.97,0.9479764847753996,0.8841144414168937,0.848995284501729,0.9280045871559632,0.8708949272241838,0.10000000000000002,0.8399999999999999,0.8399999999999999,0.7699999999999999,0.08,0.08,0.78,0.74,0.7699999999999999,0.8396608624398242,0.8800307692307693,0.8819863013698629,0.850748031496063,0.8751002865329512,0.9146715328467154,0.09,0.9003373124430075,0.9361380711383562,0.9176054888507718,0.9423624592898563,0.7936170212765956,0.92,0.8752671755725189,0.9229455032033088,0.877148288973384,0.909,0.938240140507744,0.47499999999999987,1.0,0.07,0.8660335175610627,0.8793424423569598,0.9383825289190268,0.9057942844516458,0.8871524852569501,0.8886212889210715,0.8321290651348098,0.8363294549908146,0.894011976047904,0.08,0.78,0.98,0.9500000000000001,0.92,0.89,0.7100000000000001,0.8599999999999999,0.8399999999999999,0.82,0.9292243017564062,0.8845905971674698,0.8263636363636363,0.8271629191828344,0.8690555842367921,0.82,0.9500000000000001,0.7679104477611941,0.8139810426540282,0.8502903694290639,0.9054438914563336,0.9241401273885351,0.89825081645983,0.9321092278719394,0.8583557951482477,0.8968516039695363,0.9127906976744189,0.7210028851702249,0.8533684917201254,0.9274493170381022,0.9810000000000001,0.92,0.9587645585472762,0.9570000000000001,0.7821443755535872,0.8327053140096619,0.929,0.88,0.8867016549535255,0.8530088495575222,0.8149328621908127,0.9145805594624159,0.8823265306122449,0.9514154400720937,0.9725706940874036,0.10000000000000002,0.99,0.8876331360946744,0.10000000000000002,0.7805902358749313,0.885593220338983,0.7967481203007518,0.9112903225806449,0.9220883534136546,0.8000000000000002,1.0,0.8575489066998677,0.10000000000000002,0.92,0.81,0.8000000000000002,0.7,0.89,0.89,0.81,0.8850282485875706,0.9401997776719074,0.8634553391537944,0.9443253485175731,0.9310837438423647,0.99,0.9072077470617445,0.9277838401265186,0.8327655310621244,0.8651215877231812,0.8890071077091305,0.8516216216216216,0.829657142857143,0.8772602739726028,0.8434956308982873,0.88,0.9155597876990323,0.9305591397849463,0.8909214092140922,0.869047619047619,0.9631428571428572,0.8749657387580296,0.973,0.8212662026149941,0.7902742706605524,0.10000000000000002,0.9,0.9423448885744606,0.9256756756756755,0.9193258706467663,0.9035055350553506,0.9108526851699787,0.9474377716317661,0.8760981912144703,0.8310843373493976,0.882610340479193,0.8092543099342796,0.8641508290247818,0.9414929312740049,0.8672612220083087,0.904874190248892,0.9373735018880314,0.97,0.10000000000000002,0.09,0.9740000000000001,1.0,0.890872689583693,0.9039634821099226,0.9090474360176246,0.8850282485875706,0.8955071915215745,0.7785786293528384,0.76,0.9001205936920224,0.8565248402391261,0.7984839319470698,0.9063535911602211,0.8929426433915213,0.9382990833510979,0.6905476009139375,0.9381449893390192,0.9456675062972292,0.958,0.9300251486053954,0.9333060853769299,0.8346400000000003,0.8677399933840556,0.9266968085106383,0.8222629887520088,0.8281111111111111,0.8924689301729659,0.918604796353186,0.8496890858322205,0.8499999999999999,0.8269884183858123,0.8004915440368988,0.8143771712158806,0.9,0.8457920792079208,0.10000000000000002,0.5499999999999999,0.8819118122289311,0.8937125354848349,0.8232570998683467,0.08,0.8233693516699412,0.8629792021689606,0.8906444985331731,0.8778787667611861,0.9214938164191162,0.9060678495564163,0.8765527112690276]},\"name\":\"\",\"parents\":[\"Nanyang Technological University\",\"Singapore Management University\",\"Nanyang Technological University\",\"Singapore Management University\",\"Nanyang Technological University\",\"Nanyang Technological University\",\"Nanyang Technological University\",\"Nanyang Technological University\",\"Nanyang Technological University\",\"Singapore Institute of Technology\",\"Singapore Institute of Technology\",\"Singapore Institute of Technology\",\"Singapore Institute of Technology\",\"Singapore University of Social Sciences\",\"Nanyang Technological University\",\"Singapore Institute of Technology\",\"National University of Singapore\",\"National University of Singapore\",\"National University of Singapore\",\"National University of Singapore\",\"Nanyang Technological University\",\"Nanyang Technological University\",\"Nanyang Technological University\",\"Nanyang Technological University\",\"Nanyang Technological University\",\"Nanyang Technological University\",\"Nanyang Technological University\",\"Nanyang Technological University\",\"Nanyang Technological University\",\"National University of Singapore\",\"Singapore Institute of Technology\",\"National University of Singapore\",\"Singapore Institute of Technology\",\"Singapore Institute of Technology\",\"Singapore Institute of Technology\",\"Nanyang Technological University\",\"National University of Singapore\",\"National University of Singapore\",\"National University of Singapore\",\"National University of Singapore\",\"Singapore Institute of Technology\",\"Nanyang Technological University\",\"National University of Singapore\",\"National University of Singapore\",\"National University of Singapore\",\"National University of Singapore\",\"National University of Singapore\",\"National University of Singapore\",\"Singapore University of Social Sciences\",\"National University of Singapore\",\"National University of Singapore\",\"National University of Singapore\",\"National University of Singapore\",\"National University of Singapore\",\"National University of Singapore\",\"Singapore University of Technology and Design\",\"National University of Singapore\",\"Singapore University of Technology and Design\",\"National University of Singapore\",\"Nanyang Technological University\",\"Nanyang Technological University\",\"Nanyang Technological University\",\"Nanyang Technological University\",\"Nanyang Technological University\",\"Nanyang Technological University\",\"Nanyang Technological University\",\"Nanyang Technological University\",\"Nanyang Technological University\",\"Nanyang Technological University\",\"National University of Singapore\",\"Singapore University of Technology and Design\",\"National University of Singapore\",\"National University of Singapore\",\"National University of Singapore\",\"Nanyang Technological University\",\"Singapore Institute of Technology\",\"Singapore Institute of Technology\",\"Singapore Institute of Technology\",\"Singapore Institute of Technology\",\"Singapore Institute of Technology\",\"Singapore Institute of Technology\",\"Singapore Institute of Technology\",\"Singapore Institute of Technology\",\"Singapore Institute of Technology\",\"Singapore Institute of Technology\",\"Singapore Institute of Technology\",\"Singapore Institute of Technology\",\"Singapore Institute of Technology\",\"Singapore Institute of Technology\",\"Singapore Institute of Technology\",\"Singapore Institute of Technology\",\"Singapore Institute of Technology\",\"Singapore Institute of Technology\",\"Singapore Institute of Technology\",\"National University of Singapore\",\"National University of Singapore\",\"Nanyang Technological University\",\"Singapore Institute of Technology\",\"Singapore Institute of Technology\",\"Singapore Institute of Technology\",\"Singapore Institute of Technology\",\"Singapore University of Social Sciences\",\"National University of Singapore\",\"National University of Singapore\",\"National University of Singapore\",\"National University of Singapore\",\"National University of Singapore\",\"National University of Singapore\",\"National University of Singapore\",\"Singapore Institute of Technology\",\"National University of Singapore\",\"Singapore University of Technology and Design\",\"National University of Singapore\",\"National University of Singapore\",\"National University of Singapore\",\"National University of Singapore\",\"Nanyang Technological University\",\"Nanyang Technological University\",\"Nanyang Technological University\",\"Nanyang Technological University\",\"Nanyang Technological University\",\"Nanyang Technological University\",\"Nanyang Technological University\",\"Nanyang Technological University\",\"Singapore Institute of Technology\",\"National University of Singapore\",\"National University of Singapore\",\"National University of Singapore\",\"National University of Singapore\",\"National University of Singapore\",\"National University of Singapore\",\"National University of Singapore\",\"Singapore Institute of Technology\",\"Singapore Institute of Technology\",\"Singapore Institute of Technology\",\"Singapore Institute of Technology\",\"Singapore Institute of Technology\",\"Singapore University of Social Sciences\",\"Singapore University of Social Sciences\",\"Singapore University of Social Sciences\",\"National University of Singapore\",\"Singapore Institute of Technology\",\"Singapore Institute of Technology\",\"Singapore Institute of Technology\",\"Singapore Institute of Technology\",\"National University of Singapore\",\"Singapore University of Social Sciences\",\"Nanyang Technological University\",\"Nanyang Technological University\",\"Nanyang Technological University\",\"Nanyang Technological University\",\"Nanyang Technological University\",\"Nanyang Technological University\",\"Nanyang Technological University\",\"Nanyang Technological University\",\"Singapore Management University\",\"Singapore Management University\",\"Nanyang Technological University\",\"Nanyang Technological University\",\"Nanyang Technological University\",\"Nanyang Technological University\",\"Nanyang Technological University\",\"Nanyang Technological University\",\"Nanyang Technological University\",\"Nanyang Technological University\",\"Nanyang Technological University\",\"Nanyang Technological University\",\"Nanyang Technological University\",\"Nanyang Technological University\",\"Nanyang Technological University\",\"Nanyang Technological University\",\"Nanyang Technological University\",\"Singapore Management University\",\"Singapore Management University\",\"Nanyang Technological University\",\"Nanyang Technological University\",\"Nanyang Technological University\",\"Nanyang Technological University\",\"Nanyang Technological University\",\"Nanyang Technological University\",\"Nanyang Technological University\",\"Nanyang Technological University\",\"Nanyang Technological University\",\"Singapore Management University\",\"Singapore Management University\",\"Singapore Management University\",\"Singapore Management University\",\"Nanyang Technological University\",\"Singapore Management University\",\"Singapore Management University\",\"Nanyang Technological University\",\"Nanyang Technological University\",\"Nanyang Technological University\",\"Nanyang Technological University\",\"Nanyang Technological University\",\"Nanyang Technological University\",\"Nanyang Technological University\",\"Nanyang Technological University\",\"Nanyang Technological University\",\"Nanyang Technological University\",\"Nanyang Technological University\",\"Nanyang Technological University\",\"Nanyang Technological University\",\"Nanyang Technological University\",\"Nanyang Technological University\",\"Nanyang Technological University\",\"Singapore Management University\",\"Singapore Management University\",\"Nanyang Technological University\",\"Nanyang Technological University\",\"Nanyang Technological University\",\"\",\"\",\"\",\"\",\"\",\"\"],\"type\":\"treemap\",\"values\":[6.719999999999999,12.607000000000003,5.8,12.743,12.696000000000002,9.931999999999999,9.203999999999999,0.2,2.000000000000001,4.86,3.920000000000001,3.9420000000000006,1.0,4.726,1.94,6.6339999999999995,7.34,12.724,8.719999999999999,11.610999999999999,0.2,1.68,1.68,1.54,0.16,0.16,1.56,1.48,1.54,9.763,6.5,4.745,10.16,6.9799999999999995,10.959999999999999,0.18,12.062999999999997,14.029,9.328,12.588999999999999,1.8800000000000001,1.84,5.24,12.331,5.260000000000001,0.909,12.525999999999998,2.4000000000000012,1.0,0.14,11.218,11.71,12.534999999999998,13.577000000000004,11.870000000000001,8.286,10.793,6.532,13.360000000000003,0.16,1.56,1.96,1.9,1.84,1.78,1.42,1.72,1.68,1.64,13.892000000000001,6.849,1.9800000000000002,7.7829999999999995,11.622000000000002,1.64,1.9,6.700000000000001,8.440000000000001,11.017,8.439,3.1399999999999997,3.0620000000000003,10.620000000000001,7.42,8.666,9.459999999999997,3.466,6.702999999999999,2.782,0.981,1.84,4.791,0.9570000000000001,1.1290000000000002,8.28,0.929,1.76,4.411,6.779999999999999,1.1320000000000001,6.398999999999999,2.646,6.6579999999999995,7.779999999999999,0.2,1.98,3.380000000000001,0.2,7.292000000000002,7.080000000000001,10.64,3.1,4.9799999999999995,0.8,1.0,12.850999999999999,0.2,1.84,1.62,1.6,1.4,1.78,1.78,1.62,3.54,12.593999999999998,7.445,5.092999999999999,4.06,1.98,12.082000000000003,13.910999999999998,9.98,6.777000000000001,7.316,4.4399999999999995,7.000000000000001,2.92,2.8609999999999998,0.88,6.405999999999999,9.299999999999999,7.38,2.1,7.700000000000001,11.675000000000002,0.973,10.631,10.249,0.4,1.8,2.827,3.7,6.4319999999999995,5.42,12.177999999999999,12.655,7.739999999999998,3.3200000000000003,7.93,10.499,11.218,12.237000000000002,9.869,11.731999999999998,12.181999999999999,1.94,0.2,0.18,0.9740000000000001,1.0,11.578000000000003,13.555,10.666999999999998,3.54,6.6049999999999995,6.289,1.52,2.695,9.702,4.232000000000001,3.6199999999999997,8.02,4.691,1.313,9.379999999999999,7.939999999999999,0.958,10.934999999999999,11.01,5.0,6.046,10.527999999999999,9.334999999999999,3.6,6.244000000000001,10.090999999999998,8.237,1.2000000000000002,2.763,9.106,10.478000000000003,1.8,2.5250000000000004,0.2,2.000000000000001,11.759,13.385999999999997,10.634,0.16,7.635000000000002,390.2329999999997,404.27400000000046,249.6839999999998,144.81899999999993,16.006,24.767]}],                        {\"coloraxis\":{\"colorbar\":{\"title\":{\"text\":\"employment_rate_overall_pct\"}},\"colorscale\":[[0.0,\"#0d0887\"],[0.1111111111111111,\"#46039f\"],[0.2222222222222222,\"#7201a8\"],[0.3333333333333333,\"#9c179e\"],[0.4444444444444444,\"#bd3786\"],[0.5555555555555556,\"#d8576b\"],[0.6666666666666666,\"#ed7953\"],[0.7777777777777778,\"#fb9f3a\"],[0.8888888888888888,\"#fdca26\"],[1.0,\"#f0f921\"]]},\"legend\":{\"tracegroupgap\":0},\"margin\":{\"t\":60},\"template\":{\"data\":{\"bar\":[{\"error_x\":{\"color\":\"#2a3f5f\"},\"error_y\":{\"color\":\"#2a3f5f\"},\"marker\":{\"line\":{\"color\":\"#E5ECF6\",\"width\":0.5},\"pattern\":{\"fillmode\":\"overlay\",\"size\":10,\"solidity\":0.2}},\"type\":\"bar\"}],\"barpolar\":[{\"marker\":{\"line\":{\"color\":\"#E5ECF6\",\"width\":0.5},\"pattern\":{\"fillmode\":\"overlay\",\"size\":10,\"solidity\":0.2}},\"type\":\"barpolar\"}],\"carpet\":[{\"aaxis\":{\"endlinecolor\":\"#2a3f5f\",\"gridcolor\":\"white\",\"linecolor\":\"white\",\"minorgridcolor\":\"white\",\"startlinecolor\":\"#2a3f5f\"},\"baxis\":{\"endlinecolor\":\"#2a3f5f\",\"gridcolor\":\"white\",\"linecolor\":\"white\",\"minorgridcolor\":\"white\",\"startlinecolor\":\"#2a3f5f\"},\"type\":\"carpet\"}],\"choropleth\":[{\"colorbar\":{\"outlinewidth\":0,\"ticks\":\"\"},\"type\":\"choropleth\"}],\"contour\":[{\"colorbar\":{\"outlinewidth\":0,\"ticks\":\"\"},\"colorscale\":[[0.0,\"#0d0887\"],[0.1111111111111111,\"#46039f\"],[0.2222222222222222,\"#7201a8\"],[0.3333333333333333,\"#9c179e\"],[0.4444444444444444,\"#bd3786\"],[0.5555555555555556,\"#d8576b\"],[0.6666666666666666,\"#ed7953\"],[0.7777777777777778,\"#fb9f3a\"],[0.8888888888888888,\"#fdca26\"],[1.0,\"#f0f921\"]],\"type\":\"contour\"}],\"contourcarpet\":[{\"colorbar\":{\"outlinewidth\":0,\"ticks\":\"\"},\"type\":\"contourcarpet\"}],\"heatmap\":[{\"colorbar\":{\"outlinewidth\":0,\"ticks\":\"\"},\"colorscale\":[[0.0,\"#0d0887\"],[0.1111111111111111,\"#46039f\"],[0.2222222222222222,\"#7201a8\"],[0.3333333333333333,\"#9c179e\"],[0.4444444444444444,\"#bd3786\"],[0.5555555555555556,\"#d8576b\"],[0.6666666666666666,\"#ed7953\"],[0.7777777777777778,\"#fb9f3a\"],[0.8888888888888888,\"#fdca26\"],[1.0,\"#f0f921\"]],\"type\":\"heatmap\"}],\"heatmapgl\":[{\"colorbar\":{\"outlinewidth\":0,\"ticks\":\"\"},\"colorscale\":[[0.0,\"#0d0887\"],[0.1111111111111111,\"#46039f\"],[0.2222222222222222,\"#7201a8\"],[0.3333333333333333,\"#9c179e\"],[0.4444444444444444,\"#bd3786\"],[0.5555555555555556,\"#d8576b\"],[0.6666666666666666,\"#ed7953\"],[0.7777777777777778,\"#fb9f3a\"],[0.8888888888888888,\"#fdca26\"],[1.0,\"#f0f921\"]],\"type\":\"heatmapgl\"}],\"histogram\":[{\"marker\":{\"pattern\":{\"fillmode\":\"overlay\",\"size\":10,\"solidity\":0.2}},\"type\":\"histogram\"}],\"histogram2d\":[{\"colorbar\":{\"outlinewidth\":0,\"ticks\":\"\"},\"colorscale\":[[0.0,\"#0d0887\"],[0.1111111111111111,\"#46039f\"],[0.2222222222222222,\"#7201a8\"],[0.3333333333333333,\"#9c179e\"],[0.4444444444444444,\"#bd3786\"],[0.5555555555555556,\"#d8576b\"],[0.6666666666666666,\"#ed7953\"],[0.7777777777777778,\"#fb9f3a\"],[0.8888888888888888,\"#fdca26\"],[1.0,\"#f0f921\"]],\"type\":\"histogram2d\"}],\"histogram2dcontour\":[{\"colorbar\":{\"outlinewidth\":0,\"ticks\":\"\"},\"colorscale\":[[0.0,\"#0d0887\"],[0.1111111111111111,\"#46039f\"],[0.2222222222222222,\"#7201a8\"],[0.3333333333333333,\"#9c179e\"],[0.4444444444444444,\"#bd3786\"],[0.5555555555555556,\"#d8576b\"],[0.6666666666666666,\"#ed7953\"],[0.7777777777777778,\"#fb9f3a\"],[0.8888888888888888,\"#fdca26\"],[1.0,\"#f0f921\"]],\"type\":\"histogram2dcontour\"}],\"mesh3d\":[{\"colorbar\":{\"outlinewidth\":0,\"ticks\":\"\"},\"type\":\"mesh3d\"}],\"parcoords\":[{\"line\":{\"colorbar\":{\"outlinewidth\":0,\"ticks\":\"\"}},\"type\":\"parcoords\"}],\"pie\":[{\"automargin\":true,\"type\":\"pie\"}],\"scatter\":[{\"marker\":{\"colorbar\":{\"outlinewidth\":0,\"ticks\":\"\"}},\"type\":\"scatter\"}],\"scatter3d\":[{\"line\":{\"colorbar\":{\"outlinewidth\":0,\"ticks\":\"\"}},\"marker\":{\"colorbar\":{\"outlinewidth\":0,\"ticks\":\"\"}},\"type\":\"scatter3d\"}],\"scattercarpet\":[{\"marker\":{\"colorbar\":{\"outlinewidth\":0,\"ticks\":\"\"}},\"type\":\"scattercarpet\"}],\"scattergeo\":[{\"marker\":{\"colorbar\":{\"outlinewidth\":0,\"ticks\":\"\"}},\"type\":\"scattergeo\"}],\"scattergl\":[{\"marker\":{\"colorbar\":{\"outlinewidth\":0,\"ticks\":\"\"}},\"type\":\"scattergl\"}],\"scattermapbox\":[{\"marker\":{\"colorbar\":{\"outlinewidth\":0,\"ticks\":\"\"}},\"type\":\"scattermapbox\"}],\"scatterpolar\":[{\"marker\":{\"colorbar\":{\"outlinewidth\":0,\"ticks\":\"\"}},\"type\":\"scatterpolar\"}],\"scatterpolargl\":[{\"marker\":{\"colorbar\":{\"outlinewidth\":0,\"ticks\":\"\"}},\"type\":\"scatterpolargl\"}],\"scatterternary\":[{\"marker\":{\"colorbar\":{\"outlinewidth\":0,\"ticks\":\"\"}},\"type\":\"scatterternary\"}],\"surface\":[{\"colorbar\":{\"outlinewidth\":0,\"ticks\":\"\"},\"colorscale\":[[0.0,\"#0d0887\"],[0.1111111111111111,\"#46039f\"],[0.2222222222222222,\"#7201a8\"],[0.3333333333333333,\"#9c179e\"],[0.4444444444444444,\"#bd3786\"],[0.5555555555555556,\"#d8576b\"],[0.6666666666666666,\"#ed7953\"],[0.7777777777777778,\"#fb9f3a\"],[0.8888888888888888,\"#fdca26\"],[1.0,\"#f0f921\"]],\"type\":\"surface\"}],\"table\":[{\"cells\":{\"fill\":{\"color\":\"#EBF0F8\"},\"line\":{\"color\":\"white\"}},\"header\":{\"fill\":{\"color\":\"#C8D4E3\"},\"line\":{\"color\":\"white\"}},\"type\":\"table\"}]},\"layout\":{\"annotationdefaults\":{\"arrowcolor\":\"#2a3f5f\",\"arrowhead\":0,\"arrowwidth\":1},\"autotypenumbers\":\"strict\",\"coloraxis\":{\"colorbar\":{\"outlinewidth\":0,\"ticks\":\"\"}},\"colorscale\":{\"diverging\":[[0,\"#8e0152\"],[0.1,\"#c51b7d\"],[0.2,\"#de77ae\"],[0.3,\"#f1b6da\"],[0.4,\"#fde0ef\"],[0.5,\"#f7f7f7\"],[0.6,\"#e6f5d0\"],[0.7,\"#b8e186\"],[0.8,\"#7fbc41\"],[0.9,\"#4d9221\"],[1,\"#276419\"]],\"sequential\":[[0.0,\"#0d0887\"],[0.1111111111111111,\"#46039f\"],[0.2222222222222222,\"#7201a8\"],[0.3333333333333333,\"#9c179e\"],[0.4444444444444444,\"#bd3786\"],[0.5555555555555556,\"#d8576b\"],[0.6666666666666666,\"#ed7953\"],[0.7777777777777778,\"#fb9f3a\"],[0.8888888888888888,\"#fdca26\"],[1.0,\"#f0f921\"]],\"sequentialminus\":[[0.0,\"#0d0887\"],[0.1111111111111111,\"#46039f\"],[0.2222222222222222,\"#7201a8\"],[0.3333333333333333,\"#9c179e\"],[0.4444444444444444,\"#bd3786\"],[0.5555555555555556,\"#d8576b\"],[0.6666666666666666,\"#ed7953\"],[0.7777777777777778,\"#fb9f3a\"],[0.8888888888888888,\"#fdca26\"],[1.0,\"#f0f921\"]]},\"colorway\":[\"#636efa\",\"#EF553B\",\"#00cc96\",\"#ab63fa\",\"#FFA15A\",\"#19d3f3\",\"#FF6692\",\"#B6E880\",\"#FF97FF\",\"#FECB52\"],\"font\":{\"color\":\"#2a3f5f\"},\"geo\":{\"bgcolor\":\"white\",\"lakecolor\":\"white\",\"landcolor\":\"#E5ECF6\",\"showlakes\":true,\"showland\":true,\"subunitcolor\":\"white\"},\"hoverlabel\":{\"align\":\"left\"},\"hovermode\":\"closest\",\"mapbox\":{\"style\":\"light\"},\"paper_bgcolor\":\"white\",\"plot_bgcolor\":\"#E5ECF6\",\"polar\":{\"angularaxis\":{\"gridcolor\":\"white\",\"linecolor\":\"white\",\"ticks\":\"\"},\"bgcolor\":\"#E5ECF6\",\"radialaxis\":{\"gridcolor\":\"white\",\"linecolor\":\"white\",\"ticks\":\"\"}},\"scene\":{\"xaxis\":{\"backgroundcolor\":\"#E5ECF6\",\"gridcolor\":\"white\",\"gridwidth\":2,\"linecolor\":\"white\",\"showbackground\":true,\"ticks\":\"\",\"zerolinecolor\":\"white\"},\"yaxis\":{\"backgroundcolor\":\"#E5ECF6\",\"gridcolor\":\"white\",\"gridwidth\":2,\"linecolor\":\"white\",\"showbackground\":true,\"ticks\":\"\",\"zerolinecolor\":\"white\"},\"zaxis\":{\"backgroundcolor\":\"#E5ECF6\",\"gridcolor\":\"white\",\"gridwidth\":2,\"linecolor\":\"white\",\"showbackground\":true,\"ticks\":\"\",\"zerolinecolor\":\"white\"}},\"shapedefaults\":{\"line\":{\"color\":\"#2a3f5f\"}},\"ternary\":{\"aaxis\":{\"gridcolor\":\"white\",\"linecolor\":\"white\",\"ticks\":\"\"},\"baxis\":{\"gridcolor\":\"white\",\"linecolor\":\"white\",\"ticks\":\"\"},\"bgcolor\":\"#E5ECF6\",\"caxis\":{\"gridcolor\":\"white\",\"linecolor\":\"white\",\"ticks\":\"\"}},\"title\":{\"x\":0.05},\"xaxis\":{\"automargin\":true,\"gridcolor\":\"white\",\"linecolor\":\"white\",\"ticks\":\"\",\"title\":{\"standoff\":15},\"zerolinecolor\":\"white\",\"zerolinewidth\":2},\"yaxis\":{\"automargin\":true,\"gridcolor\":\"white\",\"linecolor\":\"white\",\"ticks\":\"\",\"title\":{\"standoff\":15},\"zerolinecolor\":\"white\",\"zerolinewidth\":2}}}},                        {\"responsive\": true}                    ).then(function(){\n",
       "                            \n",
       "var gd = document.getElementById('a58f5257-e4ef-413d-ad9d-3b7029f4b114');\n",
       "var x = new MutationObserver(function (mutations, observer) {{\n",
       "        var display = window.getComputedStyle(gd).display;\n",
       "        if (!display || display === 'none') {{\n",
       "            console.log([gd, 'removed!']);\n",
       "            Plotly.purge(gd);\n",
       "            observer.disconnect();\n",
       "        }}\n",
       "}});\n",
       "\n",
       "// Listen for the removal of the full notebook cells\n",
       "var notebookContainer = gd.closest('#notebook-container');\n",
       "if (notebookContainer) {{\n",
       "    x.observe(notebookContainer, {childList: true});\n",
       "}}\n",
       "\n",
       "// Listen for the clearing of the current output cell\n",
       "var outputEl = gd.closest('.output');\n",
       "if (outputEl) {{\n",
       "    x.observe(outputEl, {childList: true});\n",
       "}}\n",
       "\n",
       "                        })                };                });            </script>        </div>"
      ]
     },
     "metadata": {},
     "output_type": "display_data"
    }
   ],
   "source": [
    "fig3 = px.treemap(df, \n",
    "                 path=['university', 'degree'], \n",
    "                 values='employment_rate_overall_pct',\n",
    "                 color='employment_rate_overall_pct'\n",
    "                )\n",
    "fig3.show()"
   ]
  },
  {
   "cell_type": "code",
   "execution_count": null,
   "metadata": {},
   "outputs": [],
   "source": []
  }
 ],
 "metadata": {
  "kernelspec": {
   "display_name": "Python 3",
   "language": "python",
   "name": "python3"
  },
  "language_info": {
   "codemirror_mode": {
    "name": "ipython",
    "version": 3
   },
   "file_extension": ".py",
   "mimetype": "text/x-python",
   "name": "python",
   "nbconvert_exporter": "python",
   "pygments_lexer": "ipython3",
   "version": "3.7.3"
  }
 },
 "nbformat": 4,
 "nbformat_minor": 4
}
