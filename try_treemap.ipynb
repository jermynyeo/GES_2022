{
 "cells": [
  {
   "cell_type": "code",
   "execution_count": 1,
   "metadata": {},
   "outputs": [],
   "source": [
    "import pandas as pd\n",
    "import plotly.express as px"
   ]
  },
  {
   "cell_type": "code",
   "execution_count": 2,
   "metadata": {},
   "outputs": [
    {
     "data": {
      "text/html": [
       "<div>\n",
       "<style scoped>\n",
       "    .dataframe tbody tr th:only-of-type {\n",
       "        vertical-align: middle;\n",
       "    }\n",
       "\n",
       "    .dataframe tbody tr th {\n",
       "        vertical-align: top;\n",
       "    }\n",
       "\n",
       "    .dataframe thead th {\n",
       "        text-align: right;\n",
       "    }\n",
       "</style>\n",
       "<table border=\"1\" class=\"dataframe\">\n",
       "  <thead>\n",
       "    <tr style=\"text-align: right;\">\n",
       "      <th></th>\n",
       "      <th>Unnamed: 0</th>\n",
       "      <th>school</th>\n",
       "      <th>degree</th>\n",
       "      <th>university</th>\n",
       "      <th>gross_monthly_median</th>\n",
       "      <th>gross_mthly_25_percentile</th>\n",
       "      <th>basic_monthly_median</th>\n",
       "      <th>employment_rate_ft_perm</th>\n",
       "      <th>gross_mthly_75_percentile</th>\n",
       "      <th>gross_monthly_mean</th>\n",
       "      <th>basic_monthly_mean</th>\n",
       "      <th>year</th>\n",
       "      <th>employment_rate_overall</th>\n",
       "    </tr>\n",
       "  </thead>\n",
       "  <tbody>\n",
       "    <tr>\n",
       "      <th>0</th>\n",
       "      <td>0</td>\n",
       "      <td>College of Business (Nanyang Business School)</td>\n",
       "      <td>Accountancy</td>\n",
       "      <td>Nanyang Technological University</td>\n",
       "      <td>3000</td>\n",
       "      <td>3000</td>\n",
       "      <td>3000</td>\n",
       "      <td>89%</td>\n",
       "      <td>3100</td>\n",
       "      <td>3228</td>\n",
       "      <td>3213</td>\n",
       "      <td>2020</td>\n",
       "      <td>96.00%</td>\n",
       "    </tr>\n",
       "    <tr>\n",
       "      <th>1</th>\n",
       "      <td>1</td>\n",
       "      <td>College of Business (Nanyang Business School)</td>\n",
       "      <td>Accountancy and Business</td>\n",
       "      <td>Nanyang Technological University</td>\n",
       "      <td>4405</td>\n",
       "      <td>3500</td>\n",
       "      <td>4327</td>\n",
       "      <td>91%</td>\n",
       "      <td>5000</td>\n",
       "      <td>4704</td>\n",
       "      <td>4615</td>\n",
       "      <td>2020</td>\n",
       "      <td>97.60%</td>\n",
       "    </tr>\n",
       "    <tr>\n",
       "      <th>2</th>\n",
       "      <td>2</td>\n",
       "      <td>College of Business (Nanyang Business School)</td>\n",
       "      <td>Business</td>\n",
       "      <td>Nanyang Technological University</td>\n",
       "      <td>3800</td>\n",
       "      <td>3300</td>\n",
       "      <td>3750</td>\n",
       "      <td>67%</td>\n",
       "      <td>4429</td>\n",
       "      <td>4113</td>\n",
       "      <td>3973</td>\n",
       "      <td>2020</td>\n",
       "      <td>95.20%</td>\n",
       "    </tr>\n",
       "    <tr>\n",
       "      <th>3</th>\n",
       "      <td>3</td>\n",
       "      <td>College of Business (Nanyang Business School)</td>\n",
       "      <td>Double Degree in Business and Computer</td>\n",
       "      <td>Nanyang Technological University</td>\n",
       "      <td>5400</td>\n",
       "      <td>5000</td>\n",
       "      <td>5200</td>\n",
       "      <td>97%</td>\n",
       "      <td>5750</td>\n",
       "      <td>5537</td>\n",
       "      <td>5216</td>\n",
       "      <td>2020</td>\n",
       "      <td>97.40%</td>\n",
       "    </tr>\n",
       "    <tr>\n",
       "      <th>4</th>\n",
       "      <td>4</td>\n",
       "      <td>College of Engineering</td>\n",
       "      <td>Aerospace Engineering</td>\n",
       "      <td>Nanyang Technological University</td>\n",
       "      <td>4000</td>\n",
       "      <td>3800</td>\n",
       "      <td>3980</td>\n",
       "      <td>76%</td>\n",
       "      <td>4945</td>\n",
       "      <td>4284</td>\n",
       "      <td>4110</td>\n",
       "      <td>2020</td>\n",
       "      <td>91.20%</td>\n",
       "    </tr>\n",
       "  </tbody>\n",
       "</table>\n",
       "</div>"
      ],
      "text/plain": [
       "   Unnamed: 0                                         school  \\\n",
       "0           0  College of Business (Nanyang Business School)   \n",
       "1           1  College of Business (Nanyang Business School)   \n",
       "2           2  College of Business (Nanyang Business School)   \n",
       "3           3  College of Business (Nanyang Business School)   \n",
       "4           4                         College of Engineering   \n",
       "\n",
       "                                   degree                        university  \\\n",
       "0                             Accountancy  Nanyang Technological University   \n",
       "1                Accountancy and Business  Nanyang Technological University   \n",
       "2                                Business  Nanyang Technological University   \n",
       "3  Double Degree in Business and Computer  Nanyang Technological University   \n",
       "4                   Aerospace Engineering  Nanyang Technological University   \n",
       "\n",
       "  gross_monthly_median gross_mthly_25_percentile basic_monthly_median  \\\n",
       "0                 3000                      3000                 3000   \n",
       "1                 4405                      3500                 4327   \n",
       "2                 3800                      3300                 3750   \n",
       "3                 5400                      5000                 5200   \n",
       "4                 4000                      3800                 3980   \n",
       "\n",
       "  employment_rate_ft_perm gross_mthly_75_percentile gross_monthly_mean  \\\n",
       "0                     89%                      3100               3228   \n",
       "1                     91%                      5000               4704   \n",
       "2                     67%                      4429               4113   \n",
       "3                     97%                      5750               5537   \n",
       "4                     76%                      4945               4284   \n",
       "\n",
       "  basic_monthly_mean  year employment_rate_overall  \n",
       "0               3213  2020                  96.00%  \n",
       "1               4615  2020                  97.60%  \n",
       "2               3973  2020                  95.20%  \n",
       "3               5216  2020                  97.40%  \n",
       "4               4110  2020                  91.20%  "
      ]
     },
     "execution_count": 2,
     "metadata": {},
     "output_type": "execute_result"
    }
   ],
   "source": [
    "df = pd.read_csv('data\\GES.csv')\n",
    "df.head()"
   ]
  },
  {
   "cell_type": "code",
   "execution_count": 3,
   "metadata": {},
   "outputs": [
    {
     "data": {
      "text/html": [
       "<div>\n",
       "<style scoped>\n",
       "    .dataframe tbody tr th:only-of-type {\n",
       "        vertical-align: middle;\n",
       "    }\n",
       "\n",
       "    .dataframe tbody tr th {\n",
       "        vertical-align: top;\n",
       "    }\n",
       "\n",
       "    .dataframe thead th {\n",
       "        text-align: right;\n",
       "    }\n",
       "</style>\n",
       "<table border=\"1\" class=\"dataframe\">\n",
       "  <thead>\n",
       "    <tr style=\"text-align: right;\">\n",
       "      <th></th>\n",
       "      <th>school</th>\n",
       "      <th>degree</th>\n",
       "      <th>university</th>\n",
       "      <th>gross_monthly_median</th>\n",
       "      <th>gross_mthly_25_percentile</th>\n",
       "      <th>basic_monthly_median</th>\n",
       "      <th>employment_rate_ft_perm</th>\n",
       "      <th>gross_mthly_75_percentile</th>\n",
       "      <th>gross_monthly_mean</th>\n",
       "      <th>basic_monthly_mean</th>\n",
       "      <th>year</th>\n",
       "      <th>employment_rate_overall</th>\n",
       "    </tr>\n",
       "  </thead>\n",
       "  <tbody>\n",
       "    <tr>\n",
       "      <th>0</th>\n",
       "      <td>College of Business (Nanyang Business School)</td>\n",
       "      <td>Accountancy</td>\n",
       "      <td>Nanyang Technological University</td>\n",
       "      <td>3000</td>\n",
       "      <td>3000</td>\n",
       "      <td>3000</td>\n",
       "      <td>89%</td>\n",
       "      <td>3100</td>\n",
       "      <td>3228</td>\n",
       "      <td>3213</td>\n",
       "      <td>2020</td>\n",
       "      <td>96.00%</td>\n",
       "    </tr>\n",
       "    <tr>\n",
       "      <th>1</th>\n",
       "      <td>College of Business (Nanyang Business School)</td>\n",
       "      <td>Accountancy and Business</td>\n",
       "      <td>Nanyang Technological University</td>\n",
       "      <td>4405</td>\n",
       "      <td>3500</td>\n",
       "      <td>4327</td>\n",
       "      <td>91%</td>\n",
       "      <td>5000</td>\n",
       "      <td>4704</td>\n",
       "      <td>4615</td>\n",
       "      <td>2020</td>\n",
       "      <td>97.60%</td>\n",
       "    </tr>\n",
       "    <tr>\n",
       "      <th>2</th>\n",
       "      <td>College of Business (Nanyang Business School)</td>\n",
       "      <td>Business</td>\n",
       "      <td>Nanyang Technological University</td>\n",
       "      <td>3800</td>\n",
       "      <td>3300</td>\n",
       "      <td>3750</td>\n",
       "      <td>67%</td>\n",
       "      <td>4429</td>\n",
       "      <td>4113</td>\n",
       "      <td>3973</td>\n",
       "      <td>2020</td>\n",
       "      <td>95.20%</td>\n",
       "    </tr>\n",
       "    <tr>\n",
       "      <th>3</th>\n",
       "      <td>College of Business (Nanyang Business School)</td>\n",
       "      <td>Double Degree in Business and Computer</td>\n",
       "      <td>Nanyang Technological University</td>\n",
       "      <td>5400</td>\n",
       "      <td>5000</td>\n",
       "      <td>5200</td>\n",
       "      <td>97%</td>\n",
       "      <td>5750</td>\n",
       "      <td>5537</td>\n",
       "      <td>5216</td>\n",
       "      <td>2020</td>\n",
       "      <td>97.40%</td>\n",
       "    </tr>\n",
       "    <tr>\n",
       "      <th>4</th>\n",
       "      <td>College of Engineering</td>\n",
       "      <td>Aerospace Engineering</td>\n",
       "      <td>Nanyang Technological University</td>\n",
       "      <td>4000</td>\n",
       "      <td>3800</td>\n",
       "      <td>3980</td>\n",
       "      <td>76%</td>\n",
       "      <td>4945</td>\n",
       "      <td>4284</td>\n",
       "      <td>4110</td>\n",
       "      <td>2020</td>\n",
       "      <td>91.20%</td>\n",
       "    </tr>\n",
       "  </tbody>\n",
       "</table>\n",
       "</div>"
      ],
      "text/plain": [
       "                                          school  \\\n",
       "0  College of Business (Nanyang Business School)   \n",
       "1  College of Business (Nanyang Business School)   \n",
       "2  College of Business (Nanyang Business School)   \n",
       "3  College of Business (Nanyang Business School)   \n",
       "4                         College of Engineering   \n",
       "\n",
       "                                   degree                        university  \\\n",
       "0                             Accountancy  Nanyang Technological University   \n",
       "1                Accountancy and Business  Nanyang Technological University   \n",
       "2                                Business  Nanyang Technological University   \n",
       "3  Double Degree in Business and Computer  Nanyang Technological University   \n",
       "4                   Aerospace Engineering  Nanyang Technological University   \n",
       "\n",
       "  gross_monthly_median gross_mthly_25_percentile basic_monthly_median  \\\n",
       "0                 3000                      3000                 3000   \n",
       "1                 4405                      3500                 4327   \n",
       "2                 3800                      3300                 3750   \n",
       "3                 5400                      5000                 5200   \n",
       "4                 4000                      3800                 3980   \n",
       "\n",
       "  employment_rate_ft_perm gross_mthly_75_percentile gross_monthly_mean  \\\n",
       "0                     89%                      3100               3228   \n",
       "1                     91%                      5000               4704   \n",
       "2                     67%                      4429               4113   \n",
       "3                     97%                      5750               5537   \n",
       "4                     76%                      4945               4284   \n",
       "\n",
       "  basic_monthly_mean  year employment_rate_overall  \n",
       "0               3213  2020                  96.00%  \n",
       "1               4615  2020                  97.60%  \n",
       "2               3973  2020                  95.20%  \n",
       "3               5216  2020                  97.40%  \n",
       "4               4110  2020                  91.20%  "
      ]
     },
     "execution_count": 3,
     "metadata": {},
     "output_type": "execute_result"
    }
   ],
   "source": [
    "df = df.drop('Unnamed: 0', 1)\n",
    "df.head()"
   ]
  },
  {
   "cell_type": "code",
   "execution_count": 6,
   "metadata": {},
   "outputs": [],
   "source": [
    "df = df.drop(df[df['basic_monthly_mean'] == 'na'].index)"
   ]
  },
  {
   "cell_type": "code",
   "execution_count": 8,
   "metadata": {},
   "outputs": [
    {
     "data": {
      "application/vnd.plotly.v1+json": {
       "config": {
        "plotlyServerURL": "https://plot.ly"
       },
       "data": [
        {
         "branchvalues": "total",
         "customdata": [
          [
           3792.8946790164036
          ],
          [
           3450.3286785028204
          ],
          [
           3193.5426411058556
          ],
          [
           3507.74169196685
          ],
          [
           3224.8159814188502
          ],
          [
           3359.7099058949925
          ],
          [
           4148.644690852116
          ],
          [
           3530.810278571108
          ],
          [
           3224.6996625343877
          ],
          [
           4094.964962920201
          ],
          [
           3531.2022299051664
          ],
          [
           4958.765566583286
          ],
          [
           3299.6548048831664
          ],
          [
           4880.789193250906
          ],
          [
           3373.70816659256
          ],
          [
           3975.528231740376
          ],
          [
           3774.0323702514715
          ],
          [
           3720.036866761185
          ],
          [
           3621.420049710025
          ],
          [
           3505.501152520246
          ],
          [
           3211.2784803126383
          ],
          [
           3044.8377878967863
          ],
          [
           4044
          ],
          [
           3060
          ],
          [
           3490.662994853047
          ],
          [
           3455.946820056436
          ],
          [
           3931
          ],
          [
           2962
          ],
          [
           3316.343143913667
          ],
          [
           3412.1109025863584
          ],
          [
           3396.0607490415805
          ],
          [
           3742.6097411988753
          ],
          [
           4020.323557166359
          ],
          [
           3170.5732660079916
          ],
          [
           4107.34874936294
          ],
          [
           3357.7130573041727
          ],
          [
           4080.7935646459073
          ],
          [
           4126.281678945169
          ],
          [
           4991.060495841245
          ],
          [
           3455.4292408440456
          ],
          [
           2904.199446940892
          ],
          [
           3639.955903808009
          ],
          [
           3322
          ],
          [
           3355.2802985074627
          ],
          [
           3286.946602598809
          ],
          [
           3100.9707504054254
          ],
          [
           2452.77730834753
          ],
          [
           2691.258256766824
          ],
          [
           3173.459695847451
          ],
          [
           3338.374613003096
          ],
          [
           3448.419163668249
          ],
          [
           3795.730573710966
          ],
          [
           3357.869364334153
          ],
          [
           2480.4939516129034
          ],
          [
           2760.4524190033417
          ],
          [
           3541.3132842696036
          ],
          [
           2298
          ],
          [
           3417.1629339853303
          ],
          [
           5024.123871360454
          ],
          [
           4984.722686127289
          ],
          [
           3768.094318565237
          ],
          [
           2953.3830939486697
          ],
          [
           3959.988214700891
          ],
          [
           3413.1898969533418
          ],
          [
           3689.327793519007
          ],
          [
           3289.1000197200447
          ],
          [
           4125.277015068231
          ],
          [
           3141.465625763872
          ],
          [
           3959.988214700891
          ]
         ],
         "domain": {
          "x": [
           0,
           1
          ],
          "y": [
           0,
           1
          ]
         },
         "hovertemplate": "labels=%{label}<br>basic_monthly_mean_sum=%{value}<br>parent=%{parent}<br>id=%{id}<br>basic_monthly_mean=%{color}<extra></extra>",
         "ids": [
          "Nanyang Technological University/College of Business (Nanyang Business School)",
          "Nanyang Technological University/College of Engineering",
          "Nanyang Technological University/College of Humanities Arts Social Sciences",
          "Nanyang Technological University/College of Science",
          "Nanyang Technological University/College of Sciences",
          "Singapore Institute of Technology/DigiPen Institute of Technology",
          "National University of Singapore/Faculty Of Dentistry",
          "National University of Singapore/Faculty Of Engineering",
          "National University of Singapore/Faculty of Arts Social Sciences",
          "National University of Singapore/Faculty of Dentistry",
          "National University of Singapore/Faculty of Engineering",
          "National University of Singapore/Faculty of Law",
          "National University of Singapore/Faculty of Science",
          "Nanyang Technological University/Lee Kong Chian School of Medicine",
          "National University of Singapore/MultiDisciplinary Programme",
          "National University of Singapore/MultiDisciplinary Programmes",
          "National University of Singapore/Multidisciplinary Programmes",
          "National University of Singapore/NUS Business School",
          "Nanyang Technological University/National Institure of Education (NIE)",
          "Nanyang Technological University/National Institute of Education (NIE)",
          "Singapore Institute of Technology/Newcastle University",
          "Singapore University of Social Sciences/S R Nathan School of Human Development",
          "Singapore Institute of Technology/SIT DigiPen Institute of Technology",
          "Singapore Institute of Technology/SIT Massey University",
          "Singapore Institute of Technology/SIT Newcastle University",
          "Singapore Institute of Technology/SIT and SITTrinity College Dublin and Trinity College Dublin",
          "Singapore Institute of Technology/SITDigiPen Institute of Technology",
          "Singapore Institute of Technology/SITMassey University",
          "Singapore Institute of Technology/SITNewcastle University",
          "Singapore Institute of Technology/SITTrinity College Dublin and Trinity College Dublin",
          "Singapore Institute of Technology/SITUniversity of Glasgow",
          "Singapore Management University/School of Accountancy",
          "Singapore Management University/School of Business",
          "Singapore University of Social Sciences/School of Business",
          "National University of Singapore/School of Computing",
          "National University of Singapore/School of Design and Environment",
          "Singapore Management University/School of Economics",
          "Singapore Management University/School of Information Systems",
          "Singapore Management University/School of Law",
          "Singapore Management University/School of Social Sciences",
          "Singapore Institute of Technology/Singapore Institute of Technology",
          "Singapore Institute of Technology/Singapore Institute of Technology (SIT)",
          "Singapore Institute of Technology/Singapore Institute of Technology Trinity College Dublin",
          "Singapore Institute of Technology/Singapore Institute of Technology Trinity College Dublin and Trinity College Dublin",
          "Nanyang Technological University/Sports Science and Management",
          "Singapore Institute of Technology/Technische Universitt Mnchen",
          "Singapore Institute of Technology/The Culinary Institute of America",
          "Singapore Institute of Technology/The Glasgow School of Art",
          "Singapore Institute of Technology/Trinity College Dublin",
          "Singapore Institute of Technology/Trinity College Dublin and Singapore Institute of TechnologyTrinity College Dublin",
          "Singapore Institute of Technology/University of Glasgow",
          "Singapore Institute of Technology/University of Liverpool",
          "Singapore Institute of Technology/University of Manchester",
          "Singapore Institute of Technology/University of Nevada Las Vegas",
          "Singapore Institute of Technology/Wheelock College",
          "National University of Singapore/YLL School of Medicine",
          "National University of Singapore/YST Conservatory Of Music",
          "National University of Singapore/YST Conservatory of Music",
          "National University of Singapore/YaleNUS Collece)",
          "National University of Singapore/YaleNUS College",
          "National University of Singapore/Yong Loo Lin School (Medicine)",
          "National University of Singapore/Yong Siew Toh Conservatory of Music",
          "Singapore University of Technology and Design/na",
          "Nanyang Technological University",
          "National University of Singapore",
          "Singapore Institute of Technology",
          "Singapore Management University",
          "Singapore University of Social Sciences",
          "Singapore University of Technology and Design"
         ],
         "labels": [
          "College of Business (Nanyang Business School)",
          "College of Engineering",
          "College of Humanities Arts Social Sciences",
          "College of Science",
          "College of Sciences",
          "DigiPen Institute of Technology",
          "Faculty Of Dentistry",
          "Faculty Of Engineering",
          "Faculty of Arts Social Sciences",
          "Faculty of Dentistry",
          "Faculty of Engineering",
          "Faculty of Law",
          "Faculty of Science",
          "Lee Kong Chian School of Medicine",
          "MultiDisciplinary Programme",
          "MultiDisciplinary Programmes",
          "Multidisciplinary Programmes",
          "NUS Business School",
          "National Institure of Education (NIE)",
          "National Institute of Education (NIE)",
          "Newcastle University",
          "S R Nathan School of Human Development",
          "SIT DigiPen Institute of Technology",
          "SIT Massey University",
          "SIT Newcastle University",
          "SIT and SITTrinity College Dublin and Trinity College Dublin",
          "SITDigiPen Institute of Technology",
          "SITMassey University",
          "SITNewcastle University",
          "SITTrinity College Dublin and Trinity College Dublin",
          "SITUniversity of Glasgow",
          "School of Accountancy",
          "School of Business",
          "School of Business",
          "School of Computing",
          "School of Design and Environment",
          "School of Economics",
          "School of Information Systems",
          "School of Law",
          "School of Social Sciences",
          "Singapore Institute of Technology",
          "Singapore Institute of Technology (SIT)",
          "Singapore Institute of Technology Trinity College Dublin",
          "Singapore Institute of Technology Trinity College Dublin and Trinity College Dublin",
          "Sports Science and Management",
          "Technische Universitt Mnchen",
          "The Culinary Institute of America",
          "The Glasgow School of Art",
          "Trinity College Dublin",
          "Trinity College Dublin and Singapore Institute of TechnologyTrinity College Dublin",
          "University of Glasgow",
          "University of Liverpool",
          "University of Manchester",
          "University of Nevada Las Vegas",
          "Wheelock College",
          "YLL School of Medicine",
          "YST Conservatory Of Music",
          "YST Conservatory of Music",
          "YaleNUS Collece)",
          "YaleNUS College",
          "Yong Loo Lin School (Medicine)",
          "Yong Siew Toh Conservatory of Music",
          "na",
          "Nanyang Technological University",
          "National University of Singapore",
          "Singapore Institute of Technology",
          "Singapore Management University",
          "Singapore University of Social Sciences",
          "Singapore University of Technology and Design"
         ],
         "marker": {
          "coloraxis": "coloraxis",
          "colors": [
           3792.8946790164036,
           3450.3286785028204,
           3193.5426411058556,
           3507.74169196685,
           3224.8159814188502,
           3359.7099058949925,
           4148.644690852116,
           3530.810278571108,
           3224.6996625343877,
           4094.964962920201,
           3531.2022299051664,
           4958.765566583286,
           3299.6548048831664,
           4880.789193250906,
           3373.70816659256,
           3975.528231740376,
           3774.0323702514715,
           3720.036866761185,
           3621.420049710025,
           3505.501152520246,
           3211.2784803126383,
           3044.8377878967863,
           4044,
           3060,
           3490.662994853047,
           3455.946820056436,
           3931,
           2962,
           3316.343143913667,
           3412.1109025863584,
           3396.0607490415805,
           3742.6097411988753,
           4020.323557166359,
           3170.5732660079916,
           4107.34874936294,
           3357.7130573041727,
           4080.7935646459073,
           4126.281678945169,
           4991.060495841245,
           3455.4292408440456,
           2904.199446940892,
           3639.955903808009,
           3322,
           3355.2802985074627,
           3286.946602598809,
           3100.9707504054254,
           2452.77730834753,
           2691.258256766824,
           3173.459695847451,
           3338.374613003096,
           3448.419163668249,
           3795.730573710966,
           3357.869364334153,
           2480.4939516129034,
           2760.4524190033417,
           3541.3132842696036,
           2298,
           3417.1629339853303,
           5024.123871360454,
           4984.722686127289,
           3768.094318565237,
           2953.3830939486697,
           3959.988214700891,
           3413.1898969533418,
           3689.327793519007,
           3289.1000197200447,
           4125.277015068231,
           3141.465625763872,
           3959.988214700891
          ]
         },
         "name": "",
         "parents": [
          "Nanyang Technological University",
          "Nanyang Technological University",
          "Nanyang Technological University",
          "Nanyang Technological University",
          "Nanyang Technological University",
          "Singapore Institute of Technology",
          "National University of Singapore",
          "National University of Singapore",
          "National University of Singapore",
          "National University of Singapore",
          "National University of Singapore",
          "National University of Singapore",
          "National University of Singapore",
          "Nanyang Technological University",
          "National University of Singapore",
          "National University of Singapore",
          "National University of Singapore",
          "National University of Singapore",
          "Nanyang Technological University",
          "Nanyang Technological University",
          "Singapore Institute of Technology",
          "Singapore University of Social Sciences",
          "Singapore Institute of Technology",
          "Singapore Institute of Technology",
          "Singapore Institute of Technology",
          "Singapore Institute of Technology",
          "Singapore Institute of Technology",
          "Singapore Institute of Technology",
          "Singapore Institute of Technology",
          "Singapore Institute of Technology",
          "Singapore Institute of Technology",
          "Singapore Management University",
          "Singapore Management University",
          "Singapore University of Social Sciences",
          "National University of Singapore",
          "National University of Singapore",
          "Singapore Management University",
          "Singapore Management University",
          "Singapore Management University",
          "Singapore Management University",
          "Singapore Institute of Technology",
          "Singapore Institute of Technology",
          "Singapore Institute of Technology",
          "Singapore Institute of Technology",
          "Nanyang Technological University",
          "Singapore Institute of Technology",
          "Singapore Institute of Technology",
          "Singapore Institute of Technology",
          "Singapore Institute of Technology",
          "Singapore Institute of Technology",
          "Singapore Institute of Technology",
          "Singapore Institute of Technology",
          "Singapore Institute of Technology",
          "Singapore Institute of Technology",
          "Singapore Institute of Technology",
          "National University of Singapore",
          "National University of Singapore",
          "National University of Singapore",
          "National University of Singapore",
          "National University of Singapore",
          "National University of Singapore",
          "National University of Singapore",
          "Singapore University of Technology and Design",
          "",
          "",
          "",
          "",
          "",
          ""
         ],
         "type": "treemap",
         "values": [
          222083,
          688174,
          387103,
          24374,
          294492,
          150789,
          16594,
          133754,
          144311,
          45038,
          360105,
          74358,
          185863,
          14639,
          13494,
          38733,
          14952,
          217947,
          7242,
          98046,
          216992,
          15153,
          4044,
          3060,
          20789,
          13821,
          7862,
          5924,
          26502,
          34102,
          13564,
          111321,
          119747,
          50303,
          200138,
          184908,
          121423,
          122029,
          149564,
          103075,
          11572,
          122006,
          6644,
          13400,
          29552,
          67830,
          29350,
          64432,
          25382,
          20026,
          198438,
          30294,
          26838,
          9920,
          27532,
          75548,
          4596,
          10225,
          9857,
          57004,
          77058,
          16988,
          149678,
          1765705,
          1881471,
          1151113,
          727159,
          65456,
          149678
         ]
        }
       ],
       "layout": {
        "coloraxis": {
         "colorbar": {
          "title": {
           "text": "basic_monthly_mean"
          }
         },
         "colorscale": [
          [
           0,
           "#0d0887"
          ],
          [
           0.1111111111111111,
           "#46039f"
          ],
          [
           0.2222222222222222,
           "#7201a8"
          ],
          [
           0.3333333333333333,
           "#9c179e"
          ],
          [
           0.4444444444444444,
           "#bd3786"
          ],
          [
           0.5555555555555556,
           "#d8576b"
          ],
          [
           0.6666666666666666,
           "#ed7953"
          ],
          [
           0.7777777777777778,
           "#fb9f3a"
          ],
          [
           0.8888888888888888,
           "#fdca26"
          ],
          [
           1,
           "#f0f921"
          ]
         ]
        },
        "legend": {
         "tracegroupgap": 0
        },
        "margin": {
         "t": 60
        },
        "template": {
         "data": {
          "bar": [
           {
            "error_x": {
             "color": "#2a3f5f"
            },
            "error_y": {
             "color": "#2a3f5f"
            },
            "marker": {
             "line": {
              "color": "#E5ECF6",
              "width": 0.5
             },
             "pattern": {
              "fillmode": "overlay",
              "size": 10,
              "solidity": 0.2
             }
            },
            "type": "bar"
           }
          ],
          "barpolar": [
           {
            "marker": {
             "line": {
              "color": "#E5ECF6",
              "width": 0.5
             },
             "pattern": {
              "fillmode": "overlay",
              "size": 10,
              "solidity": 0.2
             }
            },
            "type": "barpolar"
           }
          ],
          "carpet": [
           {
            "aaxis": {
             "endlinecolor": "#2a3f5f",
             "gridcolor": "white",
             "linecolor": "white",
             "minorgridcolor": "white",
             "startlinecolor": "#2a3f5f"
            },
            "baxis": {
             "endlinecolor": "#2a3f5f",
             "gridcolor": "white",
             "linecolor": "white",
             "minorgridcolor": "white",
             "startlinecolor": "#2a3f5f"
            },
            "type": "carpet"
           }
          ],
          "choropleth": [
           {
            "colorbar": {
             "outlinewidth": 0,
             "ticks": ""
            },
            "type": "choropleth"
           }
          ],
          "contour": [
           {
            "colorbar": {
             "outlinewidth": 0,
             "ticks": ""
            },
            "colorscale": [
             [
              0,
              "#0d0887"
             ],
             [
              0.1111111111111111,
              "#46039f"
             ],
             [
              0.2222222222222222,
              "#7201a8"
             ],
             [
              0.3333333333333333,
              "#9c179e"
             ],
             [
              0.4444444444444444,
              "#bd3786"
             ],
             [
              0.5555555555555556,
              "#d8576b"
             ],
             [
              0.6666666666666666,
              "#ed7953"
             ],
             [
              0.7777777777777778,
              "#fb9f3a"
             ],
             [
              0.8888888888888888,
              "#fdca26"
             ],
             [
              1,
              "#f0f921"
             ]
            ],
            "type": "contour"
           }
          ],
          "contourcarpet": [
           {
            "colorbar": {
             "outlinewidth": 0,
             "ticks": ""
            },
            "type": "contourcarpet"
           }
          ],
          "heatmap": [
           {
            "colorbar": {
             "outlinewidth": 0,
             "ticks": ""
            },
            "colorscale": [
             [
              0,
              "#0d0887"
             ],
             [
              0.1111111111111111,
              "#46039f"
             ],
             [
              0.2222222222222222,
              "#7201a8"
             ],
             [
              0.3333333333333333,
              "#9c179e"
             ],
             [
              0.4444444444444444,
              "#bd3786"
             ],
             [
              0.5555555555555556,
              "#d8576b"
             ],
             [
              0.6666666666666666,
              "#ed7953"
             ],
             [
              0.7777777777777778,
              "#fb9f3a"
             ],
             [
              0.8888888888888888,
              "#fdca26"
             ],
             [
              1,
              "#f0f921"
             ]
            ],
            "type": "heatmap"
           }
          ],
          "heatmapgl": [
           {
            "colorbar": {
             "outlinewidth": 0,
             "ticks": ""
            },
            "colorscale": [
             [
              0,
              "#0d0887"
             ],
             [
              0.1111111111111111,
              "#46039f"
             ],
             [
              0.2222222222222222,
              "#7201a8"
             ],
             [
              0.3333333333333333,
              "#9c179e"
             ],
             [
              0.4444444444444444,
              "#bd3786"
             ],
             [
              0.5555555555555556,
              "#d8576b"
             ],
             [
              0.6666666666666666,
              "#ed7953"
             ],
             [
              0.7777777777777778,
              "#fb9f3a"
             ],
             [
              0.8888888888888888,
              "#fdca26"
             ],
             [
              1,
              "#f0f921"
             ]
            ],
            "type": "heatmapgl"
           }
          ],
          "histogram": [
           {
            "marker": {
             "pattern": {
              "fillmode": "overlay",
              "size": 10,
              "solidity": 0.2
             }
            },
            "type": "histogram"
           }
          ],
          "histogram2d": [
           {
            "colorbar": {
             "outlinewidth": 0,
             "ticks": ""
            },
            "colorscale": [
             [
              0,
              "#0d0887"
             ],
             [
              0.1111111111111111,
              "#46039f"
             ],
             [
              0.2222222222222222,
              "#7201a8"
             ],
             [
              0.3333333333333333,
              "#9c179e"
             ],
             [
              0.4444444444444444,
              "#bd3786"
             ],
             [
              0.5555555555555556,
              "#d8576b"
             ],
             [
              0.6666666666666666,
              "#ed7953"
             ],
             [
              0.7777777777777778,
              "#fb9f3a"
             ],
             [
              0.8888888888888888,
              "#fdca26"
             ],
             [
              1,
              "#f0f921"
             ]
            ],
            "type": "histogram2d"
           }
          ],
          "histogram2dcontour": [
           {
            "colorbar": {
             "outlinewidth": 0,
             "ticks": ""
            },
            "colorscale": [
             [
              0,
              "#0d0887"
             ],
             [
              0.1111111111111111,
              "#46039f"
             ],
             [
              0.2222222222222222,
              "#7201a8"
             ],
             [
              0.3333333333333333,
              "#9c179e"
             ],
             [
              0.4444444444444444,
              "#bd3786"
             ],
             [
              0.5555555555555556,
              "#d8576b"
             ],
             [
              0.6666666666666666,
              "#ed7953"
             ],
             [
              0.7777777777777778,
              "#fb9f3a"
             ],
             [
              0.8888888888888888,
              "#fdca26"
             ],
             [
              1,
              "#f0f921"
             ]
            ],
            "type": "histogram2dcontour"
           }
          ],
          "mesh3d": [
           {
            "colorbar": {
             "outlinewidth": 0,
             "ticks": ""
            },
            "type": "mesh3d"
           }
          ],
          "parcoords": [
           {
            "line": {
             "colorbar": {
              "outlinewidth": 0,
              "ticks": ""
             }
            },
            "type": "parcoords"
           }
          ],
          "pie": [
           {
            "automargin": true,
            "type": "pie"
           }
          ],
          "scatter": [
           {
            "marker": {
             "colorbar": {
              "outlinewidth": 0,
              "ticks": ""
             }
            },
            "type": "scatter"
           }
          ],
          "scatter3d": [
           {
            "line": {
             "colorbar": {
              "outlinewidth": 0,
              "ticks": ""
             }
            },
            "marker": {
             "colorbar": {
              "outlinewidth": 0,
              "ticks": ""
             }
            },
            "type": "scatter3d"
           }
          ],
          "scattercarpet": [
           {
            "marker": {
             "colorbar": {
              "outlinewidth": 0,
              "ticks": ""
             }
            },
            "type": "scattercarpet"
           }
          ],
          "scattergeo": [
           {
            "marker": {
             "colorbar": {
              "outlinewidth": 0,
              "ticks": ""
             }
            },
            "type": "scattergeo"
           }
          ],
          "scattergl": [
           {
            "marker": {
             "colorbar": {
              "outlinewidth": 0,
              "ticks": ""
             }
            },
            "type": "scattergl"
           }
          ],
          "scattermapbox": [
           {
            "marker": {
             "colorbar": {
              "outlinewidth": 0,
              "ticks": ""
             }
            },
            "type": "scattermapbox"
           }
          ],
          "scatterpolar": [
           {
            "marker": {
             "colorbar": {
              "outlinewidth": 0,
              "ticks": ""
             }
            },
            "type": "scatterpolar"
           }
          ],
          "scatterpolargl": [
           {
            "marker": {
             "colorbar": {
              "outlinewidth": 0,
              "ticks": ""
             }
            },
            "type": "scatterpolargl"
           }
          ],
          "scatterternary": [
           {
            "marker": {
             "colorbar": {
              "outlinewidth": 0,
              "ticks": ""
             }
            },
            "type": "scatterternary"
           }
          ],
          "surface": [
           {
            "colorbar": {
             "outlinewidth": 0,
             "ticks": ""
            },
            "colorscale": [
             [
              0,
              "#0d0887"
             ],
             [
              0.1111111111111111,
              "#46039f"
             ],
             [
              0.2222222222222222,
              "#7201a8"
             ],
             [
              0.3333333333333333,
              "#9c179e"
             ],
             [
              0.4444444444444444,
              "#bd3786"
             ],
             [
              0.5555555555555556,
              "#d8576b"
             ],
             [
              0.6666666666666666,
              "#ed7953"
             ],
             [
              0.7777777777777778,
              "#fb9f3a"
             ],
             [
              0.8888888888888888,
              "#fdca26"
             ],
             [
              1,
              "#f0f921"
             ]
            ],
            "type": "surface"
           }
          ],
          "table": [
           {
            "cells": {
             "fill": {
              "color": "#EBF0F8"
             },
             "line": {
              "color": "white"
             }
            },
            "header": {
             "fill": {
              "color": "#C8D4E3"
             },
             "line": {
              "color": "white"
             }
            },
            "type": "table"
           }
          ]
         },
         "layout": {
          "annotationdefaults": {
           "arrowcolor": "#2a3f5f",
           "arrowhead": 0,
           "arrowwidth": 1
          },
          "autotypenumbers": "strict",
          "coloraxis": {
           "colorbar": {
            "outlinewidth": 0,
            "ticks": ""
           }
          },
          "colorscale": {
           "diverging": [
            [
             0,
             "#8e0152"
            ],
            [
             0.1,
             "#c51b7d"
            ],
            [
             0.2,
             "#de77ae"
            ],
            [
             0.3,
             "#f1b6da"
            ],
            [
             0.4,
             "#fde0ef"
            ],
            [
             0.5,
             "#f7f7f7"
            ],
            [
             0.6,
             "#e6f5d0"
            ],
            [
             0.7,
             "#b8e186"
            ],
            [
             0.8,
             "#7fbc41"
            ],
            [
             0.9,
             "#4d9221"
            ],
            [
             1,
             "#276419"
            ]
           ],
           "sequential": [
            [
             0,
             "#0d0887"
            ],
            [
             0.1111111111111111,
             "#46039f"
            ],
            [
             0.2222222222222222,
             "#7201a8"
            ],
            [
             0.3333333333333333,
             "#9c179e"
            ],
            [
             0.4444444444444444,
             "#bd3786"
            ],
            [
             0.5555555555555556,
             "#d8576b"
            ],
            [
             0.6666666666666666,
             "#ed7953"
            ],
            [
             0.7777777777777778,
             "#fb9f3a"
            ],
            [
             0.8888888888888888,
             "#fdca26"
            ],
            [
             1,
             "#f0f921"
            ]
           ],
           "sequentialminus": [
            [
             0,
             "#0d0887"
            ],
            [
             0.1111111111111111,
             "#46039f"
            ],
            [
             0.2222222222222222,
             "#7201a8"
            ],
            [
             0.3333333333333333,
             "#9c179e"
            ],
            [
             0.4444444444444444,
             "#bd3786"
            ],
            [
             0.5555555555555556,
             "#d8576b"
            ],
            [
             0.6666666666666666,
             "#ed7953"
            ],
            [
             0.7777777777777778,
             "#fb9f3a"
            ],
            [
             0.8888888888888888,
             "#fdca26"
            ],
            [
             1,
             "#f0f921"
            ]
           ]
          },
          "colorway": [
           "#636efa",
           "#EF553B",
           "#00cc96",
           "#ab63fa",
           "#FFA15A",
           "#19d3f3",
           "#FF6692",
           "#B6E880",
           "#FF97FF",
           "#FECB52"
          ],
          "font": {
           "color": "#2a3f5f"
          },
          "geo": {
           "bgcolor": "white",
           "lakecolor": "white",
           "landcolor": "#E5ECF6",
           "showlakes": true,
           "showland": true,
           "subunitcolor": "white"
          },
          "hoverlabel": {
           "align": "left"
          },
          "hovermode": "closest",
          "mapbox": {
           "style": "light"
          },
          "paper_bgcolor": "white",
          "plot_bgcolor": "#E5ECF6",
          "polar": {
           "angularaxis": {
            "gridcolor": "white",
            "linecolor": "white",
            "ticks": ""
           },
           "bgcolor": "#E5ECF6",
           "radialaxis": {
            "gridcolor": "white",
            "linecolor": "white",
            "ticks": ""
           }
          },
          "scene": {
           "xaxis": {
            "backgroundcolor": "#E5ECF6",
            "gridcolor": "white",
            "gridwidth": 2,
            "linecolor": "white",
            "showbackground": true,
            "ticks": "",
            "zerolinecolor": "white"
           },
           "yaxis": {
            "backgroundcolor": "#E5ECF6",
            "gridcolor": "white",
            "gridwidth": 2,
            "linecolor": "white",
            "showbackground": true,
            "ticks": "",
            "zerolinecolor": "white"
           },
           "zaxis": {
            "backgroundcolor": "#E5ECF6",
            "gridcolor": "white",
            "gridwidth": 2,
            "linecolor": "white",
            "showbackground": true,
            "ticks": "",
            "zerolinecolor": "white"
           }
          },
          "shapedefaults": {
           "line": {
            "color": "#2a3f5f"
           }
          },
          "ternary": {
           "aaxis": {
            "gridcolor": "white",
            "linecolor": "white",
            "ticks": ""
           },
           "baxis": {
            "gridcolor": "white",
            "linecolor": "white",
            "ticks": ""
           },
           "bgcolor": "#E5ECF6",
           "caxis": {
            "gridcolor": "white",
            "linecolor": "white",
            "ticks": ""
           }
          },
          "title": {
           "x": 0.05
          },
          "xaxis": {
           "automargin": true,
           "gridcolor": "white",
           "linecolor": "white",
           "ticks": "",
           "title": {
            "standoff": 15
           },
           "zerolinecolor": "white",
           "zerolinewidth": 2
          },
          "yaxis": {
           "automargin": true,
           "gridcolor": "white",
           "linecolor": "white",
           "ticks": "",
           "title": {
            "standoff": 15
           },
           "zerolinecolor": "white",
           "zerolinewidth": 2
          }
         }
        }
       }
      },
      "text/html": [
       "<div>                            <div id=\"ab72b3c7-e997-48a1-9141-e14f8573b219\" class=\"plotly-graph-div\" style=\"height:525px; width:100%;\"></div>            <script type=\"text/javascript\">                require([\"plotly\"], function(Plotly) {                    window.PLOTLYENV=window.PLOTLYENV || {};                                    if (document.getElementById(\"ab72b3c7-e997-48a1-9141-e14f8573b219\")) {                    Plotly.newPlot(                        \"ab72b3c7-e997-48a1-9141-e14f8573b219\",                        [{\"branchvalues\":\"total\",\"customdata\":[[3792.8946790164036],[3450.3286785028204],[3193.5426411058556],[3507.74169196685],[3224.8159814188502],[3359.7099058949925],[4148.644690852116],[3530.810278571108],[3224.6996625343877],[4094.964962920201],[3531.2022299051664],[4958.765566583286],[3299.6548048831664],[4880.789193250906],[3373.70816659256],[3975.528231740376],[3774.0323702514715],[3720.036866761185],[3621.420049710025],[3505.501152520246],[3211.2784803126383],[3044.8377878967863],[4044.0],[3060.0],[3490.662994853047],[3455.946820056436],[3931.0],[2962.0],[3316.343143913667],[3412.1109025863584],[3396.0607490415805],[3742.6097411988753],[4020.323557166359],[3170.5732660079916],[4107.34874936294],[3357.7130573041727],[4080.7935646459073],[4126.281678945169],[4991.060495841245],[3455.4292408440456],[2904.199446940892],[3639.955903808009],[3322.0],[3355.2802985074627],[3286.946602598809],[3100.9707504054254],[2452.77730834753],[2691.258256766824],[3173.459695847451],[3338.374613003096],[3448.419163668249],[3795.730573710966],[3357.869364334153],[2480.4939516129034],[2760.4524190033417],[3541.3132842696036],[2298.0],[3417.1629339853303],[5024.123871360454],[4984.722686127289],[3768.094318565237],[2953.3830939486697],[3959.988214700891],[3413.1898969533418],[3689.327793519007],[3289.1000197200447],[4125.277015068231],[3141.465625763872],[3959.988214700891]],\"domain\":{\"x\":[0.0,1.0],\"y\":[0.0,1.0]},\"hovertemplate\":\"labels=%{label}<br>basic_monthly_mean_sum=%{value}<br>parent=%{parent}<br>id=%{id}<br>basic_monthly_mean=%{color}<extra></extra>\",\"ids\":[\"Nanyang Technological University/College of Business (Nanyang Business School)\",\"Nanyang Technological University/College of Engineering\",\"Nanyang Technological University/College of Humanities Arts Social Sciences\",\"Nanyang Technological University/College of Science\",\"Nanyang Technological University/College of Sciences\",\"Singapore Institute of Technology/DigiPen Institute of Technology\",\"National University of Singapore/Faculty Of Dentistry\",\"National University of Singapore/Faculty Of Engineering\",\"National University of Singapore/Faculty of Arts Social Sciences\",\"National University of Singapore/Faculty of Dentistry\",\"National University of Singapore/Faculty of Engineering\",\"National University of Singapore/Faculty of Law\",\"National University of Singapore/Faculty of Science\",\"Nanyang Technological University/Lee Kong Chian School of Medicine\",\"National University of Singapore/MultiDisciplinary Programme\",\"National University of Singapore/MultiDisciplinary Programmes\",\"National University of Singapore/Multidisciplinary Programmes\",\"National University of Singapore/NUS Business School\",\"Nanyang Technological University/National Institure of Education (NIE)\",\"Nanyang Technological University/National Institute of Education (NIE)\",\"Singapore Institute of Technology/Newcastle University\",\"Singapore University of Social Sciences/S R Nathan School of Human Development\",\"Singapore Institute of Technology/SIT DigiPen Institute of Technology\",\"Singapore Institute of Technology/SIT Massey University\",\"Singapore Institute of Technology/SIT Newcastle University\",\"Singapore Institute of Technology/SIT and SITTrinity College Dublin and Trinity College Dublin\",\"Singapore Institute of Technology/SITDigiPen Institute of Technology\",\"Singapore Institute of Technology/SITMassey University\",\"Singapore Institute of Technology/SITNewcastle University\",\"Singapore Institute of Technology/SITTrinity College Dublin and Trinity College Dublin\",\"Singapore Institute of Technology/SITUniversity of Glasgow\",\"Singapore Management University/School of Accountancy\",\"Singapore Management University/School of Business\",\"Singapore University of Social Sciences/School of Business\",\"National University of Singapore/School of Computing\",\"National University of Singapore/School of Design and Environment\",\"Singapore Management University/School of Economics\",\"Singapore Management University/School of Information Systems\",\"Singapore Management University/School of Law\",\"Singapore Management University/School of Social Sciences\",\"Singapore Institute of Technology/Singapore Institute of Technology\",\"Singapore Institute of Technology/Singapore Institute of Technology (SIT)\",\"Singapore Institute of Technology/Singapore Institute of Technology Trinity College Dublin\",\"Singapore Institute of Technology/Singapore Institute of Technology Trinity College Dublin and Trinity College Dublin\",\"Nanyang Technological University/Sports Science and Management\",\"Singapore Institute of Technology/Technische Universitt Mnchen\",\"Singapore Institute of Technology/The Culinary Institute of America\",\"Singapore Institute of Technology/The Glasgow School of Art\",\"Singapore Institute of Technology/Trinity College Dublin\",\"Singapore Institute of Technology/Trinity College Dublin and Singapore Institute of TechnologyTrinity College Dublin\",\"Singapore Institute of Technology/University of Glasgow\",\"Singapore Institute of Technology/University of Liverpool\",\"Singapore Institute of Technology/University of Manchester\",\"Singapore Institute of Technology/University of Nevada Las Vegas\",\"Singapore Institute of Technology/Wheelock College\",\"National University of Singapore/YLL School of Medicine\",\"National University of Singapore/YST Conservatory Of Music\",\"National University of Singapore/YST Conservatory of Music\",\"National University of Singapore/YaleNUS Collece)\",\"National University of Singapore/YaleNUS College\",\"National University of Singapore/Yong Loo Lin School (Medicine)\",\"National University of Singapore/Yong Siew Toh Conservatory of Music\",\"Singapore University of Technology and Design/na\",\"Nanyang Technological University\",\"National University of Singapore\",\"Singapore Institute of Technology\",\"Singapore Management University\",\"Singapore University of Social Sciences\",\"Singapore University of Technology and Design\"],\"labels\":[\"College of Business (Nanyang Business School)\",\"College of Engineering\",\"College of Humanities Arts Social Sciences\",\"College of Science\",\"College of Sciences\",\"DigiPen Institute of Technology\",\"Faculty Of Dentistry\",\"Faculty Of Engineering\",\"Faculty of Arts Social Sciences\",\"Faculty of Dentistry\",\"Faculty of Engineering\",\"Faculty of Law\",\"Faculty of Science\",\"Lee Kong Chian School of Medicine\",\"MultiDisciplinary Programme\",\"MultiDisciplinary Programmes\",\"Multidisciplinary Programmes\",\"NUS Business School\",\"National Institure of Education (NIE)\",\"National Institute of Education (NIE)\",\"Newcastle University\",\"S R Nathan School of Human Development\",\"SIT DigiPen Institute of Technology\",\"SIT Massey University\",\"SIT Newcastle University\",\"SIT and SITTrinity College Dublin and Trinity College Dublin\",\"SITDigiPen Institute of Technology\",\"SITMassey University\",\"SITNewcastle University\",\"SITTrinity College Dublin and Trinity College Dublin\",\"SITUniversity of Glasgow\",\"School of Accountancy\",\"School of Business\",\"School of Business\",\"School of Computing\",\"School of Design and Environment\",\"School of Economics\",\"School of Information Systems\",\"School of Law\",\"School of Social Sciences\",\"Singapore Institute of Technology\",\"Singapore Institute of Technology (SIT)\",\"Singapore Institute of Technology Trinity College Dublin\",\"Singapore Institute of Technology Trinity College Dublin and Trinity College Dublin\",\"Sports Science and Management\",\"Technische Universitt Mnchen\",\"The Culinary Institute of America\",\"The Glasgow School of Art\",\"Trinity College Dublin\",\"Trinity College Dublin and Singapore Institute of TechnologyTrinity College Dublin\",\"University of Glasgow\",\"University of Liverpool\",\"University of Manchester\",\"University of Nevada Las Vegas\",\"Wheelock College\",\"YLL School of Medicine\",\"YST Conservatory Of Music\",\"YST Conservatory of Music\",\"YaleNUS Collece)\",\"YaleNUS College\",\"Yong Loo Lin School (Medicine)\",\"Yong Siew Toh Conservatory of Music\",\"na\",\"Nanyang Technological University\",\"National University of Singapore\",\"Singapore Institute of Technology\",\"Singapore Management University\",\"Singapore University of Social Sciences\",\"Singapore University of Technology and Design\"],\"marker\":{\"coloraxis\":\"coloraxis\",\"colors\":[3792.8946790164036,3450.3286785028204,3193.5426411058556,3507.74169196685,3224.8159814188502,3359.7099058949925,4148.644690852116,3530.810278571108,3224.6996625343877,4094.964962920201,3531.2022299051664,4958.765566583286,3299.6548048831664,4880.789193250906,3373.70816659256,3975.528231740376,3774.0323702514715,3720.036866761185,3621.420049710025,3505.501152520246,3211.2784803126383,3044.8377878967863,4044.0,3060.0,3490.662994853047,3455.946820056436,3931.0,2962.0,3316.343143913667,3412.1109025863584,3396.0607490415805,3742.6097411988753,4020.323557166359,3170.5732660079916,4107.34874936294,3357.7130573041727,4080.7935646459073,4126.281678945169,4991.060495841245,3455.4292408440456,2904.199446940892,3639.955903808009,3322.0,3355.2802985074627,3286.946602598809,3100.9707504054254,2452.77730834753,2691.258256766824,3173.459695847451,3338.374613003096,3448.419163668249,3795.730573710966,3357.869364334153,2480.4939516129034,2760.4524190033417,3541.3132842696036,2298.0,3417.1629339853303,5024.123871360454,4984.722686127289,3768.094318565237,2953.3830939486697,3959.988214700891,3413.1898969533418,3689.327793519007,3289.1000197200447,4125.277015068231,3141.465625763872,3959.988214700891]},\"name\":\"\",\"parents\":[\"Nanyang Technological University\",\"Nanyang Technological University\",\"Nanyang Technological University\",\"Nanyang Technological University\",\"Nanyang Technological University\",\"Singapore Institute of Technology\",\"National University of Singapore\",\"National University of Singapore\",\"National University of Singapore\",\"National University of Singapore\",\"National University of Singapore\",\"National University of Singapore\",\"National University of Singapore\",\"Nanyang Technological University\",\"National University of Singapore\",\"National University of Singapore\",\"National University of Singapore\",\"National University of Singapore\",\"Nanyang Technological University\",\"Nanyang Technological University\",\"Singapore Institute of Technology\",\"Singapore University of Social Sciences\",\"Singapore Institute of Technology\",\"Singapore Institute of Technology\",\"Singapore Institute of Technology\",\"Singapore Institute of Technology\",\"Singapore Institute of Technology\",\"Singapore Institute of Technology\",\"Singapore Institute of Technology\",\"Singapore Institute of Technology\",\"Singapore Institute of Technology\",\"Singapore Management University\",\"Singapore Management University\",\"Singapore University of Social Sciences\",\"National University of Singapore\",\"National University of Singapore\",\"Singapore Management University\",\"Singapore Management University\",\"Singapore Management University\",\"Singapore Management University\",\"Singapore Institute of Technology\",\"Singapore Institute of Technology\",\"Singapore Institute of Technology\",\"Singapore Institute of Technology\",\"Nanyang Technological University\",\"Singapore Institute of Technology\",\"Singapore Institute of Technology\",\"Singapore Institute of Technology\",\"Singapore Institute of Technology\",\"Singapore Institute of Technology\",\"Singapore Institute of Technology\",\"Singapore Institute of Technology\",\"Singapore Institute of Technology\",\"Singapore Institute of Technology\",\"Singapore Institute of Technology\",\"National University of Singapore\",\"National University of Singapore\",\"National University of Singapore\",\"National University of Singapore\",\"National University of Singapore\",\"National University of Singapore\",\"National University of Singapore\",\"Singapore University of Technology and Design\",\"\",\"\",\"\",\"\",\"\",\"\"],\"type\":\"treemap\",\"values\":[222083,688174,387103,24374,294492,150789,16594,133754,144311,45038,360105,74358,185863,14639,13494,38733,14952,217947,7242,98046,216992,15153,4044,3060,20789,13821,7862,5924,26502,34102,13564,111321,119747,50303,200138,184908,121423,122029,149564,103075,11572,122006,6644,13400,29552,67830,29350,64432,25382,20026,198438,30294,26838,9920,27532,75548,4596,10225,9857,57004,77058,16988,149678,1765705,1881471,1151113,727159,65456,149678]}],                        {\"coloraxis\":{\"colorbar\":{\"title\":{\"text\":\"basic_monthly_mean\"}},\"colorscale\":[[0.0,\"#0d0887\"],[0.1111111111111111,\"#46039f\"],[0.2222222222222222,\"#7201a8\"],[0.3333333333333333,\"#9c179e\"],[0.4444444444444444,\"#bd3786\"],[0.5555555555555556,\"#d8576b\"],[0.6666666666666666,\"#ed7953\"],[0.7777777777777778,\"#fb9f3a\"],[0.8888888888888888,\"#fdca26\"],[1.0,\"#f0f921\"]]},\"legend\":{\"tracegroupgap\":0},\"margin\":{\"t\":60},\"template\":{\"data\":{\"bar\":[{\"error_x\":{\"color\":\"#2a3f5f\"},\"error_y\":{\"color\":\"#2a3f5f\"},\"marker\":{\"line\":{\"color\":\"#E5ECF6\",\"width\":0.5},\"pattern\":{\"fillmode\":\"overlay\",\"size\":10,\"solidity\":0.2}},\"type\":\"bar\"}],\"barpolar\":[{\"marker\":{\"line\":{\"color\":\"#E5ECF6\",\"width\":0.5},\"pattern\":{\"fillmode\":\"overlay\",\"size\":10,\"solidity\":0.2}},\"type\":\"barpolar\"}],\"carpet\":[{\"aaxis\":{\"endlinecolor\":\"#2a3f5f\",\"gridcolor\":\"white\",\"linecolor\":\"white\",\"minorgridcolor\":\"white\",\"startlinecolor\":\"#2a3f5f\"},\"baxis\":{\"endlinecolor\":\"#2a3f5f\",\"gridcolor\":\"white\",\"linecolor\":\"white\",\"minorgridcolor\":\"white\",\"startlinecolor\":\"#2a3f5f\"},\"type\":\"carpet\"}],\"choropleth\":[{\"colorbar\":{\"outlinewidth\":0,\"ticks\":\"\"},\"type\":\"choropleth\"}],\"contour\":[{\"colorbar\":{\"outlinewidth\":0,\"ticks\":\"\"},\"colorscale\":[[0.0,\"#0d0887\"],[0.1111111111111111,\"#46039f\"],[0.2222222222222222,\"#7201a8\"],[0.3333333333333333,\"#9c179e\"],[0.4444444444444444,\"#bd3786\"],[0.5555555555555556,\"#d8576b\"],[0.6666666666666666,\"#ed7953\"],[0.7777777777777778,\"#fb9f3a\"],[0.8888888888888888,\"#fdca26\"],[1.0,\"#f0f921\"]],\"type\":\"contour\"}],\"contourcarpet\":[{\"colorbar\":{\"outlinewidth\":0,\"ticks\":\"\"},\"type\":\"contourcarpet\"}],\"heatmap\":[{\"colorbar\":{\"outlinewidth\":0,\"ticks\":\"\"},\"colorscale\":[[0.0,\"#0d0887\"],[0.1111111111111111,\"#46039f\"],[0.2222222222222222,\"#7201a8\"],[0.3333333333333333,\"#9c179e\"],[0.4444444444444444,\"#bd3786\"],[0.5555555555555556,\"#d8576b\"],[0.6666666666666666,\"#ed7953\"],[0.7777777777777778,\"#fb9f3a\"],[0.8888888888888888,\"#fdca26\"],[1.0,\"#f0f921\"]],\"type\":\"heatmap\"}],\"heatmapgl\":[{\"colorbar\":{\"outlinewidth\":0,\"ticks\":\"\"},\"colorscale\":[[0.0,\"#0d0887\"],[0.1111111111111111,\"#46039f\"],[0.2222222222222222,\"#7201a8\"],[0.3333333333333333,\"#9c179e\"],[0.4444444444444444,\"#bd3786\"],[0.5555555555555556,\"#d8576b\"],[0.6666666666666666,\"#ed7953\"],[0.7777777777777778,\"#fb9f3a\"],[0.8888888888888888,\"#fdca26\"],[1.0,\"#f0f921\"]],\"type\":\"heatmapgl\"}],\"histogram\":[{\"marker\":{\"pattern\":{\"fillmode\":\"overlay\",\"size\":10,\"solidity\":0.2}},\"type\":\"histogram\"}],\"histogram2d\":[{\"colorbar\":{\"outlinewidth\":0,\"ticks\":\"\"},\"colorscale\":[[0.0,\"#0d0887\"],[0.1111111111111111,\"#46039f\"],[0.2222222222222222,\"#7201a8\"],[0.3333333333333333,\"#9c179e\"],[0.4444444444444444,\"#bd3786\"],[0.5555555555555556,\"#d8576b\"],[0.6666666666666666,\"#ed7953\"],[0.7777777777777778,\"#fb9f3a\"],[0.8888888888888888,\"#fdca26\"],[1.0,\"#f0f921\"]],\"type\":\"histogram2d\"}],\"histogram2dcontour\":[{\"colorbar\":{\"outlinewidth\":0,\"ticks\":\"\"},\"colorscale\":[[0.0,\"#0d0887\"],[0.1111111111111111,\"#46039f\"],[0.2222222222222222,\"#7201a8\"],[0.3333333333333333,\"#9c179e\"],[0.4444444444444444,\"#bd3786\"],[0.5555555555555556,\"#d8576b\"],[0.6666666666666666,\"#ed7953\"],[0.7777777777777778,\"#fb9f3a\"],[0.8888888888888888,\"#fdca26\"],[1.0,\"#f0f921\"]],\"type\":\"histogram2dcontour\"}],\"mesh3d\":[{\"colorbar\":{\"outlinewidth\":0,\"ticks\":\"\"},\"type\":\"mesh3d\"}],\"parcoords\":[{\"line\":{\"colorbar\":{\"outlinewidth\":0,\"ticks\":\"\"}},\"type\":\"parcoords\"}],\"pie\":[{\"automargin\":true,\"type\":\"pie\"}],\"scatter\":[{\"marker\":{\"colorbar\":{\"outlinewidth\":0,\"ticks\":\"\"}},\"type\":\"scatter\"}],\"scatter3d\":[{\"line\":{\"colorbar\":{\"outlinewidth\":0,\"ticks\":\"\"}},\"marker\":{\"colorbar\":{\"outlinewidth\":0,\"ticks\":\"\"}},\"type\":\"scatter3d\"}],\"scattercarpet\":[{\"marker\":{\"colorbar\":{\"outlinewidth\":0,\"ticks\":\"\"}},\"type\":\"scattercarpet\"}],\"scattergeo\":[{\"marker\":{\"colorbar\":{\"outlinewidth\":0,\"ticks\":\"\"}},\"type\":\"scattergeo\"}],\"scattergl\":[{\"marker\":{\"colorbar\":{\"outlinewidth\":0,\"ticks\":\"\"}},\"type\":\"scattergl\"}],\"scattermapbox\":[{\"marker\":{\"colorbar\":{\"outlinewidth\":0,\"ticks\":\"\"}},\"type\":\"scattermapbox\"}],\"scatterpolar\":[{\"marker\":{\"colorbar\":{\"outlinewidth\":0,\"ticks\":\"\"}},\"type\":\"scatterpolar\"}],\"scatterpolargl\":[{\"marker\":{\"colorbar\":{\"outlinewidth\":0,\"ticks\":\"\"}},\"type\":\"scatterpolargl\"}],\"scatterternary\":[{\"marker\":{\"colorbar\":{\"outlinewidth\":0,\"ticks\":\"\"}},\"type\":\"scatterternary\"}],\"surface\":[{\"colorbar\":{\"outlinewidth\":0,\"ticks\":\"\"},\"colorscale\":[[0.0,\"#0d0887\"],[0.1111111111111111,\"#46039f\"],[0.2222222222222222,\"#7201a8\"],[0.3333333333333333,\"#9c179e\"],[0.4444444444444444,\"#bd3786\"],[0.5555555555555556,\"#d8576b\"],[0.6666666666666666,\"#ed7953\"],[0.7777777777777778,\"#fb9f3a\"],[0.8888888888888888,\"#fdca26\"],[1.0,\"#f0f921\"]],\"type\":\"surface\"}],\"table\":[{\"cells\":{\"fill\":{\"color\":\"#EBF0F8\"},\"line\":{\"color\":\"white\"}},\"header\":{\"fill\":{\"color\":\"#C8D4E3\"},\"line\":{\"color\":\"white\"}},\"type\":\"table\"}]},\"layout\":{\"annotationdefaults\":{\"arrowcolor\":\"#2a3f5f\",\"arrowhead\":0,\"arrowwidth\":1},\"autotypenumbers\":\"strict\",\"coloraxis\":{\"colorbar\":{\"outlinewidth\":0,\"ticks\":\"\"}},\"colorscale\":{\"diverging\":[[0,\"#8e0152\"],[0.1,\"#c51b7d\"],[0.2,\"#de77ae\"],[0.3,\"#f1b6da\"],[0.4,\"#fde0ef\"],[0.5,\"#f7f7f7\"],[0.6,\"#e6f5d0\"],[0.7,\"#b8e186\"],[0.8,\"#7fbc41\"],[0.9,\"#4d9221\"],[1,\"#276419\"]],\"sequential\":[[0.0,\"#0d0887\"],[0.1111111111111111,\"#46039f\"],[0.2222222222222222,\"#7201a8\"],[0.3333333333333333,\"#9c179e\"],[0.4444444444444444,\"#bd3786\"],[0.5555555555555556,\"#d8576b\"],[0.6666666666666666,\"#ed7953\"],[0.7777777777777778,\"#fb9f3a\"],[0.8888888888888888,\"#fdca26\"],[1.0,\"#f0f921\"]],\"sequentialminus\":[[0.0,\"#0d0887\"],[0.1111111111111111,\"#46039f\"],[0.2222222222222222,\"#7201a8\"],[0.3333333333333333,\"#9c179e\"],[0.4444444444444444,\"#bd3786\"],[0.5555555555555556,\"#d8576b\"],[0.6666666666666666,\"#ed7953\"],[0.7777777777777778,\"#fb9f3a\"],[0.8888888888888888,\"#fdca26\"],[1.0,\"#f0f921\"]]},\"colorway\":[\"#636efa\",\"#EF553B\",\"#00cc96\",\"#ab63fa\",\"#FFA15A\",\"#19d3f3\",\"#FF6692\",\"#B6E880\",\"#FF97FF\",\"#FECB52\"],\"font\":{\"color\":\"#2a3f5f\"},\"geo\":{\"bgcolor\":\"white\",\"lakecolor\":\"white\",\"landcolor\":\"#E5ECF6\",\"showlakes\":true,\"showland\":true,\"subunitcolor\":\"white\"},\"hoverlabel\":{\"align\":\"left\"},\"hovermode\":\"closest\",\"mapbox\":{\"style\":\"light\"},\"paper_bgcolor\":\"white\",\"plot_bgcolor\":\"#E5ECF6\",\"polar\":{\"angularaxis\":{\"gridcolor\":\"white\",\"linecolor\":\"white\",\"ticks\":\"\"},\"bgcolor\":\"#E5ECF6\",\"radialaxis\":{\"gridcolor\":\"white\",\"linecolor\":\"white\",\"ticks\":\"\"}},\"scene\":{\"xaxis\":{\"backgroundcolor\":\"#E5ECF6\",\"gridcolor\":\"white\",\"gridwidth\":2,\"linecolor\":\"white\",\"showbackground\":true,\"ticks\":\"\",\"zerolinecolor\":\"white\"},\"yaxis\":{\"backgroundcolor\":\"#E5ECF6\",\"gridcolor\":\"white\",\"gridwidth\":2,\"linecolor\":\"white\",\"showbackground\":true,\"ticks\":\"\",\"zerolinecolor\":\"white\"},\"zaxis\":{\"backgroundcolor\":\"#E5ECF6\",\"gridcolor\":\"white\",\"gridwidth\":2,\"linecolor\":\"white\",\"showbackground\":true,\"ticks\":\"\",\"zerolinecolor\":\"white\"}},\"shapedefaults\":{\"line\":{\"color\":\"#2a3f5f\"}},\"ternary\":{\"aaxis\":{\"gridcolor\":\"white\",\"linecolor\":\"white\",\"ticks\":\"\"},\"baxis\":{\"gridcolor\":\"white\",\"linecolor\":\"white\",\"ticks\":\"\"},\"bgcolor\":\"#E5ECF6\",\"caxis\":{\"gridcolor\":\"white\",\"linecolor\":\"white\",\"ticks\":\"\"}},\"title\":{\"x\":0.05},\"xaxis\":{\"automargin\":true,\"gridcolor\":\"white\",\"linecolor\":\"white\",\"ticks\":\"\",\"title\":{\"standoff\":15},\"zerolinecolor\":\"white\",\"zerolinewidth\":2},\"yaxis\":{\"automargin\":true,\"gridcolor\":\"white\",\"linecolor\":\"white\",\"ticks\":\"\",\"title\":{\"standoff\":15},\"zerolinecolor\":\"white\",\"zerolinewidth\":2}}}},                        {\"responsive\": true}                    ).then(function(){\n",
       "                            \n",
       "var gd = document.getElementById('ab72b3c7-e997-48a1-9141-e14f8573b219');\n",
       "var x = new MutationObserver(function (mutations, observer) {{\n",
       "        var display = window.getComputedStyle(gd).display;\n",
       "        if (!display || display === 'none') {{\n",
       "            console.log([gd, 'removed!']);\n",
       "            Plotly.purge(gd);\n",
       "            observer.disconnect();\n",
       "        }}\n",
       "}});\n",
       "\n",
       "// Listen for the removal of the full notebook cells\n",
       "var notebookContainer = gd.closest('#notebook-container');\n",
       "if (notebookContainer) {{\n",
       "    x.observe(notebookContainer, {childList: true});\n",
       "}}\n",
       "\n",
       "// Listen for the clearing of the current output cell\n",
       "var outputEl = gd.closest('.output');\n",
       "if (outputEl) {{\n",
       "    x.observe(outputEl, {childList: true});\n",
       "}}\n",
       "\n",
       "                        })                };                });            </script>        </div>"
      ]
     },
     "metadata": {},
     "output_type": "display_data"
    }
   ],
   "source": [
    "fig = px.treemap(df, \n",
    "                 path=['university', 'school'], \n",
    "                 values='basic_monthly_mean',\n",
    "                 color='basic_monthly_mean'\n",
    "                )\n",
    "fig.show()"
   ]
  },
  {
   "cell_type": "code",
   "execution_count": 10,
   "metadata": {},
   "outputs": [],
   "source": [
    "df['employment_rate_overall_pct'] = (pd.to_numeric(df['employment_rate_overall'].str[:-1])\n",
    "                            .div(100)\n",
    "                            .mask(df['employment_rate_overall'] == '%', 0))"
   ]
  },
  {
   "cell_type": "code",
   "execution_count": 11,
   "metadata": {},
   "outputs": [
    {
     "data": {
      "application/vnd.plotly.v1+json": {
       "config": {
        "plotlyServerURL": "https://plot.ly"
       },
       "data": [
        {
         "branchvalues": "total",
         "customdata": [
          [
           0.9351855641261343
          ],
          [
           0.8770660620394684
          ],
          [
           0.8420645398189947
          ],
          [
           0.91954734877935
          ],
          [
           0.8329557216791258
          ],
          [
           0.8740795997986408
          ],
          [
           0.10000000000000002
          ],
          [
           0.872905874921036
          ],
          [
           0.8644765898361565
          ],
          [
           0.5499999999999999
          ],
          [
           0.8882260645067453
          ],
          [
           0.9628150713395205
          ],
          [
           0.8723382231971484
          ],
          [
           0.8499999999999999
          ],
          [
           0.7746753246753245
          ],
          [
           0.9011336886520096
          ],
          [
           0.8604651162790697
          ],
          [
           0.9251739257222603
          ],
          [
           1
          ],
          [
           0.1
          ],
          [
           0.8788651877133106
          ],
          [
           0.9269030093093744
          ],
          [
           0.9570000000000001
          ],
          [
           0.9520000000000001
          ],
          [
           0.9370293328563765
          ],
          [
           0.9955610246107484
          ],
          [
           0.9500000000000001
          ],
          [
           0.09
          ],
          [
           0.7941884816753927
          ],
          [
           0.9076051779935276
          ],
          [
           0.869047619047619
          ],
          [
           0.9476046548323472
          ],
          [
           0.9294965972697617
          ],
          [
           0.8976163168525509
          ],
          [
           0.9152819182466179
          ],
          [
           0.9028935605719939
          ],
          [
           0.9062023780034681
          ],
          [
           0.9267985765734863
          ],
          [
           0.9316712235133291
          ],
          [
           0.8881939550606478
          ],
          [
           0.94
          ],
          [
           0.9249176976072302
          ],
          [
           0.10000000000000002
          ],
          [
           0.10000000000000002
          ],
          [
           0.7868936877076411
          ],
          [
           0.8314840989399295
          ],
          [
           0.8662946428571429
          ],
          [
           0.8839204545454544
          ],
          [
           0.10000000000000002
          ],
          [
           0.7355555555555555
          ],
          [
           0.8633397870280736
          ],
          [
           0.8751002865329512
          ],
          [
           0.9631428571428572
          ],
          [
           0.8850282485875706
          ],
          [
           0.8516216216216216
          ],
          [
           0.7747956403269757
          ],
          [
           0.7299999999999999
          ],
          [
           0.782017152658662
          ],
          [
           0.9156204259967231
          ],
          [
           0.8984549356223177
          ],
          [
           0.9525272766672085
          ],
          [
           0.8007428571428571
          ],
          [
           0.8765527112690276
          ],
          [
           0.8629792021689606
          ],
          [
           0.8906444985331731
          ],
          [
           0.8778787667611861
          ],
          [
           0.9214938164191162
          ],
          [
           0.9060678495564163
          ],
          [
           0.8765527112690276
          ]
         ],
         "domain": {
          "x": [
           0,
           1
          ],
          "y": [
           0,
           1
          ]
         },
         "hovertemplate": "labels=%{label}<br>employment_rate_overall_pct_sum=%{value}<br>parent=%{parent}<br>id=%{id}<br>employment_rate_overall_pct=%{color}<extra></extra>",
         "ids": [
          "Nanyang Technological University/College of Business (Nanyang Business School)",
          "Nanyang Technological University/College of Engineering",
          "Nanyang Technological University/College of Humanities Arts Social Sciences",
          "Nanyang Technological University/College of Science",
          "Nanyang Technological University/College of Sciences",
          "Singapore Institute of Technology/DigiPen Institute of Technology",
          "National University of Singapore/Faculty Of Dentistry",
          "National University of Singapore/Faculty Of Engineering",
          "National University of Singapore/Faculty of Arts Social Sciences",
          "National University of Singapore/Faculty of Dentistry",
          "National University of Singapore/Faculty of Engineering",
          "National University of Singapore/Faculty of Law",
          "National University of Singapore/Faculty of Science",
          "Nanyang Technological University/Lee Kong Chian School of Medicine",
          "National University of Singapore/MultiDisciplinary Programme",
          "National University of Singapore/MultiDisciplinary Programmes",
          "National University of Singapore/Multidisciplinary Programmes",
          "National University of Singapore/NUS Business School",
          "Nanyang Technological University/National Institure of Education (NIE)",
          "Nanyang Technological University/National Institute of Education (NIE)",
          "Singapore Institute of Technology/Newcastle University",
          "Singapore University of Social Sciences/S R Nathan School of Human Development",
          "Singapore Institute of Technology/SIT DigiPen Institute of Technology",
          "Singapore Institute of Technology/SIT Massey University",
          "Singapore Institute of Technology/SIT Newcastle University",
          "Singapore Institute of Technology/SIT and SITTrinity College Dublin and Trinity College Dublin",
          "Singapore Institute of Technology/SITDigiPen Institute of Technology",
          "Singapore Institute of Technology/SITMassey University",
          "Singapore Institute of Technology/SITNewcastle University",
          "Singapore Institute of Technology/SITTrinity College Dublin and Trinity College Dublin",
          "Singapore Institute of Technology/SITUniversity of Glasgow",
          "Singapore Management University/School of Accountancy",
          "Singapore Management University/School of Business",
          "Singapore University of Social Sciences/School of Business",
          "National University of Singapore/School of Computing",
          "National University of Singapore/School of Design and Environment",
          "Singapore Management University/School of Economics",
          "Singapore Management University/School of Information Systems",
          "Singapore Management University/School of Law",
          "Singapore Management University/School of Social Sciences",
          "Singapore Institute of Technology/Singapore Institute of Technology",
          "Singapore Institute of Technology/Singapore Institute of Technology (SIT)",
          "Singapore Institute of Technology/Singapore Institute of Technology Trinity College Dublin",
          "Singapore Institute of Technology/Singapore Institute of Technology Trinity College Dublin and Trinity College Dublin",
          "Nanyang Technological University/Sports Science and Management",
          "Singapore Institute of Technology/Technische Universitt Mnchen",
          "Singapore Institute of Technology/The Culinary Institute of America",
          "Singapore Institute of Technology/The Glasgow School of Art",
          "Singapore Institute of Technology/Trinity College Dublin",
          "Singapore Institute of Technology/Trinity College Dublin and Singapore Institute of TechnologyTrinity College Dublin",
          "Singapore Institute of Technology/University of Glasgow",
          "Singapore Institute of Technology/University of Liverpool",
          "Singapore Institute of Technology/University of Manchester",
          "Singapore Institute of Technology/University of Nevada Las Vegas",
          "Singapore Institute of Technology/Wheelock College",
          "National University of Singapore/YLL School of Medicine",
          "National University of Singapore/YST Conservatory Of Music",
          "National University of Singapore/YST Conservatory of Music",
          "National University of Singapore/YaleNUS Collece)",
          "National University of Singapore/YaleNUS College",
          "National University of Singapore/Yong Loo Lin School (Medicine)",
          "National University of Singapore/Yong Siew Toh Conservatory of Music",
          "Singapore University of Technology and Design/na",
          "Nanyang Technological University",
          "National University of Singapore",
          "Singapore Institute of Technology",
          "Singapore Management University",
          "Singapore University of Social Sciences",
          "Singapore University of Technology and Design"
         ],
         "labels": [
          "College of Business (Nanyang Business School)",
          "College of Engineering",
          "College of Humanities Arts Social Sciences",
          "College of Science",
          "College of Sciences",
          "DigiPen Institute of Technology",
          "Faculty Of Dentistry",
          "Faculty Of Engineering",
          "Faculty of Arts Social Sciences",
          "Faculty of Dentistry",
          "Faculty of Engineering",
          "Faculty of Law",
          "Faculty of Science",
          "Lee Kong Chian School of Medicine",
          "MultiDisciplinary Programme",
          "MultiDisciplinary Programmes",
          "Multidisciplinary Programmes",
          "NUS Business School",
          "National Institure of Education (NIE)",
          "National Institute of Education (NIE)",
          "Newcastle University",
          "S R Nathan School of Human Development",
          "SIT DigiPen Institute of Technology",
          "SIT Massey University",
          "SIT Newcastle University",
          "SIT and SITTrinity College Dublin and Trinity College Dublin",
          "SITDigiPen Institute of Technology",
          "SITMassey University",
          "SITNewcastle University",
          "SITTrinity College Dublin and Trinity College Dublin",
          "SITUniversity of Glasgow",
          "School of Accountancy",
          "School of Business",
          "School of Business",
          "School of Computing",
          "School of Design and Environment",
          "School of Economics",
          "School of Information Systems",
          "School of Law",
          "School of Social Sciences",
          "Singapore Institute of Technology",
          "Singapore Institute of Technology (SIT)",
          "Singapore Institute of Technology Trinity College Dublin",
          "Singapore Institute of Technology Trinity College Dublin and Trinity College Dublin",
          "Sports Science and Management",
          "Technische Universitt Mnchen",
          "The Culinary Institute of America",
          "The Glasgow School of Art",
          "Trinity College Dublin",
          "Trinity College Dublin and Singapore Institute of TechnologyTrinity College Dublin",
          "University of Glasgow",
          "University of Liverpool",
          "University of Manchester",
          "University of Nevada Las Vegas",
          "Wheelock College",
          "YLL School of Medicine",
          "YST Conservatory Of Music",
          "YST Conservatory of Music",
          "YaleNUS Collece)",
          "YaleNUS College",
          "Yong Loo Lin School (Medicine)",
          "Yong Siew Toh Conservatory of Music",
          "na",
          "Nanyang Technological University",
          "National University of Singapore",
          "Singapore Institute of Technology",
          "Singapore Management University",
          "Singapore University of Social Sciences",
          "Singapore University of Technology and Design"
         ],
         "marker": {
          "coloraxis": "coloraxis",
          "colors": [
           0.9351855641261343,
           0.8770660620394684,
           0.8420645398189947,
           0.91954734877935,
           0.8329557216791258,
           0.8740795997986408,
           0.10000000000000002,
           0.872905874921036,
           0.8644765898361565,
           0.5499999999999999,
           0.8882260645067453,
           0.9628150713395205,
           0.8723382231971484,
           0.8499999999999999,
           0.7746753246753245,
           0.9011336886520096,
           0.8604651162790697,
           0.9251739257222603,
           1,
           0.1,
           0.8788651877133106,
           0.9269030093093744,
           0.9570000000000001,
           0.9520000000000001,
           0.9370293328563765,
           0.9955610246107484,
           0.9500000000000001,
           0.09,
           0.7941884816753927,
           0.9076051779935276,
           0.869047619047619,
           0.9476046548323472,
           0.9294965972697617,
           0.8976163168525509,
           0.9152819182466179,
           0.9028935605719939,
           0.9062023780034681,
           0.9267985765734863,
           0.9316712235133291,
           0.8881939550606478,
           0.94,
           0.9249176976072302,
           0.10000000000000002,
           0.10000000000000002,
           0.7868936877076411,
           0.8314840989399295,
           0.8662946428571429,
           0.8839204545454544,
           0.10000000000000002,
           0.7355555555555555,
           0.8633397870280736,
           0.8751002865329512,
           0.9631428571428572,
           0.8850282485875706,
           0.8516216216216216,
           0.7747956403269757,
           0.7299999999999999,
           0.782017152658662,
           0.9156204259967231,
           0.8984549356223177,
           0.9525272766672085,
           0.8007428571428571,
           0.8765527112690276,
           0.8629792021689606,
           0.8906444985331731,
           0.8778787667611861,
           0.9214938164191162,
           0.9060678495564163,
           0.8765527112690276
          ]
         },
         "name": "",
         "parents": [
          "Nanyang Technological University",
          "Nanyang Technological University",
          "Nanyang Technological University",
          "Nanyang Technological University",
          "Nanyang Technological University",
          "Singapore Institute of Technology",
          "National University of Singapore",
          "National University of Singapore",
          "National University of Singapore",
          "National University of Singapore",
          "National University of Singapore",
          "National University of Singapore",
          "National University of Singapore",
          "Nanyang Technological University",
          "National University of Singapore",
          "National University of Singapore",
          "National University of Singapore",
          "National University of Singapore",
          "Nanyang Technological University",
          "Nanyang Technological University",
          "Singapore Institute of Technology",
          "Singapore University of Social Sciences",
          "Singapore Institute of Technology",
          "Singapore Institute of Technology",
          "Singapore Institute of Technology",
          "Singapore Institute of Technology",
          "Singapore Institute of Technology",
          "Singapore Institute of Technology",
          "Singapore Institute of Technology",
          "Singapore Institute of Technology",
          "Singapore Institute of Technology",
          "Singapore Management University",
          "Singapore Management University",
          "Singapore University of Social Sciences",
          "National University of Singapore",
          "National University of Singapore",
          "Singapore Management University",
          "Singapore Management University",
          "Singapore Management University",
          "Singapore Management University",
          "Singapore Institute of Technology",
          "Singapore Institute of Technology",
          "Singapore Institute of Technology",
          "Singapore Institute of Technology",
          "Nanyang Technological University",
          "Singapore Institute of Technology",
          "Singapore Institute of Technology",
          "Singapore Institute of Technology",
          "Singapore Institute of Technology",
          "Singapore Institute of Technology",
          "Singapore Institute of Technology",
          "Singapore Institute of Technology",
          "Singapore Institute of Technology",
          "Singapore Institute of Technology",
          "Singapore Institute of Technology",
          "National University of Singapore",
          "National University of Singapore",
          "National University of Singapore",
          "National University of Singapore",
          "National University of Singapore",
          "National University of Singapore",
          "National University of Singapore",
          "Singapore University of Technology and Design",
          "",
          "",
          "",
          "",
          "",
          ""
         ],
         "type": "treemap",
         "values": [
          50.04200000000001,
          161.09099999999992,
          92.59399999999997,
          6.431000000000001,
          69.56,
          31.784000000000002,
          0.4,
          31.66,
          36.010000000000005,
          2.000000000000001,
          82.503,
          14.437999999999999,
          43.764,
          1.2000000000000002,
          3.08,
          9.006,
          3.44,
          48.00900000000001,
          2,
          2.800000000000001,
          46.879999999999995,
          4.619,
          0.9570000000000001,
          0.9520000000000001,
          5.590999999999999,
          3.982,
          1.9,
          0.18,
          3.8200000000000003,
          6.18,
          2.1,
          25.350000000000005,
          24.832999999999995,
          11.387000000000002,
          41.246,
          44.47599999999999,
          24.222000000000005,
          23.324,
          21.944999999999997,
          25.14500000000001,
          3.76,
          26.99800000000001,
          0.2,
          0.4,
          4.515000000000001,
          16.98,
          8.96,
          21.120000000000008,
          0.7999999999999999,
          2.16,
          41.320000000000014,
          6.9799999999999995,
          7.700000000000001,
          3.54,
          4.4399999999999995,
          7.339999999999998,
          1.46,
          2.332,
          1.831,
          9.319999999999999,
          18.459,
          3.5,
          24.767,
          390.2329999999997,
          404.27400000000046,
          249.6839999999998,
          144.81899999999993,
          16.006,
          24.767
         ]
        }
       ],
       "layout": {
        "coloraxis": {
         "colorbar": {
          "title": {
           "text": "employment_rate_overall_pct"
          }
         },
         "colorscale": [
          [
           0,
           "#0d0887"
          ],
          [
           0.1111111111111111,
           "#46039f"
          ],
          [
           0.2222222222222222,
           "#7201a8"
          ],
          [
           0.3333333333333333,
           "#9c179e"
          ],
          [
           0.4444444444444444,
           "#bd3786"
          ],
          [
           0.5555555555555556,
           "#d8576b"
          ],
          [
           0.6666666666666666,
           "#ed7953"
          ],
          [
           0.7777777777777778,
           "#fb9f3a"
          ],
          [
           0.8888888888888888,
           "#fdca26"
          ],
          [
           1,
           "#f0f921"
          ]
         ]
        },
        "legend": {
         "tracegroupgap": 0
        },
        "margin": {
         "t": 60
        },
        "template": {
         "data": {
          "bar": [
           {
            "error_x": {
             "color": "#2a3f5f"
            },
            "error_y": {
             "color": "#2a3f5f"
            },
            "marker": {
             "line": {
              "color": "#E5ECF6",
              "width": 0.5
             },
             "pattern": {
              "fillmode": "overlay",
              "size": 10,
              "solidity": 0.2
             }
            },
            "type": "bar"
           }
          ],
          "barpolar": [
           {
            "marker": {
             "line": {
              "color": "#E5ECF6",
              "width": 0.5
             },
             "pattern": {
              "fillmode": "overlay",
              "size": 10,
              "solidity": 0.2
             }
            },
            "type": "barpolar"
           }
          ],
          "carpet": [
           {
            "aaxis": {
             "endlinecolor": "#2a3f5f",
             "gridcolor": "white",
             "linecolor": "white",
             "minorgridcolor": "white",
             "startlinecolor": "#2a3f5f"
            },
            "baxis": {
             "endlinecolor": "#2a3f5f",
             "gridcolor": "white",
             "linecolor": "white",
             "minorgridcolor": "white",
             "startlinecolor": "#2a3f5f"
            },
            "type": "carpet"
           }
          ],
          "choropleth": [
           {
            "colorbar": {
             "outlinewidth": 0,
             "ticks": ""
            },
            "type": "choropleth"
           }
          ],
          "contour": [
           {
            "colorbar": {
             "outlinewidth": 0,
             "ticks": ""
            },
            "colorscale": [
             [
              0,
              "#0d0887"
             ],
             [
              0.1111111111111111,
              "#46039f"
             ],
             [
              0.2222222222222222,
              "#7201a8"
             ],
             [
              0.3333333333333333,
              "#9c179e"
             ],
             [
              0.4444444444444444,
              "#bd3786"
             ],
             [
              0.5555555555555556,
              "#d8576b"
             ],
             [
              0.6666666666666666,
              "#ed7953"
             ],
             [
              0.7777777777777778,
              "#fb9f3a"
             ],
             [
              0.8888888888888888,
              "#fdca26"
             ],
             [
              1,
              "#f0f921"
             ]
            ],
            "type": "contour"
           }
          ],
          "contourcarpet": [
           {
            "colorbar": {
             "outlinewidth": 0,
             "ticks": ""
            },
            "type": "contourcarpet"
           }
          ],
          "heatmap": [
           {
            "colorbar": {
             "outlinewidth": 0,
             "ticks": ""
            },
            "colorscale": [
             [
              0,
              "#0d0887"
             ],
             [
              0.1111111111111111,
              "#46039f"
             ],
             [
              0.2222222222222222,
              "#7201a8"
             ],
             [
              0.3333333333333333,
              "#9c179e"
             ],
             [
              0.4444444444444444,
              "#bd3786"
             ],
             [
              0.5555555555555556,
              "#d8576b"
             ],
             [
              0.6666666666666666,
              "#ed7953"
             ],
             [
              0.7777777777777778,
              "#fb9f3a"
             ],
             [
              0.8888888888888888,
              "#fdca26"
             ],
             [
              1,
              "#f0f921"
             ]
            ],
            "type": "heatmap"
           }
          ],
          "heatmapgl": [
           {
            "colorbar": {
             "outlinewidth": 0,
             "ticks": ""
            },
            "colorscale": [
             [
              0,
              "#0d0887"
             ],
             [
              0.1111111111111111,
              "#46039f"
             ],
             [
              0.2222222222222222,
              "#7201a8"
             ],
             [
              0.3333333333333333,
              "#9c179e"
             ],
             [
              0.4444444444444444,
              "#bd3786"
             ],
             [
              0.5555555555555556,
              "#d8576b"
             ],
             [
              0.6666666666666666,
              "#ed7953"
             ],
             [
              0.7777777777777778,
              "#fb9f3a"
             ],
             [
              0.8888888888888888,
              "#fdca26"
             ],
             [
              1,
              "#f0f921"
             ]
            ],
            "type": "heatmapgl"
           }
          ],
          "histogram": [
           {
            "marker": {
             "pattern": {
              "fillmode": "overlay",
              "size": 10,
              "solidity": 0.2
             }
            },
            "type": "histogram"
           }
          ],
          "histogram2d": [
           {
            "colorbar": {
             "outlinewidth": 0,
             "ticks": ""
            },
            "colorscale": [
             [
              0,
              "#0d0887"
             ],
             [
              0.1111111111111111,
              "#46039f"
             ],
             [
              0.2222222222222222,
              "#7201a8"
             ],
             [
              0.3333333333333333,
              "#9c179e"
             ],
             [
              0.4444444444444444,
              "#bd3786"
             ],
             [
              0.5555555555555556,
              "#d8576b"
             ],
             [
              0.6666666666666666,
              "#ed7953"
             ],
             [
              0.7777777777777778,
              "#fb9f3a"
             ],
             [
              0.8888888888888888,
              "#fdca26"
             ],
             [
              1,
              "#f0f921"
             ]
            ],
            "type": "histogram2d"
           }
          ],
          "histogram2dcontour": [
           {
            "colorbar": {
             "outlinewidth": 0,
             "ticks": ""
            },
            "colorscale": [
             [
              0,
              "#0d0887"
             ],
             [
              0.1111111111111111,
              "#46039f"
             ],
             [
              0.2222222222222222,
              "#7201a8"
             ],
             [
              0.3333333333333333,
              "#9c179e"
             ],
             [
              0.4444444444444444,
              "#bd3786"
             ],
             [
              0.5555555555555556,
              "#d8576b"
             ],
             [
              0.6666666666666666,
              "#ed7953"
             ],
             [
              0.7777777777777778,
              "#fb9f3a"
             ],
             [
              0.8888888888888888,
              "#fdca26"
             ],
             [
              1,
              "#f0f921"
             ]
            ],
            "type": "histogram2dcontour"
           }
          ],
          "mesh3d": [
           {
            "colorbar": {
             "outlinewidth": 0,
             "ticks": ""
            },
            "type": "mesh3d"
           }
          ],
          "parcoords": [
           {
            "line": {
             "colorbar": {
              "outlinewidth": 0,
              "ticks": ""
             }
            },
            "type": "parcoords"
           }
          ],
          "pie": [
           {
            "automargin": true,
            "type": "pie"
           }
          ],
          "scatter": [
           {
            "marker": {
             "colorbar": {
              "outlinewidth": 0,
              "ticks": ""
             }
            },
            "type": "scatter"
           }
          ],
          "scatter3d": [
           {
            "line": {
             "colorbar": {
              "outlinewidth": 0,
              "ticks": ""
             }
            },
            "marker": {
             "colorbar": {
              "outlinewidth": 0,
              "ticks": ""
             }
            },
            "type": "scatter3d"
           }
          ],
          "scattercarpet": [
           {
            "marker": {
             "colorbar": {
              "outlinewidth": 0,
              "ticks": ""
             }
            },
            "type": "scattercarpet"
           }
          ],
          "scattergeo": [
           {
            "marker": {
             "colorbar": {
              "outlinewidth": 0,
              "ticks": ""
             }
            },
            "type": "scattergeo"
           }
          ],
          "scattergl": [
           {
            "marker": {
             "colorbar": {
              "outlinewidth": 0,
              "ticks": ""
             }
            },
            "type": "scattergl"
           }
          ],
          "scattermapbox": [
           {
            "marker": {
             "colorbar": {
              "outlinewidth": 0,
              "ticks": ""
             }
            },
            "type": "scattermapbox"
           }
          ],
          "scatterpolar": [
           {
            "marker": {
             "colorbar": {
              "outlinewidth": 0,
              "ticks": ""
             }
            },
            "type": "scatterpolar"
           }
          ],
          "scatterpolargl": [
           {
            "marker": {
             "colorbar": {
              "outlinewidth": 0,
              "ticks": ""
             }
            },
            "type": "scatterpolargl"
           }
          ],
          "scatterternary": [
           {
            "marker": {
             "colorbar": {
              "outlinewidth": 0,
              "ticks": ""
             }
            },
            "type": "scatterternary"
           }
          ],
          "surface": [
           {
            "colorbar": {
             "outlinewidth": 0,
             "ticks": ""
            },
            "colorscale": [
             [
              0,
              "#0d0887"
             ],
             [
              0.1111111111111111,
              "#46039f"
             ],
             [
              0.2222222222222222,
              "#7201a8"
             ],
             [
              0.3333333333333333,
              "#9c179e"
             ],
             [
              0.4444444444444444,
              "#bd3786"
             ],
             [
              0.5555555555555556,
              "#d8576b"
             ],
             [
              0.6666666666666666,
              "#ed7953"
             ],
             [
              0.7777777777777778,
              "#fb9f3a"
             ],
             [
              0.8888888888888888,
              "#fdca26"
             ],
             [
              1,
              "#f0f921"
             ]
            ],
            "type": "surface"
           }
          ],
          "table": [
           {
            "cells": {
             "fill": {
              "color": "#EBF0F8"
             },
             "line": {
              "color": "white"
             }
            },
            "header": {
             "fill": {
              "color": "#C8D4E3"
             },
             "line": {
              "color": "white"
             }
            },
            "type": "table"
           }
          ]
         },
         "layout": {
          "annotationdefaults": {
           "arrowcolor": "#2a3f5f",
           "arrowhead": 0,
           "arrowwidth": 1
          },
          "autotypenumbers": "strict",
          "coloraxis": {
           "colorbar": {
            "outlinewidth": 0,
            "ticks": ""
           }
          },
          "colorscale": {
           "diverging": [
            [
             0,
             "#8e0152"
            ],
            [
             0.1,
             "#c51b7d"
            ],
            [
             0.2,
             "#de77ae"
            ],
            [
             0.3,
             "#f1b6da"
            ],
            [
             0.4,
             "#fde0ef"
            ],
            [
             0.5,
             "#f7f7f7"
            ],
            [
             0.6,
             "#e6f5d0"
            ],
            [
             0.7,
             "#b8e186"
            ],
            [
             0.8,
             "#7fbc41"
            ],
            [
             0.9,
             "#4d9221"
            ],
            [
             1,
             "#276419"
            ]
           ],
           "sequential": [
            [
             0,
             "#0d0887"
            ],
            [
             0.1111111111111111,
             "#46039f"
            ],
            [
             0.2222222222222222,
             "#7201a8"
            ],
            [
             0.3333333333333333,
             "#9c179e"
            ],
            [
             0.4444444444444444,
             "#bd3786"
            ],
            [
             0.5555555555555556,
             "#d8576b"
            ],
            [
             0.6666666666666666,
             "#ed7953"
            ],
            [
             0.7777777777777778,
             "#fb9f3a"
            ],
            [
             0.8888888888888888,
             "#fdca26"
            ],
            [
             1,
             "#f0f921"
            ]
           ],
           "sequentialminus": [
            [
             0,
             "#0d0887"
            ],
            [
             0.1111111111111111,
             "#46039f"
            ],
            [
             0.2222222222222222,
             "#7201a8"
            ],
            [
             0.3333333333333333,
             "#9c179e"
            ],
            [
             0.4444444444444444,
             "#bd3786"
            ],
            [
             0.5555555555555556,
             "#d8576b"
            ],
            [
             0.6666666666666666,
             "#ed7953"
            ],
            [
             0.7777777777777778,
             "#fb9f3a"
            ],
            [
             0.8888888888888888,
             "#fdca26"
            ],
            [
             1,
             "#f0f921"
            ]
           ]
          },
          "colorway": [
           "#636efa",
           "#EF553B",
           "#00cc96",
           "#ab63fa",
           "#FFA15A",
           "#19d3f3",
           "#FF6692",
           "#B6E880",
           "#FF97FF",
           "#FECB52"
          ],
          "font": {
           "color": "#2a3f5f"
          },
          "geo": {
           "bgcolor": "white",
           "lakecolor": "white",
           "landcolor": "#E5ECF6",
           "showlakes": true,
           "showland": true,
           "subunitcolor": "white"
          },
          "hoverlabel": {
           "align": "left"
          },
          "hovermode": "closest",
          "mapbox": {
           "style": "light"
          },
          "paper_bgcolor": "white",
          "plot_bgcolor": "#E5ECF6",
          "polar": {
           "angularaxis": {
            "gridcolor": "white",
            "linecolor": "white",
            "ticks": ""
           },
           "bgcolor": "#E5ECF6",
           "radialaxis": {
            "gridcolor": "white",
            "linecolor": "white",
            "ticks": ""
           }
          },
          "scene": {
           "xaxis": {
            "backgroundcolor": "#E5ECF6",
            "gridcolor": "white",
            "gridwidth": 2,
            "linecolor": "white",
            "showbackground": true,
            "ticks": "",
            "zerolinecolor": "white"
           },
           "yaxis": {
            "backgroundcolor": "#E5ECF6",
            "gridcolor": "white",
            "gridwidth": 2,
            "linecolor": "white",
            "showbackground": true,
            "ticks": "",
            "zerolinecolor": "white"
           },
           "zaxis": {
            "backgroundcolor": "#E5ECF6",
            "gridcolor": "white",
            "gridwidth": 2,
            "linecolor": "white",
            "showbackground": true,
            "ticks": "",
            "zerolinecolor": "white"
           }
          },
          "shapedefaults": {
           "line": {
            "color": "#2a3f5f"
           }
          },
          "ternary": {
           "aaxis": {
            "gridcolor": "white",
            "linecolor": "white",
            "ticks": ""
           },
           "baxis": {
            "gridcolor": "white",
            "linecolor": "white",
            "ticks": ""
           },
           "bgcolor": "#E5ECF6",
           "caxis": {
            "gridcolor": "white",
            "linecolor": "white",
            "ticks": ""
           }
          },
          "title": {
           "x": 0.05
          },
          "xaxis": {
           "automargin": true,
           "gridcolor": "white",
           "linecolor": "white",
           "ticks": "",
           "title": {
            "standoff": 15
           },
           "zerolinecolor": "white",
           "zerolinewidth": 2
          },
          "yaxis": {
           "automargin": true,
           "gridcolor": "white",
           "linecolor": "white",
           "ticks": "",
           "title": {
            "standoff": 15
           },
           "zerolinecolor": "white",
           "zerolinewidth": 2
          }
         }
        }
       }
      },
      "text/html": [
       "<div>                            <div id=\"facbb924-02b0-45f7-affa-ef52f26ce15f\" class=\"plotly-graph-div\" style=\"height:525px; width:100%;\"></div>            <script type=\"text/javascript\">                require([\"plotly\"], function(Plotly) {                    window.PLOTLYENV=window.PLOTLYENV || {};                                    if (document.getElementById(\"facbb924-02b0-45f7-affa-ef52f26ce15f\")) {                    Plotly.newPlot(                        \"facbb924-02b0-45f7-affa-ef52f26ce15f\",                        [{\"branchvalues\":\"total\",\"customdata\":[[0.9351855641261343],[0.8770660620394684],[0.8420645398189947],[0.91954734877935],[0.8329557216791258],[0.8740795997986408],[0.10000000000000002],[0.872905874921036],[0.8644765898361565],[0.5499999999999999],[0.8882260645067453],[0.9628150713395205],[0.8723382231971484],[0.8499999999999999],[0.7746753246753245],[0.9011336886520096],[0.8604651162790697],[0.9251739257222603],[1.0],[0.1],[0.8788651877133106],[0.9269030093093744],[0.9570000000000001],[0.9520000000000001],[0.9370293328563765],[0.9955610246107484],[0.9500000000000001],[0.09],[0.7941884816753927],[0.9076051779935276],[0.869047619047619],[0.9476046548323472],[0.9294965972697617],[0.8976163168525509],[0.9152819182466179],[0.9028935605719939],[0.9062023780034681],[0.9267985765734863],[0.9316712235133291],[0.8881939550606478],[0.94],[0.9249176976072302],[0.10000000000000002],[0.10000000000000002],[0.7868936877076411],[0.8314840989399295],[0.8662946428571429],[0.8839204545454544],[0.10000000000000002],[0.7355555555555555],[0.8633397870280736],[0.8751002865329512],[0.9631428571428572],[0.8850282485875706],[0.8516216216216216],[0.7747956403269757],[0.7299999999999999],[0.782017152658662],[0.9156204259967231],[0.8984549356223177],[0.9525272766672085],[0.8007428571428571],[0.8765527112690276],[0.8629792021689606],[0.8906444985331731],[0.8778787667611861],[0.9214938164191162],[0.9060678495564163],[0.8765527112690276]],\"domain\":{\"x\":[0.0,1.0],\"y\":[0.0,1.0]},\"hovertemplate\":\"labels=%{label}<br>employment_rate_overall_pct_sum=%{value}<br>parent=%{parent}<br>id=%{id}<br>employment_rate_overall_pct=%{color}<extra></extra>\",\"ids\":[\"Nanyang Technological University/College of Business (Nanyang Business School)\",\"Nanyang Technological University/College of Engineering\",\"Nanyang Technological University/College of Humanities Arts Social Sciences\",\"Nanyang Technological University/College of Science\",\"Nanyang Technological University/College of Sciences\",\"Singapore Institute of Technology/DigiPen Institute of Technology\",\"National University of Singapore/Faculty Of Dentistry\",\"National University of Singapore/Faculty Of Engineering\",\"National University of Singapore/Faculty of Arts Social Sciences\",\"National University of Singapore/Faculty of Dentistry\",\"National University of Singapore/Faculty of Engineering\",\"National University of Singapore/Faculty of Law\",\"National University of Singapore/Faculty of Science\",\"Nanyang Technological University/Lee Kong Chian School of Medicine\",\"National University of Singapore/MultiDisciplinary Programme\",\"National University of Singapore/MultiDisciplinary Programmes\",\"National University of Singapore/Multidisciplinary Programmes\",\"National University of Singapore/NUS Business School\",\"Nanyang Technological University/National Institure of Education (NIE)\",\"Nanyang Technological University/National Institute of Education (NIE)\",\"Singapore Institute of Technology/Newcastle University\",\"Singapore University of Social Sciences/S R Nathan School of Human Development\",\"Singapore Institute of Technology/SIT DigiPen Institute of Technology\",\"Singapore Institute of Technology/SIT Massey University\",\"Singapore Institute of Technology/SIT Newcastle University\",\"Singapore Institute of Technology/SIT and SITTrinity College Dublin and Trinity College Dublin\",\"Singapore Institute of Technology/SITDigiPen Institute of Technology\",\"Singapore Institute of Technology/SITMassey University\",\"Singapore Institute of Technology/SITNewcastle University\",\"Singapore Institute of Technology/SITTrinity College Dublin and Trinity College Dublin\",\"Singapore Institute of Technology/SITUniversity of Glasgow\",\"Singapore Management University/School of Accountancy\",\"Singapore Management University/School of Business\",\"Singapore University of Social Sciences/School of Business\",\"National University of Singapore/School of Computing\",\"National University of Singapore/School of Design and Environment\",\"Singapore Management University/School of Economics\",\"Singapore Management University/School of Information Systems\",\"Singapore Management University/School of Law\",\"Singapore Management University/School of Social Sciences\",\"Singapore Institute of Technology/Singapore Institute of Technology\",\"Singapore Institute of Technology/Singapore Institute of Technology (SIT)\",\"Singapore Institute of Technology/Singapore Institute of Technology Trinity College Dublin\",\"Singapore Institute of Technology/Singapore Institute of Technology Trinity College Dublin and Trinity College Dublin\",\"Nanyang Technological University/Sports Science and Management\",\"Singapore Institute of Technology/Technische Universitt Mnchen\",\"Singapore Institute of Technology/The Culinary Institute of America\",\"Singapore Institute of Technology/The Glasgow School of Art\",\"Singapore Institute of Technology/Trinity College Dublin\",\"Singapore Institute of Technology/Trinity College Dublin and Singapore Institute of TechnologyTrinity College Dublin\",\"Singapore Institute of Technology/University of Glasgow\",\"Singapore Institute of Technology/University of Liverpool\",\"Singapore Institute of Technology/University of Manchester\",\"Singapore Institute of Technology/University of Nevada Las Vegas\",\"Singapore Institute of Technology/Wheelock College\",\"National University of Singapore/YLL School of Medicine\",\"National University of Singapore/YST Conservatory Of Music\",\"National University of Singapore/YST Conservatory of Music\",\"National University of Singapore/YaleNUS Collece)\",\"National University of Singapore/YaleNUS College\",\"National University of Singapore/Yong Loo Lin School (Medicine)\",\"National University of Singapore/Yong Siew Toh Conservatory of Music\",\"Singapore University of Technology and Design/na\",\"Nanyang Technological University\",\"National University of Singapore\",\"Singapore Institute of Technology\",\"Singapore Management University\",\"Singapore University of Social Sciences\",\"Singapore University of Technology and Design\"],\"labels\":[\"College of Business (Nanyang Business School)\",\"College of Engineering\",\"College of Humanities Arts Social Sciences\",\"College of Science\",\"College of Sciences\",\"DigiPen Institute of Technology\",\"Faculty Of Dentistry\",\"Faculty Of Engineering\",\"Faculty of Arts Social Sciences\",\"Faculty of Dentistry\",\"Faculty of Engineering\",\"Faculty of Law\",\"Faculty of Science\",\"Lee Kong Chian School of Medicine\",\"MultiDisciplinary Programme\",\"MultiDisciplinary Programmes\",\"Multidisciplinary Programmes\",\"NUS Business School\",\"National Institure of Education (NIE)\",\"National Institute of Education (NIE)\",\"Newcastle University\",\"S R Nathan School of Human Development\",\"SIT DigiPen Institute of Technology\",\"SIT Massey University\",\"SIT Newcastle University\",\"SIT and SITTrinity College Dublin and Trinity College Dublin\",\"SITDigiPen Institute of Technology\",\"SITMassey University\",\"SITNewcastle University\",\"SITTrinity College Dublin and Trinity College Dublin\",\"SITUniversity of Glasgow\",\"School of Accountancy\",\"School of Business\",\"School of Business\",\"School of Computing\",\"School of Design and Environment\",\"School of Economics\",\"School of Information Systems\",\"School of Law\",\"School of Social Sciences\",\"Singapore Institute of Technology\",\"Singapore Institute of Technology (SIT)\",\"Singapore Institute of Technology Trinity College Dublin\",\"Singapore Institute of Technology Trinity College Dublin and Trinity College Dublin\",\"Sports Science and Management\",\"Technische Universitt Mnchen\",\"The Culinary Institute of America\",\"The Glasgow School of Art\",\"Trinity College Dublin\",\"Trinity College Dublin and Singapore Institute of TechnologyTrinity College Dublin\",\"University of Glasgow\",\"University of Liverpool\",\"University of Manchester\",\"University of Nevada Las Vegas\",\"Wheelock College\",\"YLL School of Medicine\",\"YST Conservatory Of Music\",\"YST Conservatory of Music\",\"YaleNUS Collece)\",\"YaleNUS College\",\"Yong Loo Lin School (Medicine)\",\"Yong Siew Toh Conservatory of Music\",\"na\",\"Nanyang Technological University\",\"National University of Singapore\",\"Singapore Institute of Technology\",\"Singapore Management University\",\"Singapore University of Social Sciences\",\"Singapore University of Technology and Design\"],\"marker\":{\"coloraxis\":\"coloraxis\",\"colors\":[0.9351855641261343,0.8770660620394684,0.8420645398189947,0.91954734877935,0.8329557216791258,0.8740795997986408,0.10000000000000002,0.872905874921036,0.8644765898361565,0.5499999999999999,0.8882260645067453,0.9628150713395205,0.8723382231971484,0.8499999999999999,0.7746753246753245,0.9011336886520096,0.8604651162790697,0.9251739257222603,1.0,0.1,0.8788651877133106,0.9269030093093744,0.9570000000000001,0.9520000000000001,0.9370293328563765,0.9955610246107484,0.9500000000000001,0.09,0.7941884816753927,0.9076051779935276,0.869047619047619,0.9476046548323472,0.9294965972697617,0.8976163168525509,0.9152819182466179,0.9028935605719939,0.9062023780034681,0.9267985765734863,0.9316712235133291,0.8881939550606478,0.94,0.9249176976072302,0.10000000000000002,0.10000000000000002,0.7868936877076411,0.8314840989399295,0.8662946428571429,0.8839204545454544,0.10000000000000002,0.7355555555555555,0.8633397870280736,0.8751002865329512,0.9631428571428572,0.8850282485875706,0.8516216216216216,0.7747956403269757,0.7299999999999999,0.782017152658662,0.9156204259967231,0.8984549356223177,0.9525272766672085,0.8007428571428571,0.8765527112690276,0.8629792021689606,0.8906444985331731,0.8778787667611861,0.9214938164191162,0.9060678495564163,0.8765527112690276]},\"name\":\"\",\"parents\":[\"Nanyang Technological University\",\"Nanyang Technological University\",\"Nanyang Technological University\",\"Nanyang Technological University\",\"Nanyang Technological University\",\"Singapore Institute of Technology\",\"National University of Singapore\",\"National University of Singapore\",\"National University of Singapore\",\"National University of Singapore\",\"National University of Singapore\",\"National University of Singapore\",\"National University of Singapore\",\"Nanyang Technological University\",\"National University of Singapore\",\"National University of Singapore\",\"National University of Singapore\",\"National University of Singapore\",\"Nanyang Technological University\",\"Nanyang Technological University\",\"Singapore Institute of Technology\",\"Singapore University of Social Sciences\",\"Singapore Institute of Technology\",\"Singapore Institute of Technology\",\"Singapore Institute of Technology\",\"Singapore Institute of Technology\",\"Singapore Institute of Technology\",\"Singapore Institute of Technology\",\"Singapore Institute of Technology\",\"Singapore Institute of Technology\",\"Singapore Institute of Technology\",\"Singapore Management University\",\"Singapore Management University\",\"Singapore University of Social Sciences\",\"National University of Singapore\",\"National University of Singapore\",\"Singapore Management University\",\"Singapore Management University\",\"Singapore Management University\",\"Singapore Management University\",\"Singapore Institute of Technology\",\"Singapore Institute of Technology\",\"Singapore Institute of Technology\",\"Singapore Institute of Technology\",\"Nanyang Technological University\",\"Singapore Institute of Technology\",\"Singapore Institute of Technology\",\"Singapore Institute of Technology\",\"Singapore Institute of Technology\",\"Singapore Institute of Technology\",\"Singapore Institute of Technology\",\"Singapore Institute of Technology\",\"Singapore Institute of Technology\",\"Singapore Institute of Technology\",\"Singapore Institute of Technology\",\"National University of Singapore\",\"National University of Singapore\",\"National University of Singapore\",\"National University of Singapore\",\"National University of Singapore\",\"National University of Singapore\",\"National University of Singapore\",\"Singapore University of Technology and Design\",\"\",\"\",\"\",\"\",\"\",\"\"],\"type\":\"treemap\",\"values\":[50.04200000000001,161.09099999999992,92.59399999999997,6.431000000000001,69.56,31.784000000000002,0.4,31.66,36.010000000000005,2.000000000000001,82.503,14.437999999999999,43.764,1.2000000000000002,3.08,9.006,3.44,48.00900000000001,2.0,2.800000000000001,46.879999999999995,4.619,0.9570000000000001,0.9520000000000001,5.590999999999999,3.982,1.9,0.18,3.8200000000000003,6.18,2.1,25.350000000000005,24.832999999999995,11.387000000000002,41.246,44.47599999999999,24.222000000000005,23.324,21.944999999999997,25.14500000000001,3.76,26.99800000000001,0.2,0.4,4.515000000000001,16.98,8.96,21.120000000000008,0.7999999999999999,2.16,41.320000000000014,6.9799999999999995,7.700000000000001,3.54,4.4399999999999995,7.339999999999998,1.46,2.332,1.831,9.319999999999999,18.459,3.5,24.767,390.2329999999997,404.27400000000046,249.6839999999998,144.81899999999993,16.006,24.767]}],                        {\"coloraxis\":{\"colorbar\":{\"title\":{\"text\":\"employment_rate_overall_pct\"}},\"colorscale\":[[0.0,\"#0d0887\"],[0.1111111111111111,\"#46039f\"],[0.2222222222222222,\"#7201a8\"],[0.3333333333333333,\"#9c179e\"],[0.4444444444444444,\"#bd3786\"],[0.5555555555555556,\"#d8576b\"],[0.6666666666666666,\"#ed7953\"],[0.7777777777777778,\"#fb9f3a\"],[0.8888888888888888,\"#fdca26\"],[1.0,\"#f0f921\"]]},\"legend\":{\"tracegroupgap\":0},\"margin\":{\"t\":60},\"template\":{\"data\":{\"bar\":[{\"error_x\":{\"color\":\"#2a3f5f\"},\"error_y\":{\"color\":\"#2a3f5f\"},\"marker\":{\"line\":{\"color\":\"#E5ECF6\",\"width\":0.5},\"pattern\":{\"fillmode\":\"overlay\",\"size\":10,\"solidity\":0.2}},\"type\":\"bar\"}],\"barpolar\":[{\"marker\":{\"line\":{\"color\":\"#E5ECF6\",\"width\":0.5},\"pattern\":{\"fillmode\":\"overlay\",\"size\":10,\"solidity\":0.2}},\"type\":\"barpolar\"}],\"carpet\":[{\"aaxis\":{\"endlinecolor\":\"#2a3f5f\",\"gridcolor\":\"white\",\"linecolor\":\"white\",\"minorgridcolor\":\"white\",\"startlinecolor\":\"#2a3f5f\"},\"baxis\":{\"endlinecolor\":\"#2a3f5f\",\"gridcolor\":\"white\",\"linecolor\":\"white\",\"minorgridcolor\":\"white\",\"startlinecolor\":\"#2a3f5f\"},\"type\":\"carpet\"}],\"choropleth\":[{\"colorbar\":{\"outlinewidth\":0,\"ticks\":\"\"},\"type\":\"choropleth\"}],\"contour\":[{\"colorbar\":{\"outlinewidth\":0,\"ticks\":\"\"},\"colorscale\":[[0.0,\"#0d0887\"],[0.1111111111111111,\"#46039f\"],[0.2222222222222222,\"#7201a8\"],[0.3333333333333333,\"#9c179e\"],[0.4444444444444444,\"#bd3786\"],[0.5555555555555556,\"#d8576b\"],[0.6666666666666666,\"#ed7953\"],[0.7777777777777778,\"#fb9f3a\"],[0.8888888888888888,\"#fdca26\"],[1.0,\"#f0f921\"]],\"type\":\"contour\"}],\"contourcarpet\":[{\"colorbar\":{\"outlinewidth\":0,\"ticks\":\"\"},\"type\":\"contourcarpet\"}],\"heatmap\":[{\"colorbar\":{\"outlinewidth\":0,\"ticks\":\"\"},\"colorscale\":[[0.0,\"#0d0887\"],[0.1111111111111111,\"#46039f\"],[0.2222222222222222,\"#7201a8\"],[0.3333333333333333,\"#9c179e\"],[0.4444444444444444,\"#bd3786\"],[0.5555555555555556,\"#d8576b\"],[0.6666666666666666,\"#ed7953\"],[0.7777777777777778,\"#fb9f3a\"],[0.8888888888888888,\"#fdca26\"],[1.0,\"#f0f921\"]],\"type\":\"heatmap\"}],\"heatmapgl\":[{\"colorbar\":{\"outlinewidth\":0,\"ticks\":\"\"},\"colorscale\":[[0.0,\"#0d0887\"],[0.1111111111111111,\"#46039f\"],[0.2222222222222222,\"#7201a8\"],[0.3333333333333333,\"#9c179e\"],[0.4444444444444444,\"#bd3786\"],[0.5555555555555556,\"#d8576b\"],[0.6666666666666666,\"#ed7953\"],[0.7777777777777778,\"#fb9f3a\"],[0.8888888888888888,\"#fdca26\"],[1.0,\"#f0f921\"]],\"type\":\"heatmapgl\"}],\"histogram\":[{\"marker\":{\"pattern\":{\"fillmode\":\"overlay\",\"size\":10,\"solidity\":0.2}},\"type\":\"histogram\"}],\"histogram2d\":[{\"colorbar\":{\"outlinewidth\":0,\"ticks\":\"\"},\"colorscale\":[[0.0,\"#0d0887\"],[0.1111111111111111,\"#46039f\"],[0.2222222222222222,\"#7201a8\"],[0.3333333333333333,\"#9c179e\"],[0.4444444444444444,\"#bd3786\"],[0.5555555555555556,\"#d8576b\"],[0.6666666666666666,\"#ed7953\"],[0.7777777777777778,\"#fb9f3a\"],[0.8888888888888888,\"#fdca26\"],[1.0,\"#f0f921\"]],\"type\":\"histogram2d\"}],\"histogram2dcontour\":[{\"colorbar\":{\"outlinewidth\":0,\"ticks\":\"\"},\"colorscale\":[[0.0,\"#0d0887\"],[0.1111111111111111,\"#46039f\"],[0.2222222222222222,\"#7201a8\"],[0.3333333333333333,\"#9c179e\"],[0.4444444444444444,\"#bd3786\"],[0.5555555555555556,\"#d8576b\"],[0.6666666666666666,\"#ed7953\"],[0.7777777777777778,\"#fb9f3a\"],[0.8888888888888888,\"#fdca26\"],[1.0,\"#f0f921\"]],\"type\":\"histogram2dcontour\"}],\"mesh3d\":[{\"colorbar\":{\"outlinewidth\":0,\"ticks\":\"\"},\"type\":\"mesh3d\"}],\"parcoords\":[{\"line\":{\"colorbar\":{\"outlinewidth\":0,\"ticks\":\"\"}},\"type\":\"parcoords\"}],\"pie\":[{\"automargin\":true,\"type\":\"pie\"}],\"scatter\":[{\"marker\":{\"colorbar\":{\"outlinewidth\":0,\"ticks\":\"\"}},\"type\":\"scatter\"}],\"scatter3d\":[{\"line\":{\"colorbar\":{\"outlinewidth\":0,\"ticks\":\"\"}},\"marker\":{\"colorbar\":{\"outlinewidth\":0,\"ticks\":\"\"}},\"type\":\"scatter3d\"}],\"scattercarpet\":[{\"marker\":{\"colorbar\":{\"outlinewidth\":0,\"ticks\":\"\"}},\"type\":\"scattercarpet\"}],\"scattergeo\":[{\"marker\":{\"colorbar\":{\"outlinewidth\":0,\"ticks\":\"\"}},\"type\":\"scattergeo\"}],\"scattergl\":[{\"marker\":{\"colorbar\":{\"outlinewidth\":0,\"ticks\":\"\"}},\"type\":\"scattergl\"}],\"scattermapbox\":[{\"marker\":{\"colorbar\":{\"outlinewidth\":0,\"ticks\":\"\"}},\"type\":\"scattermapbox\"}],\"scatterpolar\":[{\"marker\":{\"colorbar\":{\"outlinewidth\":0,\"ticks\":\"\"}},\"type\":\"scatterpolar\"}],\"scatterpolargl\":[{\"marker\":{\"colorbar\":{\"outlinewidth\":0,\"ticks\":\"\"}},\"type\":\"scatterpolargl\"}],\"scatterternary\":[{\"marker\":{\"colorbar\":{\"outlinewidth\":0,\"ticks\":\"\"}},\"type\":\"scatterternary\"}],\"surface\":[{\"colorbar\":{\"outlinewidth\":0,\"ticks\":\"\"},\"colorscale\":[[0.0,\"#0d0887\"],[0.1111111111111111,\"#46039f\"],[0.2222222222222222,\"#7201a8\"],[0.3333333333333333,\"#9c179e\"],[0.4444444444444444,\"#bd3786\"],[0.5555555555555556,\"#d8576b\"],[0.6666666666666666,\"#ed7953\"],[0.7777777777777778,\"#fb9f3a\"],[0.8888888888888888,\"#fdca26\"],[1.0,\"#f0f921\"]],\"type\":\"surface\"}],\"table\":[{\"cells\":{\"fill\":{\"color\":\"#EBF0F8\"},\"line\":{\"color\":\"white\"}},\"header\":{\"fill\":{\"color\":\"#C8D4E3\"},\"line\":{\"color\":\"white\"}},\"type\":\"table\"}]},\"layout\":{\"annotationdefaults\":{\"arrowcolor\":\"#2a3f5f\",\"arrowhead\":0,\"arrowwidth\":1},\"autotypenumbers\":\"strict\",\"coloraxis\":{\"colorbar\":{\"outlinewidth\":0,\"ticks\":\"\"}},\"colorscale\":{\"diverging\":[[0,\"#8e0152\"],[0.1,\"#c51b7d\"],[0.2,\"#de77ae\"],[0.3,\"#f1b6da\"],[0.4,\"#fde0ef\"],[0.5,\"#f7f7f7\"],[0.6,\"#e6f5d0\"],[0.7,\"#b8e186\"],[0.8,\"#7fbc41\"],[0.9,\"#4d9221\"],[1,\"#276419\"]],\"sequential\":[[0.0,\"#0d0887\"],[0.1111111111111111,\"#46039f\"],[0.2222222222222222,\"#7201a8\"],[0.3333333333333333,\"#9c179e\"],[0.4444444444444444,\"#bd3786\"],[0.5555555555555556,\"#d8576b\"],[0.6666666666666666,\"#ed7953\"],[0.7777777777777778,\"#fb9f3a\"],[0.8888888888888888,\"#fdca26\"],[1.0,\"#f0f921\"]],\"sequentialminus\":[[0.0,\"#0d0887\"],[0.1111111111111111,\"#46039f\"],[0.2222222222222222,\"#7201a8\"],[0.3333333333333333,\"#9c179e\"],[0.4444444444444444,\"#bd3786\"],[0.5555555555555556,\"#d8576b\"],[0.6666666666666666,\"#ed7953\"],[0.7777777777777778,\"#fb9f3a\"],[0.8888888888888888,\"#fdca26\"],[1.0,\"#f0f921\"]]},\"colorway\":[\"#636efa\",\"#EF553B\",\"#00cc96\",\"#ab63fa\",\"#FFA15A\",\"#19d3f3\",\"#FF6692\",\"#B6E880\",\"#FF97FF\",\"#FECB52\"],\"font\":{\"color\":\"#2a3f5f\"},\"geo\":{\"bgcolor\":\"white\",\"lakecolor\":\"white\",\"landcolor\":\"#E5ECF6\",\"showlakes\":true,\"showland\":true,\"subunitcolor\":\"white\"},\"hoverlabel\":{\"align\":\"left\"},\"hovermode\":\"closest\",\"mapbox\":{\"style\":\"light\"},\"paper_bgcolor\":\"white\",\"plot_bgcolor\":\"#E5ECF6\",\"polar\":{\"angularaxis\":{\"gridcolor\":\"white\",\"linecolor\":\"white\",\"ticks\":\"\"},\"bgcolor\":\"#E5ECF6\",\"radialaxis\":{\"gridcolor\":\"white\",\"linecolor\":\"white\",\"ticks\":\"\"}},\"scene\":{\"xaxis\":{\"backgroundcolor\":\"#E5ECF6\",\"gridcolor\":\"white\",\"gridwidth\":2,\"linecolor\":\"white\",\"showbackground\":true,\"ticks\":\"\",\"zerolinecolor\":\"white\"},\"yaxis\":{\"backgroundcolor\":\"#E5ECF6\",\"gridcolor\":\"white\",\"gridwidth\":2,\"linecolor\":\"white\",\"showbackground\":true,\"ticks\":\"\",\"zerolinecolor\":\"white\"},\"zaxis\":{\"backgroundcolor\":\"#E5ECF6\",\"gridcolor\":\"white\",\"gridwidth\":2,\"linecolor\":\"white\",\"showbackground\":true,\"ticks\":\"\",\"zerolinecolor\":\"white\"}},\"shapedefaults\":{\"line\":{\"color\":\"#2a3f5f\"}},\"ternary\":{\"aaxis\":{\"gridcolor\":\"white\",\"linecolor\":\"white\",\"ticks\":\"\"},\"baxis\":{\"gridcolor\":\"white\",\"linecolor\":\"white\",\"ticks\":\"\"},\"bgcolor\":\"#E5ECF6\",\"caxis\":{\"gridcolor\":\"white\",\"linecolor\":\"white\",\"ticks\":\"\"}},\"title\":{\"x\":0.05},\"xaxis\":{\"automargin\":true,\"gridcolor\":\"white\",\"linecolor\":\"white\",\"ticks\":\"\",\"title\":{\"standoff\":15},\"zerolinecolor\":\"white\",\"zerolinewidth\":2},\"yaxis\":{\"automargin\":true,\"gridcolor\":\"white\",\"linecolor\":\"white\",\"ticks\":\"\",\"title\":{\"standoff\":15},\"zerolinecolor\":\"white\",\"zerolinewidth\":2}}}},                        {\"responsive\": true}                    ).then(function(){\n",
       "                            \n",
       "var gd = document.getElementById('facbb924-02b0-45f7-affa-ef52f26ce15f');\n",
       "var x = new MutationObserver(function (mutations, observer) {{\n",
       "        var display = window.getComputedStyle(gd).display;\n",
       "        if (!display || display === 'none') {{\n",
       "            console.log([gd, 'removed!']);\n",
       "            Plotly.purge(gd);\n",
       "            observer.disconnect();\n",
       "        }}\n",
       "}});\n",
       "\n",
       "// Listen for the removal of the full notebook cells\n",
       "var notebookContainer = gd.closest('#notebook-container');\n",
       "if (notebookContainer) {{\n",
       "    x.observe(notebookContainer, {childList: true});\n",
       "}}\n",
       "\n",
       "// Listen for the clearing of the current output cell\n",
       "var outputEl = gd.closest('.output');\n",
       "if (outputEl) {{\n",
       "    x.observe(outputEl, {childList: true});\n",
       "}}\n",
       "\n",
       "                        })                };                });            </script>        </div>"
      ]
     },
     "metadata": {},
     "output_type": "display_data"
    }
   ],
   "source": [
    "fig1 = px.treemap(df, \n",
    "                 path=['university', 'school'], \n",
    "                 values='employment_rate_overall_pct',\n",
    "                 color='employment_rate_overall_pct'\n",
    "                )\n",
    "fig1.show()"
   ]
  },
  {
   "cell_type": "code",
   "execution_count": null,
   "metadata": {},
   "outputs": [],
   "source": []
  }
 ],
 "metadata": {
  "kernelspec": {
   "display_name": "Python 3",
   "language": "python",
   "name": "python3"
  },
  "language_info": {
   "codemirror_mode": {
    "name": "ipython",
    "version": 3
   },
   "file_extension": ".py",
   "mimetype": "text/x-python",
   "name": "python",
   "nbconvert_exporter": "python",
   "pygments_lexer": "ipython3",
   "version": "3.7.3"
  }
 },
 "nbformat": 4,
 "nbformat_minor": 4
}
